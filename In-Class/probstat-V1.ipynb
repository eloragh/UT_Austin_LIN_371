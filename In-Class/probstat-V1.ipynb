{
 "cells": [
  {
   "cell_type": "code",
   "execution_count": 1,
   "metadata": {},
   "outputs": [],
   "source": [
    "'''\n",
    "LIN 373 UTexas:: Jessy Li\n",
    "Original material from Byron Wallace\n",
    "'''\n",
    "\n",
    "import random\n",
    "import math\n",
    "\n",
    "import matplotlib\n",
    "import matplotlib.pyplot as plt\n",
    "import matplotlib.mlab as mlab\n",
    "%matplotlib inline  \n",
    "matplotlib.style.use('ggplot') # make things a bit prettier.\n",
    "\n",
    "import pandas as pd"
   ]
  },
  {
   "cell_type": "markdown",
   "metadata": {},
   "source": [
    "## The Random package\n",
    "\n",
    "https://docs.python.org/3.8/library/random.html?highlight=random#module-random\n",
    "\n",
    "What does the following functions do?"
   ]
  },
  {
   "cell_type": "code",
   "execution_count": 2,
   "metadata": {},
   "outputs": [
    {
     "name": "stdout",
     "output_type": "stream",
     "text": [
      "0.16169713151265763\n",
      "0.6467969256830285\n",
      "0.45259276749447175\n",
      "0.9924213989979872\n",
      "0.07807045046618666\n"
     ]
    }
   ],
   "source": [
    "print(random.random())\n",
    "print(random.random())\n",
    "print(random.random())\n",
    "print(random.random())\n",
    "print(random.random())"
   ]
  },
  {
   "cell_type": "code",
   "execution_count": 3,
   "metadata": {},
   "outputs": [
    {
     "name": "stdout",
     "output_type": "stream",
     "text": [
      "149\n",
      "166\n",
      "172\n",
      "160\n",
      "161\n"
     ]
    }
   ],
   "source": [
    "print(random.randint(100,200))\n",
    "print(random.randint(100,200))\n",
    "print(random.randint(100,200))\n",
    "print(random.randint(100,200))\n",
    "print(random.randint(100,200))"
   ]
  },
  {
   "cell_type": "code",
   "execution_count": 4,
   "metadata": {},
   "outputs": [
    {
     "name": "stdout",
     "output_type": "stream",
     "text": [
      "['three', 'little', 'kittens', 'they', 'lost', 'their', 'mittens']\n"
     ]
    }
   ],
   "source": [
    "sent = \"three little kittens they lost their mittens\"\n",
    "lst = sent.split()\n",
    "print(lst)"
   ]
  },
  {
   "cell_type": "code",
   "execution_count": 5,
   "metadata": {},
   "outputs": [
    {
     "name": "stdout",
     "output_type": "stream",
     "text": [
      "their\n",
      "kittens\n",
      "mittens\n"
     ]
    }
   ],
   "source": [
    "print(random.choice(lst))\n",
    "print(random.choice(lst))\n",
    "print(random.choice(lst))"
   ]
  },
  {
   "cell_type": "code",
   "execution_count": null,
   "metadata": {},
   "outputs": [],
   "source": []
  },
  {
   "cell_type": "code",
   "execution_count": null,
   "metadata": {},
   "outputs": [],
   "source": []
  },
  {
   "cell_type": "code",
   "execution_count": null,
   "metadata": {},
   "outputs": [],
   "source": []
  },
  {
   "cell_type": "markdown",
   "metadata": {},
   "source": [
    "## Flipping coins!\n",
    "\n",
    "How do we write Python to express that we have flipped an even coin once? (Use chars \"H\" and \"T\" for Head/Tail outcomes)\n",
    "\n",
    "**Next class** We will re-do this while calculating MLE!"
   ]
  },
  {
   "cell_type": "code",
   "execution_count": 6,
   "metadata": {},
   "outputs": [
    {
     "data": {
      "text/plain": [
       "'T'"
      ]
     },
     "execution_count": 6,
     "metadata": {},
     "output_type": "execute_result"
    }
   ],
   "source": [
    "# 'H', 'T'\n",
    "random.choice(['H','T'])"
   ]
  },
  {
   "cell_type": "markdown",
   "metadata": {},
   "source": [
    "Now, let's simulate multiple coin flips!"
   ]
  },
  {
   "cell_type": "code",
   "execution_count": null,
   "metadata": {},
   "outputs": [],
   "source": [
    "def flip_coins(n):\n",
    "    #TODO\n",
    "    \n",
    "    x = range(2)\n",
    "    y = ['H', 'T']\n",
    "    plt.bar(x, y)\n",
    "    ticks = plt.xticks(x, [\"Heads\", \"Tails\"])"
   ]
  },
  {
   "cell_type": "code",
   "execution_count": null,
   "metadata": {},
   "outputs": [],
   "source": []
  },
  {
   "cell_type": "code",
   "execution_count": null,
   "metadata": {},
   "outputs": [],
   "source": []
  },
  {
   "cell_type": "code",
   "execution_count": null,
   "metadata": {},
   "outputs": [],
   "source": []
  },
  {
   "cell_type": "code",
   "execution_count": null,
   "metadata": {},
   "outputs": [],
   "source": []
  },
  {
   "cell_type": "markdown",
   "metadata": {},
   "source": [
    "## Maximum likelihood estimates: normal distribution\n",
    "\n",
    "Recall the probability density function of a normal distribution.\n",
    "Recall also the _maximum likelihood estimates_ of the mean (mu) and variance (sigma) variables.\n",
    "We’re going to explore playing with this distribution a bit in practice and fitting a Normal to some data."
   ]
  },
  {
   "cell_type": "code",
   "execution_count": null,
   "metadata": {},
   "outputs": [],
   "source": []
  },
  {
   "cell_type": "code",
   "execution_count": null,
   "metadata": {},
   "outputs": [],
   "source": [
    "## Inspecting the DataFrame:\n"
   ]
  },
  {
   "cell_type": "markdown",
   "metadata": {},
   "source": [
    "Create a histogram of the heights.\n",
    "The matplotlib is just for plotting!\n",
    "In particular, use plt.hist, which is part of matplotlib."
   ]
  },
  {
   "cell_type": "code",
   "execution_count": null,
   "metadata": {},
   "outputs": [],
   "source": []
  },
  {
   "cell_type": "markdown",
   "metadata": {},
   "source": [
    "Estimate the mean height and associated variance from the data. To do this, write functions to estimate these."
   ]
  },
  {
   "cell_type": "code",
   "execution_count": null,
   "metadata": {},
   "outputs": [],
   "source": [
    "def estimate_mu(data):\n",
    "    pass\n",
    "\n",
    "estimate_mu(d[\"Height\"].values)"
   ]
  },
  {
   "cell_type": "code",
   "execution_count": null,
   "metadata": {},
   "outputs": [],
   "source": [
    "def estimate_variance(data):\n",
    "    pass"
   ]
  },
  {
   "cell_type": "markdown",
   "metadata": {},
   "source": [
    "Pandas will give you these basic stats! Did we get it right?"
   ]
  },
  {
   "cell_type": "code",
   "execution_count": null,
   "metadata": {},
   "outputs": [],
   "source": [
    "d.describe()"
   ]
  },
  {
   "cell_type": "code",
   "execution_count": null,
   "metadata": {},
   "outputs": [],
   "source": []
  }
 ],
 "metadata": {
  "kernelspec": {
   "display_name": "Python 3.9.12 ('base')",
   "language": "python",
   "name": "python3"
  },
  "language_info": {
   "codemirror_mode": {
    "name": "ipython",
    "version": 3
   },
   "file_extension": ".py",
   "mimetype": "text/x-python",
   "name": "python",
   "nbconvert_exporter": "python",
   "pygments_lexer": "ipython3",
   "version": "3.9.12"
  },
  "vscode": {
   "interpreter": {
    "hash": "b848adb8e2a29b1cdcfe28737e25afd16eb932ab1147fda9a93919ae11e1d595"
   }
  }
 },
 "nbformat": 4,
 "nbformat_minor": 1
}

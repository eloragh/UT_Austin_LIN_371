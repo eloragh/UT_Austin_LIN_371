{
 "cells": [
  {
   "cell_type": "markdown",
   "metadata": {},
   "source": [
    "**CODE TO CLEAN AND TRANSFORM WITH COUNTVECTORIZER**"
   ]
  },
  {
   "cell_type": "code",
   "execution_count": 1,
   "metadata": {},
   "outputs": [],
   "source": [
    "import pandas as pd\n",
    "from sklearn.model_selection import train_test_split\n",
    "from sklearn.feature_extraction.text import CountVectorizer\n",
    "\n",
    "#Open tweet data\n",
    "raw_data = pd.read_csv(\"Political Compass Coordinates Data - iteration 1 tweet data.csv\")\n",
    "\n",
    "#Pull the tweet text\n",
    "tweets_LST = raw_data['tweet translated']\n",
    "\n",
    "#Pull the coordinate points\n",
    "Xcoor_LST = raw_data['x coordinate']\n",
    "Ycoor_LST = raw_data['y coordinate']\n",
    "\n",
    "#X-Coordinate train test split\n",
    "Xtweets_train, Xtweets_test, xcoor_train, xcoor_test = train_test_split(tweets_LST, Xcoor_LST, test_size = 0.2, random_state = 1)\n",
    "#Y-Coordinate train test split\n",
    "Ytweets_train, Ytweets_test, ycoor_train, ycoor_test = train_test_split(tweets_LST, Ycoor_LST, test_size = 0.2, random_state = 3)\n",
    "\n",
    "#Vectorize X\n",
    "vectorizer = CountVectorizer(lowercase=True, ngram_range=(1,2))\n",
    "X_train = vectorizer.fit_transform(Xtweets_train.values.astype('U'))\n",
    "X_test = vectorizer.transform(Xtweets_test.values.astype('U'))\n",
    "#linR_modelX MAE is :  3.3098171359870276\n",
    "\n",
    "#Vectorize Y\n",
    "Y_train = vectorizer.fit_transform(Ytweets_train.values.astype('U'))\n",
    "Y_test = vectorizer.transform(Ytweets_test.values.astype('U'))\n",
    "#linR_modelY MAE is :  2.9701525145964913"
   ]
  },
  {
   "cell_type": "markdown",
   "metadata": {},
   "source": [
    "**CODE TO CLEAN AND TRANSFORM WITH GloVe**"
   ]
  },
  {
   "cell_type": "code",
   "execution_count": 39,
   "metadata": {},
   "outputs": [
    {
     "data": {
      "text/html": [
       "<div>\n",
       "<style scoped>\n",
       "    .dataframe tbody tr th:only-of-type {\n",
       "        vertical-align: middle;\n",
       "    }\n",
       "\n",
       "    .dataframe tbody tr th {\n",
       "        vertical-align: top;\n",
       "    }\n",
       "\n",
       "    .dataframe thead th {\n",
       "        text-align: right;\n",
       "    }\n",
       "</style>\n",
       "<table border=\"1\" class=\"dataframe\">\n",
       "  <thead>\n",
       "    <tr style=\"text-align: right;\">\n",
       "      <th></th>\n",
       "      <th>vect_tweet</th>\n",
       "    </tr>\n",
       "  </thead>\n",
       "  <tbody>\n",
       "    <tr>\n",
       "      <th>0</th>\n",
       "      <td>[[0.23323, 0.10958, 0.70567, -0.17368, -0.2055...</td>\n",
       "    </tr>\n",
       "    <tr>\n",
       "      <th>0</th>\n",
       "      <td>[[-0.44399, 0.12817, -0.25247, -0.18582, -0.16...</td>\n",
       "    </tr>\n",
       "  </tbody>\n",
       "</table>\n",
       "</div>"
      ],
      "text/plain": [
       "                                          vect_tweet\n",
       "0  [[0.23323, 0.10958, 0.70567, -0.17368, -0.2055...\n",
       "0  [[-0.44399, 0.12817, -0.25247, -0.18582, -0.16..."
      ]
     },
     "execution_count": 39,
     "metadata": {},
     "output_type": "execute_result"
    }
   ],
   "source": [
    "import numpy as np\n",
    "import nltk\n",
    "from nltk.stem import WordNetLemmatizer\n",
    "\n",
    "\n",
    "words = dict()\n",
    "def add_dict(d, filename):\n",
    "    with open(filename, 'r') as f:\n",
    "        for line in f.readlines():\n",
    "            line = line.split(' ')\n",
    "            try:\n",
    "                d[line[0]] = np.array(line[1:], dtype=float)\n",
    "            except:\n",
    "                continue\n",
    "add_dict(words, 'glove.6b/glove.6B.300d.txt')\n",
    "tokenizer = nltk.RegexpTokenizer(r\"\\w+\")\n",
    "lemmatizer = WordNetLemmatizer()\n",
    "\n",
    "def message_to_token(s):\n",
    "    tokens = tokenizer.tokenize(s)\n",
    "    lowercased_tokens = [t.lower() for t in tokens]\n",
    "    lemmatized_tokens = [lemmatizer.lemmatize(t) for t in lowercased_tokens]\n",
    "    useful_tokens = [t for t in lemmatized_tokens if t in words]\n",
    "\n",
    "    return useful_tokens\n",
    "\n",
    "def message_to_vectors(message, dataframe, word_dict=words):\n",
    "    processed_list_of_tokens = message_to_token(message)\n",
    "    vectors = []\n",
    "    for token in processed_list_of_tokens:\n",
    "        if token not in word_dict:\n",
    "            continue\n",
    "        token_vector = word_dict[token]\n",
    "        vectors.append(token_vector)\n",
    "        new_row = pd.DataFrame({'vect_tweet' :[vectors]})\n",
    "    vecF = pd.concat([dataframe, new_row])\n",
    "    return vecF\n",
    "\n",
    "raw_data = pd.read_csv(\"Political Compass Coordinates Data - iteration 1 tweet data.csv\")\n",
    "tweets_LST = raw_data['tweet translated']\n",
    "vecDF = pd.DataFrame()\n",
    "\n",
    "\n",
    "curr_tweet = tweets_LST[0]\n",
    "vecDF = message_to_vectors(curr_tweet, vecDF)\n",
    "curr_tweet = tweets_LST[1]\n",
    "vecDF = message_to_vectors(curr_tweet, vecDF)\n",
    "vecDF.head()"
   ]
  },
  {
   "cell_type": "markdown",
   "metadata": {},
   "source": [
    "**CODE TO CREATE X-AXIS LRM**"
   ]
  },
  {
   "cell_type": "code",
   "execution_count": 17,
   "metadata": {},
   "outputs": [
    {
     "name": "stdout",
     "output_type": "stream",
     "text": [
      "linR_modelX MAE is :  3.3214016472546577\n"
     ]
    }
   ],
   "source": [
    "from sklearn.linear_model import LinearRegression\n",
    "from sklearn import metrics\n",
    "\n",
    "linR_modelX = LinearRegression()\n",
    "\n",
    "linR_modelX.fit(X_train, xcoor_train)\n",
    "y_hat_linR_X = linR_modelX.predict(X_test)\n",
    "\n",
    "accuracy_score_linR_X = metrics.mean_absolute_error(xcoor_test, y_hat_linR_X)\n",
    "\n",
    "print(\"linR_modelX MAE is : \", accuracy_score_linR_X)"
   ]
  },
  {
   "cell_type": "markdown",
   "metadata": {},
   "source": [
    "**CODE TO CREATE Y-AXIS LRM**"
   ]
  },
  {
   "cell_type": "code",
   "execution_count": 13,
   "metadata": {},
   "outputs": [
    {
     "name": "stdout",
     "output_type": "stream",
     "text": [
      "linR_modelY MAE is :  2.974849833219154\n"
     ]
    }
   ],
   "source": [
    "linR_modelY = LinearRegression()\n",
    "\n",
    "linR_modelY.fit(Y_train, ycoor_train)\n",
    "y_hat_linR_Y = linR_modelY.predict(Y_test)\n",
    "\n",
    "accuracy_score_linR_Y = metrics.mean_absolute_error(ycoor_test, y_hat_linR_Y)\n",
    "\n",
    "print(\"linR_modelY MAE is : \", accuracy_score_linR_Y)"
   ]
  },
  {
   "cell_type": "markdown",
   "metadata": {},
   "source": [
    "**CODE TO CREATE COORDINATE PLANE**"
   ]
  },
  {
   "cell_type": "code",
   "execution_count": 109,
   "metadata": {},
   "outputs": [
    {
     "data": {
      "image/png": "[encoded data removed]",
      "text/plain": [
       "<Figure size 640x480 with 1 Axes>"
      ]
     },
     "metadata": {},
     "output_type": "display_data"
    }
   ],
   "source": [
    "import numpy as np\n",
    "import matplotlib.pyplot as plt\n",
    "import tkinter as tk\n",
    "\n",
    "#tkinter interface code to ask for twitter handle\n",
    "#user_DAT = vectorizer.transform(None)\n",
    "#x = linR_modelX.predict(user_DAT)\n",
    "#y = linR_modelY.predict(user_DAT)\n",
    "x=1\n",
    "y=5\n",
    "fig, ax = plt.subplots(layout='constrained')\n",
    "ax.set_axisbelow(True)\n",
    "ax.spines['left'].set_position('center')\n",
    "ax.spines['bottom'].set_position('center')\n",
    "ax.spines['right'].set_color('none')\n",
    "ax.spines['top'].set_color('none')\n",
    "ax.grid(visible=True, linewidth=3, color='#a1a1a1')\n",
    "ax.set(xlim=(-10,10), xticks=np.arange(-10,11),\n",
    "       ylim=(-10,10), yticks=np.arange(-10,11))\n",
    "ax.fill_between([-10,0],-10,0,alpha=0.7, color='#98ed96') #GREEN\n",
    "ax.fill_between([0,10],-10,0,alpha=0.7, color='#bf9aed') #PURPLE\n",
    "ax.fill_between([-10,0],0,10,alpha=0.7, color='#fe7475') #RED\n",
    "ax.fill_between([0,10],0,10,alpha=0.7, color='#42aaff') #BLUE\n",
    "ax.scatter(x, y, s=300, color='#e3c51e',marker='*', linewidths=.5, edgecolors= '#000000')\n",
    "ax.annotate(('  '+str((x,y))), (x,y))\n",
    "ax.set_aspect('equal')\n",
    "plt.xticks(visible=False)\n",
    "plt.yticks(visible=False)\n",
    "plt.show()\n"
   ]
  }
 ],
 "metadata": {
  "kernelspec": {
   "display_name": "base",
   "language": "python",
   "name": "python3"
  },
  "language_info": {
   "codemirror_mode": {
    "name": "ipython",
    "version": 3
   },
   "file_extension": ".py",
   "mimetype": "text/x-python",
   "name": "python",
   "nbconvert_exporter": "python",
   "pygments_lexer": "ipython3",
   "version": "3.11.5"
  }
 },
 "nbformat": 4,
 "nbformat_minor": 2
}

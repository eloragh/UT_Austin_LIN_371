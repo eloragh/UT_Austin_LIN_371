{
 "cells": [
  {
   "cell_type": "code",
   "execution_count": 2,
   "metadata": {},
   "outputs": [
    {
     "name": "stderr",
     "output_type": "stream",
     "text": [
      "C:\\Users\\eaesp\\AppData\\Local\\Temp\\ipykernel_19716\\2057321895.py:1: DeprecationWarning: \n",
      "Pyarrow will become a required dependency of pandas in the next major release of pandas (pandas 3.0),\n",
      "(to allow more performant data types, such as the Arrow string type, and better interoperability with other libraries)\n",
      "but was not found to be installed on your system.\n",
      "If this would cause problems for you,\n",
      "please provide us feedback at https://github.com/pandas-dev/pandas/issues/54466\n",
      "        \n",
      "  import pandas as pd\n"
     ]
    }
   ],
   "source": [
    "import pandas as pd\n",
    "import matplotlib.pyplot as plt\n",
    "import sqlite3"
   ]
  },
  {
   "cell_type": "code",
   "execution_count": 3,
   "metadata": {},
   "outputs": [],
   "source": [
    "def get_coordinates_through_sql(database, query):\n",
    "    conn = sqlite3.connect(database)\n",
    "    c = conn.cursor()\n",
    "\n",
    "    c.execute(query)\n",
    "    coordinates = c.fetchall()\n",
    "    \n",
    "    return coordinates"
   ]
  },
  {
   "cell_type": "code",
   "execution_count": null,
   "metadata": {},
   "outputs": [],
   "source": [
    "def generate_compass(points, title):\n",
    "    # Create figure and axis\n",
    "    fig, ax = plt.subplots()\n",
    "\n",
    "    # Define the boundaries of the compass\n",
    "    plt.xlim(-10, 10)\n",
    "    plt.ylim(-10, 10)\n",
    "\n",
    "    # Plot the axes\n",
    "    plt.axhline(0, color='black', linewidth=1)\n",
    "    plt.axvline(0, color='black', linewidth=1)\n",
    "\n",
    "    # Plot the points\n",
    "    for point in points:\n",
    "        x, y = point\n",
    "        if x > 0 and y > 0:\n",
    "            ax.scatter(x, y, color='blue')  # Right-wing authoritarian\n",
    "        elif x < 0 and y > 0:\n",
    "            ax.scatter(x, y, color='red')   # Left-wing authoritarian\n",
    "        elif x < 0 and y < 0:\n",
    "            ax.scatter(x, y, color='green') # Left-wing libertarian\n",
    "        elif x > 0 and y < 0:\n",
    "            ax.scatter(x, y, color='yellow')# Right-wing libertarian\n",
    "\n",
    "    # Set labels and title\n",
    "    ax.set_xlabel('Economic Left <---> Economic Right')\n",
    "    ax.set_ylabel('Social Libertarian <---> Social Authoritarian')\n",
    "    ax.set_title(title)\n",
    "\n",
    "    # Show the plot\n",
    "    plt.grid(True)\n",
    "    plt.show()"
   ]
  }
 ],
 "metadata": {
  "kernelspec": {
   "display_name": "Python 3",
   "language": "python",
   "name": "python3"
  },
  "language_info": {
   "codemirror_mode": {
    "name": "ipython",
    "version": 3
   },
   "file_extension": ".py",
   "mimetype": "text/x-python",
   "name": "python",
   "nbconvert_exporter": "python",
   "pygments_lexer": "ipython3",
   "version": "3.11.9"
  }
 },
 "nbformat": 4,
 "nbformat_minor": 2
}

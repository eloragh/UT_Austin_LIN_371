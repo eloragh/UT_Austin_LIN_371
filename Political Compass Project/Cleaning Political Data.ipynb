{
 "cells": [
  {
   "cell_type": "code",
   "execution_count": 1,
   "metadata": {},
   "outputs": [
    {
     "name": "stderr",
     "output_type": "stream",
     "text": [
      "C:\\Users\\eaesp\\AppData\\Local\\Temp\\ipykernel_31180\\2204781778.py:5: DeprecationWarning: \n",
      "Pyarrow will become a required dependency of pandas in the next major release of pandas (pandas 3.0),\n",
      "(to allow more performant data types, such as the Arrow string type, and better interoperability with other libraries)\n",
      "but was not found to be installed on your system.\n",
      "If this would cause problems for you,\n",
      "please provide us feedback at https://github.com/pandas-dev/pandas/issues/54466\n",
      "        \n",
      "  import pandas as pd\n"
     ]
    },
    {
     "data": {
      "text/plain": [
       "{'flow_token': 'g;171368131064059543:-1713681310699:8lWqsvisG6GkvlXFNI5AbNLc:14',\n",
       " 'status': 'success',\n",
       " 'subtasks': [{'subtask_id': 'LoginSuccessSubtask',\n",
       "   'open_account': {'user': {'id': 1547081484695216130,\n",
       "     'id_str': '1547081484695216130',\n",
       "     'name': 'Eloragh Espie',\n",
       "     'screen_name': 'EloraghEspie'},\n",
       "    'next_link': {'link_type': 'subtask',\n",
       "     'link_id': 'next_link',\n",
       "     'subtask_id': 'SuccessExit'},\n",
       "    'attribution_event': 'login'}},\n",
       "  {'subtask_id': 'SuccessExit',\n",
       "   'open_link': {'link': {'link_type': 'subtask',\n",
       "     'link_id': 'next_link',\n",
       "     'subtask_id': 'LoginOpenHomeTimeline'}}},\n",
       "  {'subtask_id': 'LoginOpenHomeTimeline',\n",
       "   'open_home_timeline': {'next_link': {'link_type': 'abort',\n",
       "     'link_id': 'next_link'}}}]}"
      ]
     },
     "execution_count": 1,
     "metadata": {},
     "output_type": "execute_result"
    }
   ],
   "source": [
    "from twikit import Client\n",
    "import time\n",
    "import json\n",
    "from twikit import TwitterException \n",
    "import pandas as pd\n",
    "\n",
    "# this API requires authentication\n",
    "f = open('authentication.txt', 'r')\n",
    "auth = f.read()\n",
    "f.close()\n",
    "auth_token = auth.split(\"\\n\")\n",
    "\n",
    "# don't hardcode your email and password into something!!!\n",
    "# the auth is in gitignore so I won't get hacked\n",
    "USERNAME = str(auth_token[0])\n",
    "EMAIL = str(auth_token[1])\n",
    "PASSWORD = str(auth_token[2])\n",
    "\n",
    "# Initialize client\n",
    "client = Client(language='en-US', http2=True)\n",
    "\n",
    "# Login to the service with provided user credentials\n",
    "client.login(\n",
    "    auth_info_1=USERNAME ,\n",
    "    auth_info_2=EMAIL,\n",
    "    password=PASSWORD\n",
    ")"
   ]
  },
  {
   "cell_type": "code",
   "execution_count": 2,
   "metadata": {},
   "outputs": [],
   "source": [
    "# Twitter LOVES to ban people when they log in repeatedly\n",
    "# saving the cookies makes sure I don't get banned (often)\n",
    "\n",
    "client.get_cookies()\n",
    "client.save_cookies('cookies.json')\n",
    "with open('cookies.json', 'r', encoding='UTF8') as f:\n",
    "    client.set_cookies(json.load(f))"
   ]
  },
  {
   "cell_type": "code",
   "execution_count": 30,
   "metadata": {},
   "outputs": [],
   "source": [
    "from twikit import UserUnavailable\n",
    "from twikit import UserNotFound\n",
    "\n",
    "def get_user_id(num, handle):\n",
    "    # load the cookies so you don't login a million times and get banned\n",
    "    client.load_cookies('cookies.json')\n",
    "    \n",
    "    # pull IDs and insert them back into the list\n",
    "    try:\n",
    "        user_id = client.get_user_by_screen_name(handle).id\n",
    "        print(f'{num} Success {handle}, {user_id}')\n",
    "\n",
    "    # if user is inaccessible these will keep the loop from breaking\n",
    "    except UserUnavailable:\n",
    "        print(f\"{num} User {handle} unavailable\")\n",
    "    except UserNotFound:\n",
    "        print(f'{num} User {handle} not found')\n",
    "\n",
    "    return(user_id)"
   ]
  },
  {
   "cell_type": "code",
   "execution_count": 6,
   "metadata": {},
   "outputs": [],
   "source": [
    "def create_key(user_id, year):\n",
    "    # load the cookies so you don't login a million times and get banned\n",
    "    client.load_cookies('cookies.json')\n",
    "    return(user_id + year)"
   ]
  },
  {
   "cell_type": "code",
   "execution_count": 34,
   "metadata": {},
   "outputs": [],
   "source": [
    "import time\n",
    "from math import ceil\n",
    "import requests\n",
    "from twikit import TooManyRequests\n",
    "from twikit.utils import Endpoint\n",
    "\n",
    "# this is a housekeeping function\n",
    "# twitter API can throw rate limits\n",
    "# they're kind of like timeouts\n",
    "# this function just shows me how much longer I will be in timeout for\n",
    "\n",
    "def get_limit_reset_time(endpoint: str):\n",
    "    res = requests.get(\n",
    "        endpoint,\n",
    "        headers=client._base_headers,\n",
    "        cookies=client.get_cookies()\n",
    "    )\n",
    "    return ceil(int(res.headers['x-rate-limit-reset']) - time.time())"
   ]
  },
  {
   "cell_type": "code",
   "execution_count": 36,
   "metadata": {},
   "outputs": [
    {
     "name": "stdout",
     "output_type": "stream",
     "text": [
      "rate limit is reset after 898 seconds.\n"
     ]
    }
   ],
   "source": [
    "# timeout check for accessing user IDs\n",
    "try:\n",
    "    print(client.get_user_by_screen_name('BarackObama'))\n",
    "except TooManyRequests:\n",
    "    \n",
    "    reset_time = get_limit_reset_time(Endpoint.USER_TWEETS)\n",
    "    print(f'rate limit is reset after {reset_time} seconds.')"
   ]
  },
  {
   "cell_type": "code",
   "execution_count": 19,
   "metadata": {},
   "outputs": [],
   "source": [
    "data = pd.read_csv(\"data/twitter politicians.csv\", keep_default_na=False)\n",
    "df = pd.DataFrame(data)"
   ]
  },
  {
   "cell_type": "code",
   "execution_count": 20,
   "metadata": {},
   "outputs": [
    {
     "name": "stdout",
     "output_type": "stream",
     "text": [
      "[['', 'Barack Obama', 'BarackObama'], ['', 'Joe Biden', 'JoeBiden'], ['', 'Dennis Kucinich', 'Dennis_Kucinich'], ['', 'Bill Richardson', 'GovRichardson'], ['', 'Mike Huckabee', 'GovMikeHuckabee'], ['', 'Hillary Clinton', 'HillaryClinton'], ['', 'Ron Paul', 'RonPaul'], ['', 'John McCain', 'SenJohnMcCain'], ['', 'Newt Gingrich', 'newtgingrich'], ['', 'Mike Gravel', 'MikeGravel_US'], ['', 'Alan Keyes', 'loyaltoliberty'], ['', 'Mitt Romney', 'MittRomney'], ['', 'Fred Thompson', 'fredthompson'], ['', 'Chris Dodd', 'SenChrisDodd'], ['', 'Rudy Guiliani', 'RudyGiuliani'], ['', 'Ralph Nader', 'RalphNader'], ['', 'Tom Tancredo', 'ttancredo'], ['', 'Jill Stein', 'DrJillStein'], ['', 'Virgil Goode', 'VirgilGoode'], ['', 'Gary Johnson', 'GovGaryJohnson'], ['', 'Rick Santorum', 'RickSantorum'], ['', 'Hllary Clinton', 'HillaryClinton'], ['', 'Bernie Sanders', 'SenSanders'], ['', 'Donald Trump', 'realDonaldTrump'], ['', 'Jeb Bush', 'JebBush'], ['', 'Ted Cruz', 'TedCruz'], ['', 'Marco Rubio', 'MarcoRubio'], ['', 'John Kasich', 'JohnKasich'], ['', 'Bob Corker', 'SenBobCorker'], ['', 'Mike Pence', 'Mike_Pence'], ['', 'Larry Hogan', 'GovLarryHogan'], ['', \"Robert O'Rourke\", 'BetoORourke'], ['', 'Amy Klobuchar', 'SenAmyKlobuchar'], ['', 'Michael Bennet', 'SenatorBennet'], ['', 'Steve Bollock', 'GovernorBullock'], ['', 'Seth Moulton', 'sethmoulton'], ['', 'Mike Bloomberg', 'MikeBloomberg'], ['', 'Julian Castro', 'SecretaryCastro'], ['', 'Kirsten Gillibrand', 'SenGillibrand'], ['', 'Kamala Harris', 'KamalaHarris'], ['', 'John Delaney', 'JohnDelaney'], ['', 'John Hickenlooper', 'SenatorHick'], ['', 'Cory Booker', 'SenBooker'], ['', 'Bill Weld', 'GovBillWeld'], ['', 'Pete Buttigieg', 'PeteButtigieg'], ['', 'Elizabeth Warren', 'SenWarren'], ['', 'Joe Sestak', 'JoeSestak'], ['', 'Jay Inslee', 'GovInslee'], ['', 'Andrew Yang', 'AndrewYang'], ['', 'Jo Jorgensen', 'JoForLiberty'], ['', 'Marianne Williamson', 'marwilliamson'], ['', 'Tom Steyer', 'TomSteyer'], ['', 'Tulsi Gabbard', 'TulsiGabbard'], ['', 'Howie Hawkins', 'HowieHawkins'], ['', 'Stephen Harper', 'StephenHarper'], ['', 'Elizabeth May', 'ElizabethMay'], ['', 'Jack Layton', 'jacklayton'], ['', 'Michael Ignatieff', 'M_Ignatieff'], ['', 'Justin Trudeau', 'JustinTrudeau'], ['', 'Tom Mulcair', 'ThomasMulcair'], ['', 'Andrew Scheer', 'AndrewScheer'], ['', 'Jagemeet Singh', 'theJagmeetSingh'], ['', 'Yves-Francois Blanchet', 'yfblanchet'], ['', 'Maxime Bernier', 'MaximeBernier'], ['', \"Erin O'Toole\", 'erinotoole'], ['', 'Annamie Paul', 'AnnamiePaul'], ['', 'David Cameron', 'David_Cameron'], ['', 'Gordon Brown', 'GordonBrown'], ['', 'Nick Clegg', 'nickclegg'], ['', 'Ed Miliband', 'Ed_Miliband'], ['', 'Nicola Sturgeon', 'NicolaSturgeon'], ['', 'Theresa May', 'theresa_may'], ['', 'Jeremy Corbyn', 'jeremycorbyn'], ['', 'Tim Farron', 'timfarron'], ['', 'Arlene Foster', 'ArleneFosterUK'], ['', 'Boris Johnson', 'BorisJohnson'], ['', 'Jo Swinson', 'joswinson'], ['', 'Douglass Ross', 'Douglas4Moray'], ['', 'Anas Sarwar', 'AnasSarwar'], ['', 'Lorna Slater', 'lornaslater'], ['', 'Patrick Harvie', 'patrickharvie'], ['', 'Willie Rennie', 'willie_rennie'], ['', 'Michael Martin', 'MichealMartinTD'], ['', 'Mary Lou McDonald', 'MaryLouMcDonald'], ['', 'Leo Varadkar', 'LeoVaradkar'], ['', 'Eamon Ryan', 'EamonRyan'], ['', 'Brendan Howlin', 'BrendanHowlin'], ['', 'Catherine Murphy', 'CathMurphyTD'], ['', 'Roisin Shortall', 'RoisinShortall'], ['', 'Peer Steinbruck', 'peersteinbrueck'], ['', 'Gregor Gysi', 'GregorGysi'], ['', 'Jurgen Trittin', 'JTrittin'], ['', 'Katrin Goring-Eckardt', 'GoeringEckardt'], ['', 'Martin Schulz', 'MartinSchulz'], ['', 'Alexander Gauland', 'AG_AfD'], ['', 'Alice Weidel', 'Alice_Weidel'], ['', 'Christian Lindner', 'c_lindner'], ['', 'Dietmar Bartsch', 'DietmarBartsch'], ['', 'Sahra Wagenknecht', 'SWagenknecht'], ['', 'Cem Ozdemir ', 'cem_oezdemir'], ['', 'Olaf Scholz', 'OlafScholz'], ['', 'Armin Laschet', 'ArminLaschet'], ['', 'Annalena Baerbock', 'ABaerbock'], ['', 'Christian Linder', 'c_lindner'], ['', 'Tino Chrupalla', 'Tino_Chrupalla'], ['', 'Janine Wissler', 'Janine_Wissler'], ['', 'Emmanuel Macron', 'EmmanuelMacron'], ['', 'Marie Le Pen', 'MLP_officiel'], ['', 'Jean-Luc Melenchon', 'JLMelenchon'], ['', 'Benoit Hamon', 'benoithamon'], ['', 'Francois Fillon', 'FrancoisFillon'], ['', 'Anne Hildago', 'Anne_Hidalgo'], ['', 'Eric Zemmour', 'ZemmourEric'], ['', 'Valerie Pecresse', 'vpecresse'], ['', 'Yannick Jadot', 'yjadot'], ['', 'Fabien Roussel', 'Fabien_Roussel'], ['', 'Julia Gillard', 'JuliaGillard'], ['', 'Tony Abbot', 'HonTonyAbbott'], ['', 'Bob Brown', 'DrBobBrown'], ['', 'Kevin Rudd', 'MrKRudd'], ['', 'Chrstine Milne', 'ChristineMilne'], ['', 'Bob Katter', 'RealBobKatter'], ['', 'Malcolm Turnbull', 'TurnbullMalcolm'], ['', 'Bill Shorten', 'billshortenmp'], ['', 'Richard Di Natale', 'RichardDiNatale'], ['', 'Scott Morrison', 'ScoMo30'], ['', 'Rebekha Sharkie', 'MakeMayoMatter'], ['', 'Anthony Albanese', 'AlboMP'], ['', 'Adam Bandt', 'AdamBandt'], ['', 'Jair Bolsanaro', 'jairbolsonaro'], ['', 'Lula da Silva', 'LulaOficial'], ['', 'John Key', 'RtHon_JohnKey'], ['', 'Phil Goff', 'phil_goff'], ['', 'Russel Norman', 'RusselNorman'], ['', 'Metiria Turei', 'MetiriaTureiMP'], ['', 'Pita Sharples', 'papapita'], ['', 'Hone Harawire', 'MPHoneHarawira'], ['', 'Don Brash', 'DonBrashNZ'], ['', 'Peter Dunne', 'honpeterdunne'], ['', 'David Cunliffe', 'davidcunliffe'], ['', 'Winston Peters', 'winstonpeters'], ['', 'Te Ururoa Flavell', 'TeUruroaFlavell'], ['', 'Jamie Whyte', '_JamieWhyte'], ['', 'Laila Harre', 'lailaharre'], ['', 'Bill English', 'RtHonBEnglish'], ['', 'Jacinda Ardern', 'jacindaardern'], ['', 'James Shaw', 'jamespeshaw'], ['', 'David Seymour', 'dbseymour'], ['', 'Judith Collins', 'JudithCollinsMP'], ['', 'Marama Davidson', 'MaramaDavidson'], ['', 'John Tamihere', 'john_tamihere'], ['', 'Debbie Ngarewa-Packer', 'whaeadeb'], ['', 'Christopher Luxon', 'chrisluxonmp'], ['', 'Chris Hipkins', 'chrishipkins']]\n"
     ]
    }
   ],
   "source": [
    "# turn pandas into list\n",
    "# there is probably a better way to do this but this works \n",
    "data_list = []\n",
    "for index, row in df.iterrows():\n",
    "\n",
    "    row_list = df.loc[index, :].values.flatten().tolist()\n",
    "    data_list.append(row_list)\n",
    "    \n",
    "print(data_list)"
   ]
  },
  {
   "cell_type": "code",
   "execution_count": 28,
   "metadata": {},
   "outputs": [],
   "source": [
    "batch1 = [item for item in data_list[0:50]]\n",
    "batch2 = [item for item in data_list[50:100]]\n",
    "batch3 = [item for item in data_list[100:150]]\n",
    "batch4 = [item for item in data_list[150:]]\n",
    "\n",
    "mass_list = [batch1, batch2, batch3, batch4]"
   ]
  },
  {
   "cell_type": "code",
   "execution_count": 22,
   "metadata": {},
   "outputs": [
    {
     "name": "stdout",
     "output_type": "stream",
     "text": [
      "[['', 'Barack Obama', 'BarackObama'], ['', 'Joe Biden', 'JoeBiden'], ['', 'Dennis Kucinich', 'Dennis_Kucinich'], ['', 'Bill Richardson', 'GovRichardson'], ['', 'Mike Huckabee', 'GovMikeHuckabee'], ['', 'Hillary Clinton', 'HillaryClinton'], ['', 'Ron Paul', 'RonPaul'], ['', 'John McCain', 'SenJohnMcCain'], ['', 'Newt Gingrich', 'newtgingrich'], ['', 'Mike Gravel', 'MikeGravel_US'], ['', 'Alan Keyes', 'loyaltoliberty'], ['', 'Mitt Romney', 'MittRomney'], ['', 'Fred Thompson', 'fredthompson'], ['', 'Chris Dodd', 'SenChrisDodd'], ['', 'Rudy Guiliani', 'RudyGiuliani'], ['', 'Ralph Nader', 'RalphNader'], ['', 'Tom Tancredo', 'ttancredo'], ['', 'Jill Stein', 'DrJillStein'], ['', 'Virgil Goode', 'VirgilGoode'], ['', 'Gary Johnson', 'GovGaryJohnson'], ['', 'Rick Santorum', 'RickSantorum'], ['', 'Hllary Clinton', 'HillaryClinton'], ['', 'Bernie Sanders', 'SenSanders'], ['', 'Donald Trump', 'realDonaldTrump'], ['', 'Jeb Bush', 'JebBush'], ['', 'Ted Cruz', 'TedCruz'], ['', 'Marco Rubio', 'MarcoRubio'], ['', 'John Kasich', 'JohnKasich'], ['', 'Bob Corker', 'SenBobCorker'], ['', 'Mike Pence', 'Mike_Pence'], ['', 'Larry Hogan', 'GovLarryHogan'], ['', \"Robert O'Rourke\", 'BetoORourke'], ['', 'Amy Klobuchar', 'SenAmyKlobuchar'], ['', 'Michael Bennet', 'SenatorBennet'], ['', 'Steve Bollock', 'GovernorBullock'], ['', 'Seth Moulton', 'sethmoulton'], ['', 'Mike Bloomberg', 'MikeBloomberg'], ['', 'Julian Castro', 'SecretaryCastro'], ['', 'Kirsten Gillibrand', 'SenGillibrand'], ['', 'Kamala Harris', 'KamalaHarris'], ['', 'John Delaney', 'JohnDelaney'], ['', 'John Hickenlooper', 'SenatorHick'], ['', 'Cory Booker', 'SenBooker'], ['', 'Bill Weld', 'GovBillWeld'], ['', 'Pete Buttigieg', 'PeteButtigieg'], ['', 'Elizabeth Warren', 'SenWarren'], ['', 'Joe Sestak', 'JoeSestak'], ['', 'Jay Inslee', 'GovInslee'], ['', 'Andrew Yang', 'AndrewYang'], ['', 'Jo Jorgensen', 'JoForLiberty']]\n"
     ]
    }
   ],
   "source": [
    "print(batch1)"
   ]
  },
  {
   "cell_type": "code",
   "execution_count": 32,
   "metadata": {},
   "outputs": [
    {
     "name": "stdout",
     "output_type": "stream",
     "text": [
      "1\n",
      "0 Success BarackObama, 813286\n",
      "1 Success JoeBiden, 939091\n",
      "2 Success Dennis_Kucinich, 15022633\n",
      "3 Success GovRichardson, 31428685\n",
      "4 Success GovMikeHuckabee, 15416505\n",
      "5 Success HillaryClinton, 1339835893\n",
      "6 Success RonPaul, 287413569\n",
      "7 Success SenJohnMcCain, 19394188\n",
      "8 Success newtgingrich, 20713061\n",
      "9 Success MikeGravel_US, 752638969095999489\n",
      "10 Success loyaltoliberty, 19637821\n",
      "11 Success MittRomney, 50055701\n",
      "12 Success fredthompson, 2704951\n",
      "13 Success SenChrisDodd, 16317406\n",
      "14 Success RudyGiuliani, 770781940341288960\n",
      "15 Success RalphNader, 77314692\n",
      "16 Success ttancredo, 64534908\n",
      "17 Success DrJillStein, 111216929\n",
      "18 Success VirgilGoode, 605641396\n",
      "19 Success GovGaryJohnson, 95713333\n",
      "20 Success RickSantorum, 58379000\n",
      "21 Success HillaryClinton, 1339835893\n",
      "22 Success SenSanders, 29442313\n",
      "23 Success realDonaldTrump, 25073877\n",
      "24 Success JebBush, 113047940\n",
      "25 Success TedCruz, 23022687\n",
      "26 Success MarcoRubio, 15745368\n",
      "27 Success JohnKasich, 18020081\n",
      "28 Success SenBobCorker, 73303753\n",
      "29 Success Mike_Pence, 22203756\n",
      "30 Success GovLarryHogan, 2987671552\n",
      "31 Success BetoORourke, 342863309\n",
      "32 Success SenAmyKlobuchar, 22044727\n",
      "33 Success SenatorBennet, 224285242\n",
      "34 Success GovernorBullock, 111721601\n",
      "35 Success sethmoulton, 248495200\n",
      "36 Success MikeBloomberg, 16581604\n",
      "37 Success SecretaryCastro, 2695663285\n",
      "38 Success SenGillibrand, 72198806\n",
      "39 Success KamalaHarris, 30354991\n",
      "40 Success JohnDelaney, 426028646\n",
      "41 Success SenatorHick, 1318728336923787264\n"
     ]
    },
    {
     "ename": "TooManyRequests",
     "evalue": "status: 429, message: \"Rate limit exceeded\n\"",
     "output_type": "error",
     "traceback": [
      "\u001b[1;31m---------------------------------------------------------------------------\u001b[0m",
      "\u001b[1;31mTooManyRequests\u001b[0m                           Traceback (most recent call last)",
      "Cell \u001b[1;32mIn[32], line 8\u001b[0m\n\u001b[0;32m      6\u001b[0m j \u001b[38;5;241m=\u001b[39m \u001b[38;5;241m0\u001b[39m\n\u001b[0;32m      7\u001b[0m \u001b[38;5;28;01mfor\u001b[39;00m item \u001b[38;5;129;01min\u001b[39;00m lst:\n\u001b[1;32m----> 8\u001b[0m     user_id \u001b[38;5;241m=\u001b[39m \u001b[43mget_user_id\u001b[49m\u001b[43m(\u001b[49m\u001b[43mj\u001b[49m\u001b[43m,\u001b[49m\u001b[43m \u001b[49m\u001b[43mitem\u001b[49m\u001b[43m[\u001b[49m\u001b[38;5;241;43m2\u001b[39;49m\u001b[43m]\u001b[49m\u001b[43m)\u001b[49m\n\u001b[0;32m      9\u001b[0m     item[\u001b[38;5;241m0\u001b[39m] \u001b[38;5;241m=\u001b[39m user_id\n\u001b[0;32m     10\u001b[0m     final_list\u001b[38;5;241m.\u001b[39mappend(item)\n",
      "Cell \u001b[1;32mIn[30], line 10\u001b[0m, in \u001b[0;36mget_user_id\u001b[1;34m(num, handle)\u001b[0m\n\u001b[0;32m      8\u001b[0m \u001b[38;5;66;03m# pull IDs and insert them back into the list\u001b[39;00m\n\u001b[0;32m      9\u001b[0m \u001b[38;5;28;01mtry\u001b[39;00m:\n\u001b[1;32m---> 10\u001b[0m     user_id \u001b[38;5;241m=\u001b[39m \u001b[43mclient\u001b[49m\u001b[38;5;241;43m.\u001b[39;49m\u001b[43mget_user_by_screen_name\u001b[49m\u001b[43m(\u001b[49m\u001b[43mhandle\u001b[49m\u001b[43m)\u001b[49m\u001b[38;5;241m.\u001b[39mid\n\u001b[0;32m     11\u001b[0m     \u001b[38;5;28mprint\u001b[39m(\u001b[38;5;124mf\u001b[39m\u001b[38;5;124m'\u001b[39m\u001b[38;5;132;01m{\u001b[39;00mnum\u001b[38;5;132;01m}\u001b[39;00m\u001b[38;5;124m Success \u001b[39m\u001b[38;5;132;01m{\u001b[39;00mhandle\u001b[38;5;132;01m}\u001b[39;00m\u001b[38;5;124m, \u001b[39m\u001b[38;5;132;01m{\u001b[39;00muser_id\u001b[38;5;132;01m}\u001b[39;00m\u001b[38;5;124m'\u001b[39m)\n\u001b[0;32m     13\u001b[0m \u001b[38;5;66;03m# if user is inaccessible these will keep the loop from breaking\u001b[39;00m\n",
      "File \u001b[1;32m~\\AppData\\Local\\Packages\\PythonSoftwareFoundation.Python.3.11_qbz5n2kfra8p0\\LocalCache\\local-packages\\Python311\\site-packages\\twikit\\client.py:1166\u001b[0m, in \u001b[0;36mClient.get_user_by_screen_name\u001b[1;34m(self, screen_name)\u001b[0m\n\u001b[0;32m   1157\u001b[0m variables \u001b[38;5;241m=\u001b[39m {\n\u001b[0;32m   1158\u001b[0m     \u001b[38;5;124m'\u001b[39m\u001b[38;5;124mscreen_name\u001b[39m\u001b[38;5;124m'\u001b[39m: screen_name,\n\u001b[0;32m   1159\u001b[0m     \u001b[38;5;124m'\u001b[39m\u001b[38;5;124mwithSafetyModeUserFields\u001b[39m\u001b[38;5;124m'\u001b[39m: \u001b[38;5;28;01mFalse\u001b[39;00m\n\u001b[0;32m   1160\u001b[0m }\n\u001b[0;32m   1161\u001b[0m params \u001b[38;5;241m=\u001b[39m flatten_params({\n\u001b[0;32m   1162\u001b[0m     \u001b[38;5;124m'\u001b[39m\u001b[38;5;124mvariables\u001b[39m\u001b[38;5;124m'\u001b[39m: variables,\n\u001b[0;32m   1163\u001b[0m     \u001b[38;5;124m'\u001b[39m\u001b[38;5;124mfeatures\u001b[39m\u001b[38;5;124m'\u001b[39m: USER_FEATURES,\n\u001b[0;32m   1164\u001b[0m     \u001b[38;5;124m'\u001b[39m\u001b[38;5;124mfieldToggles\u001b[39m\u001b[38;5;124m'\u001b[39m: {\u001b[38;5;124m'\u001b[39m\u001b[38;5;124mwithAuxiliaryUserLabels\u001b[39m\u001b[38;5;124m'\u001b[39m: \u001b[38;5;28;01mFalse\u001b[39;00m}\n\u001b[0;32m   1165\u001b[0m })\n\u001b[1;32m-> 1166\u001b[0m response \u001b[38;5;241m=\u001b[39m \u001b[38;5;28;43mself\u001b[39;49m\u001b[38;5;241;43m.\u001b[39;49m\u001b[43mhttp\u001b[49m\u001b[38;5;241;43m.\u001b[39;49m\u001b[43mget\u001b[49m\u001b[43m(\u001b[49m\n\u001b[0;32m   1167\u001b[0m \u001b[43m    \u001b[49m\u001b[43mEndpoint\u001b[49m\u001b[38;5;241;43m.\u001b[39;49m\u001b[43mUSER_BY_SCREEN_NAME\u001b[49m\u001b[43m,\u001b[49m\n\u001b[0;32m   1168\u001b[0m \u001b[43m    \u001b[49m\u001b[43mparams\u001b[49m\u001b[38;5;241;43m=\u001b[39;49m\u001b[43mparams\u001b[49m\u001b[43m,\u001b[49m\n\u001b[0;32m   1169\u001b[0m \u001b[43m    \u001b[49m\u001b[43mheaders\u001b[49m\u001b[38;5;241;43m=\u001b[39;49m\u001b[38;5;28;43mself\u001b[39;49m\u001b[38;5;241;43m.\u001b[39;49m\u001b[43m_base_headers\u001b[49m\n\u001b[0;32m   1170\u001b[0m \u001b[43m\u001b[49m\u001b[43m)\u001b[49m\u001b[38;5;241m.\u001b[39mjson()\n\u001b[0;32m   1172\u001b[0m \u001b[38;5;28;01mif\u001b[39;00m \u001b[38;5;124m'\u001b[39m\u001b[38;5;124muser\u001b[39m\u001b[38;5;124m'\u001b[39m \u001b[38;5;129;01mnot\u001b[39;00m \u001b[38;5;129;01min\u001b[39;00m response[\u001b[38;5;124m'\u001b[39m\u001b[38;5;124mdata\u001b[39m\u001b[38;5;124m'\u001b[39m]:\n\u001b[0;32m   1173\u001b[0m     \u001b[38;5;28;01mraise\u001b[39;00m UserNotFound(\u001b[38;5;124m'\u001b[39m\u001b[38;5;124mThe user does not exist.\u001b[39m\u001b[38;5;124m'\u001b[39m)\n",
      "File \u001b[1;32m~\\AppData\\Local\\Packages\\PythonSoftwareFoundation.Python.3.11_qbz5n2kfra8p0\\LocalCache\\local-packages\\Python311\\site-packages\\twikit\\http.py:51\u001b[0m, in \u001b[0;36mHTTPClient.get\u001b[1;34m(self, url, **kwargs)\u001b[0m\n\u001b[0;32m     50\u001b[0m \u001b[38;5;28;01mdef\u001b[39;00m \u001b[38;5;21mget\u001b[39m(\u001b[38;5;28mself\u001b[39m, url, \u001b[38;5;241m*\u001b[39m\u001b[38;5;241m*\u001b[39mkwargs) \u001b[38;5;241m-\u001b[39m\u001b[38;5;241m>\u001b[39m httpx\u001b[38;5;241m.\u001b[39mResponse:\n\u001b[1;32m---> 51\u001b[0m     \u001b[38;5;28;01mreturn\u001b[39;00m \u001b[38;5;28;43mself\u001b[39;49m\u001b[38;5;241;43m.\u001b[39;49m\u001b[43mrequest\u001b[49m\u001b[43m(\u001b[49m\u001b[38;5;124;43m'\u001b[39;49m\u001b[38;5;124;43mGET\u001b[39;49m\u001b[38;5;124;43m'\u001b[39;49m\u001b[43m,\u001b[49m\u001b[43m \u001b[49m\u001b[43murl\u001b[49m\u001b[43m,\u001b[49m\u001b[43m \u001b[49m\u001b[38;5;241;43m*\u001b[39;49m\u001b[38;5;241;43m*\u001b[39;49m\u001b[43mkwargs\u001b[49m\u001b[43m)\u001b[49m\n",
      "File \u001b[1;32m~\\AppData\\Local\\Packages\\PythonSoftwareFoundation.Python.3.11_qbz5n2kfra8p0\\LocalCache\\local-packages\\Python311\\site-packages\\twikit\\http.py:42\u001b[0m, in \u001b[0;36mHTTPClient.request\u001b[1;34m(self, method, url, **kwargs)\u001b[0m\n\u001b[0;32m     40\u001b[0m     \u001b[38;5;28;01mraise\u001b[39;00m RequestTimeout(message, headers\u001b[38;5;241m=\u001b[39mresponse\u001b[38;5;241m.\u001b[39mheaders)\n\u001b[0;32m     41\u001b[0m \u001b[38;5;28;01melif\u001b[39;00m status_code \u001b[38;5;241m==\u001b[39m \u001b[38;5;241m429\u001b[39m:\n\u001b[1;32m---> 42\u001b[0m     \u001b[38;5;28;01mraise\u001b[39;00m TooManyRequests(message, headers\u001b[38;5;241m=\u001b[39mresponse\u001b[38;5;241m.\u001b[39mheaders)\n\u001b[0;32m     43\u001b[0m \u001b[38;5;28;01melif\u001b[39;00m \u001b[38;5;241m500\u001b[39m \u001b[38;5;241m<\u001b[39m\u001b[38;5;241m=\u001b[39m status_code \u001b[38;5;241m<\u001b[39m \u001b[38;5;241m600\u001b[39m:\n\u001b[0;32m     44\u001b[0m     \u001b[38;5;28;01mraise\u001b[39;00m ServerError(message, headers\u001b[38;5;241m=\u001b[39mresponse\u001b[38;5;241m.\u001b[39mheaders)\n",
      "\u001b[1;31mTooManyRequests\u001b[0m: status: 429, message: \"Rate limit exceeded\n\""
     ]
    }
   ],
   "source": [
    "i = 1\n",
    "final_list = []\n",
    "\n",
    "for lst in mass_list:\n",
    "    print(i)\n",
    "    j = 0\n",
    "    for item in lst:\n",
    "        user_id = get_user_id(j, item[2])\n",
    "        item[0] = user_id\n",
    "        final_list.append(item)\n",
    "        time.sleep(5) # cooldown to avoid rate limits\n",
    "        j += 1\n",
    "    i += 1\n",
    "    print(\"\")\n",
    "    time.sleep(120) # cooldown to avoid rate limits"
   ]
  },
  {
   "cell_type": "code",
   "execution_count": null,
   "metadata": {},
   "outputs": [],
   "source": [
    "final_list_copy = final_list.copy()"
   ]
  },
  {
   "cell_type": "code",
   "execution_count": null,
   "metadata": {},
   "outputs": [],
   "source": [
    "i = 1\n",
    "for item in final_list:\n",
    "    key = str(i).rjust(6, '0')\n",
    "    print(key)\n",
    "    item.insert(0, key)\n",
    "    i += 1"
   ]
  },
  {
   "cell_type": "code",
   "execution_count": null,
   "metadata": {},
   "outputs": [],
   "source": [
    "print(final_list)"
   ]
  },
  {
   "cell_type": "code",
   "execution_count": 34,
   "metadata": {},
   "outputs": [
    {
     "data": {
      "text/plain": [
       "<sqlite3.Cursor at 0x28de49acdc0>"
      ]
     },
     "execution_count": 34,
     "metadata": {},
     "output_type": "execute_result"
    }
   ],
   "source": [
    "import sqlite3\n",
    "conn = sqlite3.connect('tweets.db')\n",
    "c = conn.cursor()\n",
    "\n",
    "c.execute(\"\"\"CREATE TABLE politicians (\n",
    "          key INTEGER primary key,\n",
    "          twitter_user_id STRING,\n",
    "          politician_name STRING,\n",
    "          twitter_handle STRING\n",
    "          )\"\"\")"
   ]
  },
  {
   "cell_type": "code",
   "execution_count": 36,
   "metadata": {},
   "outputs": [],
   "source": [
    "import sqlite3\n",
    "conn = sqlite3.connect('tweets.db')\n",
    "c = conn.cursor()\n",
    "\n",
    "c.executemany(\"INSERT INTO politicians VALUES (?,?,?)\", final_list)\n",
    "conn.commit()"
   ]
  },
  {
   "cell_type": "code",
   "execution_count": 18,
   "metadata": {},
   "outputs": [
    {
     "name": "stdout",
     "output_type": "stream",
     "text": [
      "[['813286', 'BarackObama'], ['939091', 'JoeBiden'], ['15022633', 'Dennis_Kucinich'], ['31428685', 'GovRichardson'], ['15416505', 'GovMikeHuckabee'], ['1339835893', 'HillaryClinton'], ['287413569', 'RonPaul'], ['19394188', 'SenJohnMcCain'], ['20713061', 'newtgingrich'], ['752638969095999489', 'MikeGravel_US'], ['19637821', 'loyaltoliberty'], ['50055701', 'MittRomney'], ['2704951', 'fredthompson'], ['16317406', 'SenChrisDodd'], ['770781940341288960', 'RudyGiuliani'], ['77314692', 'RalphNader'], ['64534908', 'ttancredo'], ['111216929', 'DrJillStein'], ['605641396', 'VirgilGoode'], ['95713333', 'GovGaryJohnson'], ['58379000', 'RickSantorum'], ['1339835893', 'HillaryClinton'], ['29442313', 'SenSanders'], ['25073877', 'realDonaldTrump'], ['113047940', 'JebBush'], ['23022687', 'TedCruz'], ['15745368', 'MarcoRubio'], ['18020081', 'JohnKasich'], ['73303753', 'SenBobCorker'], ['22203756', 'Mike_Pence'], ['2987671552', 'GovLarryHogan'], ['342863309', 'BetoORourke'], ['22044727', 'SenAmyKlobuchar'], ['224285242', 'SenatorBennet'], ['111721601', 'GovernorBullock'], ['248495200', 'sethmoulton'], ['16581604', 'MikeBloomberg'], ['2695663285', 'SecretaryCastro'], ['72198806', 'SenGillibrand'], ['30354991', 'KamalaHarris'], ['426028646', 'JohnDelaney'], ['1318728336923787264', 'SenatorHick'], ['2167097881', 'SenBooker'], ['734783792502575105', 'GovBillWeld'], ['226222147', 'PeteButtigieg'], ['970207298', 'SenWarren'], ['46764631', 'JoeSestak'], ['1077214808', 'GovInslee'], ['2228878592', 'AndrewYang'], ['1176367702543413248', 'JoForLiberty'], ['21522338', 'marwilliamson'], ['949934436', 'TomSteyer'], ['26637348', 'TulsiGabbard'], ['142234626', 'HowieHawkins'], ['7401202', 'StephenHarper'], ['16220555', 'ElizabethMay'], ['15526563', 'jacklayton'], ['17289530', 'M_Ignatieff'], ['14260960', 'JustinTrudeau'], ['363997684', 'ThomasMulcair'], ['256360738', 'AndrewScheer'], ['253340075', 'theJagmeetSingh'], ['38262290', 'yfblanchet'], ['2791988124', 'MaximeBernier'], ['296553576', 'erinotoole'], ['1156560530594832390', 'AnnamiePaul'], ['103065157', 'David_Cameron'], ['532247573', 'GordonBrown'], ['15010349', 'nickclegg'], ['61781260', 'Ed_Miliband'], ['160952087', 'NicolaSturgeon'], ['747807250819981312', 'theresa_may'], ['117777690', 'jeremycorbyn'], ['80021045', 'timfarron'], ['275799277', 'ArleneFosterUK'], ['3131144855', 'BorisJohnson'], ['14933304', 'joswinson'], ['2890801661', 'Douglas4Moray'], ['201226827', 'AnasSarwar'], ['3198001863', 'lornaslater'], ['21125405', 'patrickharvie'], ['52002602', 'willie_rennie'], ['114007914', 'MichealMartinTD'], ['148872468', 'MaryLouMcDonald'], ['229466877', 'LeoVaradkar'], ['22005625', 'EamonRyan'], ['4205955087', 'BrendanHowlin'], ['190987689', 'CathMurphyTD'], ['78026748', 'RoisinShortall'], ['856641566', 'peersteinbrueck'], ['888289790', 'GregorGysi'], ['485751594', 'JTrittin'], ['626287930', 'GoeringEckardt'], ['17675072', 'MartinSchulz'], ['914612826928504832', 'AG_AfD'], ['833398209053605888', 'Alice_Weidel'], ['122104353', 'c_lindner'], ['2320519958', 'DietmarBartsch'], ['47375691', 'SWagenknecht'], ['19108766', 'cem_oezdemir'], ['38150247', 'OlafScholz'], ['835541664', 'ArminLaschet'], ['1469264387512979461', 'ABaerbock'], ['122104353', 'c_lindner'], ['797137333820784640', 'Tino_Chrupalla'], ['143484553', 'Janine_Wissler'], ['1976143068', 'EmmanuelMacron'], ['217749896', 'MLP_officiel'], ['80820758', 'JLMelenchon'], ['14389177', 'benoithamon'], ['551669623', 'FrancoisFillon'], ['26073581', 'Anne_Hidalgo'], ['1183418538285027329', 'ZemmourEric'], ['49969223', 'vpecresse'], ['117761523', 'yjadot'], ['1324449588', 'Fabien_Roussel'], ['85436197', 'JuliaGillard'], ['93766096', 'HonTonyAbbott'], ['333880204', 'DrBobBrown'], ['16832632', 'MrKRudd'], ['43792125', 'ChristineMilne'], ['310726037', 'RealBobKatter'], ['16734909', 'TurnbullMalcolm'], ['137198586', 'billshortenmp'], ['37611292', 'RichardDiNatale'], ['34116377', 'ScoMo30'], ['4253031505', 'MakeMayoMatter'], ['254515782', 'AlboMP'], ['25960714', 'AdamBandt'], ['128372940', 'jairbolsonaro'], ['2670726740', 'LulaOficial'], ['17380167', 'RtHon_JohnKey'], ['18149977', 'phil_goff'], ['28008289', 'RusselNorman'], ['355605318', 'MetiriaTureiMP'], ['1155112831', 'papapita'], ['606709337', 'MPHoneHarawira'], ['886526217091923968', 'DonBrashNZ'], ['243916139', 'honpeterdunne'], ['16220863', 'davidcunliffe'], ['346944092', 'winstonpeters'], ['262909861', 'TeUruroaFlavell'], ['1019934826579791872', '_JamieWhyte'], ['1277147870', 'lailaharre'], ['31634233', 'RtHonBEnglish'], ['22959763', 'jacindaardern'], ['31583101', 'jamespeshaw'], ['23352383', 'dbseymour'], ['756227808', 'JudithCollinsMP'], ['147406561', 'MaramaDavidson'], ['69209529', 'john_tamihere'], ['1613567335', 'whaeadeb'], ['1180976032658014209', 'chrisluxonmp'], ['25754056', 'chrishipkins']]\n"
     ]
    }
   ],
   "source": [
    "print(final_list)"
   ]
  },
  {
   "cell_type": "code",
   "execution_count": null,
   "metadata": {},
   "outputs": [],
   "source": [
    "i = 1\n",
    "for item in final_list:\n",
    "    key = str(i).rjust(6, '0')\n",
    "    item.insert(0, key)\n",
    "    print(item)\n",
    "    i += 1"
   ]
  },
  {
   "cell_type": "code",
   "execution_count": 2,
   "metadata": {},
   "outputs": [
    {
     "ename": "OperationalError",
     "evalue": "table politicians already exists",
     "output_type": "error",
     "traceback": [
      "\u001b[1;31m---------------------------------------------------------------------------\u001b[0m",
      "\u001b[1;31mOperationalError\u001b[0m                          Traceback (most recent call last)",
      "Cell \u001b[1;32mIn[2], line 5\u001b[0m\n\u001b[0;32m      2\u001b[0m conn \u001b[38;5;241m=\u001b[39m sqlite3\u001b[38;5;241m.\u001b[39mconnect(\u001b[38;5;124m'\u001b[39m\u001b[38;5;124mtweets.db\u001b[39m\u001b[38;5;124m'\u001b[39m)\n\u001b[0;32m      3\u001b[0m c \u001b[38;5;241m=\u001b[39m conn\u001b[38;5;241m.\u001b[39mcursor()\n\u001b[1;32m----> 5\u001b[0m \u001b[43mc\u001b[49m\u001b[38;5;241;43m.\u001b[39;49m\u001b[43mexecute\u001b[49m\u001b[43m(\u001b[49m\u001b[38;5;124;43m\"\"\"\u001b[39;49m\u001b[38;5;124;43mCREATE TABLE politicians (\u001b[39;49m\n\u001b[0;32m      6\u001b[0m \u001b[38;5;124;43m          twitter_user_id INTEGER primary key,\u001b[39;49m\n\u001b[0;32m      7\u001b[0m \u001b[38;5;124;43m          politician_name STRING,\u001b[39;49m\n\u001b[0;32m      8\u001b[0m \u001b[38;5;124;43m          twitter_handle STRING\u001b[39;49m\n\u001b[0;32m      9\u001b[0m \u001b[38;5;124;43m          )\u001b[39;49m\u001b[38;5;124;43m\"\"\"\u001b[39;49m\u001b[43m)\u001b[49m\n",
      "\u001b[1;31mOperationalError\u001b[0m: table politicians already exists"
     ]
    }
   ],
   "source": [
    "import sqlite3\n",
    "conn = sqlite3.connect('tweets.db')\n",
    "c = conn.cursor()\n",
    "\n",
    "c.execute(\"\"\"CREATE TABLE politicians (\n",
    "          twitter_user_id STRING,\n",
    "          politician_name STRING,\n",
    "          twitter_handle STRING\n",
    "          )\"\"\")"
   ]
  },
  {
   "cell_type": "code",
   "execution_count": 24,
   "metadata": {},
   "outputs": [
    {
     "ename": "NameError",
     "evalue": "name 'conn' is not defined",
     "output_type": "error",
     "traceback": [
      "\u001b[1;31m---------------------------------------------------------------------------\u001b[0m",
      "\u001b[1;31mNameError\u001b[0m                                 Traceback (most recent call last)",
      "Cell \u001b[1;32mIn[24], line 1\u001b[0m\n\u001b[1;32m----> 1\u001b[0m \u001b[43mconn\u001b[49m\u001b[38;5;241m.\u001b[39mexecute(\u001b[38;5;124m'\u001b[39m\u001b[38;5;124mDROP TABLE politicians\u001b[39m\u001b[38;5;124m'\u001b[39m)\n",
      "\u001b[1;31mNameError\u001b[0m: name 'conn' is not defined"
     ]
    }
   ],
   "source": [
    "conn.execute('DROP TABLE politicians')"
   ]
  },
  {
   "cell_type": "code",
   "execution_count": null,
   "metadata": {},
   "outputs": [],
   "source": [
    "c.executemany(\"INSERT INTO tweets VALUES (?,?,?,?,?,?)\", final_list)\n",
    "conn.commit()"
   ]
  },
  {
   "cell_type": "code",
   "execution_count": 5,
   "metadata": {},
   "outputs": [
    {
     "data": {
      "text/plain": [
       "<sqlite3.Cursor at 0x21bb487c640>"
      ]
     },
     "execution_count": 5,
     "metadata": {},
     "output_type": "execute_result"
    }
   ],
   "source": [
    "import sqlite3\n",
    "conn = sqlite3.connect('tweets.db')\n",
    "c = conn.cursor()\n",
    "\n",
    "c.execute(\"\"\"CREATE TABLE coordinates (\n",
    "          key INTEGER primary key,\n",
    "          twitter_user_id STRING,\n",
    "          politician_name STRING,\n",
    "          twitter_handle STRING,\n",
    "          x_coordinate INTEGER,\n",
    "          y_coordinate INTEGER,\n",
    "          political_party STRING,\n",
    "          election_year INTEGER,\n",
    "          country STRING,\n",
    "          twitter_active_during_election STRING\n",
    "          )\"\"\")"
   ]
  },
  {
   "cell_type": "code",
   "execution_count": 4,
   "metadata": {},
   "outputs": [
    {
     "data": {
      "text/plain": [
       "<sqlite3.Cursor at 0x21be5e6a1c0>"
      ]
     },
     "execution_count": 4,
     "metadata": {},
     "output_type": "execute_result"
    }
   ],
   "source": [
    "conn.execute('DROP TABLE coordinates')"
   ]
  },
  {
   "cell_type": "code",
   "execution_count": 7,
   "metadata": {},
   "outputs": [
    {
     "name": "stdout",
     "output_type": "stream",
     "text": [
      "[[2008, 'null', 'Duncan Hunter', 'null', 7, 6, 'Republican', 2008, 'USA', False], [12008, 'null', 'John Edwards', 'null', 2, 1, 'Democratic', 2008, 'USA', False], [12012, 'null', 'Stewart Alexander', 'null', -5, -1, 'Socialist', 2012, 'USA', False], [22012, 'null', 'Rockey Anderson', 'null', 4, -2, 'Justice', 2012, 'USA', False], [22008, 'null', 'Stephane Dion', 'null', 2, 3, 'Liberal', 2008, 'CA', False], [32008, 'null', 'Gilles Duceppe', 'null', -1, -1, 'Bloc Quebecios', 2008, 'CA', False], [12013, 'null', 'Angela Merkel', 'null', 7, 6, 'CDU/SCU', 2013, 'DE', False], [22013, 'null', 'Rainer Bruderle', 'null', 8, -1, 'FDP', 2013, 'DE', False], [12010, 'null', 'Tony Crook', 'null', 5, 6, 'WA Nationals', 2010, 'AUS', False], [12011, 'null', 'Tariana Turia', 'null', -1, 0, 'Maori Party', 2011, 'NZ', False], [12017, 'null', 'Marama Fox', 'null', -1, 0, 'Maori Party', 2017, 'NZ', False]]\n"
     ]
    }
   ],
   "source": [
    "data = pd.read_csv(\"data/non-twitter politicians.csv\", keep_default_na=False)\n",
    "df = pd.DataFrame(data)\n",
    "\n",
    "# turn pandas into list\n",
    "# there is probably a better way to do this but this works \n",
    "data_list = []\n",
    "for index, row in df.iterrows():\n",
    "\n",
    "    row_list = df.loc[index, :].values.flatten().tolist()\n",
    "    data_list.append(row_list)\n",
    "    \n",
    "print(data_list)"
   ]
  },
  {
   "cell_type": "code",
   "execution_count": 15,
   "metadata": {},
   "outputs": [
    {
     "name": "stdout",
     "output_type": "stream",
     "text": [
      "12008 <class 'numpy.int64'>\n",
      "null <class 'str'>\n",
      "John Edwards <class 'str'>\n",
      "null <class 'str'>\n",
      "2 <class 'numpy.int64'>\n",
      "1 <class 'numpy.int64'>\n",
      "Democratic <class 'str'>\n",
      "2008 <class 'numpy.int64'>\n",
      "USA <class 'str'>\n",
      "False <class 'numpy.bool_'>\n"
     ]
    }
   ],
   "source": [
    "for item in data_list[1]:\n",
    "    print(item, type(item))"
   ]
  },
  {
   "cell_type": "code",
   "execution_count": 8,
   "metadata": {},
   "outputs": [],
   "source": [
    "import numpy as np\n",
    "sqlite3.register_adapter(np.int64, int)\n",
    "sqlite3.register_adapter(np.bool_, str)"
   ]
  },
  {
   "cell_type": "code",
   "execution_count": 9,
   "metadata": {},
   "outputs": [],
   "source": [
    "c.executemany(\"INSERT INTO coordinates VALUES (?,?,?,?,?,?,?,?,?,?)\", data_list)\n",
    "conn.commit()"
   ]
  }
 ],
 "metadata": {
  "kernelspec": {
   "display_name": "Python 3",
   "language": "python",
   "name": "python3"
  },
  "language_info": {
   "codemirror_mode": {
    "name": "ipython",
    "version": 3
   },
   "file_extension": ".py",
   "mimetype": "text/x-python",
   "name": "python",
   "nbconvert_exporter": "python",
   "pygments_lexer": "ipython3",
   "version": "3.11.9"
  }
 },
 "nbformat": 4,
 "nbformat_minor": 2
}

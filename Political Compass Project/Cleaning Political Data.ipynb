{
 "cells": [
  {
   "cell_type": "code",
   "execution_count": 1,
   "metadata": {},
   "outputs": [
    {
     "name": "stderr",
     "output_type": "stream",
     "text": [
      "C:\\Users\\eaesp\\AppData\\Local\\Temp\\ipykernel_17824\\2204781778.py:5: DeprecationWarning: \n",
      "Pyarrow will become a required dependency of pandas in the next major release of pandas (pandas 3.0),\n",
      "(to allow more performant data types, such as the Arrow string type, and better interoperability with other libraries)\n",
      "but was not found to be installed on your system.\n",
      "If this would cause problems for you,\n",
      "please provide us feedback at https://github.com/pandas-dev/pandas/issues/54466\n",
      "        \n",
      "  import pandas as pd\n"
     ]
    },
    {
     "data": {
      "text/plain": [
       "{'flow_token': 'g;171367316029157670:-1713673160348:v7o7wSpXEVV05latvxcFRvvH:14',\n",
       " 'status': 'success',\n",
       " 'subtasks': [{'subtask_id': 'LoginSuccessSubtask',\n",
       "   'open_account': {'user': {'id': 1547081484695216130,\n",
       "     'id_str': '1547081484695216130',\n",
       "     'name': 'Eloragh Espie',\n",
       "     'screen_name': 'EloraghEspie'},\n",
       "    'next_link': {'link_type': 'subtask',\n",
       "     'link_id': 'next_link',\n",
       "     'subtask_id': 'SuccessExit'},\n",
       "    'attribution_event': 'login'}},\n",
       "  {'subtask_id': 'SuccessExit',\n",
       "   'open_link': {'link': {'link_type': 'subtask',\n",
       "     'link_id': 'next_link',\n",
       "     'subtask_id': 'LoginOpenHomeTimeline'}}},\n",
       "  {'subtask_id': 'LoginOpenHomeTimeline',\n",
       "   'open_home_timeline': {'next_link': {'link_type': 'abort',\n",
       "     'link_id': 'next_link'}}}]}"
      ]
     },
     "execution_count": 1,
     "metadata": {},
     "output_type": "execute_result"
    }
   ],
   "source": [
    "from twikit import Client\n",
    "import time\n",
    "import json\n",
    "from twikit import TwitterException \n",
    "import pandas as pd\n",
    "\n",
    "# this API requires authentication\n",
    "f = open('authentication.txt', 'r')\n",
    "auth = f.read()\n",
    "f.close()\n",
    "auth_token = auth.split(\"\\n\")\n",
    "\n",
    "# don't hardcode your email and password into something!!!\n",
    "# the auth is in gitignore so I won't get hacked\n",
    "USERNAME = str(auth_token[0])\n",
    "EMAIL = str(auth_token[1])\n",
    "PASSWORD = str(auth_token[2])\n",
    "\n",
    "# Initialize client\n",
    "client = Client(language='en-US', http2=True)\n",
    "\n",
    "# Login to the service with provided user credentials\n",
    "client.login(\n",
    "    auth_info_1=USERNAME ,\n",
    "    auth_info_2=EMAIL,\n",
    "    password=PASSWORD\n",
    ")"
   ]
  },
  {
   "cell_type": "code",
   "execution_count": 2,
   "metadata": {},
   "outputs": [],
   "source": [
    "# Twitter LOVES to ban people when they log in repeatedly\n",
    "# saving the cookies makes sure I don't get banned (often)\n",
    "\n",
    "client.get_cookies()\n",
    "client.save_cookies('cookies.json')\n",
    "with open('cookies.json', 'r', encoding='UTF8') as f:\n",
    "    client.set_cookies(json.load(f))"
   ]
  },
  {
   "cell_type": "code",
   "execution_count": 3,
   "metadata": {},
   "outputs": [],
   "source": [
    "from twikit import UserUnavailable\n",
    "from twikit import UserNotFound\n",
    "\n",
    "def get_user_id(data_list):\n",
    "    # load the cookies so you don't login a million times and get banned\n",
    "    client.load_cookies('cookies.json')\n",
    "    \n",
    "    i = 0\n",
    "    # pull IDs and insert them back into the list\n",
    "    for item in data_list:\n",
    "        handle = item[2]\n",
    "        try:\n",
    "            user_id = client.get_user_by_screen_name(handle).id\n",
    "            item.insert(0, user_id)\n",
    "            print(f'{i} Success {handle}, {user_id}')\n",
    "\n",
    "        # if user is inaccessible these will keep the loop from breaking\n",
    "        except UserUnavailable:\n",
    "            print(f\"{i }User {handle} unavailable\")\n",
    "        except UserNotFound:\n",
    "            print(f'{i} User {handle} not found')\n",
    "\n",
    "        i += 1\n",
    "        time.sleep(5) # cooldown to avoid rate limits\n",
    "\n",
    "    return(data_list)"
   ]
  },
  {
   "cell_type": "code",
   "execution_count": 4,
   "metadata": {},
   "outputs": [],
   "source": [
    "def create_key(user_id, year):\n",
    "    # load the cookies so you don't login a million times and get banned\n",
    "    client.load_cookies('cookies.json')\n",
    "    return(user_id + year)"
   ]
  },
  {
   "cell_type": "code",
   "execution_count": 5,
   "metadata": {},
   "outputs": [],
   "source": [
    "import time\n",
    "from math import ceil\n",
    "import requests\n",
    "from twikit import TooManyRequests\n",
    "from twikit.utils import Endpoint\n",
    "\n",
    "# this is a housekeeping function\n",
    "# twitter API can throw rate limits\n",
    "# they're kind of like timeouts\n",
    "# this function just shows me how much longer I will be in timeout for\n",
    "\n",
    "def get_limit_reset_time(endpoint: str):\n",
    "    res = requests.get(\n",
    "        endpoint,\n",
    "        headers=client._base_headers,\n",
    "        cookies=client.get_cookies()\n",
    "    )\n",
    "    return ceil(int(res.headers['x-rate-limit-reset']) - time.time())"
   ]
  },
  {
   "cell_type": "code",
   "execution_count": 49,
   "metadata": {},
   "outputs": [
    {
     "name": "stdout",
     "output_type": "stream",
     "text": [
      "rate limit is reset after 883 seconds.\n"
     ]
    }
   ],
   "source": [
    "# timeout check for accessing user IDs\n",
    "try:\n",
    "    print(client.get_user_by_screen_name('BarackObama'))\n",
    "except TooManyRequests:\n",
    "    \n",
    "    reset_time = get_limit_reset_time(Endpoint.USER_TWEETS)\n",
    "    print(f'rate limit is reset after {reset_time} seconds.')"
   ]
  },
  {
   "cell_type": "code",
   "execution_count": 43,
   "metadata": {},
   "outputs": [],
   "source": [
    "data = pd.read_csv(\"Politicians.csv\")\n",
    "df = pd.DataFrame(data)"
   ]
  },
  {
   "cell_type": "code",
   "execution_count": 45,
   "metadata": {},
   "outputs": [
    {
     "name": "stdout",
     "output_type": "stream",
     "text": [
      "[[nan, 'Barack Obama', 'BarackObama'], [nan, 'Joe Biden', 'JoeBiden'], [nan, 'Dennis Kucinich', 'Dennis_Kucinich'], [nan, 'Bill Richardson', 'GovRichardson'], [nan, 'Mike Huckabee', 'GovMikeHuckabee'], [nan, 'Hillary Clinton', 'HillaryClinton'], [nan, 'Ron Paul', 'RonPaul'], [nan, 'John McCain', 'SenJohnMcCain'], [nan, 'Newt Gingrich', 'newtgingrich'], [nan, 'Mike Gravel', 'MikeGravel_US'], [nan, 'Alan Keyes', 'loyaltoliberty'], [nan, 'Mitt Romney', 'MittRomney'], [nan, 'Fred Thompson', 'fredthompson'], [nan, 'Chris Dodd', 'SenChrisDodd'], [nan, 'Rudy Guiliani', 'RudyGiuliani'], [nan, 'Ralph Nader', 'RalphNader'], [nan, 'Tom Tancredo', 'ttancredo'], [nan, 'Jill Stein', 'DrJillStein'], [nan, 'Virgil Goode', 'VirgilGoode'], [nan, 'Gary Johnson', 'GovGaryJohnson'], [nan, 'Rick Santorum', 'RickSantorum'], [nan, 'Hllary Clinton', 'HillaryClinton'], [nan, 'Bernie Sanders', 'SenSanders'], [nan, 'Donald Trump', 'realDonaldTrump'], [nan, 'Jeb Bush', 'JebBush'], [nan, 'Ted Cruz', 'TedCruz'], [nan, 'Marco Rubio', 'MarcoRubio'], [nan, 'John Kasich', 'JohnKasich'], [nan, 'Bob Corker', 'SenBobCorker'], [nan, 'Mike Pence', 'Mike_Pence'], [nan, 'Larry Hogan', 'GovLarryHogan'], [nan, \"Robert O'Rourke\", 'BetoORourke'], [nan, 'Amy Klobuchar', 'SenAmyKlobuchar'], [nan, 'Michael Bennet', 'SenatorBennet'], [nan, 'Steve Bollock', 'GovernorBullock'], [nan, 'Seth Moulton', 'sethmoulton'], [nan, 'Mike Bloomberg', 'MikeBloomberg'], [nan, 'Julian Castro', 'SecretaryCastro'], [nan, 'Kirsten Gillibrand', 'SenGillibrand'], [nan, 'Kamala Harris', 'KamalaHarris'], [nan, 'John Delaney', 'JohnDelaney'], [nan, 'John Hickenlooper', 'SenatorHick'], [nan, 'Cory Booker', 'SenBooker'], [nan, 'Bill Weld', 'GovBillWeld'], [nan, 'Pete Buttigieg', 'PeteButtigieg'], [nan, 'Elizabeth Warren', 'SenWarren'], [nan, 'Joe Sestak', 'JoeSestak'], [nan, 'Jay Inslee', 'GovInslee'], [nan, 'Andrew Yang', 'AndrewYang'], [nan, 'Jo Jorgensen', 'JoForLiberty'], [nan, 'Marianne Williamson', 'marwilliamson'], [nan, 'Tom Steyer', 'TomSteyer'], [nan, 'Tulsi Gabbard', 'TulsiGabbard'], [nan, 'Howie Hawkins', 'HowieHawkins'], [nan, 'Stephen Harper', 'StephenHarper'], [nan, 'Elizabeth May', 'ElizabethMay'], [nan, 'Jack Layton', 'jacklayton'], [nan, 'Michael Ignatieff', 'M_Ignatieff'], [nan, 'Justin Trudeau', 'JustinTrudeau'], [nan, 'Tom Mulcair', 'ThomasMulcair'], [nan, 'Andrew Scheer', 'AndrewScheer'], [nan, 'Jagemeet Singh', 'theJagmeetSingh'], [nan, 'Yves-Francois Blanchet', 'yfblanchet'], [nan, 'Maxime Bernier', 'MaximeBernier'], [nan, \"Erin O'Toole\", 'erinotoole'], [nan, 'Annamie Paul', 'AnnamiePaul'], [nan, 'David Cameron', 'David_Cameron'], [nan, 'Gordon Brown', 'GordonBrown'], [nan, 'Nick Clegg', 'nickclegg'], [nan, 'Ed Miliband', 'Ed_Miliband'], [nan, 'Nicola Sturgeon', 'NicolaSturgeon'], [nan, 'Theresa May', 'theresa_may'], [nan, 'Jeremy Corbyn', 'jeremycorbyn'], [nan, 'Tim Farron', 'timfarron'], [nan, 'Arlene Foster', 'ArleneFosterUK'], [nan, 'Boris Johnson', 'BorisJohnson'], [nan, 'Jo Swinson', 'joswinson'], [nan, 'Douglass Ross', 'Douglas4Moray'], [nan, 'Anas Sarwar', 'AnasSarwar'], [nan, 'Lorna Slater', 'lornaslater'], [nan, 'Patrick Harvie', 'patrickharvie'], [nan, 'Willie Rennie', 'willie_rennie'], [nan, 'Michael Martin', 'MichealMartinTD'], [nan, 'Mary Lou McDonald', 'MaryLouMcDonald'], [nan, 'Leo Varadkar', 'LeoVaradkar'], [nan, 'Eamon Ryan', 'EamonRyan'], [nan, 'Brendan Howlin', 'BrendanHowlin'], [nan, 'Catherine Murphy', 'CathMurphyTD'], [nan, 'Roisin Shortall', 'RoisinShortall'], [nan, 'Peer Steinbruck', 'peersteinbrueck'], [nan, 'Gregor Gysi', 'GregorGysi'], [nan, 'Jurgen Trittin', 'JTrittin'], [nan, 'Katrin Goring-Eckardt', 'GoeringEckardt'], [nan, 'Martin Schulz', 'MartinSchulz'], [nan, 'Alexander Gauland', 'AG_AfD'], [nan, 'Alice Weidel', 'Alice_Weidel'], [nan, 'Christian Lindner', 'c_lindner'], [nan, 'Dietmar Bartsch', 'DietmarBartsch'], [nan, 'Sahra Wagenknecht', 'SWagenknecht'], [nan, 'Cem Ozdemir ', 'cem_oezdemir'], [nan, 'Olaf Scholz', 'OlafScholz'], [nan, 'Armin Laschet', 'ArminLaschet'], [nan, 'Annalena Baerbock', 'ABaerbock'], [nan, 'Christian Linder', 'c_lindner'], [nan, 'Tino Chrupalla', 'Tino_Chrupalla'], [nan, 'Janine Wissler', 'Janine_Wissler'], [nan, 'Emmanuel Macron', 'EmmanuelMacron'], [nan, 'Marie Le Pen', 'MLP_officiel'], [nan, 'Jean-Luc Melenchon', 'JLMelenchon'], [nan, 'Benoit Hamon', 'benoithamon'], [nan, 'Francois Fillon', 'FrancoisFillon'], [nan, 'Anne Hildago', 'Anne_Hidalgo'], [nan, 'Eric Zemmour', 'ZemmourEric'], [nan, 'Valerie Pecresse', 'vpecresse'], [nan, 'Yannick Jadot', 'yjadot'], [nan, 'Fabien Roussel', 'Fabien_Roussel'], [nan, 'Julia Gillard', 'JuliaGillard'], [nan, 'Tony Abbot', 'HonTonyAbbott'], [nan, 'Bob Brown', 'DrBobBrown'], [nan, 'Kevin Rudd', 'MrKRudd'], [nan, 'Chrstine Milne', 'ChristineMilne'], [nan, 'Bob Katter', 'RealBobKatter'], [nan, 'Malcolm Turnbull', 'TurnbullMalcolm'], [nan, 'Bill Shorten', 'billshortenmp'], [nan, 'Richard Di Natale', 'RichardDiNatale'], [nan, 'Scott Morrison', 'ScoMo30'], [nan, 'Rebekha Sharkie', 'MakeMayoMatter'], [nan, 'Anthony Albanese', 'AlboMP'], [nan, 'Adam Bandt', 'AdamBandt'], [nan, 'Jair Bolsanaro', 'jairbolsonaro'], [nan, 'Lula da Silva', 'LulaOficial'], [nan, 'John Key', 'RtHon_JohnKey'], [nan, 'Phil Goff', 'phil_goff'], [nan, 'Russel Norman', 'RusselNorman'], [nan, 'Metiria Turei', 'MetiriaTureiMP'], [nan, 'Pita Sharples', 'papapita'], [nan, 'Hone Harawire', 'MPHoneHarawira'], [nan, 'Don Brash', 'DonBrashNZ'], [nan, 'Peter Dunne', 'honpeterdunne'], [nan, 'David Cunliffe', 'davidcunliffe'], [nan, 'Winston Peters', 'winstonpeters'], [nan, 'Te Ururoa Flavell', 'TeUruroaFlavell'], [nan, 'Jamie Whyte', '_JamieWhyte'], [nan, 'Laila Harre', 'lailaharre'], [nan, 'Bill English', 'RtHonBEnglish'], [nan, 'Jacinda Ardern', 'jacindaardern'], [nan, 'James Shaw', 'jamespeshaw'], [nan, 'David Seymour', 'dbseymour'], [nan, 'Judith Collins', 'JudithCollinsMP'], [nan, 'Marama Davidson', 'MaramaDavidson'], [nan, 'John Tamihere', 'john_tamihere'], [nan, 'Debbie Ngarewa-Packer', 'whaeadeb'], [nan, 'Christopher Luxon', 'chrisluxonmp'], [nan, 'Chris Hipkins', 'chrishipkins']]\n"
     ]
    }
   ],
   "source": [
    "# turn pandas into list\n",
    "# there is probably a better way to do this but this works \n",
    "data_list = []\n",
    "for index, row in df.iterrows():\n",
    "\n",
    "    row_list = df.loc[index, :].values.flatten().tolist()\n",
    "    data_list.append(row_list)\n",
    "    \n",
    "print(data_list)"
   ]
  },
  {
   "cell_type": "code",
   "execution_count": 46,
   "metadata": {},
   "outputs": [],
   "source": [
    "batch1 = [item for item in data_list[0:50]]\n",
    "batch2 = [item for item in data_list[50:100]]\n",
    "batch3 = [item for item in data_list[100:150]]\n",
    "batch4 = [item for item in data_list[150:]]\n",
    "\n",
    "mass_data_list = [batch1, batch2, batch3, batch4]"
   ]
  },
  {
   "cell_type": "code",
   "execution_count": 47,
   "metadata": {},
   "outputs": [
    {
     "name": "stdout",
     "output_type": "stream",
     "text": [
      "[[nan, 'Barack Obama', 'BarackObama'], [nan, 'Joe Biden', 'JoeBiden'], [nan, 'Dennis Kucinich', 'Dennis_Kucinich'], [nan, 'Bill Richardson', 'GovRichardson'], [nan, 'Mike Huckabee', 'GovMikeHuckabee'], [nan, 'Hillary Clinton', 'HillaryClinton'], [nan, 'Ron Paul', 'RonPaul'], [nan, 'John McCain', 'SenJohnMcCain'], [nan, 'Newt Gingrich', 'newtgingrich'], [nan, 'Mike Gravel', 'MikeGravel_US'], [nan, 'Alan Keyes', 'loyaltoliberty'], [nan, 'Mitt Romney', 'MittRomney'], [nan, 'Fred Thompson', 'fredthompson'], [nan, 'Chris Dodd', 'SenChrisDodd'], [nan, 'Rudy Guiliani', 'RudyGiuliani'], [nan, 'Ralph Nader', 'RalphNader'], [nan, 'Tom Tancredo', 'ttancredo'], [nan, 'Jill Stein', 'DrJillStein'], [nan, 'Virgil Goode', 'VirgilGoode'], [nan, 'Gary Johnson', 'GovGaryJohnson'], [nan, 'Rick Santorum', 'RickSantorum'], [nan, 'Hllary Clinton', 'HillaryClinton'], [nan, 'Bernie Sanders', 'SenSanders'], [nan, 'Donald Trump', 'realDonaldTrump'], [nan, 'Jeb Bush', 'JebBush'], [nan, 'Ted Cruz', 'TedCruz'], [nan, 'Marco Rubio', 'MarcoRubio'], [nan, 'John Kasich', 'JohnKasich'], [nan, 'Bob Corker', 'SenBobCorker'], [nan, 'Mike Pence', 'Mike_Pence'], [nan, 'Larry Hogan', 'GovLarryHogan'], [nan, \"Robert O'Rourke\", 'BetoORourke'], [nan, 'Amy Klobuchar', 'SenAmyKlobuchar'], [nan, 'Michael Bennet', 'SenatorBennet'], [nan, 'Steve Bollock', 'GovernorBullock'], [nan, 'Seth Moulton', 'sethmoulton'], [nan, 'Mike Bloomberg', 'MikeBloomberg'], [nan, 'Julian Castro', 'SecretaryCastro'], [nan, 'Kirsten Gillibrand', 'SenGillibrand'], [nan, 'Kamala Harris', 'KamalaHarris'], [nan, 'John Delaney', 'JohnDelaney'], [nan, 'John Hickenlooper', 'SenatorHick'], [nan, 'Cory Booker', 'SenBooker'], [nan, 'Bill Weld', 'GovBillWeld'], [nan, 'Pete Buttigieg', 'PeteButtigieg'], [nan, 'Elizabeth Warren', 'SenWarren'], [nan, 'Joe Sestak', 'JoeSestak'], [nan, 'Jay Inslee', 'GovInslee'], [nan, 'Andrew Yang', 'AndrewYang'], [nan, 'Jo Jorgensen', 'JoForLiberty']]\n",
      "[[nan, 'Marianne Williamson', 'marwilliamson'], [nan, 'Tom Steyer', 'TomSteyer'], [nan, 'Tulsi Gabbard', 'TulsiGabbard'], [nan, 'Howie Hawkins', 'HowieHawkins'], [nan, 'Stephen Harper', 'StephenHarper'], [nan, 'Elizabeth May', 'ElizabethMay'], [nan, 'Jack Layton', 'jacklayton'], [nan, 'Michael Ignatieff', 'M_Ignatieff'], [nan, 'Justin Trudeau', 'JustinTrudeau'], [nan, 'Tom Mulcair', 'ThomasMulcair'], [nan, 'Andrew Scheer', 'AndrewScheer'], [nan, 'Jagemeet Singh', 'theJagmeetSingh'], [nan, 'Yves-Francois Blanchet', 'yfblanchet'], [nan, 'Maxime Bernier', 'MaximeBernier'], [nan, \"Erin O'Toole\", 'erinotoole'], [nan, 'Annamie Paul', 'AnnamiePaul'], [nan, 'David Cameron', 'David_Cameron'], [nan, 'Gordon Brown', 'GordonBrown'], [nan, 'Nick Clegg', 'nickclegg'], [nan, 'Ed Miliband', 'Ed_Miliband'], [nan, 'Nicola Sturgeon', 'NicolaSturgeon'], [nan, 'Theresa May', 'theresa_may'], [nan, 'Jeremy Corbyn', 'jeremycorbyn'], [nan, 'Tim Farron', 'timfarron'], [nan, 'Arlene Foster', 'ArleneFosterUK'], [nan, 'Boris Johnson', 'BorisJohnson'], [nan, 'Jo Swinson', 'joswinson'], [nan, 'Douglass Ross', 'Douglas4Moray'], [nan, 'Anas Sarwar', 'AnasSarwar'], [nan, 'Lorna Slater', 'lornaslater'], [nan, 'Patrick Harvie', 'patrickharvie'], [nan, 'Willie Rennie', 'willie_rennie'], [nan, 'Michael Martin', 'MichealMartinTD'], [nan, 'Mary Lou McDonald', 'MaryLouMcDonald'], [nan, 'Leo Varadkar', 'LeoVaradkar'], [nan, 'Eamon Ryan', 'EamonRyan'], [nan, 'Brendan Howlin', 'BrendanHowlin'], [nan, 'Catherine Murphy', 'CathMurphyTD'], [nan, 'Roisin Shortall', 'RoisinShortall'], [nan, 'Peer Steinbruck', 'peersteinbrueck'], [nan, 'Gregor Gysi', 'GregorGysi'], [nan, 'Jurgen Trittin', 'JTrittin'], [nan, 'Katrin Goring-Eckardt', 'GoeringEckardt'], [nan, 'Martin Schulz', 'MartinSchulz'], [nan, 'Alexander Gauland', 'AG_AfD'], [nan, 'Alice Weidel', 'Alice_Weidel'], [nan, 'Christian Lindner', 'c_lindner'], [nan, 'Dietmar Bartsch', 'DietmarBartsch'], [nan, 'Sahra Wagenknecht', 'SWagenknecht'], [nan, 'Cem Ozdemir ', 'cem_oezdemir']]\n",
      "[[nan, 'Olaf Scholz', 'OlafScholz'], [nan, 'Armin Laschet', 'ArminLaschet'], [nan, 'Annalena Baerbock', 'ABaerbock'], [nan, 'Christian Linder', 'c_lindner'], [nan, 'Tino Chrupalla', 'Tino_Chrupalla'], [nan, 'Janine Wissler', 'Janine_Wissler'], [nan, 'Emmanuel Macron', 'EmmanuelMacron'], [nan, 'Marie Le Pen', 'MLP_officiel'], [nan, 'Jean-Luc Melenchon', 'JLMelenchon'], [nan, 'Benoit Hamon', 'benoithamon'], [nan, 'Francois Fillon', 'FrancoisFillon'], [nan, 'Anne Hildago', 'Anne_Hidalgo'], [nan, 'Eric Zemmour', 'ZemmourEric'], [nan, 'Valerie Pecresse', 'vpecresse'], [nan, 'Yannick Jadot', 'yjadot'], [nan, 'Fabien Roussel', 'Fabien_Roussel'], [nan, 'Julia Gillard', 'JuliaGillard'], [nan, 'Tony Abbot', 'HonTonyAbbott'], [nan, 'Bob Brown', 'DrBobBrown'], [nan, 'Kevin Rudd', 'MrKRudd'], [nan, 'Chrstine Milne', 'ChristineMilne'], [nan, 'Bob Katter', 'RealBobKatter'], [nan, 'Malcolm Turnbull', 'TurnbullMalcolm'], [nan, 'Bill Shorten', 'billshortenmp'], [nan, 'Richard Di Natale', 'RichardDiNatale'], [nan, 'Scott Morrison', 'ScoMo30'], [nan, 'Rebekha Sharkie', 'MakeMayoMatter'], [nan, 'Anthony Albanese', 'AlboMP'], [nan, 'Adam Bandt', 'AdamBandt'], [nan, 'Jair Bolsanaro', 'jairbolsonaro'], [nan, 'Lula da Silva', 'LulaOficial'], [nan, 'John Key', 'RtHon_JohnKey'], [nan, 'Phil Goff', 'phil_goff'], [nan, 'Russel Norman', 'RusselNorman'], [nan, 'Metiria Turei', 'MetiriaTureiMP'], [nan, 'Pita Sharples', 'papapita'], [nan, 'Hone Harawire', 'MPHoneHarawira'], [nan, 'Don Brash', 'DonBrashNZ'], [nan, 'Peter Dunne', 'honpeterdunne'], [nan, 'David Cunliffe', 'davidcunliffe'], [nan, 'Winston Peters', 'winstonpeters'], [nan, 'Te Ururoa Flavell', 'TeUruroaFlavell'], [nan, 'Jamie Whyte', '_JamieWhyte'], [nan, 'Laila Harre', 'lailaharre'], [nan, 'Bill English', 'RtHonBEnglish'], [nan, 'Jacinda Ardern', 'jacindaardern'], [nan, 'James Shaw', 'jamespeshaw'], [nan, 'David Seymour', 'dbseymour'], [nan, 'Judith Collins', 'JudithCollinsMP'], [nan, 'Marama Davidson', 'MaramaDavidson']]\n",
      "[[nan, 'John Tamihere', 'john_tamihere'], [nan, 'Debbie Ngarewa-Packer', 'whaeadeb'], [nan, 'Christopher Luxon', 'chrisluxonmp'], [nan, 'Chris Hipkins', 'chrishipkins']]\n"
     ]
    }
   ],
   "source": [
    "for item in mass_data_list:\n",
    "    print(item)"
   ]
  },
  {
   "cell_type": "code",
   "execution_count": 48,
   "metadata": {},
   "outputs": [
    {
     "ename": "TooManyRequests",
     "evalue": "status: 429, message: \"Rate limit exceeded\n\"",
     "output_type": "error",
     "traceback": [
      "\u001b[1;31m---------------------------------------------------------------------------\u001b[0m",
      "\u001b[1;31mTooManyRequests\u001b[0m                           Traceback (most recent call last)",
      "Cell \u001b[1;32mIn[48], line 5\u001b[0m\n\u001b[0;32m      2\u001b[0m final_list \u001b[38;5;241m=\u001b[39m []\n\u001b[0;32m      4\u001b[0m \u001b[38;5;28;01mfor\u001b[39;00m \u001b[38;5;28mlist\u001b[39m \u001b[38;5;129;01min\u001b[39;00m mass_data_list:\n\u001b[1;32m----> 5\u001b[0m     new_data_list \u001b[38;5;241m=\u001b[39m \u001b[43mget_user_id\u001b[49m\u001b[43m(\u001b[49m\u001b[38;5;28;43mlist\u001b[39;49m\u001b[43m)\u001b[49m\n\u001b[0;32m      6\u001b[0m     final_list \u001b[38;5;241m+\u001b[39m\u001b[38;5;241m=\u001b[39m new_data_list\n\u001b[0;32m      7\u001b[0m     time\u001b[38;5;241m.\u001b[39msleep(\u001b[38;5;241m120\u001b[39m) \u001b[38;5;66;03m# cool down to avoid rate limits\u001b[39;00m\n",
      "Cell \u001b[1;32mIn[3], line 13\u001b[0m, in \u001b[0;36mget_user_id\u001b[1;34m(data_list)\u001b[0m\n\u001b[0;32m     11\u001b[0m handle \u001b[38;5;241m=\u001b[39m item[\u001b[38;5;241m2\u001b[39m]\n\u001b[0;32m     12\u001b[0m \u001b[38;5;28;01mtry\u001b[39;00m:\n\u001b[1;32m---> 13\u001b[0m     user_id \u001b[38;5;241m=\u001b[39m \u001b[43mclient\u001b[49m\u001b[38;5;241;43m.\u001b[39;49m\u001b[43mget_user_by_screen_name\u001b[49m\u001b[43m(\u001b[49m\u001b[43mhandle\u001b[49m\u001b[43m)\u001b[49m\u001b[38;5;241m.\u001b[39mid\n\u001b[0;32m     14\u001b[0m     item\u001b[38;5;241m.\u001b[39minsert(\u001b[38;5;241m0\u001b[39m, user_id)\n\u001b[0;32m     15\u001b[0m     \u001b[38;5;28mprint\u001b[39m(\u001b[38;5;124mf\u001b[39m\u001b[38;5;124m'\u001b[39m\u001b[38;5;132;01m{\u001b[39;00mi\u001b[38;5;132;01m}\u001b[39;00m\u001b[38;5;124m Success \u001b[39m\u001b[38;5;132;01m{\u001b[39;00mhandle\u001b[38;5;132;01m}\u001b[39;00m\u001b[38;5;124m, \u001b[39m\u001b[38;5;132;01m{\u001b[39;00muser_id\u001b[38;5;132;01m}\u001b[39;00m\u001b[38;5;124m'\u001b[39m)\n",
      "File \u001b[1;32m~\\AppData\\Local\\Packages\\PythonSoftwareFoundation.Python.3.11_qbz5n2kfra8p0\\LocalCache\\local-packages\\Python311\\site-packages\\twikit\\client.py:1166\u001b[0m, in \u001b[0;36mClient.get_user_by_screen_name\u001b[1;34m(self, screen_name)\u001b[0m\n\u001b[0;32m   1157\u001b[0m variables \u001b[38;5;241m=\u001b[39m {\n\u001b[0;32m   1158\u001b[0m     \u001b[38;5;124m'\u001b[39m\u001b[38;5;124mscreen_name\u001b[39m\u001b[38;5;124m'\u001b[39m: screen_name,\n\u001b[0;32m   1159\u001b[0m     \u001b[38;5;124m'\u001b[39m\u001b[38;5;124mwithSafetyModeUserFields\u001b[39m\u001b[38;5;124m'\u001b[39m: \u001b[38;5;28;01mFalse\u001b[39;00m\n\u001b[0;32m   1160\u001b[0m }\n\u001b[0;32m   1161\u001b[0m params \u001b[38;5;241m=\u001b[39m flatten_params({\n\u001b[0;32m   1162\u001b[0m     \u001b[38;5;124m'\u001b[39m\u001b[38;5;124mvariables\u001b[39m\u001b[38;5;124m'\u001b[39m: variables,\n\u001b[0;32m   1163\u001b[0m     \u001b[38;5;124m'\u001b[39m\u001b[38;5;124mfeatures\u001b[39m\u001b[38;5;124m'\u001b[39m: USER_FEATURES,\n\u001b[0;32m   1164\u001b[0m     \u001b[38;5;124m'\u001b[39m\u001b[38;5;124mfieldToggles\u001b[39m\u001b[38;5;124m'\u001b[39m: {\u001b[38;5;124m'\u001b[39m\u001b[38;5;124mwithAuxiliaryUserLabels\u001b[39m\u001b[38;5;124m'\u001b[39m: \u001b[38;5;28;01mFalse\u001b[39;00m}\n\u001b[0;32m   1165\u001b[0m })\n\u001b[1;32m-> 1166\u001b[0m response \u001b[38;5;241m=\u001b[39m \u001b[38;5;28;43mself\u001b[39;49m\u001b[38;5;241;43m.\u001b[39;49m\u001b[43mhttp\u001b[49m\u001b[38;5;241;43m.\u001b[39;49m\u001b[43mget\u001b[49m\u001b[43m(\u001b[49m\n\u001b[0;32m   1167\u001b[0m \u001b[43m    \u001b[49m\u001b[43mEndpoint\u001b[49m\u001b[38;5;241;43m.\u001b[39;49m\u001b[43mUSER_BY_SCREEN_NAME\u001b[49m\u001b[43m,\u001b[49m\n\u001b[0;32m   1168\u001b[0m \u001b[43m    \u001b[49m\u001b[43mparams\u001b[49m\u001b[38;5;241;43m=\u001b[39;49m\u001b[43mparams\u001b[49m\u001b[43m,\u001b[49m\n\u001b[0;32m   1169\u001b[0m \u001b[43m    \u001b[49m\u001b[43mheaders\u001b[49m\u001b[38;5;241;43m=\u001b[39;49m\u001b[38;5;28;43mself\u001b[39;49m\u001b[38;5;241;43m.\u001b[39;49m\u001b[43m_base_headers\u001b[49m\n\u001b[0;32m   1170\u001b[0m \u001b[43m\u001b[49m\u001b[43m)\u001b[49m\u001b[38;5;241m.\u001b[39mjson()\n\u001b[0;32m   1172\u001b[0m \u001b[38;5;28;01mif\u001b[39;00m \u001b[38;5;124m'\u001b[39m\u001b[38;5;124muser\u001b[39m\u001b[38;5;124m'\u001b[39m \u001b[38;5;129;01mnot\u001b[39;00m \u001b[38;5;129;01min\u001b[39;00m response[\u001b[38;5;124m'\u001b[39m\u001b[38;5;124mdata\u001b[39m\u001b[38;5;124m'\u001b[39m]:\n\u001b[0;32m   1173\u001b[0m     \u001b[38;5;28;01mraise\u001b[39;00m UserNotFound(\u001b[38;5;124m'\u001b[39m\u001b[38;5;124mThe user does not exist.\u001b[39m\u001b[38;5;124m'\u001b[39m)\n",
      "File \u001b[1;32m~\\AppData\\Local\\Packages\\PythonSoftwareFoundation.Python.3.11_qbz5n2kfra8p0\\LocalCache\\local-packages\\Python311\\site-packages\\twikit\\http.py:51\u001b[0m, in \u001b[0;36mHTTPClient.get\u001b[1;34m(self, url, **kwargs)\u001b[0m\n\u001b[0;32m     50\u001b[0m \u001b[38;5;28;01mdef\u001b[39;00m \u001b[38;5;21mget\u001b[39m(\u001b[38;5;28mself\u001b[39m, url, \u001b[38;5;241m*\u001b[39m\u001b[38;5;241m*\u001b[39mkwargs) \u001b[38;5;241m-\u001b[39m\u001b[38;5;241m>\u001b[39m httpx\u001b[38;5;241m.\u001b[39mResponse:\n\u001b[1;32m---> 51\u001b[0m     \u001b[38;5;28;01mreturn\u001b[39;00m \u001b[38;5;28;43mself\u001b[39;49m\u001b[38;5;241;43m.\u001b[39;49m\u001b[43mrequest\u001b[49m\u001b[43m(\u001b[49m\u001b[38;5;124;43m'\u001b[39;49m\u001b[38;5;124;43mGET\u001b[39;49m\u001b[38;5;124;43m'\u001b[39;49m\u001b[43m,\u001b[49m\u001b[43m \u001b[49m\u001b[43murl\u001b[49m\u001b[43m,\u001b[49m\u001b[43m \u001b[49m\u001b[38;5;241;43m*\u001b[39;49m\u001b[38;5;241;43m*\u001b[39;49m\u001b[43mkwargs\u001b[49m\u001b[43m)\u001b[49m\n",
      "File \u001b[1;32m~\\AppData\\Local\\Packages\\PythonSoftwareFoundation.Python.3.11_qbz5n2kfra8p0\\LocalCache\\local-packages\\Python311\\site-packages\\twikit\\http.py:42\u001b[0m, in \u001b[0;36mHTTPClient.request\u001b[1;34m(self, method, url, **kwargs)\u001b[0m\n\u001b[0;32m     40\u001b[0m     \u001b[38;5;28;01mraise\u001b[39;00m RequestTimeout(message, headers\u001b[38;5;241m=\u001b[39mresponse\u001b[38;5;241m.\u001b[39mheaders)\n\u001b[0;32m     41\u001b[0m \u001b[38;5;28;01melif\u001b[39;00m status_code \u001b[38;5;241m==\u001b[39m \u001b[38;5;241m429\u001b[39m:\n\u001b[1;32m---> 42\u001b[0m     \u001b[38;5;28;01mraise\u001b[39;00m TooManyRequests(message, headers\u001b[38;5;241m=\u001b[39mresponse\u001b[38;5;241m.\u001b[39mheaders)\n\u001b[0;32m     43\u001b[0m \u001b[38;5;28;01melif\u001b[39;00m \u001b[38;5;241m500\u001b[39m \u001b[38;5;241m<\u001b[39m\u001b[38;5;241m=\u001b[39m status_code \u001b[38;5;241m<\u001b[39m \u001b[38;5;241m600\u001b[39m:\n\u001b[0;32m     44\u001b[0m     \u001b[38;5;28;01mraise\u001b[39;00m ServerError(message, headers\u001b[38;5;241m=\u001b[39mresponse\u001b[38;5;241m.\u001b[39mheaders)\n",
      "\u001b[1;31mTooManyRequests\u001b[0m: status: 429, message: \"Rate limit exceeded\n\""
     ]
    }
   ],
   "source": [
    "i = 0\n",
    "final_list = []\n",
    "\n",
    "for list in mass_data_list:\n",
    "    new_data_list = get_user_id(list)\n",
    "    final_list += new_data_list\n",
    "    time.sleep(120) # cool down to avoid rate limits\n"
   ]
  },
  {
   "cell_type": "code",
   "execution_count": 18,
   "metadata": {},
   "outputs": [
    {
     "data": {
      "text/plain": [
       "<sqlite3.Cursor at 0x26a6a24b340>"
      ]
     },
     "execution_count": 18,
     "metadata": {},
     "output_type": "execute_result"
    }
   ],
   "source": [
    "import sqlite3\n",
    "conn = sqlite3.connect('tweets.db')\n",
    "c = conn.cursor()\n",
    "\n",
    "c.execute(\"\"\"CREATE TABLE politicians (\n",
    "          twitter_user_id INTEGER primary key,\n",
    "          politician_name STRING,\n",
    "          twitter_handle STRING\n",
    "          )\"\"\")"
   ]
  },
  {
   "cell_type": "code",
   "execution_count": 17,
   "metadata": {},
   "outputs": [
    {
     "data": {
      "text/plain": [
       "<sqlite3.Cursor at 0x26a697e39c0>"
      ]
     },
     "execution_count": 17,
     "metadata": {},
     "output_type": "execute_result"
    }
   ],
   "source": [
    "conn.execute('DROP TABLE politicians')"
   ]
  },
  {
   "cell_type": "code",
   "execution_count": null,
   "metadata": {},
   "outputs": [],
   "source": [
    "c.executemany(\"INSERT INTO tweets VALUES (?,?,?,?,?,?)\", final_list)\n",
    "conn.commit()"
   ]
  },
  {
   "cell_type": "code",
   "execution_count": 54,
   "metadata": {},
   "outputs": [
    {
     "ename": "OperationalError",
     "evalue": "table coordinates already exists",
     "output_type": "error",
     "traceback": [
      "\u001b[1;31m---------------------------------------------------------------------------\u001b[0m",
      "\u001b[1;31mOperationalError\u001b[0m                          Traceback (most recent call last)",
      "Cell \u001b[1;32mIn[54], line 5\u001b[0m\n\u001b[0;32m      2\u001b[0m conn \u001b[38;5;241m=\u001b[39m sqlite3\u001b[38;5;241m.\u001b[39mconnect(\u001b[38;5;124m'\u001b[39m\u001b[38;5;124mtweets.db\u001b[39m\u001b[38;5;124m'\u001b[39m)\n\u001b[0;32m      3\u001b[0m c \u001b[38;5;241m=\u001b[39m conn\u001b[38;5;241m.\u001b[39mcursor()\n\u001b[1;32m----> 5\u001b[0m \u001b[43mc\u001b[49m\u001b[38;5;241;43m.\u001b[39;49m\u001b[43mexecute\u001b[49m\u001b[43m(\u001b[49m\u001b[38;5;124;43m\"\"\"\u001b[39;49m\u001b[38;5;124;43mCREATE TABLE coordinates (\u001b[39;49m\n\u001b[0;32m      6\u001b[0m \u001b[38;5;124;43m          key INTEGER primary key,\u001b[39;49m\n\u001b[0;32m      7\u001b[0m \u001b[38;5;124;43m          twitter_user_id,\u001b[39;49m\n\u001b[0;32m      8\u001b[0m \u001b[38;5;124;43m          politician_name STRING,\u001b[39;49m\n\u001b[0;32m      9\u001b[0m \u001b[38;5;124;43m          twitter_handle STRING,\u001b[39;49m\n\u001b[0;32m     10\u001b[0m \u001b[38;5;124;43m          x_coordinate INTEGER,\u001b[39;49m\n\u001b[0;32m     11\u001b[0m \u001b[38;5;124;43m          y_coordinate INTEGER,\u001b[39;49m\n\u001b[0;32m     12\u001b[0m \u001b[38;5;124;43m          political_party STRING,\u001b[39;49m\n\u001b[0;32m     13\u001b[0m \u001b[38;5;124;43m          election_year INTEGER,\u001b[39;49m\n\u001b[0;32m     14\u001b[0m \u001b[38;5;124;43m          country STRING,\u001b[39;49m\n\u001b[0;32m     15\u001b[0m \u001b[38;5;124;43m          twitter_active_during_election BOOL\u001b[39;49m\n\u001b[0;32m     16\u001b[0m \u001b[38;5;124;43m          )\u001b[39;49m\u001b[38;5;124;43m\"\"\"\u001b[39;49m\u001b[43m)\u001b[49m\n",
      "\u001b[1;31mOperationalError\u001b[0m: table coordinates already exists"
     ]
    }
   ],
   "source": [
    "import sqlite3\n",
    "conn = sqlite3.connect('tweets.db')\n",
    "c = conn.cursor()\n",
    "\n",
    "c.execute(\"\"\"CREATE TABLE coordinates (\n",
    "          key INTEGER primary key,\n",
    "          twitter_user_id,\n",
    "          politician_name STRING,\n",
    "          twitter_handle STRING,\n",
    "          x_coordinate INTEGER,\n",
    "          y_coordinate INTEGER,\n",
    "          political_party STRING,\n",
    "          election_year INTEGER,\n",
    "          country STRING,\n",
    "          twitter_active_during_election BOOL\n",
    "          )\"\"\")"
   ]
  },
  {
   "cell_type": "code",
   "execution_count": 55,
   "metadata": {},
   "outputs": [
    {
     "ename": "OperationalError",
     "evalue": "database is locked",
     "output_type": "error",
     "traceback": [
      "\u001b[1;31m---------------------------------------------------------------------------\u001b[0m",
      "\u001b[1;31mOperationalError\u001b[0m                          Traceback (most recent call last)",
      "Cell \u001b[1;32mIn[55], line 1\u001b[0m\n\u001b[1;32m----> 1\u001b[0m \u001b[43mconn\u001b[49m\u001b[38;5;241;43m.\u001b[39;49m\u001b[43mexecute\u001b[49m\u001b[43m(\u001b[49m\u001b[38;5;124;43m'\u001b[39;49m\u001b[38;5;124;43mDROP TABLE coordinates\u001b[39;49m\u001b[38;5;124;43m'\u001b[39;49m\u001b[43m)\u001b[49m\n",
      "\u001b[1;31mOperationalError\u001b[0m: database is locked"
     ]
    }
   ],
   "source": [
    "conn.execute('DROP TABLE coordinates')"
   ]
  },
  {
   "cell_type": "code",
   "execution_count": 51,
   "metadata": {},
   "outputs": [
    {
     "name": "stdout",
     "output_type": "stream",
     "text": [
      "[[2008, nan, 'Duncan Hunter', nan, 7, 6, 'Republican', 2008, 'USA', False], [12008, nan, 'John Edwards', nan, 2, 1, 'Democratic', 2008, 'USA', False], [12012, nan, 'Stewart Alexander', nan, -5, -1, 'Socialist', 2012, 'USA', False], [22012, nan, 'Rockey Anderson', nan, 4, -2, 'Justice', 2012, 'USA', False], [22008, nan, 'Stephane Dion', nan, 2, 3, 'Liberal', 2008, 'CA', False], [32008, nan, 'Gilles Duceppe', nan, -1, -1, 'Bloc Quebecios', 2008, 'CA', False], [12013, nan, 'Angela Merkel', nan, 7, 6, 'CDU/SCU', 2013, 'DE', False], [22013, nan, 'Rainer Bruderle', nan, 8, -1, 'FDP', 2013, 'DE', False], [12010, nan, 'Tony Crook', nan, 5, 6, 'WA Nationals', 2010, 'AUS', False], [12011, nan, 'Tariana Turia', nan, -1, 0, 'Maori Party', 2011, 'NZ', False], [12017, nan, 'Marama Fox', nan, -1, 0, 'Maori Party', 2017, 'NZ', False]]\n"
     ]
    }
   ],
   "source": [
    "data = pd.read_csv(\"non-twitter politicians.csv\")\n",
    "df = pd.DataFrame(data)\n",
    "\n",
    "# turn pandas into list\n",
    "# there is probably a better way to do this but this works \n",
    "data_list = []\n",
    "for index, row in df.iterrows():\n",
    "\n",
    "    row_list = df.loc[index, :].values.flatten().tolist()\n",
    "    data_list.append(row_list)\n",
    "    \n",
    "print(data_list)"
   ]
  },
  {
   "cell_type": "code",
   "execution_count": 53,
   "metadata": {},
   "outputs": [
    {
     "ename": "IntegrityError",
     "evalue": "datatype mismatch",
     "output_type": "error",
     "traceback": [
      "\u001b[1;31m---------------------------------------------------------------------------\u001b[0m",
      "\u001b[1;31mIntegrityError\u001b[0m                            Traceback (most recent call last)",
      "Cell \u001b[1;32mIn[53], line 1\u001b[0m\n\u001b[1;32m----> 1\u001b[0m \u001b[43mc\u001b[49m\u001b[38;5;241;43m.\u001b[39;49m\u001b[43mexecutemany\u001b[49m\u001b[43m(\u001b[49m\u001b[38;5;124;43m\"\u001b[39;49m\u001b[38;5;124;43mINSERT INTO coordinates VALUES (?,?,?,?,?,?,?,?,?,?)\u001b[39;49m\u001b[38;5;124;43m\"\u001b[39;49m\u001b[43m,\u001b[49m\u001b[43m \u001b[49m\u001b[43mdata_list\u001b[49m\u001b[43m)\u001b[49m\n\u001b[0;32m      2\u001b[0m conn\u001b[38;5;241m.\u001b[39mcommit()\n",
      "\u001b[1;31mIntegrityError\u001b[0m: datatype mismatch"
     ]
    }
   ],
   "source": [
    "c.executemany(\"INSERT INTO coordinates VALUES (?,?,?,?,?,?,?,?,?,?)\", data_list)\n",
    "conn.commit()"
   ]
  }
 ],
 "metadata": {
  "kernelspec": {
   "display_name": "Python 3",
   "language": "python",
   "name": "python3"
  },
  "language_info": {
   "codemirror_mode": {
    "name": "ipython",
    "version": 3
   },
   "file_extension": ".py",
   "mimetype": "text/x-python",
   "name": "python",
   "nbconvert_exporter": "python",
   "pygments_lexer": "ipython3",
   "version": "3.11.9"
  }
 },
 "nbformat": 4,
 "nbformat_minor": 2
}

{
 "cells": [
  {
   "cell_type": "code",
   "execution_count": null,
   "metadata": {},
   "outputs": [],
   "source": [
    "from twikit import Client\n",
    "from twikit import BadRequest\n",
    "from math import ceil\n",
    "import pandas as pd\n",
    "import numpy as np\n",
    "import time\n",
    "import json\n",
    "import sqlite3\n",
    "\n",
    "# this API requires authentication\n",
    "f = open('authentication.txt', 'r')\n",
    "auth = f.read()\n",
    "f.close()\n",
    "auth_token = auth.split(\"\\n\")\n",
    "\n",
    "# don't hardcode your email and password into something!!!\n",
    "# the auth is in gitignore so I won't get hacked\n",
    "username = str(auth_token[0])\n",
    "email = str(auth_token[1])\n",
    "password = str(auth_token[2])\n",
    "\n",
    "# Initialize client\n",
    "client = Client(language='en-US', http2=True)"
   ]
  },
  {
   "cell_type": "code",
   "execution_count": null,
   "metadata": {},
   "outputs": [],
   "source": [
    "def authentication(username, email, password):\n",
    "    try:\n",
    "        # Login to the service with provided user credentials\n",
    "        client.login(\n",
    "            auth_info_1=username ,\n",
    "            auth_info_2=email,\n",
    "            password=password)\n",
    "\n",
    "        print(\"Login successful!\")\n",
    "        return True\n",
    "\n",
    "    except BadRequest:\n",
    "        print(\"Login unsuccessful. One or more login parameters is incorrect.\")\n",
    "        return False"
   ]
  },
  {
   "cell_type": "code",
   "execution_count": null,
   "metadata": {},
   "outputs": [],
   "source": [
    "authentication(username, email, password)"
   ]
  },
  {
   "cell_type": "code",
   "execution_count": null,
   "metadata": {},
   "outputs": [],
   "source": [
    "# Twitter LOVES to ban people when they log in repeatedly\n",
    "# saving the cookies makes sure I don't get banned (often)\n",
    "\n",
    "client.get_cookies()\n",
    "client.save_cookies('IGNOREcookies.json')\n",
    "with open('IGNOREcookies.json', 'r', encoding='UTF8') as f:\n",
    "    client.set_cookies(json.load(f))"
   ]
  },
  {
   "cell_type": "code",
   "execution_count": null,
   "metadata": {},
   "outputs": [],
   "source": [
    "from twikit import UserUnavailable\n",
    "from twikit import UserNotFound\n",
    "\n",
    "def get_user_id(handle):\n",
    "    # load the cookies so you don't login a million times and get banned\n",
    "    client.load_cookies('IGNOREcookies.json')\n",
    "    \n",
    "    # pull IDs and insert them back into the list\n",
    "    try:\n",
    "        user_id = client.get_user_by_screen_name(handle)\n",
    "        print(f'Success {handle}, {user_id}')\n",
    "\n",
    "    # if user is inaccessible these will keep the loop from breaking\n",
    "    except UserUnavailable:\n",
    "        print(f\"User {handle} unavailable\")\n",
    "    except UserNotFound:\n",
    "        print(f'User {handle} not found')\n",
    "    \n",
    "    # this endpoint has a rate limit of 95 hits per 15 minutes\n",
    "    # 15 min = 900 seconds\n",
    "    # 900//95 = 9.473\n",
    "    # round it up to 10 just to be sure\n",
    "    # allows the program to run automatically\n",
    "    time.sleep(10)\n",
    "\n",
    "    return(user_id)"
   ]
  },
  {
   "cell_type": "code",
   "execution_count": null,
   "metadata": {},
   "outputs": [],
   "source": [
    "def create_key(user_id, year):\n",
    "    return(int(str(user_id) + str(year)))"
   ]
  },
  {
   "cell_type": "code",
   "execution_count": null,
   "metadata": {},
   "outputs": [],
   "source": [
    "from math import ceil\n",
    "import requests\n",
    "from twikit import TooManyRequests\n",
    "from twikit.utils import Endpoint\n",
    "\n",
    "# this is a housekeeping function\n",
    "# twitter API can throw rate limits\n",
    "# they're kind of like timeouts\n",
    "# this function just shows me how much longer I will be in timeout for\n",
    "\n",
    "def get_limit_reset_time(endpoint: str):\n",
    "    res = requests.get(\n",
    "        endpoint,\n",
    "        headers=client._base_headers,\n",
    "        cookies=client.get_cookies()\n",
    "    )\n",
    "    return ceil(int(res.headers['x-rate-limit-reset']) - time.time())"
   ]
  },
  {
   "cell_type": "code",
   "execution_count": null,
   "metadata": {},
   "outputs": [],
   "source": [
    "# timeout check for accessing user IDs\n",
    "def get_rate_limit_user_by_screen_name():\n",
    "    try:\n",
    "        print(client.get_user_by_screen_name('BarackObama'))\n",
    "    except TooManyRequests:\n",
    "        \n",
    "        reset_time = get_limit_reset_time(Endpoint.USER_TWEETS)\n",
    "        print(f'rate limit is reset after {reset_time} seconds.')"
   ]
  },
  {
   "cell_type": "code",
   "execution_count": null,
   "metadata": {},
   "outputs": [],
   "source": [
    "# we need the data in list format to process it\n",
    "def flatten_csv(csv, index_column=False):\n",
    "    data = pd.read_csv(csv, keep_default_na=False, index_col=index_column)\n",
    "    df = pd.DataFrame(data)\n",
    "\n",
    "    # turn pandas into list\n",
    "    # there is probably a better way to do this but this works \n",
    "    data_list = []\n",
    "    for index, row in df.iterrows():\n",
    "\n",
    "        row_list = df.loc[index, :].values.flatten().tolist()\n",
    "        data_list.append(row_list)\n",
    "    \n",
    "    return data_list"
   ]
  },
  {
   "cell_type": "code",
   "execution_count": null,
   "metadata": {},
   "outputs": [],
   "source": [
    "def get_user_ids(user_list, handle_index):\n",
    "    user_id_list = []\n",
    "\n",
    "    for item in user_list:\n",
    "        user_id = get_user_id(item[handle_index])\n",
    "\n",
    "        # insert the ID into the list\n",
    "        item[0] = user_id.id\n",
    "        user_id_list.append(item)\n",
    "        print(item)\n",
    "    return user_id_list"
   ]
  },
  {
   "cell_type": "code",
   "execution_count": null,
   "metadata": {},
   "outputs": [],
   "source": [
    "data_list = flatten_csv('data\\politicians.csv', index_column=0)\n",
    "user_id_list = []\n",
    "\n",
    "get_user_ids(data_list, -1)"
   ]
  },
  {
   "cell_type": "code",
   "execution_count": null,
   "metadata": {},
   "outputs": [],
   "source": [
    "# read in coordinates data\n",
    "data = flatten_csv('data\\coordinates.csv', index_column=0)"
   ]
  },
  {
   "cell_type": "code",
   "execution_count": null,
   "metadata": {},
   "outputs": [],
   "source": [
    "def get_twitter_creation_year(user):\n",
    "    client.load_cookies('IGNOREcookies.json')\n",
    "    created = int(str(user.created_at_datetime)[0:4])\n",
    "    return created"
   ]
  },
  {
   "cell_type": "code",
   "execution_count": null,
   "metadata": {},
   "outputs": [],
   "source": [
    "def process_coordinates(data_list, handle_index, name_index, year_index):\n",
    "\n",
    "    for item in data_list:\n",
    "\n",
    "        handle = item[handle_index]\n",
    "        user = get_user_id(handle)\n",
    "        created = get_twitter_creation_year(user)\n",
    "        year = item[year_index]\n",
    "        \n",
    "        # if the twitter account was created before or during the election year\n",
    "        # then it's True since we can pull tweets\n",
    "        if created <= int(year):\n",
    "            item[-1] = True\n",
    "        \n",
    "        # otherwise we can't pull tweets for this election for this politician\n",
    "        else:\n",
    "            item[-1] = False\n",
    "        \n",
    "        print(f\"{item[name_index]} processed\")\n",
    "    \n",
    "    return data_list"
   ]
  },
  {
   "cell_type": "code",
   "execution_count": null,
   "metadata": {},
   "outputs": [],
   "source": [
    "def ingest_data_table_coordinates(data_list):\n",
    "    # set numpy INT and BOOL to adapt to SQL acceptable data forms\n",
    "    sqlite3.register_adapter(np.int64, int)\n",
    "    sqlite3.register_adapter(np.bool_, str)\n",
    "\n",
    "    # set up SQL connection and cursor\n",
    "    conn = sqlite3.connect('tweets.db')\n",
    "    c = conn.cursor()\n",
    "    c.executemany(\"INSERT INTO coordinates VALUES (?,?,?,?,?,?,?,?,?,?)\", data_list)\n",
    "    conn.commit()"
   ]
  }
 ],
 "metadata": {
  "kernelspec": {
   "display_name": "Python 3",
   "language": "python",
   "name": "python3"
  },
  "language_info": {
   "codemirror_mode": {
    "name": "ipython",
    "version": 3
   },
   "file_extension": ".py",
   "mimetype": "text/x-python",
   "name": "python",
   "nbconvert_exporter": "python",
   "pygments_lexer": "ipython3",
   "version": "3.11.9"
  }
 },
 "nbformat": 4,
 "nbformat_minor": 2
}

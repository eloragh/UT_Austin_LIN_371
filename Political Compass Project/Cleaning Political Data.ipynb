{
 "cells": [
  {
   "cell_type": "code",
   "execution_count": null,
   "metadata": {},
   "outputs": [],
   "source": [
    "from twikit import Client\n",
    "import time\n",
    "import json\n",
    "from twikit import TwitterException \n",
    "import pandas as pd\n",
    "import sqlite3\n",
    "\n",
    "# this API requires authentication\n",
    "f = open('authentication.txt', 'r')\n",
    "auth = f.read()\n",
    "f.close()\n",
    "auth_token = auth.split(\"\\n\")\n",
    "\n",
    "# don't hardcode your email and password into something!!!\n",
    "# the auth is in gitignore so I won't get hacked\n",
    "USERNAME = str(auth_token[0])\n",
    "EMAIL = str(auth_token[1])\n",
    "PASSWORD = str(auth_token[2])\n",
    "\n",
    "# Initialize client\n",
    "client = Client(language='en-US', http2=True)\n",
    "\n",
    "# Login to the service with provided user credentials\n",
    "client.login(\n",
    "    auth_info_1=USERNAME ,\n",
    "    auth_info_2=EMAIL,\n",
    "    password=PASSWORD\n",
    ")"
   ]
  },
  {
   "cell_type": "code",
   "execution_count": null,
   "metadata": {},
   "outputs": [],
   "source": [
    "# Twitter LOVES to ban people when they log in repeatedly\n",
    "# saving the cookies makes sure I don't get banned (often)\n",
    "\n",
    "client.get_cookies()\n",
    "client.save_cookies('cookies.json')\n",
    "with open('cookies.json', 'r', encoding='UTF8') as f:\n",
    "    client.set_cookies(json.load(f))"
   ]
  },
  {
   "cell_type": "code",
   "execution_count": null,
   "metadata": {},
   "outputs": [],
   "source": [
    "from twikit import UserUnavailable\n",
    "from twikit import UserNotFound\n",
    "\n",
    "def get_user_id(num, handle):\n",
    "    # load the cookies so you don't login a million times and get banned\n",
    "    client.load_cookies('cookies.json')\n",
    "    \n",
    "    # pull IDs and insert them back into the list\n",
    "    try:\n",
    "        user_id = client.get_user_by_screen_name(handle).id\n",
    "        print(f'{num} Success {handle}, {user_id}')\n",
    "\n",
    "    # if user is inaccessible these will keep the loop from breaking\n",
    "    except UserUnavailable:\n",
    "        print(f\"{num} User {handle} unavailable\")\n",
    "    except UserNotFound:\n",
    "        print(f'{num} User {handle} not found')\n",
    "\n",
    "    return(user_id)"
   ]
  },
  {
   "cell_type": "code",
   "execution_count": null,
   "metadata": {},
   "outputs": [],
   "source": [
    "def create_key(user_id, year):\n",
    "    # load the cookies so you don't login a million times and get banned\n",
    "    return(int(str(user_id) + str(year)))"
   ]
  },
  {
   "cell_type": "code",
   "execution_count": null,
   "metadata": {},
   "outputs": [],
   "source": [
    "from math import ceil\n",
    "import requests\n",
    "from twikit import TooManyRequests\n",
    "from twikit.utils import Endpoint\n",
    "\n",
    "# this is a housekeeping function\n",
    "# twitter API can throw rate limits\n",
    "# they're kind of like timeouts\n",
    "# this function just shows me how much longer I will be in timeout for\n",
    "\n",
    "def get_limit_reset_time(endpoint: str):\n",
    "    res = requests.get(\n",
    "        endpoint,\n",
    "        headers=client._base_headers,\n",
    "        cookies=client.get_cookies()\n",
    "    )\n",
    "    return ceil(int(res.headers['x-rate-limit-reset']) - time.time())"
   ]
  },
  {
   "cell_type": "code",
   "execution_count": null,
   "metadata": {},
   "outputs": [],
   "source": [
    "# timeout check for accessing user IDs\n",
    "try:\n",
    "    print(client.get_user_by_screen_name('BarackObama'))\n",
    "except TooManyRequests:\n",
    "    \n",
    "    reset_time = get_limit_reset_time(Endpoint.USER_TWEETS)\n",
    "    print(f'rate limit is reset after {reset_time} seconds.')"
   ]
  },
  {
   "cell_type": "code",
   "execution_count": null,
   "metadata": {},
   "outputs": [],
   "source": [
    "data = pd.read_csv(\"data/twitter politicians.csv\", keep_default_na=False)\n",
    "df = pd.DataFrame(data)\n",
    "\n",
    "# turn pandas into list\n",
    "# there is probably a better way to do this but this works \n",
    "data_list = []\n",
    "for index, row in df.iterrows():\n",
    "\n",
    "    row_list = df.loc[index, :].values.flatten().tolist()\n",
    "    data_list.append(row_list)\n",
    "    \n",
    "batch1 = [item for item in data_list[0:77]]\n",
    "batch2 = [item for item in data_list[77:]]\n",
    "\n",
    "mass_list = [batch1, batch2]"
   ]
  },
  {
   "cell_type": "code",
   "execution_count": null,
   "metadata": {},
   "outputs": [],
   "source": [
    "i = 1\n",
    "final_list = []\n",
    "\n",
    "for lst in mass_list:\n",
    "    # tracking which batch we are on\n",
    "    print(i)\n",
    "    j = 1\n",
    "    for item in lst:\n",
    "        user_id = get_user_id(j, item[2])\n",
    "        item[0] = user_id\n",
    "        final_list.append(item)\n",
    "        time.sleep(1)\n",
    "        j += 1\n",
    "\n",
    "    if i == 1:\n",
    "        time.sleep(900) # cooldown to avoid rate limits\n",
    "\n",
    "    i += 1\n",
    "    print(\"\") "
   ]
  },
  {
   "cell_type": "code",
   "execution_count": null,
   "metadata": {},
   "outputs": [],
   "source": [
    "# read in coordinates data\n",
    "data = pd.read_csv(\"data/coordinates.csv\", keep_default_na=False)\n",
    "df = pd.DataFrame(data)\n",
    "data_list = []\n",
    "\n",
    "# flatten it so SQL can ingest it\n",
    "for index, row in df.iterrows():\n",
    "\n",
    "    row_list = df.loc[index, :].values.flatten().tolist()\n",
    "    row_list[1] = str(row_list[1])\n",
    "    data_list.append(row_list[1:])"
   ]
  },
  {
   "cell_type": "code",
   "execution_count": null,
   "metadata": {},
   "outputs": [],
   "source": [
    "# this ticker tracks the hits\n",
    "i = 1\n",
    "\n",
    "# this ticker tracks the batches\n",
    "# we can really only hit this endpoint about 90 times per every 15 minutes\n",
    "# this just tracks if we need to take a 15 min break or not\n",
    "j = 1\n",
    "\n",
    "for item in data_list:\n",
    "    client.load_cookies('cookies.json')\n",
    "    handle = item[3]\n",
    "    user = client.get_user_by_screen_name(handle)\n",
    "    created = int(str(user.created_at_datetime)[0:4])\n",
    "    year = int(item[7])\n",
    "    \n",
    "    # if the twitter account was created before or during the election year\n",
    "    # then it's True since we can pull tweets\n",
    "    if created <= year:\n",
    "        item[-1] = True\n",
    "    \n",
    "    # otherwise we can't pull tweets for this election for this politician\n",
    "    else:\n",
    "        item[-1] = False\n",
    "    \n",
    "    print(f\"Batch {j}, item {i} : {item}\")\n",
    "\n",
    "    # cooldowns because of rate limits\n",
    "    if i == 90 and j < 3:\n",
    "        time.sleep(900)\n",
    "        i = 1\n",
    "        j += 1\n",
    "    else:\n",
    "        time.sleep(1)\n",
    "        i += 1\n",
    "\n",
    "# there is probably a better way to do this\n",
    "# but it works...so I'm not gonna fix it"
   ]
  },
  {
   "cell_type": "code",
   "execution_count": null,
   "metadata": {},
   "outputs": [],
   "source": [
    "import numpy as np\n",
    "\n",
    "# set numpy INT and BOOL to adapt to SQL acceptable data forms\n",
    "sqlite3.register_adapter(np.int64, int)\n",
    "sqlite3.register_adapter(np.bool_, str)\n",
    "\n",
    "# set up SQL connection and cursor\n",
    "conn = sqlite3.connect('tweets.db')\n",
    "c = conn.cursor()"
   ]
  },
  {
   "cell_type": "code",
   "execution_count": null,
   "metadata": {},
   "outputs": [],
   "source": [
    "# create table\n",
    "c.execute(\"\"\"CREATE TABLE coordinates (\n",
    "          key STRING,\n",
    "          twitter_user_id STRING,\n",
    "          politician_name STRING,\n",
    "          twitter_handle STRING,\n",
    "          x_coordinate INTEGER,\n",
    "          y_coordinate INTEGER,\n",
    "          political_party STRING,\n",
    "          election_year INTEGER,\n",
    "          country STRING,\n",
    "          twitter_active_during_election STRING\n",
    "          )\"\"\")"
   ]
  },
  {
   "cell_type": "code",
   "execution_count": null,
   "metadata": {},
   "outputs": [],
   "source": [
    "# ingest the data FINALLY\n",
    "\n",
    "c.executemany(\"INSERT INTO coordinates VALUES (?,?,?,?,?,?,?,?,?,?)\", data_list)\n",
    "conn.commit()"
   ]
  }
 ],
 "metadata": {
  "kernelspec": {
   "display_name": "Python 3",
   "language": "python",
   "name": "python3"
  },
  "language_info": {
   "codemirror_mode": {
    "name": "ipython",
    "version": 3
   },
   "file_extension": ".py",
   "mimetype": "text/x-python",
   "name": "python",
   "nbconvert_exporter": "python",
   "pygments_lexer": "ipython3",
   "version": "3.11.9"
  }
 },
 "nbformat": 4,
 "nbformat_minor": 2
}

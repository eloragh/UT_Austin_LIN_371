{
 "cells": [
  {
   "cell_type": "code",
   "execution_count": 1,
   "metadata": {},
   "outputs": [
    {
     "name": "stderr",
     "output_type": "stream",
     "text": [
      "C:\\Users\\eaesp\\AppData\\Local\\Temp\\ipykernel_17824\\2204781778.py:5: DeprecationWarning: \n",
      "Pyarrow will become a required dependency of pandas in the next major release of pandas (pandas 3.0),\n",
      "(to allow more performant data types, such as the Arrow string type, and better interoperability with other libraries)\n",
      "but was not found to be installed on your system.\n",
      "If this would cause problems for you,\n",
      "please provide us feedback at https://github.com/pandas-dev/pandas/issues/54466\n",
      "        \n",
      "  import pandas as pd\n"
     ]
    },
    {
     "data": {
      "text/plain": [
       "{'flow_token': 'g;171367316029157670:-1713673160348:v7o7wSpXEVV05latvxcFRvvH:14',\n",
       " 'status': 'success',\n",
       " 'subtasks': [{'subtask_id': 'LoginSuccessSubtask',\n",
       "   'open_account': {'user': {'id': 1547081484695216130,\n",
       "     'id_str': '1547081484695216130',\n",
       "     'name': 'Eloragh Espie',\n",
       "     'screen_name': 'EloraghEspie'},\n",
       "    'next_link': {'link_type': 'subtask',\n",
       "     'link_id': 'next_link',\n",
       "     'subtask_id': 'SuccessExit'},\n",
       "    'attribution_event': 'login'}},\n",
       "  {'subtask_id': 'SuccessExit',\n",
       "   'open_link': {'link': {'link_type': 'subtask',\n",
       "     'link_id': 'next_link',\n",
       "     'subtask_id': 'LoginOpenHomeTimeline'}}},\n",
       "  {'subtask_id': 'LoginOpenHomeTimeline',\n",
       "   'open_home_timeline': {'next_link': {'link_type': 'abort',\n",
       "     'link_id': 'next_link'}}}]}"
      ]
     },
     "execution_count": 1,
     "metadata": {},
     "output_type": "execute_result"
    }
   ],
   "source": [
    "from twikit import Client\n",
    "import time\n",
    "import json\n",
    "from twikit import TwitterException \n",
    "import pandas as pd\n",
    "\n",
    "# this API requires authentication\n",
    "f = open('authentication.txt', 'r')\n",
    "auth = f.read()\n",
    "f.close()\n",
    "auth_token = auth.split(\"\\n\")\n",
    "\n",
    "# don't hardcode your email and password into something!!!\n",
    "# the auth is in gitignore so I won't get hacked\n",
    "USERNAME = str(auth_token[0])\n",
    "EMAIL = str(auth_token[1])\n",
    "PASSWORD = str(auth_token[2])\n",
    "\n",
    "# Initialize client\n",
    "client = Client(language='en-US', http2=True)\n",
    "\n",
    "# Login to the service with provided user credentials\n",
    "client.login(\n",
    "    auth_info_1=USERNAME ,\n",
    "    auth_info_2=EMAIL,\n",
    "    password=PASSWORD\n",
    ")"
   ]
  },
  {
   "cell_type": "code",
   "execution_count": 2,
   "metadata": {},
   "outputs": [],
   "source": [
    "# Twitter LOVES to ban people when they log in repeatedly\n",
    "# saving the cookies makes sure I don't get banned (often)\n",
    "\n",
    "client.get_cookies()\n",
    "client.save_cookies('cookies.json')\n",
    "with open('cookies.json', 'r', encoding='UTF8') as f:\n",
    "    client.set_cookies(json.load(f))"
   ]
  },
  {
   "cell_type": "code",
   "execution_count": 3,
   "metadata": {},
   "outputs": [],
   "source": [
    "from twikit import UserUnavailable\n",
    "from twikit import UserNotFound\n",
    "\n",
    "def get_user_id(data_list):\n",
    "    # load the cookies so you don't login a million times and get banned\n",
    "    client.load_cookies('cookies.json')\n",
    "    \n",
    "    i = 0\n",
    "    # pull IDs and insert them back into the list\n",
    "    for item in data_list:\n",
    "        handle = item[2]\n",
    "        try:\n",
    "            user_id = client.get_user_by_screen_name(handle).id\n",
    "            item.insert(0, user_id)\n",
    "            print(f'{i} Success {handle}, {user_id}')\n",
    "\n",
    "        # if user is inaccessible these will keep the loop from breaking\n",
    "        except UserUnavailable:\n",
    "            print(f\"{i }User {handle} unavailable\")\n",
    "        except UserNotFound:\n",
    "            print(f'{i} User {handle} not found')\n",
    "\n",
    "        i += 1\n",
    "        time.sleep(5) # cooldown to avoid rate limits\n",
    "\n",
    "    return(data_list)"
   ]
  },
  {
   "cell_type": "code",
   "execution_count": 4,
   "metadata": {},
   "outputs": [],
   "source": [
    "def create_key(user_id, year):\n",
    "    # load the cookies so you don't login a million times and get banned\n",
    "    client.load_cookies('cookies.json')\n",
    "    return(user_id + year)"
   ]
  },
  {
   "cell_type": "code",
   "execution_count": 5,
   "metadata": {},
   "outputs": [],
   "source": [
    "import time\n",
    "from math import ceil\n",
    "import requests\n",
    "from twikit import TooManyRequests\n",
    "from twikit.utils import Endpoint\n",
    "\n",
    "# this is a housekeeping function\n",
    "# twitter API can throw rate limits\n",
    "# they're kind of like timeouts\n",
    "# this function just shows me how much longer I will be in timeout for\n",
    "\n",
    "def get_limit_reset_time(endpoint: str):\n",
    "    res = requests.get(\n",
    "        endpoint,\n",
    "        headers=client._base_headers,\n",
    "        cookies=client.get_cookies()\n",
    "    )\n",
    "    return ceil(int(res.headers['x-rate-limit-reset']) - time.time())"
   ]
  },
  {
   "cell_type": "code",
   "execution_count": 6,
   "metadata": {},
   "outputs": [
    {
     "name": "stdout",
     "output_type": "stream",
     "text": [
      "<User id=\"813286\">\n"
     ]
    }
   ],
   "source": [
    "# timeout check for accessing user IDs\n",
    "try:\n",
    "    print(client.get_user_by_screen_name('BarackObama'))\n",
    "except TooManyRequests:\n",
    "    \n",
    "    reset_time = get_limit_reset_time(Endpoint.USER_TWEETS)\n",
    "    print(f'rate limit is reset after {reset_time} seconds.')"
   ]
  },
  {
   "cell_type": "code",
   "execution_count": 27,
   "metadata": {},
   "outputs": [],
   "source": [
    "data = pd.read_csv(\"Politicians.csv\")\n",
    "df = pd.DataFrame(data)"
   ]
  },
  {
   "cell_type": "code",
   "execution_count": 28,
   "metadata": {},
   "outputs": [
    {
     "name": "stdout",
     "output_type": "stream",
     "text": [
      "[[nan, 'Barack Obama', 'BarackObama'], [nan, 'Joe Biden', 'JoeBiden'], [nan, 'Dennis Kucinich', 'Dennis_Kucinich'], [nan, 'Bill Richardson', 'GovRichardson'], [nan, 'Mike Huckabee', 'GovMikeHuckabee'], [nan, 'Hillary Clinton', 'HillaryClinton'], [nan, 'Ron Paul', 'RonPaul'], [nan, 'John McCain', 'SenJohnMcCain'], [nan, 'Newt Gingrich', 'newtgingrich'], [nan, 'Mike Gravel', 'MikeGravel_US'], [nan, 'Alan Keyes', 'loyaltoliberty'], [nan, 'Mitt Romney', 'MittRomney'], [nan, 'Fred Thompson', 'fredthompson'], [nan, 'Chris Dodd', 'SenChrisDodd'], [nan, 'Rudy Guiliani', 'RudyGiuliani'], [nan, 'Ralph Nader', 'RalphNader'], [nan, 'Tom Tancredo', 'ttancredo'], [nan, 'Jill Stein', 'DrJillStein'], [nan, 'Virgil Goode', 'VirgilGoode'], [nan, 'Gary Johnson', 'GovGaryJohnson'], [nan, 'Rick Santorum', 'RickSantorum'], [nan, 'Hllary Clinton', 'HillaryClinton'], [nan, 'Bernie Sanders', 'SenSanders'], [nan, 'Donald Trump', 'realDonaldTrump'], [nan, 'Jeb Bush', 'JebBush'], [nan, 'Ted Cruz', 'TedCruz'], [nan, 'Marco Rubio', 'MarcoRubio'], [nan, 'John Kasich', 'JohnKasich'], [nan, 'Bob Corker', 'SenBobCorker'], [nan, 'Mike Pence', 'Mike_Pence'], [nan, 'Larry Hogan', 'GovLarryHogan'], [nan, \"Robert O'Rourke\", 'BetoORourke'], [nan, 'Amy Klobuchar', 'SenAmyKlobuchar'], [nan, 'Michael Bennet', 'SenatorBennet'], [nan, 'Steve Bollock', 'GovernorBullock'], [nan, 'Seth Moulton', 'sethmoulton'], [nan, 'Mike Bloomberg', 'MikeBloomberg'], [nan, 'Julian Castro', 'SecretaryCastro'], [nan, 'Kirsten Gillibrand', 'SenGillibrand'], [nan, 'Kamala Harris', 'KamalaHarris'], [nan, 'John Delaney', 'JohnDelaney'], [nan, 'John Hickenlooper', 'SenatorHick'], [nan, 'Cory Booker', 'SenBooker'], [nan, 'Bill Weld', 'GovBillWeld'], [nan, 'Pete Buttigieg', 'PeteButtigieg'], [nan, 'Elizabeth Warren', 'SenWarren'], [nan, 'Joe Sestak', 'JoeSestak'], [nan, 'Jay Inslee', 'GovInslee'], [nan, 'Andrew Yang', 'AndrewYang'], [nan, 'Jo Jorgensen', 'JoForLiberty'], [nan, 'Marianne Williamson', 'marwilliamson'], [nan, 'Tom Steyer', 'TomSteyer'], [nan, 'Tulsi Gabbard', 'TulsiGabbard'], [nan, 'Howie Hawkins', 'HowieHawkins'], [nan, 'Stephen Harper', 'StephenHarper'], [nan, 'Elizabeth May', 'ElizabethMay'], [nan, 'Jack Layton', 'jacklayton'], [nan, 'Michael Ignatieff', 'M_Ignatieff'], [nan, 'Justin Trudeau', 'JustinTrudeau'], [nan, 'Tom Mulcair', 'ThomasMuclair'], [nan, 'Andrew Scheer', 'AndrewScheer'], [nan, 'Jagemeet Singh', 'theJagmeetSingh'], [nan, 'Yves-Francois Blanchet', 'yfblanchet'], [nan, 'Maxime Bernier', 'MaximeBernier'], [nan, \"Erin O'Toole\", 'erinotoole'], [nan, 'Annamie Paul', 'AnnamiePaul'], [nan, 'David Cameron', 'David_Cameron'], [nan, 'Gordon Brown', 'GordonBrown'], [nan, 'Nick Clegg', 'Nick Clegg'], [nan, 'Ed Miliband', 'Ed_Miliband'], [nan, 'Nicola Sturgeon', 'NicolaSturgeon'], [nan, 'Theresa May', 'theresa_may'], [nan, 'Jeremy Corbyn', 'jeremycorbyn'], [nan, 'Tim Farron', 'timfarron'], [nan, 'Arlene Foster', 'ArleneFosterUK'], [nan, 'Boris Johnson', 'BorisJohnson'], [nan, 'Jo Swinson', 'joswinson'], [nan, 'Douglass Ross', 'Douglas4Moray'], [nan, 'Anas Sarwar', 'AnasSarwar'], [nan, 'Lorna Slater', 'lornaslater'], [nan, 'Patrick Harvie', 'patrickharvie'], [nan, 'Willie Rennie', 'willie_rennie'], [nan, 'Michael Martin', 'MichealMartinTD'], [nan, 'Mary Lou McDonald', 'MaryLouMcDonald'], [nan, 'Leo Varadkar', 'LeoVaradkar'], [nan, 'Eamon Ryan', 'EamonRyan'], [nan, 'Brendan Howlin', 'BrendanHowlin'], [nan, 'Catherine Murphy', 'CathMurphyTD'], [nan, 'Roisin Shortall', 'RoisinShortall'], [nan, 'Peer Steinbruck', 'peersteinbrueck'], [nan, 'Gregor Gysi', 'GregorGysi'], [nan, 'Jurgen Trittin', 'JTrittin'], [nan, 'Katrin Goring-Eckardt', 'GoeringEckardt'], [nan, 'Martin Schulz', 'MartinSchulz'], [nan, 'Alexander Gauland', 'AG_AfD'], [nan, 'Alice Weidel', 'Alice_Weidel'], [nan, 'Christian Lindner', 'c_lindner'], [nan, 'Dietmar Bartsch', 'DietmarBartsch'], [nan, 'Sahra Wagenknecht', 'SWagenknecht'], [nan, 'Cem Ozdemir ', 'cem_oezdemir'], [nan, 'Olaf Scholz', 'OlafScholz'], [nan, 'Armin Laschet', 'ArminLaschet'], [nan, 'Annalena Baerbock', 'ABaerbock'], [nan, 'Christian Linder', 'c_lindner'], [nan, 'Tino Chrupalla', 'Tino_Chrupalla'], [nan, 'Janine Wissler', 'Janine_Wissler'], [nan, 'Emmanuel Macron', 'EmmanuelMacron'], [nan, 'Marie Le Pen', 'MLP_officiel'], [nan, 'Jean-Luc Melenchon', 'JLMelenchon'], [nan, 'Benoit Hamon', 'benoithamon'], [nan, 'Francois Fillon', 'FrancoisFillon'], [nan, 'Anne Hildago', 'Anne_Hidalgo'], [nan, 'Eric Zemmour', 'ZemmourEric'], [nan, 'Valerie Pecresse', 'vpecresse'], [nan, 'Yannick Jadot', 'yjadot'], [nan, 'Fabien Roussel', 'Fabien_Roussel'], [nan, 'Julia Gillard', 'JuliaGillard'], [nan, 'Tony Abbot', 'HonTonyAbbott'], [nan, 'Bob Brown', 'DrBobBrown'], [nan, 'Kevin Rudd', 'MrKRudd'], [nan, 'Chrstine Milne', 'ChristineMilne'], [nan, 'Bob Katter', 'RealBobKatter'], [nan, 'Malcolm Turnbull', 'TurnbullMalcolm'], [nan, 'Bill Shorten', 'billshortenmp'], [nan, 'Richard Di Natale', 'RichardDiNatale'], [nan, 'Scott Morrison', 'ScoMo30'], [nan, 'Rebekha Sharkie', 'MakeMayoMatter'], [nan, 'Anthony Albanese', 'AlboMP'], [nan, 'Adam Bandt', 'AdamBandt'], [nan, 'Jair Bolsanaro', 'jairbolsonaro'], [nan, 'Lula da Silva', 'LulaOficial'], [nan, 'John Key', 'RtHon_JohnKey'], [nan, 'Phil Goff', 'phil_goff'], [nan, 'Russel Norman', 'RusselNorman'], [nan, 'Metiria Turei', 'MetiriaTureiMP'], [nan, 'Pita Sharples', 'papapita'], [nan, 'Hone Harawire', 'MPHoneHarawira'], [nan, 'Don Brash', 'DonBrashNZ'], [nan, 'Peter Dunne', 'honpeterdunne'], [nan, 'David Cunliffe', 'davidcunliffe'], [nan, 'Winston Peters', 'winstonpeters'], [nan, 'Te Ururoa Flavell', 'TeUruroaFlavell'], [nan, 'Jamie Whyte', '_JamieWhyte'], [nan, 'Laila Harre', 'lailaharre'], [nan, 'Bill English', 'RtHonBEnglish'], [nan, 'Jacinda Ardern', 'jacindaardern'], [nan, 'James Shaw', 'jamespeshaw'], [nan, 'David Seymour', 'dbseymour'], [nan, 'Judith Collins', 'JudithCollinsMP'], [nan, 'Marama Davidson', 'MaramaDavidson'], [nan, 'John Tamihere', 'john_tamihere'], [nan, 'Debbie Ngarewa-Packer', 'whaeadeb'], [nan, 'Christopher Luxon', 'chrisluxonmp'], [nan, 'Chris Hipkins', 'chrishipkins']]\n"
     ]
    }
   ],
   "source": [
    "# turn pandas into list\n",
    "# there is probably a better way to do this but this works \n",
    "data_list = []\n",
    "for index, row in df.iterrows():\n",
    "\n",
    "    row_list = df.loc[index, :].values.flatten().tolist()\n",
    "    data_list.append(row_list)\n",
    "    \n",
    "print(data_list)"
   ]
  },
  {
   "cell_type": "code",
   "execution_count": 29,
   "metadata": {},
   "outputs": [],
   "source": [
    "batch1 = [item for item in data_list[0:50]]\n",
    "batch2 = [item for item in data_list[50:100]]\n",
    "batch3 = [item for item in data_list[100:150]]\n",
    "batch4 = [item for item in data_list[150:]]\n",
    "\n",
    "mass_data_list = [batch1, batch2, batch3, batch4]"
   ]
  },
  {
   "cell_type": "code",
   "execution_count": 30,
   "metadata": {},
   "outputs": [
    {
     "name": "stdout",
     "output_type": "stream",
     "text": [
      "[[nan, 'Barack Obama', 'BarackObama'], [nan, 'Joe Biden', 'JoeBiden'], [nan, 'Dennis Kucinich', 'Dennis_Kucinich'], [nan, 'Bill Richardson', 'GovRichardson'], [nan, 'Mike Huckabee', 'GovMikeHuckabee'], [nan, 'Hillary Clinton', 'HillaryClinton'], [nan, 'Ron Paul', 'RonPaul'], [nan, 'John McCain', 'SenJohnMcCain'], [nan, 'Newt Gingrich', 'newtgingrich'], [nan, 'Mike Gravel', 'MikeGravel_US'], [nan, 'Alan Keyes', 'loyaltoliberty'], [nan, 'Mitt Romney', 'MittRomney'], [nan, 'Fred Thompson', 'fredthompson'], [nan, 'Chris Dodd', 'SenChrisDodd'], [nan, 'Rudy Guiliani', 'RudyGiuliani'], [nan, 'Ralph Nader', 'RalphNader'], [nan, 'Tom Tancredo', 'ttancredo'], [nan, 'Jill Stein', 'DrJillStein'], [nan, 'Virgil Goode', 'VirgilGoode'], [nan, 'Gary Johnson', 'GovGaryJohnson'], [nan, 'Rick Santorum', 'RickSantorum'], [nan, 'Hllary Clinton', 'HillaryClinton'], [nan, 'Bernie Sanders', 'SenSanders'], [nan, 'Donald Trump', 'realDonaldTrump'], [nan, 'Jeb Bush', 'JebBush'], [nan, 'Ted Cruz', 'TedCruz'], [nan, 'Marco Rubio', 'MarcoRubio'], [nan, 'John Kasich', 'JohnKasich'], [nan, 'Bob Corker', 'SenBobCorker'], [nan, 'Mike Pence', 'Mike_Pence'], [nan, 'Larry Hogan', 'GovLarryHogan'], [nan, \"Robert O'Rourke\", 'BetoORourke'], [nan, 'Amy Klobuchar', 'SenAmyKlobuchar'], [nan, 'Michael Bennet', 'SenatorBennet'], [nan, 'Steve Bollock', 'GovernorBullock'], [nan, 'Seth Moulton', 'sethmoulton'], [nan, 'Mike Bloomberg', 'MikeBloomberg'], [nan, 'Julian Castro', 'SecretaryCastro'], [nan, 'Kirsten Gillibrand', 'SenGillibrand'], [nan, 'Kamala Harris', 'KamalaHarris'], [nan, 'John Delaney', 'JohnDelaney'], [nan, 'John Hickenlooper', 'SenatorHick'], [nan, 'Cory Booker', 'SenBooker'], [nan, 'Bill Weld', 'GovBillWeld'], [nan, 'Pete Buttigieg', 'PeteButtigieg'], [nan, 'Elizabeth Warren', 'SenWarren'], [nan, 'Joe Sestak', 'JoeSestak'], [nan, 'Jay Inslee', 'GovInslee'], [nan, 'Andrew Yang', 'AndrewYang'], [nan, 'Jo Jorgensen', 'JoForLiberty']]\n",
      "[[nan, 'Marianne Williamson', 'marwilliamson'], [nan, 'Tom Steyer', 'TomSteyer'], [nan, 'Tulsi Gabbard', 'TulsiGabbard'], [nan, 'Howie Hawkins', 'HowieHawkins'], [nan, 'Stephen Harper', 'StephenHarper'], [nan, 'Elizabeth May', 'ElizabethMay'], [nan, 'Jack Layton', 'jacklayton'], [nan, 'Michael Ignatieff', 'M_Ignatieff'], [nan, 'Justin Trudeau', 'JustinTrudeau'], [nan, 'Tom Mulcair', 'ThomasMuclair'], [nan, 'Andrew Scheer', 'AndrewScheer'], [nan, 'Jagemeet Singh', 'theJagmeetSingh'], [nan, 'Yves-Francois Blanchet', 'yfblanchet'], [nan, 'Maxime Bernier', 'MaximeBernier'], [nan, \"Erin O'Toole\", 'erinotoole'], [nan, 'Annamie Paul', 'AnnamiePaul'], [nan, 'David Cameron', 'David_Cameron'], [nan, 'Gordon Brown', 'GordonBrown'], [nan, 'Nick Clegg', 'Nick Clegg'], [nan, 'Ed Miliband', 'Ed_Miliband'], [nan, 'Nicola Sturgeon', 'NicolaSturgeon'], [nan, 'Theresa May', 'theresa_may'], [nan, 'Jeremy Corbyn', 'jeremycorbyn'], [nan, 'Tim Farron', 'timfarron'], [nan, 'Arlene Foster', 'ArleneFosterUK'], [nan, 'Boris Johnson', 'BorisJohnson'], [nan, 'Jo Swinson', 'joswinson'], [nan, 'Douglass Ross', 'Douglas4Moray'], [nan, 'Anas Sarwar', 'AnasSarwar'], [nan, 'Lorna Slater', 'lornaslater'], [nan, 'Patrick Harvie', 'patrickharvie'], [nan, 'Willie Rennie', 'willie_rennie'], [nan, 'Michael Martin', 'MichealMartinTD'], [nan, 'Mary Lou McDonald', 'MaryLouMcDonald'], [nan, 'Leo Varadkar', 'LeoVaradkar'], [nan, 'Eamon Ryan', 'EamonRyan'], [nan, 'Brendan Howlin', 'BrendanHowlin'], [nan, 'Catherine Murphy', 'CathMurphyTD'], [nan, 'Roisin Shortall', 'RoisinShortall'], [nan, 'Peer Steinbruck', 'peersteinbrueck'], [nan, 'Gregor Gysi', 'GregorGysi'], [nan, 'Jurgen Trittin', 'JTrittin'], [nan, 'Katrin Goring-Eckardt', 'GoeringEckardt'], [nan, 'Martin Schulz', 'MartinSchulz'], [nan, 'Alexander Gauland', 'AG_AfD'], [nan, 'Alice Weidel', 'Alice_Weidel'], [nan, 'Christian Lindner', 'c_lindner'], [nan, 'Dietmar Bartsch', 'DietmarBartsch'], [nan, 'Sahra Wagenknecht', 'SWagenknecht'], [nan, 'Cem Ozdemir ', 'cem_oezdemir']]\n",
      "[[nan, 'Olaf Scholz', 'OlafScholz'], [nan, 'Armin Laschet', 'ArminLaschet'], [nan, 'Annalena Baerbock', 'ABaerbock'], [nan, 'Christian Linder', 'c_lindner'], [nan, 'Tino Chrupalla', 'Tino_Chrupalla'], [nan, 'Janine Wissler', 'Janine_Wissler'], [nan, 'Emmanuel Macron', 'EmmanuelMacron'], [nan, 'Marie Le Pen', 'MLP_officiel'], [nan, 'Jean-Luc Melenchon', 'JLMelenchon'], [nan, 'Benoit Hamon', 'benoithamon'], [nan, 'Francois Fillon', 'FrancoisFillon'], [nan, 'Anne Hildago', 'Anne_Hidalgo'], [nan, 'Eric Zemmour', 'ZemmourEric'], [nan, 'Valerie Pecresse', 'vpecresse'], [nan, 'Yannick Jadot', 'yjadot'], [nan, 'Fabien Roussel', 'Fabien_Roussel'], [nan, 'Julia Gillard', 'JuliaGillard'], [nan, 'Tony Abbot', 'HonTonyAbbott'], [nan, 'Bob Brown', 'DrBobBrown'], [nan, 'Kevin Rudd', 'MrKRudd'], [nan, 'Chrstine Milne', 'ChristineMilne'], [nan, 'Bob Katter', 'RealBobKatter'], [nan, 'Malcolm Turnbull', 'TurnbullMalcolm'], [nan, 'Bill Shorten', 'billshortenmp'], [nan, 'Richard Di Natale', 'RichardDiNatale'], [nan, 'Scott Morrison', 'ScoMo30'], [nan, 'Rebekha Sharkie', 'MakeMayoMatter'], [nan, 'Anthony Albanese', 'AlboMP'], [nan, 'Adam Bandt', 'AdamBandt'], [nan, 'Jair Bolsanaro', 'jairbolsonaro'], [nan, 'Lula da Silva', 'LulaOficial'], [nan, 'John Key', 'RtHon_JohnKey'], [nan, 'Phil Goff', 'phil_goff'], [nan, 'Russel Norman', 'RusselNorman'], [nan, 'Metiria Turei', 'MetiriaTureiMP'], [nan, 'Pita Sharples', 'papapita'], [nan, 'Hone Harawire', 'MPHoneHarawira'], [nan, 'Don Brash', 'DonBrashNZ'], [nan, 'Peter Dunne', 'honpeterdunne'], [nan, 'David Cunliffe', 'davidcunliffe'], [nan, 'Winston Peters', 'winstonpeters'], [nan, 'Te Ururoa Flavell', 'TeUruroaFlavell'], [nan, 'Jamie Whyte', '_JamieWhyte'], [nan, 'Laila Harre', 'lailaharre'], [nan, 'Bill English', 'RtHonBEnglish'], [nan, 'Jacinda Ardern', 'jacindaardern'], [nan, 'James Shaw', 'jamespeshaw'], [nan, 'David Seymour', 'dbseymour'], [nan, 'Judith Collins', 'JudithCollinsMP'], [nan, 'Marama Davidson', 'MaramaDavidson']]\n",
      "[[nan, 'John Tamihere', 'john_tamihere'], [nan, 'Debbie Ngarewa-Packer', 'whaeadeb'], [nan, 'Christopher Luxon', 'chrisluxonmp'], [nan, 'Chris Hipkins', 'chrishipkins']]\n"
     ]
    }
   ],
   "source": [
    "for item in mass_data_list:\n",
    "    print(item)"
   ]
  },
  {
   "cell_type": "code",
   "execution_count": 26,
   "metadata": {},
   "outputs": [
    {
     "name": "stdout",
     "output_type": "stream",
     "text": [
      "0 Success BarackObama, 813286\n",
      "1 Success JoeBiden, 939091\n",
      "2 Success Dennis_Kucinich, 15022633\n",
      "3 Success GovRichardson, 31428685\n",
      "4 Success GovMikeHuckabee, 15416505\n",
      "5 Success HillaryClinton, 1339835893\n",
      "6 Success RonPaul, 287413569\n",
      "7 Success SenJohnMcCain, 19394188\n",
      "8 Success newtgingrich, 20713061\n",
      "9 Success MikeGravel_US, 752638969095999489\n",
      "10 Success loyaltoliberty, 19637821\n",
      "11 Success MittRomney, 50055701\n",
      "12 Success fredthompson, 2704951\n",
      "13 Success SenChrisDodd, 16317406\n",
      "14 Success RudyGiuliani, 770781940341288960\n",
      "15 Success RalphNader, 77314692\n",
      "16 Success ttancredo, 64534908\n",
      "17 Success DrJillStein, 111216929\n",
      "18 Success VirgilGoode, 605641396\n",
      "19 Success GovGaryJohnson, 95713333\n",
      "20 Success RickSantorum, 58379000\n",
      "21 Success HillaryClinton, 1339835893\n",
      "22 Success SenSanders, 29442313\n",
      "23 Success realDonaldTrump, 25073877\n",
      "24 Success JebBush, 113047940\n",
      "25 Success TedCruz, 23022687\n",
      "26 Success MarcoRubio, 15745368\n",
      "27 Success JohnKasich, 18020081\n",
      "28 Success SenBobCorker, 73303753\n",
      "29 Success Mike_Pence, 22203756\n",
      "30 Success GovLarryHogan, 2987671552\n",
      "31 Success BetoORourke, 342863309\n",
      "32 Success SenAmyKlobuchar, 22044727\n",
      "33 Success SenatorBennet, 224285242\n",
      "34 Success GovernorBullock, 111721601\n",
      "35 Success sethmoulton, 248495200\n",
      "36 Success MikeBloomberg, 16581604\n",
      "37 Success SecretaryCastro, 2695663285\n",
      "38 Success SenGillibrand, 72198806\n",
      "39 Success KamalaHarris, 30354991\n",
      "40 Success JohnDelaney, 426028646\n",
      "41 User SenHicken not found\n",
      "42 Success SenBooker, 2167097881\n",
      "43 Success GovBillWeld, 734783792502575105\n"
     ]
    },
    {
     "ename": "KeyboardInterrupt",
     "evalue": "",
     "output_type": "error",
     "traceback": [
      "\u001b[1;31m---------------------------------------------------------------------------\u001b[0m",
      "\u001b[1;31mKeyboardInterrupt\u001b[0m                         Traceback (most recent call last)",
      "Cell \u001b[1;32mIn[26], line 5\u001b[0m\n\u001b[0;32m      2\u001b[0m final_list \u001b[38;5;241m=\u001b[39m []\n\u001b[0;32m      4\u001b[0m \u001b[38;5;28;01mfor\u001b[39;00m \u001b[38;5;28mlist\u001b[39m \u001b[38;5;129;01min\u001b[39;00m mass_data_list:\n\u001b[1;32m----> 5\u001b[0m     new_data_list \u001b[38;5;241m=\u001b[39m \u001b[43mget_user_id\u001b[49m\u001b[43m(\u001b[49m\u001b[38;5;28;43mlist\u001b[39;49m\u001b[43m)\u001b[49m\n\u001b[0;32m      6\u001b[0m     final_list \u001b[38;5;241m+\u001b[39m\u001b[38;5;241m=\u001b[39m new_data_list\n\u001b[0;32m      7\u001b[0m     time\u001b[38;5;241m.\u001b[39msleep(\u001b[38;5;241m120\u001b[39m) \u001b[38;5;66;03m# cool down to avoid rate limits\u001b[39;00m\n",
      "Cell \u001b[1;32mIn[3], line 13\u001b[0m, in \u001b[0;36mget_user_id\u001b[1;34m(data_list)\u001b[0m\n\u001b[0;32m     11\u001b[0m handle \u001b[38;5;241m=\u001b[39m item[\u001b[38;5;241m2\u001b[39m]\n\u001b[0;32m     12\u001b[0m \u001b[38;5;28;01mtry\u001b[39;00m:\n\u001b[1;32m---> 13\u001b[0m     user_id \u001b[38;5;241m=\u001b[39m \u001b[43mclient\u001b[49m\u001b[38;5;241;43m.\u001b[39;49m\u001b[43mget_user_by_screen_name\u001b[49m\u001b[43m(\u001b[49m\u001b[43mhandle\u001b[49m\u001b[43m)\u001b[49m\u001b[38;5;241m.\u001b[39mid\n\u001b[0;32m     14\u001b[0m     item\u001b[38;5;241m.\u001b[39minsert(\u001b[38;5;241m0\u001b[39m, user_id)\n\u001b[0;32m     15\u001b[0m     \u001b[38;5;28mprint\u001b[39m(\u001b[38;5;124mf\u001b[39m\u001b[38;5;124m'\u001b[39m\u001b[38;5;132;01m{\u001b[39;00mi\u001b[38;5;132;01m}\u001b[39;00m\u001b[38;5;124m Success \u001b[39m\u001b[38;5;132;01m{\u001b[39;00mhandle\u001b[38;5;132;01m}\u001b[39;00m\u001b[38;5;124m, \u001b[39m\u001b[38;5;132;01m{\u001b[39;00muser_id\u001b[38;5;132;01m}\u001b[39;00m\u001b[38;5;124m'\u001b[39m)\n",
      "File \u001b[1;32m~\\AppData\\Local\\Packages\\PythonSoftwareFoundation.Python.3.11_qbz5n2kfra8p0\\LocalCache\\local-packages\\Python311\\site-packages\\twikit\\client.py:1166\u001b[0m, in \u001b[0;36mClient.get_user_by_screen_name\u001b[1;34m(self, screen_name)\u001b[0m\n\u001b[0;32m   1157\u001b[0m variables \u001b[38;5;241m=\u001b[39m {\n\u001b[0;32m   1158\u001b[0m     \u001b[38;5;124m'\u001b[39m\u001b[38;5;124mscreen_name\u001b[39m\u001b[38;5;124m'\u001b[39m: screen_name,\n\u001b[0;32m   1159\u001b[0m     \u001b[38;5;124m'\u001b[39m\u001b[38;5;124mwithSafetyModeUserFields\u001b[39m\u001b[38;5;124m'\u001b[39m: \u001b[38;5;28;01mFalse\u001b[39;00m\n\u001b[0;32m   1160\u001b[0m }\n\u001b[0;32m   1161\u001b[0m params \u001b[38;5;241m=\u001b[39m flatten_params({\n\u001b[0;32m   1162\u001b[0m     \u001b[38;5;124m'\u001b[39m\u001b[38;5;124mvariables\u001b[39m\u001b[38;5;124m'\u001b[39m: variables,\n\u001b[0;32m   1163\u001b[0m     \u001b[38;5;124m'\u001b[39m\u001b[38;5;124mfeatures\u001b[39m\u001b[38;5;124m'\u001b[39m: USER_FEATURES,\n\u001b[0;32m   1164\u001b[0m     \u001b[38;5;124m'\u001b[39m\u001b[38;5;124mfieldToggles\u001b[39m\u001b[38;5;124m'\u001b[39m: {\u001b[38;5;124m'\u001b[39m\u001b[38;5;124mwithAuxiliaryUserLabels\u001b[39m\u001b[38;5;124m'\u001b[39m: \u001b[38;5;28;01mFalse\u001b[39;00m}\n\u001b[0;32m   1165\u001b[0m })\n\u001b[1;32m-> 1166\u001b[0m response \u001b[38;5;241m=\u001b[39m \u001b[38;5;28;43mself\u001b[39;49m\u001b[38;5;241;43m.\u001b[39;49m\u001b[43mhttp\u001b[49m\u001b[38;5;241;43m.\u001b[39;49m\u001b[43mget\u001b[49m\u001b[43m(\u001b[49m\n\u001b[0;32m   1167\u001b[0m \u001b[43m    \u001b[49m\u001b[43mEndpoint\u001b[49m\u001b[38;5;241;43m.\u001b[39;49m\u001b[43mUSER_BY_SCREEN_NAME\u001b[49m\u001b[43m,\u001b[49m\n\u001b[0;32m   1168\u001b[0m \u001b[43m    \u001b[49m\u001b[43mparams\u001b[49m\u001b[38;5;241;43m=\u001b[39;49m\u001b[43mparams\u001b[49m\u001b[43m,\u001b[49m\n\u001b[0;32m   1169\u001b[0m \u001b[43m    \u001b[49m\u001b[43mheaders\u001b[49m\u001b[38;5;241;43m=\u001b[39;49m\u001b[38;5;28;43mself\u001b[39;49m\u001b[38;5;241;43m.\u001b[39;49m\u001b[43m_base_headers\u001b[49m\n\u001b[0;32m   1170\u001b[0m \u001b[43m\u001b[49m\u001b[43m)\u001b[49m\u001b[38;5;241m.\u001b[39mjson()\n\u001b[0;32m   1172\u001b[0m \u001b[38;5;28;01mif\u001b[39;00m \u001b[38;5;124m'\u001b[39m\u001b[38;5;124muser\u001b[39m\u001b[38;5;124m'\u001b[39m \u001b[38;5;129;01mnot\u001b[39;00m \u001b[38;5;129;01min\u001b[39;00m response[\u001b[38;5;124m'\u001b[39m\u001b[38;5;124mdata\u001b[39m\u001b[38;5;124m'\u001b[39m]:\n\u001b[0;32m   1173\u001b[0m     \u001b[38;5;28;01mraise\u001b[39;00m UserNotFound(\u001b[38;5;124m'\u001b[39m\u001b[38;5;124mThe user does not exist.\u001b[39m\u001b[38;5;124m'\u001b[39m)\n",
      "File \u001b[1;32m~\\AppData\\Local\\Packages\\PythonSoftwareFoundation.Python.3.11_qbz5n2kfra8p0\\LocalCache\\local-packages\\Python311\\site-packages\\twikit\\http.py:51\u001b[0m, in \u001b[0;36mHTTPClient.get\u001b[1;34m(self, url, **kwargs)\u001b[0m\n\u001b[0;32m     50\u001b[0m \u001b[38;5;28;01mdef\u001b[39;00m \u001b[38;5;21mget\u001b[39m(\u001b[38;5;28mself\u001b[39m, url, \u001b[38;5;241m*\u001b[39m\u001b[38;5;241m*\u001b[39mkwargs) \u001b[38;5;241m-\u001b[39m\u001b[38;5;241m>\u001b[39m httpx\u001b[38;5;241m.\u001b[39mResponse:\n\u001b[1;32m---> 51\u001b[0m     \u001b[38;5;28;01mreturn\u001b[39;00m \u001b[38;5;28;43mself\u001b[39;49m\u001b[38;5;241;43m.\u001b[39;49m\u001b[43mrequest\u001b[49m\u001b[43m(\u001b[49m\u001b[38;5;124;43m'\u001b[39;49m\u001b[38;5;124;43mGET\u001b[39;49m\u001b[38;5;124;43m'\u001b[39;49m\u001b[43m,\u001b[49m\u001b[43m \u001b[49m\u001b[43murl\u001b[49m\u001b[43m,\u001b[49m\u001b[43m \u001b[49m\u001b[38;5;241;43m*\u001b[39;49m\u001b[38;5;241;43m*\u001b[39;49m\u001b[43mkwargs\u001b[49m\u001b[43m)\u001b[49m\n",
      "File \u001b[1;32m~\\AppData\\Local\\Packages\\PythonSoftwareFoundation.Python.3.11_qbz5n2kfra8p0\\LocalCache\\local-packages\\Python311\\site-packages\\twikit\\http.py:25\u001b[0m, in \u001b[0;36mHTTPClient.request\u001b[1;34m(self, method, url, **kwargs)\u001b[0m\n\u001b[0;32m     19\u001b[0m \u001b[38;5;28;01mdef\u001b[39;00m \u001b[38;5;21mrequest\u001b[39m(\n\u001b[0;32m     20\u001b[0m     \u001b[38;5;28mself\u001b[39m,\n\u001b[0;32m     21\u001b[0m     method: \u001b[38;5;28mstr\u001b[39m,\n\u001b[0;32m     22\u001b[0m     url: \u001b[38;5;28mstr\u001b[39m,\n\u001b[0;32m     23\u001b[0m     \u001b[38;5;241m*\u001b[39m\u001b[38;5;241m*\u001b[39mkwargs\n\u001b[0;32m     24\u001b[0m ) \u001b[38;5;241m-\u001b[39m\u001b[38;5;241m>\u001b[39m httpx\u001b[38;5;241m.\u001b[39mResponse:\n\u001b[1;32m---> 25\u001b[0m     response \u001b[38;5;241m=\u001b[39m \u001b[38;5;28;43mself\u001b[39;49m\u001b[38;5;241;43m.\u001b[39;49m\u001b[43mclient\u001b[49m\u001b[38;5;241;43m.\u001b[39;49m\u001b[43mrequest\u001b[49m\u001b[43m(\u001b[49m\u001b[43mmethod\u001b[49m\u001b[43m,\u001b[49m\u001b[43m \u001b[49m\u001b[43murl\u001b[49m\u001b[43m,\u001b[49m\u001b[43m \u001b[49m\u001b[38;5;241;43m*\u001b[39;49m\u001b[38;5;241;43m*\u001b[39;49m\u001b[43mkwargs\u001b[49m\u001b[43m)\u001b[49m\n\u001b[0;32m     26\u001b[0m     status_code \u001b[38;5;241m=\u001b[39m response\u001b[38;5;241m.\u001b[39mstatus_code\n\u001b[0;32m     27\u001b[0m     \u001b[38;5;28mself\u001b[39m\u001b[38;5;241m.\u001b[39m_remove_duplicate_ct0_cookie()\n",
      "File \u001b[1;32m~\\AppData\\Local\\Packages\\PythonSoftwareFoundation.Python.3.11_qbz5n2kfra8p0\\LocalCache\\local-packages\\Python311\\site-packages\\httpx\\_client.py:827\u001b[0m, in \u001b[0;36mClient.request\u001b[1;34m(self, method, url, content, data, files, json, params, headers, cookies, auth, follow_redirects, timeout, extensions)\u001b[0m\n\u001b[0;32m    812\u001b[0m     warnings\u001b[38;5;241m.\u001b[39mwarn(message, \u001b[38;5;167;01mDeprecationWarning\u001b[39;00m)\n\u001b[0;32m    814\u001b[0m request \u001b[38;5;241m=\u001b[39m \u001b[38;5;28mself\u001b[39m\u001b[38;5;241m.\u001b[39mbuild_request(\n\u001b[0;32m    815\u001b[0m     method\u001b[38;5;241m=\u001b[39mmethod,\n\u001b[0;32m    816\u001b[0m     url\u001b[38;5;241m=\u001b[39murl,\n\u001b[1;32m   (...)\u001b[0m\n\u001b[0;32m    825\u001b[0m     extensions\u001b[38;5;241m=\u001b[39mextensions,\n\u001b[0;32m    826\u001b[0m )\n\u001b[1;32m--> 827\u001b[0m \u001b[38;5;28;01mreturn\u001b[39;00m \u001b[38;5;28;43mself\u001b[39;49m\u001b[38;5;241;43m.\u001b[39;49m\u001b[43msend\u001b[49m\u001b[43m(\u001b[49m\u001b[43mrequest\u001b[49m\u001b[43m,\u001b[49m\u001b[43m \u001b[49m\u001b[43mauth\u001b[49m\u001b[38;5;241;43m=\u001b[39;49m\u001b[43mauth\u001b[49m\u001b[43m,\u001b[49m\u001b[43m \u001b[49m\u001b[43mfollow_redirects\u001b[49m\u001b[38;5;241;43m=\u001b[39;49m\u001b[43mfollow_redirects\u001b[49m\u001b[43m)\u001b[49m\n",
      "File \u001b[1;32m~\\AppData\\Local\\Packages\\PythonSoftwareFoundation.Python.3.11_qbz5n2kfra8p0\\LocalCache\\local-packages\\Python311\\site-packages\\httpx\\_client.py:914\u001b[0m, in \u001b[0;36mClient.send\u001b[1;34m(self, request, stream, auth, follow_redirects)\u001b[0m\n\u001b[0;32m    906\u001b[0m follow_redirects \u001b[38;5;241m=\u001b[39m (\n\u001b[0;32m    907\u001b[0m     \u001b[38;5;28mself\u001b[39m\u001b[38;5;241m.\u001b[39mfollow_redirects\n\u001b[0;32m    908\u001b[0m     \u001b[38;5;28;01mif\u001b[39;00m \u001b[38;5;28misinstance\u001b[39m(follow_redirects, UseClientDefault)\n\u001b[0;32m    909\u001b[0m     \u001b[38;5;28;01melse\u001b[39;00m follow_redirects\n\u001b[0;32m    910\u001b[0m )\n\u001b[0;32m    912\u001b[0m auth \u001b[38;5;241m=\u001b[39m \u001b[38;5;28mself\u001b[39m\u001b[38;5;241m.\u001b[39m_build_request_auth(request, auth)\n\u001b[1;32m--> 914\u001b[0m response \u001b[38;5;241m=\u001b[39m \u001b[38;5;28;43mself\u001b[39;49m\u001b[38;5;241;43m.\u001b[39;49m\u001b[43m_send_handling_auth\u001b[49m\u001b[43m(\u001b[49m\n\u001b[0;32m    915\u001b[0m \u001b[43m    \u001b[49m\u001b[43mrequest\u001b[49m\u001b[43m,\u001b[49m\n\u001b[0;32m    916\u001b[0m \u001b[43m    \u001b[49m\u001b[43mauth\u001b[49m\u001b[38;5;241;43m=\u001b[39;49m\u001b[43mauth\u001b[49m\u001b[43m,\u001b[49m\n\u001b[0;32m    917\u001b[0m \u001b[43m    \u001b[49m\u001b[43mfollow_redirects\u001b[49m\u001b[38;5;241;43m=\u001b[39;49m\u001b[43mfollow_redirects\u001b[49m\u001b[43m,\u001b[49m\n\u001b[0;32m    918\u001b[0m \u001b[43m    \u001b[49m\u001b[43mhistory\u001b[49m\u001b[38;5;241;43m=\u001b[39;49m\u001b[43m[\u001b[49m\u001b[43m]\u001b[49m\u001b[43m,\u001b[49m\n\u001b[0;32m    919\u001b[0m \u001b[43m\u001b[49m\u001b[43m)\u001b[49m\n\u001b[0;32m    920\u001b[0m \u001b[38;5;28;01mtry\u001b[39;00m:\n\u001b[0;32m    921\u001b[0m     \u001b[38;5;28;01mif\u001b[39;00m \u001b[38;5;129;01mnot\u001b[39;00m stream:\n",
      "File \u001b[1;32m~\\AppData\\Local\\Packages\\PythonSoftwareFoundation.Python.3.11_qbz5n2kfra8p0\\LocalCache\\local-packages\\Python311\\site-packages\\httpx\\_client.py:942\u001b[0m, in \u001b[0;36mClient._send_handling_auth\u001b[1;34m(self, request, auth, follow_redirects, history)\u001b[0m\n\u001b[0;32m    939\u001b[0m request \u001b[38;5;241m=\u001b[39m \u001b[38;5;28mnext\u001b[39m(auth_flow)\n\u001b[0;32m    941\u001b[0m \u001b[38;5;28;01mwhile\u001b[39;00m \u001b[38;5;28;01mTrue\u001b[39;00m:\n\u001b[1;32m--> 942\u001b[0m     response \u001b[38;5;241m=\u001b[39m \u001b[38;5;28;43mself\u001b[39;49m\u001b[38;5;241;43m.\u001b[39;49m\u001b[43m_send_handling_redirects\u001b[49m\u001b[43m(\u001b[49m\n\u001b[0;32m    943\u001b[0m \u001b[43m        \u001b[49m\u001b[43mrequest\u001b[49m\u001b[43m,\u001b[49m\n\u001b[0;32m    944\u001b[0m \u001b[43m        \u001b[49m\u001b[43mfollow_redirects\u001b[49m\u001b[38;5;241;43m=\u001b[39;49m\u001b[43mfollow_redirects\u001b[49m\u001b[43m,\u001b[49m\n\u001b[0;32m    945\u001b[0m \u001b[43m        \u001b[49m\u001b[43mhistory\u001b[49m\u001b[38;5;241;43m=\u001b[39;49m\u001b[43mhistory\u001b[49m\u001b[43m,\u001b[49m\n\u001b[0;32m    946\u001b[0m \u001b[43m    \u001b[49m\u001b[43m)\u001b[49m\n\u001b[0;32m    947\u001b[0m     \u001b[38;5;28;01mtry\u001b[39;00m:\n\u001b[0;32m    948\u001b[0m         \u001b[38;5;28;01mtry\u001b[39;00m:\n",
      "File \u001b[1;32m~\\AppData\\Local\\Packages\\PythonSoftwareFoundation.Python.3.11_qbz5n2kfra8p0\\LocalCache\\local-packages\\Python311\\site-packages\\httpx\\_client.py:979\u001b[0m, in \u001b[0;36mClient._send_handling_redirects\u001b[1;34m(self, request, follow_redirects, history)\u001b[0m\n\u001b[0;32m    976\u001b[0m \u001b[38;5;28;01mfor\u001b[39;00m hook \u001b[38;5;129;01min\u001b[39;00m \u001b[38;5;28mself\u001b[39m\u001b[38;5;241m.\u001b[39m_event_hooks[\u001b[38;5;124m\"\u001b[39m\u001b[38;5;124mrequest\u001b[39m\u001b[38;5;124m\"\u001b[39m]:\n\u001b[0;32m    977\u001b[0m     hook(request)\n\u001b[1;32m--> 979\u001b[0m response \u001b[38;5;241m=\u001b[39m \u001b[38;5;28;43mself\u001b[39;49m\u001b[38;5;241;43m.\u001b[39;49m\u001b[43m_send_single_request\u001b[49m\u001b[43m(\u001b[49m\u001b[43mrequest\u001b[49m\u001b[43m)\u001b[49m\n\u001b[0;32m    980\u001b[0m \u001b[38;5;28;01mtry\u001b[39;00m:\n\u001b[0;32m    981\u001b[0m     \u001b[38;5;28;01mfor\u001b[39;00m hook \u001b[38;5;129;01min\u001b[39;00m \u001b[38;5;28mself\u001b[39m\u001b[38;5;241m.\u001b[39m_event_hooks[\u001b[38;5;124m\"\u001b[39m\u001b[38;5;124mresponse\u001b[39m\u001b[38;5;124m\"\u001b[39m]:\n",
      "File \u001b[1;32m~\\AppData\\Local\\Packages\\PythonSoftwareFoundation.Python.3.11_qbz5n2kfra8p0\\LocalCache\\local-packages\\Python311\\site-packages\\httpx\\_client.py:1015\u001b[0m, in \u001b[0;36mClient._send_single_request\u001b[1;34m(self, request)\u001b[0m\n\u001b[0;32m   1010\u001b[0m     \u001b[38;5;28;01mraise\u001b[39;00m \u001b[38;5;167;01mRuntimeError\u001b[39;00m(\n\u001b[0;32m   1011\u001b[0m         \u001b[38;5;124m\"\u001b[39m\u001b[38;5;124mAttempted to send an async request with a sync Client instance.\u001b[39m\u001b[38;5;124m\"\u001b[39m\n\u001b[0;32m   1012\u001b[0m     )\n\u001b[0;32m   1014\u001b[0m \u001b[38;5;28;01mwith\u001b[39;00m request_context(request\u001b[38;5;241m=\u001b[39mrequest):\n\u001b[1;32m-> 1015\u001b[0m     response \u001b[38;5;241m=\u001b[39m \u001b[43mtransport\u001b[49m\u001b[38;5;241;43m.\u001b[39;49m\u001b[43mhandle_request\u001b[49m\u001b[43m(\u001b[49m\u001b[43mrequest\u001b[49m\u001b[43m)\u001b[49m\n\u001b[0;32m   1017\u001b[0m \u001b[38;5;28;01massert\u001b[39;00m \u001b[38;5;28misinstance\u001b[39m(response\u001b[38;5;241m.\u001b[39mstream, SyncByteStream)\n\u001b[0;32m   1019\u001b[0m response\u001b[38;5;241m.\u001b[39mrequest \u001b[38;5;241m=\u001b[39m request\n",
      "File \u001b[1;32m~\\AppData\\Local\\Packages\\PythonSoftwareFoundation.Python.3.11_qbz5n2kfra8p0\\LocalCache\\local-packages\\Python311\\site-packages\\httpx\\_transports\\default.py:233\u001b[0m, in \u001b[0;36mHTTPTransport.handle_request\u001b[1;34m(self, request)\u001b[0m\n\u001b[0;32m    220\u001b[0m req \u001b[38;5;241m=\u001b[39m httpcore\u001b[38;5;241m.\u001b[39mRequest(\n\u001b[0;32m    221\u001b[0m     method\u001b[38;5;241m=\u001b[39mrequest\u001b[38;5;241m.\u001b[39mmethod,\n\u001b[0;32m    222\u001b[0m     url\u001b[38;5;241m=\u001b[39mhttpcore\u001b[38;5;241m.\u001b[39mURL(\n\u001b[1;32m   (...)\u001b[0m\n\u001b[0;32m    230\u001b[0m     extensions\u001b[38;5;241m=\u001b[39mrequest\u001b[38;5;241m.\u001b[39mextensions,\n\u001b[0;32m    231\u001b[0m )\n\u001b[0;32m    232\u001b[0m \u001b[38;5;28;01mwith\u001b[39;00m map_httpcore_exceptions():\n\u001b[1;32m--> 233\u001b[0m     resp \u001b[38;5;241m=\u001b[39m \u001b[38;5;28;43mself\u001b[39;49m\u001b[38;5;241;43m.\u001b[39;49m\u001b[43m_pool\u001b[49m\u001b[38;5;241;43m.\u001b[39;49m\u001b[43mhandle_request\u001b[49m\u001b[43m(\u001b[49m\u001b[43mreq\u001b[49m\u001b[43m)\u001b[49m\n\u001b[0;32m    235\u001b[0m \u001b[38;5;28;01massert\u001b[39;00m \u001b[38;5;28misinstance\u001b[39m(resp\u001b[38;5;241m.\u001b[39mstream, typing\u001b[38;5;241m.\u001b[39mIterable)\n\u001b[0;32m    237\u001b[0m \u001b[38;5;28;01mreturn\u001b[39;00m Response(\n\u001b[0;32m    238\u001b[0m     status_code\u001b[38;5;241m=\u001b[39mresp\u001b[38;5;241m.\u001b[39mstatus,\n\u001b[0;32m    239\u001b[0m     headers\u001b[38;5;241m=\u001b[39mresp\u001b[38;5;241m.\u001b[39mheaders,\n\u001b[0;32m    240\u001b[0m     stream\u001b[38;5;241m=\u001b[39mResponseStream(resp\u001b[38;5;241m.\u001b[39mstream),\n\u001b[0;32m    241\u001b[0m     extensions\u001b[38;5;241m=\u001b[39mresp\u001b[38;5;241m.\u001b[39mextensions,\n\u001b[0;32m    242\u001b[0m )\n",
      "File \u001b[1;32m~\\AppData\\Local\\Packages\\PythonSoftwareFoundation.Python.3.11_qbz5n2kfra8p0\\LocalCache\\local-packages\\Python311\\site-packages\\httpcore\\_sync\\connection_pool.py:216\u001b[0m, in \u001b[0;36mConnectionPool.handle_request\u001b[1;34m(self, request)\u001b[0m\n\u001b[0;32m    213\u001b[0m         closing \u001b[38;5;241m=\u001b[39m \u001b[38;5;28mself\u001b[39m\u001b[38;5;241m.\u001b[39m_assign_requests_to_connections()\n\u001b[0;32m    215\u001b[0m     \u001b[38;5;28mself\u001b[39m\u001b[38;5;241m.\u001b[39m_close_connections(closing)\n\u001b[1;32m--> 216\u001b[0m     \u001b[38;5;28;01mraise\u001b[39;00m exc \u001b[38;5;28;01mfrom\u001b[39;00m \u001b[38;5;28;01mNone\u001b[39;00m\n\u001b[0;32m    218\u001b[0m \u001b[38;5;66;03m# Return the response. Note that in this case we still have to manage\u001b[39;00m\n\u001b[0;32m    219\u001b[0m \u001b[38;5;66;03m# the point at which the response is closed.\u001b[39;00m\n\u001b[0;32m    220\u001b[0m \u001b[38;5;28;01massert\u001b[39;00m \u001b[38;5;28misinstance\u001b[39m(response\u001b[38;5;241m.\u001b[39mstream, Iterable)\n",
      "File \u001b[1;32m~\\AppData\\Local\\Packages\\PythonSoftwareFoundation.Python.3.11_qbz5n2kfra8p0\\LocalCache\\local-packages\\Python311\\site-packages\\httpcore\\_sync\\connection_pool.py:196\u001b[0m, in \u001b[0;36mConnectionPool.handle_request\u001b[1;34m(self, request)\u001b[0m\n\u001b[0;32m    192\u001b[0m connection \u001b[38;5;241m=\u001b[39m pool_request\u001b[38;5;241m.\u001b[39mwait_for_connection(timeout\u001b[38;5;241m=\u001b[39mtimeout)\n\u001b[0;32m    194\u001b[0m \u001b[38;5;28;01mtry\u001b[39;00m:\n\u001b[0;32m    195\u001b[0m     \u001b[38;5;66;03m# Send the request on the assigned connection.\u001b[39;00m\n\u001b[1;32m--> 196\u001b[0m     response \u001b[38;5;241m=\u001b[39m \u001b[43mconnection\u001b[49m\u001b[38;5;241;43m.\u001b[39;49m\u001b[43mhandle_request\u001b[49m\u001b[43m(\u001b[49m\n\u001b[0;32m    197\u001b[0m \u001b[43m        \u001b[49m\u001b[43mpool_request\u001b[49m\u001b[38;5;241;43m.\u001b[39;49m\u001b[43mrequest\u001b[49m\n\u001b[0;32m    198\u001b[0m \u001b[43m    \u001b[49m\u001b[43m)\u001b[49m\n\u001b[0;32m    199\u001b[0m \u001b[38;5;28;01mexcept\u001b[39;00m ConnectionNotAvailable:\n\u001b[0;32m    200\u001b[0m     \u001b[38;5;66;03m# In some cases a connection may initially be available to\u001b[39;00m\n\u001b[0;32m    201\u001b[0m     \u001b[38;5;66;03m# handle a request, but then become unavailable.\u001b[39;00m\n\u001b[0;32m    202\u001b[0m     \u001b[38;5;66;03m#\u001b[39;00m\n\u001b[0;32m    203\u001b[0m     \u001b[38;5;66;03m# In this case we clear the connection and try again.\u001b[39;00m\n\u001b[0;32m    204\u001b[0m     pool_request\u001b[38;5;241m.\u001b[39mclear_connection()\n",
      "File \u001b[1;32m~\\AppData\\Local\\Packages\\PythonSoftwareFoundation.Python.3.11_qbz5n2kfra8p0\\LocalCache\\local-packages\\Python311\\site-packages\\httpcore\\_sync\\connection.py:101\u001b[0m, in \u001b[0;36mHTTPConnection.handle_request\u001b[1;34m(self, request)\u001b[0m\n\u001b[0;32m     98\u001b[0m     \u001b[38;5;28mself\u001b[39m\u001b[38;5;241m.\u001b[39m_connect_failed \u001b[38;5;241m=\u001b[39m \u001b[38;5;28;01mTrue\u001b[39;00m\n\u001b[0;32m     99\u001b[0m     \u001b[38;5;28;01mraise\u001b[39;00m exc\n\u001b[1;32m--> 101\u001b[0m \u001b[38;5;28;01mreturn\u001b[39;00m \u001b[38;5;28;43mself\u001b[39;49m\u001b[38;5;241;43m.\u001b[39;49m\u001b[43m_connection\u001b[49m\u001b[38;5;241;43m.\u001b[39;49m\u001b[43mhandle_request\u001b[49m\u001b[43m(\u001b[49m\u001b[43mrequest\u001b[49m\u001b[43m)\u001b[49m\n",
      "File \u001b[1;32m~\\AppData\\Local\\Packages\\PythonSoftwareFoundation.Python.3.11_qbz5n2kfra8p0\\LocalCache\\local-packages\\Python311\\site-packages\\httpcore\\_sync\\http2.py:185\u001b[0m, in \u001b[0;36mHTTP2Connection.handle_request\u001b[1;34m(self, request)\u001b[0m\n\u001b[0;32m    181\u001b[0m     \u001b[38;5;66;03m# If h2 raises a protocol error in some other state then we\u001b[39;00m\n\u001b[0;32m    182\u001b[0m     \u001b[38;5;66;03m# must somehow have made a protocol violation.\u001b[39;00m\n\u001b[0;32m    183\u001b[0m     \u001b[38;5;28;01mraise\u001b[39;00m LocalProtocolError(exc)  \u001b[38;5;66;03m# pragma: nocover\u001b[39;00m\n\u001b[1;32m--> 185\u001b[0m \u001b[38;5;28;01mraise\u001b[39;00m exc\n",
      "File \u001b[1;32m~\\AppData\\Local\\Packages\\PythonSoftwareFoundation.Python.3.11_qbz5n2kfra8p0\\LocalCache\\local-packages\\Python311\\site-packages\\httpcore\\_sync\\http2.py:148\u001b[0m, in \u001b[0;36mHTTP2Connection.handle_request\u001b[1;34m(self, request)\u001b[0m\n\u001b[0;32m    144\u001b[0m     \u001b[38;5;28mself\u001b[39m\u001b[38;5;241m.\u001b[39m_send_request_body(request\u001b[38;5;241m=\u001b[39mrequest, stream_id\u001b[38;5;241m=\u001b[39mstream_id)\n\u001b[0;32m    145\u001b[0m \u001b[38;5;28;01mwith\u001b[39;00m Trace(\n\u001b[0;32m    146\u001b[0m     \u001b[38;5;124m\"\u001b[39m\u001b[38;5;124mreceive_response_headers\u001b[39m\u001b[38;5;124m\"\u001b[39m, logger, request, kwargs\n\u001b[0;32m    147\u001b[0m ) \u001b[38;5;28;01mas\u001b[39;00m trace:\n\u001b[1;32m--> 148\u001b[0m     status, headers \u001b[38;5;241m=\u001b[39m \u001b[38;5;28;43mself\u001b[39;49m\u001b[38;5;241;43m.\u001b[39;49m\u001b[43m_receive_response\u001b[49m\u001b[43m(\u001b[49m\n\u001b[0;32m    149\u001b[0m \u001b[43m        \u001b[49m\u001b[43mrequest\u001b[49m\u001b[38;5;241;43m=\u001b[39;49m\u001b[43mrequest\u001b[49m\u001b[43m,\u001b[49m\u001b[43m \u001b[49m\u001b[43mstream_id\u001b[49m\u001b[38;5;241;43m=\u001b[39;49m\u001b[43mstream_id\u001b[49m\n\u001b[0;32m    150\u001b[0m \u001b[43m    \u001b[49m\u001b[43m)\u001b[49m\n\u001b[0;32m    151\u001b[0m     trace\u001b[38;5;241m.\u001b[39mreturn_value \u001b[38;5;241m=\u001b[39m (status, headers)\n\u001b[0;32m    153\u001b[0m \u001b[38;5;28;01mreturn\u001b[39;00m Response(\n\u001b[0;32m    154\u001b[0m     status\u001b[38;5;241m=\u001b[39mstatus,\n\u001b[0;32m    155\u001b[0m     headers\u001b[38;5;241m=\u001b[39mheaders,\n\u001b[1;32m   (...)\u001b[0m\n\u001b[0;32m    161\u001b[0m     },\n\u001b[0;32m    162\u001b[0m )\n",
      "File \u001b[1;32m~\\AppData\\Local\\Packages\\PythonSoftwareFoundation.Python.3.11_qbz5n2kfra8p0\\LocalCache\\local-packages\\Python311\\site-packages\\httpcore\\_sync\\http2.py:292\u001b[0m, in \u001b[0;36mHTTP2Connection._receive_response\u001b[1;34m(self, request, stream_id)\u001b[0m\n\u001b[0;32m    288\u001b[0m \u001b[38;5;250m\u001b[39m\u001b[38;5;124;03m\"\"\"\u001b[39;00m\n\u001b[0;32m    289\u001b[0m \u001b[38;5;124;03mReturn the response status code and headers for a given stream ID.\u001b[39;00m\n\u001b[0;32m    290\u001b[0m \u001b[38;5;124;03m\"\"\"\u001b[39;00m\n\u001b[0;32m    291\u001b[0m \u001b[38;5;28;01mwhile\u001b[39;00m \u001b[38;5;28;01mTrue\u001b[39;00m:\n\u001b[1;32m--> 292\u001b[0m     event \u001b[38;5;241m=\u001b[39m \u001b[38;5;28;43mself\u001b[39;49m\u001b[38;5;241;43m.\u001b[39;49m\u001b[43m_receive_stream_event\u001b[49m\u001b[43m(\u001b[49m\u001b[43mrequest\u001b[49m\u001b[43m,\u001b[49m\u001b[43m \u001b[49m\u001b[43mstream_id\u001b[49m\u001b[43m)\u001b[49m\n\u001b[0;32m    293\u001b[0m     \u001b[38;5;28;01mif\u001b[39;00m \u001b[38;5;28misinstance\u001b[39m(event, h2\u001b[38;5;241m.\u001b[39mevents\u001b[38;5;241m.\u001b[39mResponseReceived):\n\u001b[0;32m    294\u001b[0m         \u001b[38;5;28;01mbreak\u001b[39;00m\n",
      "File \u001b[1;32m~\\AppData\\Local\\Packages\\PythonSoftwareFoundation.Python.3.11_qbz5n2kfra8p0\\LocalCache\\local-packages\\Python311\\site-packages\\httpcore\\_sync\\http2.py:333\u001b[0m, in \u001b[0;36mHTTP2Connection._receive_stream_event\u001b[1;34m(self, request, stream_id)\u001b[0m\n\u001b[0;32m    327\u001b[0m \u001b[38;5;250m\u001b[39m\u001b[38;5;124;03m\"\"\"\u001b[39;00m\n\u001b[0;32m    328\u001b[0m \u001b[38;5;124;03mReturn the next available event for a given stream ID.\u001b[39;00m\n\u001b[0;32m    329\u001b[0m \n\u001b[0;32m    330\u001b[0m \u001b[38;5;124;03mWill read more data from the network if required.\u001b[39;00m\n\u001b[0;32m    331\u001b[0m \u001b[38;5;124;03m\"\"\"\u001b[39;00m\n\u001b[0;32m    332\u001b[0m \u001b[38;5;28;01mwhile\u001b[39;00m \u001b[38;5;129;01mnot\u001b[39;00m \u001b[38;5;28mself\u001b[39m\u001b[38;5;241m.\u001b[39m_events\u001b[38;5;241m.\u001b[39mget(stream_id):\n\u001b[1;32m--> 333\u001b[0m     \u001b[38;5;28;43mself\u001b[39;49m\u001b[38;5;241;43m.\u001b[39;49m\u001b[43m_receive_events\u001b[49m\u001b[43m(\u001b[49m\u001b[43mrequest\u001b[49m\u001b[43m,\u001b[49m\u001b[43m \u001b[49m\u001b[43mstream_id\u001b[49m\u001b[43m)\u001b[49m\n\u001b[0;32m    334\u001b[0m event \u001b[38;5;241m=\u001b[39m \u001b[38;5;28mself\u001b[39m\u001b[38;5;241m.\u001b[39m_events[stream_id]\u001b[38;5;241m.\u001b[39mpop(\u001b[38;5;241m0\u001b[39m)\n\u001b[0;32m    335\u001b[0m \u001b[38;5;28;01mif\u001b[39;00m \u001b[38;5;28misinstance\u001b[39m(event, h2\u001b[38;5;241m.\u001b[39mevents\u001b[38;5;241m.\u001b[39mStreamReset):\n",
      "File \u001b[1;32m~\\AppData\\Local\\Packages\\PythonSoftwareFoundation.Python.3.11_qbz5n2kfra8p0\\LocalCache\\local-packages\\Python311\\site-packages\\httpcore\\_sync\\http2.py:361\u001b[0m, in \u001b[0;36mHTTP2Connection._receive_events\u001b[1;34m(self, request, stream_id)\u001b[0m\n\u001b[0;32m    354\u001b[0m \u001b[38;5;66;03m# This conditional is a bit icky. We don't want to block reading if we've\u001b[39;00m\n\u001b[0;32m    355\u001b[0m \u001b[38;5;66;03m# actually got an event to return for a given stream. We need to do that\u001b[39;00m\n\u001b[0;32m    356\u001b[0m \u001b[38;5;66;03m# check *within* the atomic read lock. Though it also need to be optional,\u001b[39;00m\n\u001b[0;32m    357\u001b[0m \u001b[38;5;66;03m# because when we call it from `_wait_for_outgoing_flow` we *do* want to\u001b[39;00m\n\u001b[0;32m    358\u001b[0m \u001b[38;5;66;03m# block until we've available flow control, event when we have events\u001b[39;00m\n\u001b[0;32m    359\u001b[0m \u001b[38;5;66;03m# pending for the stream ID we're attempting to send on.\u001b[39;00m\n\u001b[0;32m    360\u001b[0m \u001b[38;5;28;01mif\u001b[39;00m stream_id \u001b[38;5;129;01mis\u001b[39;00m \u001b[38;5;28;01mNone\u001b[39;00m \u001b[38;5;129;01mor\u001b[39;00m \u001b[38;5;129;01mnot\u001b[39;00m \u001b[38;5;28mself\u001b[39m\u001b[38;5;241m.\u001b[39m_events\u001b[38;5;241m.\u001b[39mget(stream_id):\n\u001b[1;32m--> 361\u001b[0m     events \u001b[38;5;241m=\u001b[39m \u001b[38;5;28;43mself\u001b[39;49m\u001b[38;5;241;43m.\u001b[39;49m\u001b[43m_read_incoming_data\u001b[49m\u001b[43m(\u001b[49m\u001b[43mrequest\u001b[49m\u001b[43m)\u001b[49m\n\u001b[0;32m    362\u001b[0m     \u001b[38;5;28;01mfor\u001b[39;00m event \u001b[38;5;129;01min\u001b[39;00m events:\n\u001b[0;32m    363\u001b[0m         \u001b[38;5;28;01mif\u001b[39;00m \u001b[38;5;28misinstance\u001b[39m(event, h2\u001b[38;5;241m.\u001b[39mevents\u001b[38;5;241m.\u001b[39mRemoteSettingsChanged):\n",
      "File \u001b[1;32m~\\AppData\\Local\\Packages\\PythonSoftwareFoundation.Python.3.11_qbz5n2kfra8p0\\LocalCache\\local-packages\\Python311\\site-packages\\httpcore\\_sync\\http2.py:438\u001b[0m, in \u001b[0;36mHTTP2Connection._read_incoming_data\u001b[1;34m(self, request)\u001b[0m\n\u001b[0;32m    435\u001b[0m     \u001b[38;5;28;01mraise\u001b[39;00m \u001b[38;5;28mself\u001b[39m\u001b[38;5;241m.\u001b[39m_read_exception  \u001b[38;5;66;03m# pragma: nocover\u001b[39;00m\n\u001b[0;32m    437\u001b[0m \u001b[38;5;28;01mtry\u001b[39;00m:\n\u001b[1;32m--> 438\u001b[0m     data \u001b[38;5;241m=\u001b[39m \u001b[38;5;28;43mself\u001b[39;49m\u001b[38;5;241;43m.\u001b[39;49m\u001b[43m_network_stream\u001b[49m\u001b[38;5;241;43m.\u001b[39;49m\u001b[43mread\u001b[49m\u001b[43m(\u001b[49m\u001b[38;5;28;43mself\u001b[39;49m\u001b[38;5;241;43m.\u001b[39;49m\u001b[43mREAD_NUM_BYTES\u001b[49m\u001b[43m,\u001b[49m\u001b[43m \u001b[49m\u001b[43mtimeout\u001b[49m\u001b[43m)\u001b[49m\n\u001b[0;32m    439\u001b[0m     \u001b[38;5;28;01mif\u001b[39;00m data \u001b[38;5;241m==\u001b[39m \u001b[38;5;124mb\u001b[39m\u001b[38;5;124m\"\u001b[39m\u001b[38;5;124m\"\u001b[39m:\n\u001b[0;32m    440\u001b[0m         \u001b[38;5;28;01mraise\u001b[39;00m RemoteProtocolError(\u001b[38;5;124m\"\u001b[39m\u001b[38;5;124mServer disconnected\u001b[39m\u001b[38;5;124m\"\u001b[39m)\n",
      "File \u001b[1;32m~\\AppData\\Local\\Packages\\PythonSoftwareFoundation.Python.3.11_qbz5n2kfra8p0\\LocalCache\\local-packages\\Python311\\site-packages\\httpcore\\_backends\\sync.py:126\u001b[0m, in \u001b[0;36mSyncStream.read\u001b[1;34m(self, max_bytes, timeout)\u001b[0m\n\u001b[0;32m    124\u001b[0m \u001b[38;5;28;01mwith\u001b[39;00m map_exceptions(exc_map):\n\u001b[0;32m    125\u001b[0m     \u001b[38;5;28mself\u001b[39m\u001b[38;5;241m.\u001b[39m_sock\u001b[38;5;241m.\u001b[39msettimeout(timeout)\n\u001b[1;32m--> 126\u001b[0m     \u001b[38;5;28;01mreturn\u001b[39;00m \u001b[38;5;28;43mself\u001b[39;49m\u001b[38;5;241;43m.\u001b[39;49m\u001b[43m_sock\u001b[49m\u001b[38;5;241;43m.\u001b[39;49m\u001b[43mrecv\u001b[49m\u001b[43m(\u001b[49m\u001b[43mmax_bytes\u001b[49m\u001b[43m)\u001b[49m\n",
      "File \u001b[1;32mC:\\Program Files\\WindowsApps\\PythonSoftwareFoundation.Python.3.11_3.11.2544.0_x64__qbz5n2kfra8p0\\Lib\\ssl.py:1295\u001b[0m, in \u001b[0;36mSSLSocket.recv\u001b[1;34m(self, buflen, flags)\u001b[0m\n\u001b[0;32m   1291\u001b[0m     \u001b[38;5;28;01mif\u001b[39;00m flags \u001b[38;5;241m!=\u001b[39m \u001b[38;5;241m0\u001b[39m:\n\u001b[0;32m   1292\u001b[0m         \u001b[38;5;28;01mraise\u001b[39;00m \u001b[38;5;167;01mValueError\u001b[39;00m(\n\u001b[0;32m   1293\u001b[0m             \u001b[38;5;124m\"\u001b[39m\u001b[38;5;124mnon-zero flags not allowed in calls to recv() on \u001b[39m\u001b[38;5;132;01m%s\u001b[39;00m\u001b[38;5;124m\"\u001b[39m \u001b[38;5;241m%\u001b[39m\n\u001b[0;32m   1294\u001b[0m             \u001b[38;5;28mself\u001b[39m\u001b[38;5;241m.\u001b[39m\u001b[38;5;18m__class__\u001b[39m)\n\u001b[1;32m-> 1295\u001b[0m     \u001b[38;5;28;01mreturn\u001b[39;00m \u001b[38;5;28;43mself\u001b[39;49m\u001b[38;5;241;43m.\u001b[39;49m\u001b[43mread\u001b[49m\u001b[43m(\u001b[49m\u001b[43mbuflen\u001b[49m\u001b[43m)\u001b[49m\n\u001b[0;32m   1296\u001b[0m \u001b[38;5;28;01melse\u001b[39;00m:\n\u001b[0;32m   1297\u001b[0m     \u001b[38;5;28;01mreturn\u001b[39;00m \u001b[38;5;28msuper\u001b[39m()\u001b[38;5;241m.\u001b[39mrecv(buflen, flags)\n",
      "File \u001b[1;32mC:\\Program Files\\WindowsApps\\PythonSoftwareFoundation.Python.3.11_3.11.2544.0_x64__qbz5n2kfra8p0\\Lib\\ssl.py:1168\u001b[0m, in \u001b[0;36mSSLSocket.read\u001b[1;34m(self, len, buffer)\u001b[0m\n\u001b[0;32m   1166\u001b[0m         \u001b[38;5;28;01mreturn\u001b[39;00m \u001b[38;5;28mself\u001b[39m\u001b[38;5;241m.\u001b[39m_sslobj\u001b[38;5;241m.\u001b[39mread(\u001b[38;5;28mlen\u001b[39m, buffer)\n\u001b[0;32m   1167\u001b[0m     \u001b[38;5;28;01melse\u001b[39;00m:\n\u001b[1;32m-> 1168\u001b[0m         \u001b[38;5;28;01mreturn\u001b[39;00m \u001b[38;5;28;43mself\u001b[39;49m\u001b[38;5;241;43m.\u001b[39;49m\u001b[43m_sslobj\u001b[49m\u001b[38;5;241;43m.\u001b[39;49m\u001b[43mread\u001b[49m\u001b[43m(\u001b[49m\u001b[38;5;28;43mlen\u001b[39;49m\u001b[43m)\u001b[49m\n\u001b[0;32m   1169\u001b[0m \u001b[38;5;28;01mexcept\u001b[39;00m SSLError \u001b[38;5;28;01mas\u001b[39;00m x:\n\u001b[0;32m   1170\u001b[0m     \u001b[38;5;28;01mif\u001b[39;00m x\u001b[38;5;241m.\u001b[39margs[\u001b[38;5;241m0\u001b[39m] \u001b[38;5;241m==\u001b[39m SSL_ERROR_EOF \u001b[38;5;129;01mand\u001b[39;00m \u001b[38;5;28mself\u001b[39m\u001b[38;5;241m.\u001b[39msuppress_ragged_eofs:\n",
      "\u001b[1;31mKeyboardInterrupt\u001b[0m: "
     ]
    }
   ],
   "source": [
    "i = 0\n",
    "final_list = []\n",
    "\n",
    "for list in mass_data_list:\n",
    "    new_data_list = get_user_id(list)\n",
    "    final_list += new_data_list\n",
    "    time.sleep(120) # cool down to avoid rate limits\n"
   ]
  },
  {
   "cell_type": "code",
   "execution_count": 18,
   "metadata": {},
   "outputs": [
    {
     "data": {
      "text/plain": [
       "<sqlite3.Cursor at 0x26a6a24b340>"
      ]
     },
     "execution_count": 18,
     "metadata": {},
     "output_type": "execute_result"
    }
   ],
   "source": [
    "import sqlite3\n",
    "conn = sqlite3.connect('tweets.db')\n",
    "c = conn.cursor()\n",
    "\n",
    "c.execute(\"\"\"CREATE TABLE politicians (\n",
    "          twitter_user_id INTEGER primary key,\n",
    "          politician_name STRING,\n",
    "          twitter_handle STRING\n",
    "          )\"\"\")"
   ]
  },
  {
   "cell_type": "code",
   "execution_count": 17,
   "metadata": {},
   "outputs": [
    {
     "data": {
      "text/plain": [
       "<sqlite3.Cursor at 0x26a697e39c0>"
      ]
     },
     "execution_count": 17,
     "metadata": {},
     "output_type": "execute_result"
    }
   ],
   "source": [
    "conn.execute('DROP TABLE politicians')"
   ]
  },
  {
   "cell_type": "code",
   "execution_count": null,
   "metadata": {},
   "outputs": [],
   "source": [
    "c.executemany(\"INSERT INTO tweets VALUES (?,?,?,?,?,?)\", final_list)\n",
    "conn.commit()"
   ]
  }
 ],
 "metadata": {
  "kernelspec": {
   "display_name": "Python 3",
   "language": "python",
   "name": "python3"
  },
  "language_info": {
   "codemirror_mode": {
    "name": "ipython",
    "version": 3
   },
   "file_extension": ".py",
   "mimetype": "text/x-python",
   "name": "python",
   "nbconvert_exporter": "python",
   "pygments_lexer": "ipython3",
   "version": "3.11.9"
  }
 },
 "nbformat": 4,
 "nbformat_minor": 2
}

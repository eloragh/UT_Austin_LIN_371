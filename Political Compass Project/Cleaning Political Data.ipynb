{
 "cells": [
  {
   "cell_type": "code",
   "execution_count": 1,
   "metadata": {},
   "outputs": [
    {
     "name": "stderr",
     "output_type": "stream",
     "text": [
      "C:\\Users\\eaesp\\AppData\\Local\\Temp\\ipykernel_37468\\2204781778.py:5: DeprecationWarning: \n",
      "Pyarrow will become a required dependency of pandas in the next major release of pandas (pandas 3.0),\n",
      "(to allow more performant data types, such as the Arrow string type, and better interoperability with other libraries)\n",
      "but was not found to be installed on your system.\n",
      "If this would cause problems for you,\n",
      "please provide us feedback at https://github.com/pandas-dev/pandas/issues/54466\n",
      "        \n",
      "  import pandas as pd\n"
     ]
    },
    {
     "data": {
      "text/plain": [
       "{'flow_token': 'g;171365079169825533:-1713650791756:i7XGUAdAqiL6B4BOIfqYgKwQ:14',\n",
       " 'status': 'success',\n",
       " 'subtasks': [{'subtask_id': 'LoginSuccessSubtask',\n",
       "   'open_account': {'user': {'id': 1547081484695216130,\n",
       "     'id_str': '1547081484695216130',\n",
       "     'name': 'Eloragh Espie',\n",
       "     'screen_name': 'EloraghEspie'},\n",
       "    'next_link': {'link_type': 'subtask',\n",
       "     'link_id': 'next_link',\n",
       "     'subtask_id': 'SuccessExit'},\n",
       "    'attribution_event': 'login'}},\n",
       "  {'subtask_id': 'SuccessExit',\n",
       "   'open_link': {'link': {'link_type': 'subtask',\n",
       "     'link_id': 'next_link',\n",
       "     'subtask_id': 'LoginOpenHomeTimeline'}}},\n",
       "  {'subtask_id': 'LoginOpenHomeTimeline',\n",
       "   'open_home_timeline': {'next_link': {'link_type': 'abort',\n",
       "     'link_id': 'next_link'}}}]}"
      ]
     },
     "execution_count": 1,
     "metadata": {},
     "output_type": "execute_result"
    }
   ],
   "source": [
    "from twikit import Client\n",
    "import time\n",
    "import json\n",
    "from twikit import TwitterException \n",
    "import pandas as pd\n",
    "\n",
    "# this API requires authentication\n",
    "f = open('authentication.txt', 'r')\n",
    "auth = f.read()\n",
    "f.close()\n",
    "auth_token = auth.split(\"\\n\")\n",
    "\n",
    "# don't hardcode your email and password into something!!!\n",
    "# the auth is in gitignore so I won't get hacked\n",
    "USERNAME = str(auth_token[0])\n",
    "EMAIL = str(auth_token[1])\n",
    "PASSWORD = str(auth_token[2])\n",
    "\n",
    "# Initialize client\n",
    "client = Client(language='en-US', http2=True)\n",
    "\n",
    "# Login to the service with provided user credentials\n",
    "client.login(\n",
    "    auth_info_1=USERNAME ,\n",
    "    auth_info_2=EMAIL,\n",
    "    password=PASSWORD\n",
    ")"
   ]
  },
  {
   "cell_type": "code",
   "execution_count": 2,
   "metadata": {},
   "outputs": [],
   "source": [
    "# Twitter LOVES to ban people when they log in repeatedly\n",
    "# saving the cookies makes sure I don't get banned (often)\n",
    "\n",
    "client.get_cookies()\n",
    "client.save_cookies('cookies.json')\n",
    "with open('cookies.json', 'r', encoding='UTF8') as f:\n",
    "    client.set_cookies(json.load(f))"
   ]
  },
  {
   "cell_type": "code",
   "execution_count": 3,
   "metadata": {},
   "outputs": [],
   "source": [
    "def get_user_id(handle):\n",
    "    # load the cookies so you don't login a million times and get banned\n",
    "    client.load_cookies('cookies.json')\n",
    "    return(client.get_user_by_screen_name(handle))"
   ]
  },
  {
   "cell_type": "code",
   "execution_count": 4,
   "metadata": {},
   "outputs": [],
   "source": [
    "def create_key(user_id, year):\n",
    "    # load the cookies so you don't login a million times and get banned\n",
    "    client.load_cookies('cookies.json')\n",
    "    return(user_id + year)"
   ]
  },
  {
   "cell_type": "code",
   "execution_count": 14,
   "metadata": {},
   "outputs": [],
   "source": [
    "import time\n",
    "from math import ceil\n",
    "import requests\n",
    "from twikit import TooManyRequests\n",
    "from twikit.utils import Endpoint\n",
    "\n",
    "# this is a housekeeping function\n",
    "# twitter API can throw rate limits\n",
    "# they're kind of like timeouts\n",
    "# this function just shows me how much longer I will be in timeout for\n",
    "\n",
    "def get_limit_reset_time(endpoint: str):\n",
    "    res = requests.get(\n",
    "        endpoint,\n",
    "        headers=client._base_headers,\n",
    "        cookies=client.get_cookies()\n",
    "    )\n",
    "    return ceil(int(res.headers['x-rate-limit-reset']) - time.time())"
   ]
  },
  {
   "cell_type": "code",
   "execution_count": 27,
   "metadata": {},
   "outputs": [
    {
     "name": "stdout",
     "output_type": "stream",
     "text": [
      "rate limit is reset after 897 seconds.\n"
     ]
    }
   ],
   "source": [
    "# timeout check for accessing user IDs\n",
    "try:\n",
    "    print(client.get_user_by_screen_name('BarackObama'))\n",
    "except TooManyRequests:\n",
    "    reset_time = get_limit_reset_time(Endpoint.USER_TWEETS)\n",
    "    print(f'rate limit is reset after {reset_time} seconds.')"
   ]
  },
  {
   "cell_type": "code",
   "execution_count": 8,
   "metadata": {},
   "outputs": [],
   "source": [
    "data = pd.read_csv(\"Political Compass Coordinates Data.csv\")\n",
    "df = pd.DataFrame(data)"
   ]
  },
  {
   "cell_type": "code",
   "execution_count": 24,
   "metadata": {},
   "outputs": [
    {
     "name": "stdout",
     "output_type": "stream",
     "text": [
      "[[nan, nan, 'Barack Obama', 'BarackObama', 3, 2, 'Democratic', 2008, 'USA', nan], [nan, nan, 'Joe Biden', 'JoeBiden', 3, 3, 'Democratic', 2008, 'USA', nan], [nan, nan, 'Dennis Kucinich', 'Dennis_Kucinich', -2, -2, 'Democratic', 2008, 'USA', nan], [nan, nan, 'Bill Richardson', 'GovRichardson', 4, 4, 'Democratic', 2008, 'USA', nan], [nan, nan, 'Mike Huckabee', 'GovMikeHuckabee', 6, 6, 'Republican', 2008, 'USA', nan], [nan, nan, 'Hillary Clinton', 'HillaryClinton', 4, 2, 'Democratic', 2008, 'USA', nan], [nan, nan, 'Ron Paul', 'RonPaul', 9, 1, 'Republican', 2008, 'USA', nan], [nan, nan, 'John McCain', 'SenJohnMcCain', 6, 4, 'Republican', 2008, 'USA', nan], [nan, nan, 'Newt Gingrich', 'newtgingrich', 8, 7, 'Republican', 2008, 'USA', nan], [nan, nan, 'Mike Gravel', 'MikeGravel_US', 8, -2, 'Democratic', 2008, 'USA', nan], [nan, nan, 'Alan Keyes', 'loyaltoliberty', 6, 8, 'Republican', 2008, 'USA', nan], [nan, nan, 'Mitt Romney', 'MittRomney', 7, 8, 'Republican', 2008, 'USA', nan], [nan, nan, 'Fred Thompson', 'fredthompson', 7, 7, 'Republican', 2008, 'USA', nan], [nan, nan, 'Chris Dodd', 'SenChrisDodd', 3, 4, 'Democratic', 2008, 'USA', nan], [nan, nan, 'Rudy Guiliani', 'RudyGiuliani', 6, 5, 'Republican', 2008, 'USA', nan], [nan, nan, 'Ralph Nader', 'RalphNader', -5, -3, 'Green', 2008, 'USA', nan], [nan, nan, 'Tom Tancredo', 'ttancredo', 7, 8, 'Republican', 2008, 'USA', nan], [nan, nan, 'Jill Stein', 'DrJillStein', -3, -3, 'Green', 2012, 'USA', nan], [nan, nan, 'Barack Obama', 'BarackObama', 6, 6, 'Democratic', 2012, 'USA', nan], [nan, nan, 'Mitt Romney', 'MittRomney', 7, 7, 'Republican', 2012, 'USA', nan], [nan, nan, 'Virgil Goode', 'VirgilGoode', 9, 9, 'Constitution', 2012, 'USA', nan], [nan, nan, 'Gary Johnson', 'GovGaryJohnson', 9, 0, 'Libertarian', 2012, 'USA', nan], [nan, nan, 'Newt Gingrich', 'newtgingrich', 7, 7, 'Republican', 2012, 'USA', nan], [nan, nan, 'Ron Paul', 'RonPaul', 9, -1, 'Republican', 2012, 'USA', nan], [nan, nan, 'Rick Santorum', 'RickSantorum', 6, 8, 'Republican', 2012, 'USA', nan], [nan, nan, 'Hllary Clinton', 'HillaryClinton', 8, 5, 'Democratic', 2016, 'USA', nan], [nan, nan, 'Bernie Sanders', 'SenSanders', 0, -2, 'Democratic', 2016, 'USA', nan], [nan, nan, 'Donald Trump', 'realDonaldTrump', 9, 7, 'Republican', 2016, 'USA', nan], [nan, nan, 'Jeb Bush', 'JebBush', 8, 9, 'Republican', 2016, 'USA', nan], [nan, nan, 'Ted Cruz', 'TedCruz', 9, 9, 'Republican', 2016, 'USA', nan], [nan, nan, 'Marco Rubio', 'MarcoRubio', 9, 8, 'Republican', 2016, 'USA', nan], [nan, nan, 'Gary Johnson', 'GovGaryJohnson', 10, -2, 'Libertarian', 2016, 'USA', nan], [nan, nan, 'Jill Stein', 'DrJillStein', -3, 3, 'Green', 2016, 'USA', nan], [nan, nan, 'Donald Trump', 'realDonaldTrump', 9, 9, 'Republican', 2020, 'USA', nan], [nan, nan, 'John Kasich', 'JohnKasich', 9, 8, 'Republican', 2020, 'USA', nan], [nan, nan, 'Bob Corker', 'SenBobCorker', 10, 9, 'Republican', 2020, 'USA', nan], [nan, nan, 'Mike Pence', 'Mike_Pence', 10, 9, 'Republican', 2020, 'USA', nan], [nan, nan, 'Larry Hogan', 'GovLarryHogan', 10, 8, 'Republican', 2020, 'USA', nan], [nan, nan, \"Robert O'Rourke\", 'BetoORourke', 7, 6, 'Democratic', 2020, 'USA', nan], [nan, nan, 'Joe Biden', 'JoeBiden', 8, 7, 'Democratic', 2020, 'USA', nan], [nan, nan, 'Amy Klobuchar', 'SenAmyKlobuchar', 5, 5, 'Democratic', 2020, 'USA', nan], [nan, nan, 'Michael Bennet', 'SenatorBennet', 9, 6, 'Democratic', 2020, 'USA', nan], [nan, nan, 'Steve Bollock', 'GovernorBullock', 5, 5, 'Democratic', 2020, 'USA', nan], [nan, nan, 'Seth Moulton', 'sethmoulton', 6, 4, 'Democratic', 2020, 'USA', nan], [nan, nan, 'Mike Bloomberg', 'MikeBloomberg', 9, 6, 'Democratic', 2020, 'USA', nan], [nan, nan, 'Julian Castro', 'SecretaryCastro', 8, 5, 'Democratic', 2020, 'USA', nan], [nan, nan, 'Kirsten Gillibrand', 'SenGillibrand', 5, 5, 'Democratic', 2020, 'USA', nan], [nan, nan, 'Kamala Harris', 'KamalaHarris', 5, 4, 'Democratic', 2020, 'USA', nan], [nan, nan, 'John Delaney', 'JohnDelaney', 4, 4, 'Democratic', 2020, 'USA', nan], [nan, nan, 'John Hickenlooper', 'SenHickenlooper', 5, 3, 'Democratic', 2020, 'USA', nan], [nan, nan, 'Cory Booker', 'SenBooker', 4, 3, 'Democratic', 2020, 'USA', nan], [nan, nan, 'Bill Weld', 'GovBillWeld', 9, 4, 'Republican', 2020, 'USA', nan], [nan, nan, 'Pete Buttigieg', 'PeteButtigieg', 8, 4, 'Democratic', 2020, 'USA', nan], [nan, nan, 'Elizabeth Warren', 'SenWarren', 1, 1, 'Democratic', 2020, 'USA', nan], [nan, nan, 'Joe Sestak', 'JoeSestak', 5, 2, 'Forward', 2020, 'USA', nan], [nan, nan, 'Jay Inslee', 'GovInslee', 9, 2, 'Republican', 2020, 'USA', nan], [nan, nan, 'Andrew Yang', 'AndrewYang', 7, 1, 'Forward', 2020, 'USA', nan], [nan, nan, 'Jo Jorgensen', 'JoForLiberty', 10, -3, 'Libertarian', 2020, 'USA', nan], [nan, nan, 'Marianne Williamson', 'marwilliamson', 2, -2, 'Democratic', 2020, 'USA', nan], [nan, nan, 'Tom Steyer', 'TomSteyer', 7, 1, 'Democratic', 2020, 'USA', nan], [nan, nan, 'Mike Gravel', 'MikeGravel_US', -1, -1, 'Democratic', 2020, 'USA', nan], [nan, nan, 'Tulsi Gabbard', 'TulsiGabbard', -2, -2, 'Democratic', 2020, 'USA', nan], [nan, nan, 'Bernie Sanders', 'SenSanders', -1, -2, 'Independent', 2020, 'USA', nan], [nan, nan, 'Howie Hawkins', 'HowieHawkins', -5, -3, 'Green', 2020, 'USA', nan], [nan, nan, 'Stephen Harper', 'StephenHarper', 6, 6, 'Conservative', 2008, 'CA', nan], [nan, nan, 'Elizabeth May', 'ElizabethMay', 1, 0, 'Green', 2008, 'CA', nan], [nan, nan, 'Jack Layton', 'jacklayton', -2, -2, 'New Democratic Party', 2008, 'CA', nan], [nan, nan, 'Stephen Harper', 'StephenHarper', 7, 6, 'Conservative', 2011, 'CA', nan], [nan, nan, 'Michael Ignatieff', 'M_Ignatieff', 3, 3, 'Liberal', 2011, 'CA', nan], [nan, nan, 'Elizabeth May', 'ElizabethMay', 0, 1, 'Green', 2011, 'CA', nan], [nan, nan, 'Jack Layton', 'jacklayton', -1, -1, 'New Democratic Party', 2011, 'CA', nan], [nan, nan, 'Stephen Harper', 'StephenHarper', 7, 9, 'Conservative', 2015, 'CA', nan], [nan, nan, 'Justin Trudeau', 'JustinTrudeau', 2, 4, 'Liberal', 2015, 'CA', nan], [nan, nan, 'Elizabeth May', 'ElizabethMay', 1, 0, 'Green', 2015, 'CA', nan], [nan, nan, 'Tom Mulcair', 'ThomasMuclair', 0, -2, 'New Democratic Party', 2015, 'CA', nan], [nan, nan, 'Andrew Scheer', 'AndrewScheer', 7, 7, 'Conservative', 2019, 'CA', nan], [nan, nan, 'Justin Trudeau', 'JustinTrudeau', 3, 3, 'Liberal', 2019, 'CA', nan], [nan, nan, 'Elizabeth May', 'ElizabethMay', 2, 1, 'Green', 2019, 'CA', nan], [nan, nan, 'Jagemeet Singh', 'theJagmeetSingh', -2, -3, 'New Democratic Party', 2019, 'CA', nan], [nan, nan, 'Yves-Francois Blanchet', 'yfblanchet', -1, -1, 'Bloc Quebecios', 2019, 'CA', nan], [nan, nan, 'Maxime Bernier', 'MaximeBernier', 9, 8, \"People's Party\", 2019, 'CA', nan], [nan, nan, \"Erin O'Toole\", 'erinotoole', 8, 7, 'Conservative', 2021, 'CA', nan], [nan, nan, 'Justin Trudeau', 'JustinTrudeau', 4, 4, 'Liberal', 2021, 'CA', nan], [nan, nan, 'Annamie Paul', 'AnnamiePaul', 2, 2, 'Green', 2021, 'CA', nan], [nan, nan, 'Jagemeet Singh', 'theJagmeetSingh', -3, -2, 'New Democratic Party', 2021, 'CA', nan], [nan, nan, 'Yves-Francois Blanchet', 'yfblanchet', -2, -2, 'Bloc Quebecios', 2021, 'CA', nan], [nan, nan, 'Maxime Bernier', 'MaximeBernier', 9, 5, \"People's Party\", 2021, 'CA', nan], [nan, nan, 'David Cameron', 'David_Cameron', 8, 6, 'Conservative', 2010, 'UK', nan], [nan, nan, 'Gordon Brown', 'GordonBrown', 4, 7, 'Labour', 2010, 'UK', nan], [nan, nan, 'Nick Clegg', 'Nick Clegg', 3, -1, 'Liberal Democrats', 2010, 'UK', nan], [nan, nan, 'David Cameron', 'David_Cameron', 9, 6, 'Conservative', 2015, 'UK', nan], [nan, nan, 'Ed Miliband', 'Ed_Miliband', 4, 5, 'Labour', 2015, 'UK', nan], [nan, nan, 'Nicola Sturgeon', 'NicolaSturgeon', -1, 2, 'Scottish National Party', 2015, 'UK', nan], [nan, nan, 'Nick Clegg', 'Nick Clegg', 5, 2, 'Liberal Democrats', 2015, 'UK', nan], [nan, nan, 'Theresa May', 'theresa_may', 7, 9, 'Conservative', 2017, 'UK', nan], [nan, nan, 'Jeremy Corbyn', 'jeremycorbyn', -4, -2, 'Labour', 2017, 'UK', nan], [nan, nan, 'Nicola Sturgeon', 'NicolaSturgeon', -2, 2, 'Scottish National Party', 2017, 'UK', nan], [nan, nan, 'Tim Farron', 'timfarron', 3, 1, 'Liberal Democrats', 2017, 'UK', nan], [nan, nan, 'Arlene Foster', 'ArleneFosterUK', 5, 8, 'DUP', 2017, 'UK', nan], [nan, nan, 'Boris Johnson', 'BorisJohnson', 9, 7, 'Conservative', 2019, 'UK', nan], [nan, nan, 'Jeremy Corbyn', 'jeremycorbyn', -6, -2, 'Labour', 2019, 'UK', nan], [nan, nan, 'Nicola Sturgeon', 'NicolaSturgeon', -2, -1, 'Scottish National Party', 2019, 'UK', nan], [nan, nan, 'Jo Swinson', 'joswinson', 4, 2, 'Liberal Democrats', 2019, 'UK', nan], [nan, nan, 'Nicola Sturgeon', 'NicolaSturgeon', -2, -1, 'Scottish National Party', 2021, 'UK', nan], [nan, nan, 'Douglass Ross', 'Douglas4Moray', 7, 6, 'Conservative', 2021, 'UK', nan], [nan, nan, 'Anas Sarwar', 'AnasSarwar', 1, 2, 'Labour', 2021, 'UK', nan], [nan, nan, 'Lorna Slater', 'lornaslater', -4, -3, 'Scottish Green', 2021, 'UK', nan], [nan, nan, 'Patrick Harvie', 'patrickharvie', -4, -3, 'Scottish Green', 2021, 'UK', nan], [nan, nan, 'Willie Rennie', 'willie_rennie', 5, 2, 'Liberal Democrats', 2021, 'UK', nan], [nan, nan, 'Michael Martin', 'MichealMartinTD', 4, 4, 'Fianna Fail', 2020, 'IE', nan], [nan, nan, 'Mary Lou McDonald', 'MaryLouMcDonald', -2, 2, 'Sinn Fein', 2020, 'IE', nan], [nan, nan, 'Leo Varadkar', 'LeoVaradkar', 7, 2, 'Fine Gael', 2020, 'IE', nan], [nan, nan, 'Eamon Ryan', 'EamonRyan', -2, -3, 'Green', 2020, 'IE', nan], [nan, nan, 'Brendan Howlin', 'BrendanHowlin', 2, -1, 'Labour', 2020, 'IE', nan], [nan, nan, 'Catherine Murphy', 'CathMurphyTD', -3, -3, 'Social Democrats', 2020, 'IE', nan], [nan, nan, 'Roisin Shortall', 'RoisinShortall', -3, -3, 'Social Democrats', 2020, 'IE', nan], [nan, nan, 'Peer Steinbruck', 'peersteinbrueck', 1, 2, 'SPD', 2013, 'DE', nan], [nan, nan, 'Gregor Gysi', 'GregorGysi', -5, -7, 'Left', 2013, 'DE', nan], [nan, nan, 'Jurgen Trittin', 'JTrittin', -3, -4, 'Greens', 2013, 'DE', nan], [nan, nan, 'Katrin Goring-Eckardt', 'GoeringEckardt', -3, -4, 'Greens', 2013, 'DE', nan], [nan, nan, 'Martin Schulz', 'MartinSchulz', 3, 2, 'SPD', 2017, 'DE', nan], [nan, nan, 'Alexander Gauland', 'AG_AfD', 5, 8, 'AfD', 2017, 'DE', nan], [nan, nan, 'Alice Weidel', 'Alice_Weidel', 5, 8, 'AfD', 2017, 'DE', nan], [nan, nan, 'Christian Lindner', 'c_lindner', 7, 3, 'FDP', 2017, 'DE', nan], [nan, nan, 'Dietmar Bartsch', 'DietmarBartsch', -2, -1, 'Left', 2017, 'DE', nan], [nan, nan, 'Sahra Wagenknecht', 'SWagenknecht', -2, -1, 'Left', 2017, 'DE', nan], [nan, nan, 'Katrin Goring-Eckardt', 'GoeringEckardt', 2, 4, 'Greens', 2017, 'DE', nan], [nan, nan, 'Cem Ozdemir ', 'cem_oezdemir', 2, 4, 'Greens', 2017, 'DE', nan], [nan, nan, 'Olaf Scholz', 'OlafScholz', 4, 2, 'SPD', 2021, 'DE', nan], [nan, nan, 'Armin Laschet', 'ArminLaschet', 6, 6, 'CDU/CSU', 2021, 'DE', nan], [nan, nan, 'Annalena Baerbock', 'ABaerbock', 3, 3, 'Greens', 2021, 'DE', nan], [nan, nan, 'Christian Linder', 'c_lindner', 9, 1, 'FDP', 2021, 'DE', nan], [nan, nan, 'Alice Weidel', 'Alice_Weidel', 7, 8, 'AfD', 2021, 'DE', nan], [nan, nan, 'Tino Chrupalla', 'Tino_Chrupalla', 7, 8, 'AfD', 2021, 'DE', nan], [nan, nan, 'Janine Wissler', 'Janine_Wissler', -2, -1, 'Left', 2021, 'DE', nan], [nan, nan, 'Dietmar Bartsch', 'DietmarBartsch', -2, -1, 'Left', 2021, 'DE', nan], [nan, nan, 'Emmanuel Macron', 'EmmanuelMacron', 9, -1, 'EM', 2017, 'FR', nan], [nan, nan, 'Marie Le Pen', 'MLP_officiel', 0, 9, 'FN', 2017, 'FR', nan], [nan, nan, 'Jean-Luc Melenchon', 'JLMelenchon', -6, -1, 'LFI', 2017, 'FR', nan], [nan, nan, 'Benoit Hamon', 'benoithamon', -1, -1, 'PS', 2017, 'FR', nan], [nan, nan, 'Francois Fillon', 'FrancoisFillon', 8, 7, 'LR', 2017, 'FR', nan], [nan, nan, 'Emmanuel Macron', 'EmmanuelMacron', 8, 3, 'LREM', 2022, 'FR', nan], [nan, nan, 'Marie Le Pen', 'MLP_officiel', 1, 7, 'RN', 2022, 'FR', nan], [nan, nan, 'Anne Hildago', 'Anne_Hidalgo', 0, -1, 'PS', 2022, 'FR', nan], [nan, nan, 'Eric Zemmour', 'ZemmourEric', 8, 8, 'R!', 2022, 'FR', nan], [nan, nan, 'Valerie Pecresse', 'vpecresse', 8, 6, 'LR', 2022, 'FR', nan], [nan, nan, 'Yannick Jadot', 'yjadot', -2, -2, 'LE', 2022, 'FR', nan], [nan, nan, 'Jean-Luc Melenchon', 'JLMelenchon', -6, -1, 'LFI', 2022, 'FR', nan], [nan, nan, 'Fabien Roussel', 'Fabien_Roussel', -8, 1, 'PCF', 2022, 'FR', nan], [nan, nan, 'Julia Gillard', 'JuliaGillard', 4, 4, 'Labor', 2010, 'AUS', nan], [nan, nan, 'Tony Abbot', 'HonTonyAbbott', 7, 7, 'Liberal/National Coalition', 2010, 'AUS', nan], [nan, nan, 'Bob Brown', 'DrBobBrown', -2, -3, 'Greens', 2010, 'AUS', nan], [nan, nan, 'Tony Abbot', 'HonTonyAbbott', 7, 7, 'Liberal/National Coalition', 2013, 'AUS', nan], [nan, nan, 'Kevin Rudd', 'MrKRudd', 5, 5, 'Labor', 2013, 'AUS', nan], [nan, nan, 'Chrstine Milne', 'ChristineMilne', -3, -4, 'Greens', 2013, 'AUS', nan], [nan, nan, 'Bob Katter', 'RealBobKatter', -2, 8, \"Katter's Australia\", 2013, 'AUS', nan], [nan, nan, 'Malcolm Turnbull', 'TurnbullMalcolm', 8, 7, 'Liberal/National Coalition', 2016, 'AUS', nan], [nan, nan, 'Bill Shorten', 'billshortenmp', 4, 4, 'Labor', 2016, 'AUS', nan], [nan, nan, 'Richard Di Natale', 'RichardDiNatale', -1, -5, 'Greens', 2016, 'AUS', nan], [nan, nan, 'Bob Katter', 'RealBobKatter', 8, -2, \"Katter's Australia\", 2016, 'AUS', nan], [nan, nan, 'Scott Morrison', 'ScoMo30', 8, 7, 'Liberal/National Coalition', 2019, 'AUS', nan], [nan, nan, 'Bill Shorten', 'billshortenmp', 4, 3, 'Labour', 2019, 'AUS', nan], [nan, nan, 'Richard Di Natale', 'RichardDiNatale', -3, -2, 'Greens', 2019, 'AUS', nan], [nan, nan, 'Bob Katter', 'RealBobKatter', 7, -2, \"Katter's Australia\", 2019, 'AUS', nan], [nan, nan, 'Rebekha Sharkie', 'MakeMayoMatter', 5, 5, 'Centre Alliance', 2019, 'AUS', nan], [nan, nan, 'Anthony Albanese', 'AlboMP', 4, 2, 'Labour', 2022, 'AUS', nan], [nan, nan, 'Scott Morrison', 'ScoMo30', 8, 8, 'Liberal/National Coalition', 2022, 'AUS', nan], [nan, nan, 'Adam Bandt', 'AdamBandt', -3, -2, 'Greens', 2022, 'AUS', nan], [nan, nan, 'Bob Katter', 'RealBobKatter', 8, -1, \"Katter's Australia\", 2022, 'AUS', nan], [nan, nan, 'Jair Bolsanaro', 'jairbolsonaro', 9, 9, 'Liberal', 2022, 'BR', nan], [nan, nan, 'Lula da Silva', 'LulaOficial', -3, -2, 'Workers', 2022, 'BR', nan], [nan, nan, 'John Key', 'RtHon_JohnKey', 7, 4, 'National', 2011, 'NZ', nan], [nan, nan, 'Phil Goff', 'phil_goff', 2, 0, 'Labour', 2011, 'NZ', nan], [nan, nan, 'Russel Norman', 'RusselNorman', -4, -2, 'Green', 2011, 'NZ', nan], [nan, nan, 'Metiria Turei', 'MetiriaTureiMP', -4, -2, 'Green', 2011, 'NZ', nan], [nan, nan, 'Pita Sharples', 'papapita', -1, 0, 'Maori Party', 2011, 'NZ', nan], [nan, nan, 'Hone Harawire', 'MPHoneHarawira', -3, 3, 'Mana', 2011, 'NZ', nan], [nan, nan, 'Don Brash', 'DonBrashNZ', 8, 4, 'ACT', 2011, 'NZ', nan], [nan, nan, 'Peter Dunne', 'honpeterdunne', 5, 5, 'United Future', 2011, 'NZ', nan], [nan, nan, 'John Key', 'RtHon_JohnKey', 7, 5, 'National', 2014, 'NZ', nan], [nan, nan, 'David Cunliffe', 'davidcunliffe', 2, 1, 'Labour', 2014, 'NZ', nan], [nan, nan, 'Russel Norman', 'RusselNorman', -4, -4, 'Green', 2014, 'NZ', nan], [nan, nan, 'Metiria Turei', 'MetiriaTureiMP', -4, -4, 'Green', 2014, 'NZ', nan], [nan, nan, 'Winston Peters', 'winstonpeters', -1, 2, 'NZ First', 2014, 'NZ', nan], [nan, nan, 'Te Ururoa Flavell', 'TeUruroaFlavell', -1, 0, 'Maori Party', 2014, 'NZ', nan], [nan, nan, 'Jamie Whyte', '_JamieWhyte', 9, 7, 'ACT', 2014, 'NZ', nan], [nan, nan, 'Peter Dunne', 'honpeterdunne', 3, 0, 'United Future', 2014, 'NZ', nan], [nan, nan, 'Hone Harawire', 'MPHoneHarawira', -5, -2, 'Internet Mana', 2014, 'NZ', nan], [nan, nan, 'Laila Harre', 'lailaharre', -5, -2, 'Internet Mana', 2014, 'NZ', nan], [nan, nan, 'Bill English', 'RtHonBEnglish', 8, 6, 'National', 2017, 'NZ', nan], [nan, nan, 'Jacinda Ardern', 'jacindaardern', 3, 2, 'Labour', 2017, 'NZ', nan], [nan, nan, 'Winston Peters', 'winstonpeters', -1, 4, 'NZ First', 2017, 'NZ', nan], [nan, nan, 'James Shaw', 'jamespeshaw', -3, -3, 'Green', 2017, 'NZ', nan], [nan, nan, 'David Seymour', 'dbseymour', 9, 7, 'ACT', 2017, 'NZ', nan], [nan, nan, 'Te Ururoa Flavell', 'TeUruroaFlavell', -1, 0, 'Maori Party', 2017, 'NZ', nan], [nan, nan, 'Jacinda Ardern', 'jacindaardern', 5, 3, 'Labour', 2020, 'NZ', nan], [nan, nan, 'Judith Collins', 'JudithCollinsMP', 8, 6, 'National', 2020, 'NZ', nan], [nan, nan, 'James Shaw', 'jamespeshaw', -3, -3, 'Green', 2020, 'NZ', nan], [nan, nan, 'Marama Davidson', 'MaramaDavidson', -3, -3, 'Green', 2020, 'NZ', nan], [nan, nan, 'David Seymour', 'dbseymour', 9, -1, 'ACT', 2020, 'NZ', nan], [nan, nan, 'John Tamihere', 'john_tamihere', 0, 0, 'Maori Party', 2020, 'NZ', nan], [nan, nan, 'Debbie Ngarewa-Packer', 'whaeadeb', 0, 0, 'Maori Party', 2020, 'NZ', nan], [nan, nan, 'Winston Peters', 'winstonpeters', 7, 7, 'NZ First', 2020, 'NZ', nan], [nan, nan, 'Christopher Luxon', 'chrisluxonmp', 8, 6, 'National', 2023, 'NZ', nan], [nan, nan, 'Chris Hipkins', 'chrishipkins', 6, 4, 'Labour', 2023, 'NZ', nan], [nan, nan, 'James Shaw', 'jamespeshaw', -2, -3, 'Green', 2023, 'NZ', nan], [nan, nan, 'Marama Davidson', 'MaramaDavidson', -2, -3, 'Green', 2023, 'NZ', nan], [nan, nan, 'David Seymour', 'dbseymour', 10, -2, 'ACT', 2023, 'NZ', nan], [nan, nan, 'Winston Peters', 'winstonpeters', 7, 7, 'NZ First', 2023, 'NZ', nan], [nan, nan, 'Debbie Ngarewa-Packer', 'whaeadeb', -1, 1, 'Te Pati Maori', 2023, 'NZ', nan]]\n"
     ]
    }
   ],
   "source": [
    "# turn pandas into list\n",
    "# there is probably a better way to do this but this works \n",
    "i = 0\n",
    "data_list = []\n",
    "for row in df.iterrows():\n",
    "    row_list = df.loc[i, :].values.flatten().tolist()\n",
    "    data_list.append(row_list)\n",
    "    i += 1\n",
    "print(data_list)"
   ]
  },
  {
   "cell_type": "code",
   "execution_count": 25,
   "metadata": {},
   "outputs": [
    {
     "name": "stdout",
     "output_type": "stream",
     "text": [
      "BarackObama\n",
      "Success: BarackObama, <User id=\"813286\">\n",
      "JoeBiden\n",
      "Success: JoeBiden, <User id=\"939091\">\n",
      "Dennis_Kucinich\n",
      "Success: Dennis_Kucinich, <User id=\"15022633\">\n",
      "GovRichardson\n",
      "Success: GovRichardson, <User id=\"31428685\">\n",
      "GovMikeHuckabee\n",
      "Success: GovMikeHuckabee, <User id=\"15416505\">\n",
      "HillaryClinton\n",
      "Success: HillaryClinton, <User id=\"1339835893\">\n",
      "RonPaul\n",
      "Success: RonPaul, <User id=\"287413569\">\n",
      "SenJohnMcCain\n",
      "Success: SenJohnMcCain, <User id=\"19394188\">\n",
      "newtgingrich\n",
      "Success: newtgingrich, <User id=\"20713061\">\n",
      "MikeGravel_US\n",
      "Success: MikeGravel_US, <User id=\"752638969095999489\">\n",
      "loyaltoliberty\n",
      "Success: loyaltoliberty, <User id=\"19637821\">\n",
      "MittRomney\n",
      "Success: MittRomney, <User id=\"50055701\">\n",
      "fredthompson\n",
      "Success: fredthompson, <User id=\"2704951\">\n",
      "SenChrisDodd\n",
      "Success: SenChrisDodd, <User id=\"16317406\">\n",
      "RudyGiuliani\n",
      "Success: RudyGiuliani, <User id=\"770781940341288960\">\n",
      "RalphNader\n",
      "Success: RalphNader, <User id=\"77314692\">\n",
      "ttancredo\n",
      "Success: ttancredo, <User id=\"64534908\">\n",
      "DrJillStein\n"
     ]
    },
    {
     "ename": "TooManyRequests",
     "evalue": "status: 429, message: \"Rate limit exceeded\n\"",
     "output_type": "error",
     "traceback": [
      "\u001b[1;31m---------------------------------------------------------------------------\u001b[0m",
      "\u001b[1;31mTooManyRequests\u001b[0m                           Traceback (most recent call last)",
      "Cell \u001b[1;32mIn[25], line 9\u001b[0m\n\u001b[0;32m      7\u001b[0m \u001b[38;5;28mprint\u001b[39m(handle)\n\u001b[0;32m      8\u001b[0m \u001b[38;5;28;01mtry\u001b[39;00m:\n\u001b[1;32m----> 9\u001b[0m     user_id \u001b[38;5;241m=\u001b[39m \u001b[43mget_user_id\u001b[49m\u001b[43m(\u001b[49m\u001b[43mhandle\u001b[49m\u001b[43m)\u001b[49m\n\u001b[0;32m     10\u001b[0m     item\u001b[38;5;241m.\u001b[39minsert(\u001b[38;5;241m1\u001b[39m, user_id\u001b[38;5;241m.\u001b[39mid)\n\u001b[0;32m     11\u001b[0m     \u001b[38;5;28mprint\u001b[39m(\u001b[38;5;124mf\u001b[39m\u001b[38;5;124m'\u001b[39m\u001b[38;5;124mSuccess: \u001b[39m\u001b[38;5;132;01m{\u001b[39;00mhandle\u001b[38;5;132;01m}\u001b[39;00m\u001b[38;5;124m, \u001b[39m\u001b[38;5;132;01m{\u001b[39;00muser_id\u001b[38;5;132;01m}\u001b[39;00m\u001b[38;5;124m'\u001b[39m)\n",
      "Cell \u001b[1;32mIn[3], line 4\u001b[0m, in \u001b[0;36mget_user_id\u001b[1;34m(handle)\u001b[0m\n\u001b[0;32m      1\u001b[0m \u001b[38;5;28;01mdef\u001b[39;00m \u001b[38;5;21mget_user_id\u001b[39m(handle):\n\u001b[0;32m      2\u001b[0m     \u001b[38;5;66;03m# load the cookies so you don't login a million times and get banned\u001b[39;00m\n\u001b[0;32m      3\u001b[0m     client\u001b[38;5;241m.\u001b[39mload_cookies(\u001b[38;5;124m'\u001b[39m\u001b[38;5;124mcookies.json\u001b[39m\u001b[38;5;124m'\u001b[39m)\n\u001b[1;32m----> 4\u001b[0m     \u001b[38;5;28;01mreturn\u001b[39;00m(\u001b[43mclient\u001b[49m\u001b[38;5;241;43m.\u001b[39;49m\u001b[43mget_user_by_screen_name\u001b[49m\u001b[43m(\u001b[49m\u001b[43mhandle\u001b[49m\u001b[43m)\u001b[49m)\n",
      "File \u001b[1;32m~\\AppData\\Local\\Packages\\PythonSoftwareFoundation.Python.3.11_qbz5n2kfra8p0\\LocalCache\\local-packages\\Python311\\site-packages\\twikit\\client.py:1166\u001b[0m, in \u001b[0;36mClient.get_user_by_screen_name\u001b[1;34m(self, screen_name)\u001b[0m\n\u001b[0;32m   1157\u001b[0m variables \u001b[38;5;241m=\u001b[39m {\n\u001b[0;32m   1158\u001b[0m     \u001b[38;5;124m'\u001b[39m\u001b[38;5;124mscreen_name\u001b[39m\u001b[38;5;124m'\u001b[39m: screen_name,\n\u001b[0;32m   1159\u001b[0m     \u001b[38;5;124m'\u001b[39m\u001b[38;5;124mwithSafetyModeUserFields\u001b[39m\u001b[38;5;124m'\u001b[39m: \u001b[38;5;28;01mFalse\u001b[39;00m\n\u001b[0;32m   1160\u001b[0m }\n\u001b[0;32m   1161\u001b[0m params \u001b[38;5;241m=\u001b[39m flatten_params({\n\u001b[0;32m   1162\u001b[0m     \u001b[38;5;124m'\u001b[39m\u001b[38;5;124mvariables\u001b[39m\u001b[38;5;124m'\u001b[39m: variables,\n\u001b[0;32m   1163\u001b[0m     \u001b[38;5;124m'\u001b[39m\u001b[38;5;124mfeatures\u001b[39m\u001b[38;5;124m'\u001b[39m: USER_FEATURES,\n\u001b[0;32m   1164\u001b[0m     \u001b[38;5;124m'\u001b[39m\u001b[38;5;124mfieldToggles\u001b[39m\u001b[38;5;124m'\u001b[39m: {\u001b[38;5;124m'\u001b[39m\u001b[38;5;124mwithAuxiliaryUserLabels\u001b[39m\u001b[38;5;124m'\u001b[39m: \u001b[38;5;28;01mFalse\u001b[39;00m}\n\u001b[0;32m   1165\u001b[0m })\n\u001b[1;32m-> 1166\u001b[0m response \u001b[38;5;241m=\u001b[39m \u001b[38;5;28;43mself\u001b[39;49m\u001b[38;5;241;43m.\u001b[39;49m\u001b[43mhttp\u001b[49m\u001b[38;5;241;43m.\u001b[39;49m\u001b[43mget\u001b[49m\u001b[43m(\u001b[49m\n\u001b[0;32m   1167\u001b[0m \u001b[43m    \u001b[49m\u001b[43mEndpoint\u001b[49m\u001b[38;5;241;43m.\u001b[39;49m\u001b[43mUSER_BY_SCREEN_NAME\u001b[49m\u001b[43m,\u001b[49m\n\u001b[0;32m   1168\u001b[0m \u001b[43m    \u001b[49m\u001b[43mparams\u001b[49m\u001b[38;5;241;43m=\u001b[39;49m\u001b[43mparams\u001b[49m\u001b[43m,\u001b[49m\n\u001b[0;32m   1169\u001b[0m \u001b[43m    \u001b[49m\u001b[43mheaders\u001b[49m\u001b[38;5;241;43m=\u001b[39;49m\u001b[38;5;28;43mself\u001b[39;49m\u001b[38;5;241;43m.\u001b[39;49m\u001b[43m_base_headers\u001b[49m\n\u001b[0;32m   1170\u001b[0m \u001b[43m\u001b[49m\u001b[43m)\u001b[49m\u001b[38;5;241m.\u001b[39mjson()\n\u001b[0;32m   1172\u001b[0m \u001b[38;5;28;01mif\u001b[39;00m \u001b[38;5;124m'\u001b[39m\u001b[38;5;124muser\u001b[39m\u001b[38;5;124m'\u001b[39m \u001b[38;5;129;01mnot\u001b[39;00m \u001b[38;5;129;01min\u001b[39;00m response[\u001b[38;5;124m'\u001b[39m\u001b[38;5;124mdata\u001b[39m\u001b[38;5;124m'\u001b[39m]:\n\u001b[0;32m   1173\u001b[0m     \u001b[38;5;28;01mraise\u001b[39;00m UserNotFound(\u001b[38;5;124m'\u001b[39m\u001b[38;5;124mThe user does not exist.\u001b[39m\u001b[38;5;124m'\u001b[39m)\n",
      "File \u001b[1;32m~\\AppData\\Local\\Packages\\PythonSoftwareFoundation.Python.3.11_qbz5n2kfra8p0\\LocalCache\\local-packages\\Python311\\site-packages\\twikit\\http.py:51\u001b[0m, in \u001b[0;36mHTTPClient.get\u001b[1;34m(self, url, **kwargs)\u001b[0m\n\u001b[0;32m     50\u001b[0m \u001b[38;5;28;01mdef\u001b[39;00m \u001b[38;5;21mget\u001b[39m(\u001b[38;5;28mself\u001b[39m, url, \u001b[38;5;241m*\u001b[39m\u001b[38;5;241m*\u001b[39mkwargs) \u001b[38;5;241m-\u001b[39m\u001b[38;5;241m>\u001b[39m httpx\u001b[38;5;241m.\u001b[39mResponse:\n\u001b[1;32m---> 51\u001b[0m     \u001b[38;5;28;01mreturn\u001b[39;00m \u001b[38;5;28;43mself\u001b[39;49m\u001b[38;5;241;43m.\u001b[39;49m\u001b[43mrequest\u001b[49m\u001b[43m(\u001b[49m\u001b[38;5;124;43m'\u001b[39;49m\u001b[38;5;124;43mGET\u001b[39;49m\u001b[38;5;124;43m'\u001b[39;49m\u001b[43m,\u001b[49m\u001b[43m \u001b[49m\u001b[43murl\u001b[49m\u001b[43m,\u001b[49m\u001b[43m \u001b[49m\u001b[38;5;241;43m*\u001b[39;49m\u001b[38;5;241;43m*\u001b[39;49m\u001b[43mkwargs\u001b[49m\u001b[43m)\u001b[49m\n",
      "File \u001b[1;32m~\\AppData\\Local\\Packages\\PythonSoftwareFoundation.Python.3.11_qbz5n2kfra8p0\\LocalCache\\local-packages\\Python311\\site-packages\\twikit\\http.py:42\u001b[0m, in \u001b[0;36mHTTPClient.request\u001b[1;34m(self, method, url, **kwargs)\u001b[0m\n\u001b[0;32m     40\u001b[0m     \u001b[38;5;28;01mraise\u001b[39;00m RequestTimeout(message, headers\u001b[38;5;241m=\u001b[39mresponse\u001b[38;5;241m.\u001b[39mheaders)\n\u001b[0;32m     41\u001b[0m \u001b[38;5;28;01melif\u001b[39;00m status_code \u001b[38;5;241m==\u001b[39m \u001b[38;5;241m429\u001b[39m:\n\u001b[1;32m---> 42\u001b[0m     \u001b[38;5;28;01mraise\u001b[39;00m TooManyRequests(message, headers\u001b[38;5;241m=\u001b[39mresponse\u001b[38;5;241m.\u001b[39mheaders)\n\u001b[0;32m     43\u001b[0m \u001b[38;5;28;01melif\u001b[39;00m \u001b[38;5;241m500\u001b[39m \u001b[38;5;241m<\u001b[39m\u001b[38;5;241m=\u001b[39m status_code \u001b[38;5;241m<\u001b[39m \u001b[38;5;241m600\u001b[39m:\n\u001b[0;32m     44\u001b[0m     \u001b[38;5;28;01mraise\u001b[39;00m ServerError(message, headers\u001b[38;5;241m=\u001b[39mresponse\u001b[38;5;241m.\u001b[39mheaders)\n",
      "\u001b[1;31mTooManyRequests\u001b[0m: status: 429, message: \"Rate limit exceeded\n\""
     ]
    }
   ],
   "source": [
    "from twikit import UserUnavailable\n",
    "from twikit import UserNotFound\n",
    "\n",
    "for item in data_list:\n",
    "    # pull IDs and insert them back into the list\n",
    "    handle = item[3]\n",
    "    print(handle)\n",
    "    try:\n",
    "        user_id = get_user_id(handle)\n",
    "        item.insert(1, user_id.id)\n",
    "        print(f'Success: {handle}, {user_id}')\n",
    "    # if user is inaccessible this will keep the loop from breaking\n",
    "    except UserUnavailable:\n",
    "        print(f\"User {handle} unavailable\")\n",
    "    except UserNotFound:\n",
    "        print(f'User not found {handle}')\n",
    "    time.sleep(5)  # cooldown so we don't get banned"
   ]
  }
 ],
 "metadata": {
  "kernelspec": {
   "display_name": "Python 3",
   "language": "python",
   "name": "python3"
  },
  "language_info": {
   "codemirror_mode": {
    "name": "ipython",
    "version": 3
   },
   "file_extension": ".py",
   "mimetype": "text/x-python",
   "name": "python",
   "nbconvert_exporter": "python",
   "pygments_lexer": "ipython3",
   "version": "3.11.9"
  }
 },
 "nbformat": 4,
 "nbformat_minor": 2
}

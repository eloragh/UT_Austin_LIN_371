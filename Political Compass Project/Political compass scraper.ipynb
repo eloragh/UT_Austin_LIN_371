{
 "cells": [
  {
   "cell_type": "code",
   "execution_count": 2,
   "metadata": {},
   "outputs": [
    {
     "data": {
      "text/plain": [
       "{'flow_token': 'g;171374390967084951:-1713743909726:g55eymvnx5Rrdkubm5GpNhne:14',\n",
       " 'status': 'success',\n",
       " 'subtasks': [{'subtask_id': 'LoginSuccessSubtask',\n",
       "   'open_account': {'user': {'id': 1547081484695216130,\n",
       "     'id_str': '1547081484695216130',\n",
       "     'name': 'Eloragh Espie',\n",
       "     'screen_name': 'EloraghEspie'},\n",
       "    'next_link': {'link_type': 'subtask',\n",
       "     'link_id': 'next_link',\n",
       "     'subtask_id': 'SuccessExit'},\n",
       "    'attribution_event': 'login'}},\n",
       "  {'subtask_id': 'SuccessExit',\n",
       "   'open_link': {'link': {'link_type': 'subtask',\n",
       "     'link_id': 'next_link',\n",
       "     'subtask_id': 'LoginOpenHomeTimeline'}}},\n",
       "  {'subtask_id': 'LoginOpenHomeTimeline',\n",
       "   'open_home_timeline': {'next_link': {'link_type': 'abort',\n",
       "     'link_id': 'next_link'}}}]}"
      ]
     },
     "execution_count": 2,
     "metadata": {},
     "output_type": "execute_result"
    }
   ],
   "source": [
    "from twikit import Client\n",
    "import time\n",
    "import json\n",
    "from twikit import TwitterException \n",
    "\n",
    "# this API requires authentication\n",
    "f = open('authentication.txt', 'r')\n",
    "auth = f.read()\n",
    "f.close()\n",
    "auth_token = auth.split(\"\\n\")\n",
    "\n",
    "# don't hardcode your email and password into something!!!\n",
    "# the auth is in gitignore so I won't get hacked\n",
    "USERNAME = str(auth_token[0])\n",
    "EMAIL = str(auth_token[1])\n",
    "PASSWORD = str(auth_token[2])\n",
    "\n",
    "# Initialize client\n",
    "client = Client(language='en-US', http2=True)\n",
    "\n",
    "# Login to the service with provided user credentials\n",
    "client.login(\n",
    "    auth_info_1=USERNAME ,\n",
    "    auth_info_2=EMAIL,\n",
    "    password=PASSWORD\n",
    ")"
   ]
  },
  {
   "cell_type": "code",
   "execution_count": 3,
   "metadata": {},
   "outputs": [],
   "source": [
    "# Twitter LOVES to ban people when they log in repeatedly\n",
    "# saving the cookies makes sure I don't get banned (often)\n",
    "\n",
    "client.get_cookies()\n",
    "client.save_cookies('IGNOREcookies.json')\n",
    "with open('IGNOREcookies.json', 'r', encoding='UTF8') as f:\n",
    "    client.set_cookies(json.load(f))"
   ]
  },
  {
   "cell_type": "code",
   "execution_count": null,
   "metadata": {},
   "outputs": [],
   "source": [
    "# INPUT: the user handle, a beginning and end of a date range\n",
    "# OUTPUT: the user handle, the user_ID, and the scraped tweets\n",
    "def get_all_tweets(handle, since, until):\n",
    "\n",
    "    # load the cookies so you don't login a million times and get banned\n",
    "    client.load_cookies('IGNOREcookies.json')\n",
    "    user_id = client.get_user_by_screen_name(handle)\n",
    "\n",
    "    # initialize the list we will store our data in\n",
    "    mass_tweets = []\n",
    "\n",
    "    # this will pull the first forty tweets\n",
    "    tweets = client.search_tweet(\n",
    "        f'from:{handle} since:{since} until:{until}', 'Top', count=20\n",
    "    )\n",
    "\n",
    "    # if it returns an empty list, the user had no available tweets during the date time range\n",
    "    if len(tweets) == 0:\n",
    "        print('No tweets available')\n",
    "        return(handle, user_id, [])\n",
    "    \n",
    "    # this will keep looking for tweets until a certain number of them has been reached\n",
    "    else:\n",
    "        while len(mass_tweets) >= 0 and len(mass_tweets) < 2000:\n",
    "\n",
    "            # this API provides a 'tweet' object, but we only want the id when we return\n",
    "            tweets1 = [tweet.id for tweet in tweets]\n",
    "            mass_tweets += tweets1\n",
    "            time.sleep(1)  # cooldown so we don't get banned\n",
    "\n",
    "            # keep pulling tweets until number is hit or there are none left\n",
    "            tweets = tweets.next()\n",
    "\n",
    "            # we need to make a check in case we've hit the max number of tweets we can scrape\n",
    "            # this prevents us from pinging the API for no reason\n",
    "            if len(tweets) == 0:\n",
    "                print(\"No more tweets\")\n",
    "                break\n",
    "            else:\n",
    "                print(len(mass_tweets))\n",
    "                continue\n",
    "\n",
    "    return(handle, user_id, mass_tweets)"
   ]
  },
  {
   "cell_type": "code",
   "execution_count": null,
   "metadata": {},
   "outputs": [],
   "source": [
    "def process_tweets(handle, name, user_id, tweet_ids):\n",
    "    # load the cookies so you don't login a million times and get banned\n",
    "    client.load_cookies('IGNOREcookies.json')\n",
    "\n",
    "    # initialize a list to store all tuples\n",
    "    tweets = []\n",
    "    for id in tweet_ids:\n",
    "        # it throws an Index Error if the tweet has been deleted/ is not available\n",
    "        try:\n",
    "            # using the IDs we pulled from above\n",
    "            tweet = client.get_tweet_by_id(id)\n",
    "            # get the user id, name, handle, tweet id, tweet text, and date\n",
    "            tweets.append((int(tweet.id), int(user_id.id), name, handle, str(tweet.text), str(tweet.lang), tweet.is_translatable, tweet.created_at_datetime))\n",
    "        except IndexError:\n",
    "            print(f'Index Error: {tweet}')\n",
    "    \n",
    "    return tweets"
   ]
  },
  {
   "cell_type": "code",
   "execution_count": null,
   "metadata": {},
   "outputs": [],
   "source": [
    "import time\n",
    "from math import ceil\n",
    "import requests\n",
    "from twikit import TooManyRequests\n",
    "from twikit.utils import Endpoint\n",
    "\n",
    "# this is a housekeeping function\n",
    "# twitter API can throw rate limits\n",
    "# they're kind of like timeouts\n",
    "# this function just shows me how much longer I will be in timeout for\n",
    "\n",
    "def get_limit_reset_time(endpoint: str):\n",
    "    res = requests.get(\n",
    "        endpoint,\n",
    "        headers=client._base_headers,\n",
    "        cookies = client.load_cookies('IGNOREcookies.json')\n",
    "    )\n",
    "    return ceil(int(res.headers['x-rate-limit-reset']) - time.time())"
   ]
  },
  {
   "cell_type": "code",
   "execution_count": null,
   "metadata": {},
   "outputs": [],
   "source": [
    "# timeout check for scraping tweet IDs\n",
    "try:\n",
    "    print(client.search_tweet(\n",
    "        f'from:JoeBiden since:2020-01-01 until:2021-03-01', 'Latest', count=40\n",
    "    ))\n",
    "except TooManyRequests:\n",
    "    reset_time = get_limit_reset_time(Endpoint.USER_TWEETS)\n",
    "    print(f'rate limit is reset after {reset_time} seconds.')"
   ]
  },
  {
   "cell_type": "code",
   "execution_count": null,
   "metadata": {},
   "outputs": [],
   "source": [
    "# timeout check for processing tweets\n",
    "try:\n",
    "    print(client.get_tweet_by_id(1351951465674276869))\n",
    "except TooManyRequests:\n",
    "    reset_time = get_limit_reset_time(Endpoint.USER_TWEETS)\n",
    "    print(f'rate limit is reset after {reset_time} seconds.')"
   ]
  },
  {
   "cell_type": "code",
   "execution_count": null,
   "metadata": {},
   "outputs": [],
   "source": [
    "# another housekeeping function\n",
    "# if I'm suddenly getting 403 errors, I can use this to check if I've been banned\n",
    "# sometimes I just have to go on the browser and reauthenticate\n",
    "\n",
    "def check_user_status(user_id):\n",
    "    \"\"\"\n",
    "    True if the user is active, otherwise false (not exists or suspended).\n",
    "    \"\"\"\n",
    "    try:\n",
    "        client.get_user_by_id(user_id)\n",
    "    except TwitterException as e:\n",
    "        if str(e).startswith('Invalid user id'):\n",
    "            return False\n",
    "        raise e\n",
    "    else:\n",
    "        return True"
   ]
  },
  {
   "cell_type": "code",
   "execution_count": null,
   "metadata": {},
   "outputs": [],
   "source": [
    "check_user_status(1547081484695216130)"
   ]
  },
  {
   "cell_type": "code",
   "execution_count": null,
   "metadata": {},
   "outputs": [],
   "source": [
    "# this scrapes the tweet IDs\n",
    "handle, user_id, tweets = get_all_tweets('realDonaldTrump', since='2014-01-01', until='2024-03-01')\n",
    "print(handle, user_id, tweets)"
   ]
  },
  {
   "cell_type": "code",
   "execution_count": null,
   "metadata": {},
   "outputs": [],
   "source": [
    "# this cleans them and puts them in the format I need for uploading to the SQLite table\n",
    "tweets2 = process_tweets(handle, 'Elon Musk', user_id, tweets)"
   ]
  },
  {
   "cell_type": "code",
   "execution_count": null,
   "metadata": {},
   "outputs": [],
   "source": [
    "for tweet in tweets2:\n",
    "    print(tweet)"
   ]
  },
  {
   "cell_type": "code",
   "execution_count": null,
   "metadata": {},
   "outputs": [],
   "source": [
    "import sqlite3\n",
    "conn = sqlite3.connect('tweets.db')\n",
    "c = conn.cursor()\n",
    "\n",
    "c.execute(\"\"\"CREATE TABLE tweets (\n",
    "          tweet_id INTEGER primary key,\n",
    "          user_id INTEGER,\n",
    "          user_name TEXT,\n",
    "          user_handle TEXT,\n",
    "          tweet_text TEXT,\n",
    "          tweet_lang TEXT,\n",
    "          created_date DATETIME\n",
    "          )\"\"\")"
   ]
  },
  {
   "cell_type": "code",
   "execution_count": null,
   "metadata": {},
   "outputs": [],
   "source": [
    "conn.execute('DROP TABLE tweets')"
   ]
  },
  {
   "cell_type": "code",
   "execution_count": null,
   "metadata": {},
   "outputs": [],
   "source": [
    "# upload data in SQLite table\n",
    "# storing this data is important since this is an unofficial API\n",
    "# every time I access it, I am risking not being able to access it again\n",
    "\n",
    "c.executemany(\"INSERT INTO tweets VALUES (?,?,?,?,?,?,?)\", tweets2)\n",
    "conn.commit()\n"
   ]
  }
 ],
 "metadata": {
  "kernelspec": {
   "display_name": "Python 3",
   "language": "python",
   "name": "python3"
  },
  "language_info": {
   "codemirror_mode": {
    "name": "ipython",
    "version": 3
   },
   "file_extension": ".py",
   "mimetype": "text/x-python",
   "name": "python",
   "nbconvert_exporter": "python",
   "pygments_lexer": "ipython3",
   "version": "3.11.9"
  }
 },
 "nbformat": 4,
 "nbformat_minor": 2
}

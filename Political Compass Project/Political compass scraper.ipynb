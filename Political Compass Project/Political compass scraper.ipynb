{
 "cells": [
  {
   "cell_type": "code",
   "execution_count": 1,
   "metadata": {},
   "outputs": [
    {
     "data": {
      "text/plain": [
       "{'flow_token': 'g;171357469271098860:-1713574692775:2blU7Qx8woiVwA0w72l1Og8w:14',\n",
       " 'status': 'success',\n",
       " 'subtasks': [{'subtask_id': 'LoginSuccessSubtask',\n",
       "   'open_account': {'user': {'id': 1547081484695216130,\n",
       "     'id_str': '1547081484695216130',\n",
       "     'name': 'Eloragh Espie',\n",
       "     'screen_name': 'EloraghEspie'},\n",
       "    'next_link': {'link_type': 'subtask',\n",
       "     'link_id': 'next_link',\n",
       "     'subtask_id': 'SuccessExit'},\n",
       "    'attribution_event': 'login'}},\n",
       "  {'subtask_id': 'SuccessExit',\n",
       "   'open_link': {'link': {'link_type': 'subtask',\n",
       "     'link_id': 'next_link',\n",
       "     'subtask_id': 'LoginOpenHomeTimeline'}}},\n",
       "  {'subtask_id': 'LoginOpenHomeTimeline',\n",
       "   'open_home_timeline': {'next_link': {'link_type': 'abort',\n",
       "     'link_id': 'next_link'}}}]}"
      ]
     },
     "execution_count": 1,
     "metadata": {},
     "output_type": "execute_result"
    }
   ],
   "source": [
    "from twikit import Client\n",
    "import time\n",
    "import json\n",
    "from twikit import TwitterException \n",
    "\n",
    "f = open('authentication.txt', 'r')\n",
    "auth = f.read()\n",
    "f.close()\n",
    "auth_token = auth.split(\"\\n\")\n",
    "\n",
    "# this API requires authentication\n",
    "USERNAME = str(auth_token[0])\n",
    "EMAIL = str(auth_token[1])\n",
    "PASSWORD = str(auth_token[2])\n",
    "\n",
    "# Initialize client\n",
    "client = Client(language = 'en-US', http2=True)\n",
    "\n",
    "# Login to the service with provided user credentials\n",
    "client.login(\n",
    "    auth_info_1=USERNAME ,\n",
    "    auth_info_2=EMAIL,\n",
    "    password=PASSWORD\n",
    ")"
   ]
  },
  {
   "cell_type": "code",
   "execution_count": 2,
   "metadata": {},
   "outputs": [],
   "source": [
    "# Twitter LOVES to ban people when they log in repeatedly\n",
    "# saving the cookies makes sure I don't get banned (often)\n",
    "\n",
    "client.get_cookies()\n",
    "client.save_cookies('cookies.json')\n",
    "with open('cookies.json', 'r', encoding='UTF8') as f:\n",
    "    client.set_cookies(json.load(f))"
   ]
  },
  {
   "cell_type": "code",
   "execution_count": 3,
   "metadata": {},
   "outputs": [],
   "source": [
    "# INPUT: the user handle, a beginning and end of a date range\n",
    "# OUTPUT: the user handle, the user_ID, and the scraped tweets\n",
    "def get_all_tweets(handle, since, until):\n",
    "\n",
    "    # load the cookies so you don't login a million times and get banned\n",
    "    client.load_cookies('cookies.json')\n",
    "    user_id = client.get_user_by_screen_name(handle)\n",
    "\n",
    "    # initialize the list we will store our data in\n",
    "    mass_tweets = []\n",
    "\n",
    "    # this will pull the first forty tweets\n",
    "    tweets = client.search_tweet(\n",
    "        f'from:{handle} since:{since} until:{until}', 'Top', count=20\n",
    "    )\n",
    "\n",
    "    # if it returns an empty list, the user had no available tweets during the date time range\n",
    "    if len(tweets) == 0:\n",
    "        print('No tweets available')\n",
    "        return(handle, user_id, [])\n",
    "    \n",
    "    # this will keep looking for tweets until a certain number of them has been reached\n",
    "    else:\n",
    "        while len(mass_tweets) >= 0 and len(mass_tweets) < 20:\n",
    "\n",
    "            # this API provides a 'tweet' object, but we only want the id when we return\n",
    "            tweets1 = [tweet.id for tweet in tweets]\n",
    "            mass_tweets += tweets1\n",
    "            time.sleep(1)  # cooldown so we don't get banned\n",
    "\n",
    "            # keep pulling tweets until number is hit or there are none left\n",
    "            tweets = tweets.next()\n",
    "\n",
    "            # we need to make a check in case we've hit the max number of tweets we can scrape\n",
    "            # this prevents us from pinging the API for no reason\n",
    "            if len(tweets) == 0:\n",
    "                print(\"No more tweets\")\n",
    "                break\n",
    "            else:\n",
    "                print(len(mass_tweets))\n",
    "                continue\n",
    "\n",
    "    return(handle, user_id, mass_tweets)"
   ]
  },
  {
   "cell_type": "code",
   "execution_count": 4,
   "metadata": {},
   "outputs": [],
   "source": [
    "def process_tweets(handle, name, user_id, tweet_ids):\n",
    "    # load the cookies so you don't login a million times and get banned\n",
    "    client.load_cookies('cookies.json')\n",
    "\n",
    "    # initialize a list to store all tuples\n",
    "    tweets = []\n",
    "    for id in tweet_ids:\n",
    "        # it throws an Index Error if the tweet has been deleted\n",
    "        try:\n",
    "            # using the IDs we pulled from above\n",
    "            tweet = client.get_tweet_by_id(id)\n",
    "            # get the user id, name, handle, tweet id, tweet text, and date\n",
    "            tweets.append((int(tweet.id), int(user_id.id), name, handle, str(tweet.text), tweet.created_at_datetime))\n",
    "        except IndexError:\n",
    "            print(f'Index Error: {tweet}')\n",
    "    \n",
    "    return tweets"
   ]
  },
  {
   "cell_type": "code",
   "execution_count": 5,
   "metadata": {},
   "outputs": [],
   "source": [
    "import time\n",
    "from math import ceil\n",
    "import requests\n",
    "from twikit import TooManyRequests\n",
    "from twikit.utils import Endpoint\n",
    "\n",
    "# this is a housekeeping function\n",
    "# twitter API can throw rate limits\n",
    "# they're kind of like timeouts\n",
    "# this function just shows me how much longer I will be in timeout for\n",
    "\n",
    "def get_limit_reset_time(endpoint: str):\n",
    "    res = requests.get(\n",
    "        endpoint,\n",
    "        headers=client._base_headers,\n",
    "        cookies=client.get_cookies()\n",
    "    )\n",
    "    return ceil(int(res.headers['x-rate-limit-reset']) - time.time())"
   ]
  },
  {
   "cell_type": "code",
   "execution_count": 6,
   "metadata": {},
   "outputs": [
    {
     "name": "stdout",
     "output_type": "stream",
     "text": [
      "[<Tweet id=\"1351951465674276869\">, <Tweet id=\"1351918910199631872\">, <Tweet id=\"1351906918667677696\">, <Tweet id=\"1351897267666608129\">, <Tweet id=\"1351731172989050882\">, <Tweet id=\"1351711040933830659\">, <Tweet id=\"1351653131248041984\">, <Tweet id=\"1351630258114502656\">, <Tweet id=\"1351599720012021761\">, <Tweet id=\"1351367275094310912\">, <Tweet id=\"1351333542547001344\">, <Tweet id=\"1351265605840633858\">, <Tweet id=\"1351228360123318272\">, <Tweet id=\"1350981483062706177\">, <Tweet id=\"1350926118409289730\">, <Tweet id=\"1350878051710750725\">, <Tweet id=\"1350634446475694080\">, <Tweet id=\"1350593782832500737\">, <Tweet id=\"1350562220367884289\">, <Tweet id=\"1350515133034819584\">]\n"
     ]
    }
   ],
   "source": [
    "# timeout check for scraping tweet IDs\n",
    "try:\n",
    "    print(client.search_tweet(\n",
    "        f'from:JoeBiden since:2020-01-01 until:2021-03-01', 'Latest', count=40\n",
    "    ))\n",
    "except TooManyRequests:\n",
    "    reset_time = get_limit_reset_time(Endpoint.USER_TWEETS)\n",
    "    print(f'rate limit is reset after {reset_time} seconds.')"
   ]
  },
  {
   "cell_type": "code",
   "execution_count": 7,
   "metadata": {},
   "outputs": [
    {
     "ename": "TypeError",
     "evalue": "'tweet' is an invalid keyword argument for print()",
     "output_type": "error",
     "traceback": [
      "\u001b[1;31m---------------------------------------------------------------------------\u001b[0m",
      "\u001b[1;31mTypeError\u001b[0m                                 Traceback (most recent call last)",
      "Cell \u001b[1;32mIn[7], line 3\u001b[0m\n\u001b[0;32m      1\u001b[0m \u001b[38;5;66;03m# timeout check for processing tweets\u001b[39;00m\n\u001b[0;32m      2\u001b[0m \u001b[38;5;28;01mtry\u001b[39;00m:\n\u001b[1;32m----> 3\u001b[0m     \u001b[38;5;28;43mprint\u001b[39;49m\u001b[43m(\u001b[49m\u001b[43mtweet\u001b[49m\u001b[43m \u001b[49m\u001b[38;5;241;43m=\u001b[39;49m\u001b[43m \u001b[49m\u001b[43mclient\u001b[49m\u001b[38;5;241;43m.\u001b[39;49m\u001b[43mget_tweet_by_id\u001b[49m\u001b[43m(\u001b[49m\u001b[38;5;241;43m1351951465674276869\u001b[39;49m\u001b[43m)\u001b[49m\u001b[43m)\u001b[49m\n\u001b[0;32m      4\u001b[0m \u001b[38;5;28;01mexcept\u001b[39;00m TooManyRequests:\n\u001b[0;32m      5\u001b[0m     reset_time \u001b[38;5;241m=\u001b[39m get_limit_reset_time(Endpoint\u001b[38;5;241m.\u001b[39mUSER_TWEETS)\n",
      "\u001b[1;31mTypeError\u001b[0m: 'tweet' is an invalid keyword argument for print()"
     ]
    }
   ],
   "source": [
    "# timeout check for processing tweets\n",
    "try:\n",
    "    print(tweet = client.get_tweet_by_id(1351951465674276869))\n",
    "except TooManyRequests:\n",
    "    reset_time = get_limit_reset_time(Endpoint.USER_TWEETS)\n",
    "    print(f'rate limit is reset after {reset_time} seconds.')"
   ]
  },
  {
   "cell_type": "code",
   "execution_count": null,
   "metadata": {},
   "outputs": [],
   "source": [
    "# another housekeeping function\n",
    "# if I'm suddenly getting 403 errors, I can use this to check if I've been banned\n",
    "# sometimes I just have to go on the browser and reauthenticate\n",
    "\n",
    "def check_user_status(user_id):\n",
    "    \"\"\"\n",
    "    True if the user is active, otherwise false (not exists or suspended).\n",
    "    \"\"\"\n",
    "    try:\n",
    "        client.get_user_by_id(user_id)\n",
    "    except TwitterException as e:\n",
    "        if str(e).startswith('Invalid user id'):\n",
    "            return False\n",
    "        raise e\n",
    "    else:\n",
    "        return True"
   ]
  },
  {
   "cell_type": "code",
   "execution_count": null,
   "metadata": {},
   "outputs": [
    {
     "data": {
      "text/plain": [
       "True"
      ]
     },
     "execution_count": 9,
     "metadata": {},
     "output_type": "execute_result"
    }
   ],
   "source": [
    "check_user_status(1547081484695216130)"
   ]
  },
  {
   "cell_type": "code",
   "execution_count": 8,
   "metadata": {},
   "outputs": [
    {
     "name": "stdout",
     "output_type": "stream",
     "text": [
      "19\n",
      "39\n",
      "theresa_may <User id=\"747807250819981312\"> ['953739668876652544', '959056044155686913', '948893617355198464', '968926339276341248', '960910001031311360', '951378583175524352', '950688770659176448', '952108358668038146', '967489616386412545', '954256428809834499', '948606757437427713', '957163969634062338', '951519218482196480', '966417214424436736', '960924738444038144', '953577288905449472', '952210453375127552', '960845788187447296', '962625372415242240', '966667665552171010', '961561086926491648', '960502229223530497', '956211947321679875', '951404450253598720', '949939659546791936', '967096115186274305', '951503194940694528', '949952384775675904', '951800059221430272', '953574859136733184', '963480679890718720', '963348184566325250', '959000338492743680', '968180906618998785', '960946124931633152', '968157897275437056', '965687831371943936', '968119407833681921', '957970508485746688']\n"
     ]
    }
   ],
   "source": [
    "# this scrapes the tweet IDs\n",
    "handle, user_id, tweets = get_all_tweets('theresa_may', since='2017-01-01', until='2018-03-01')\n",
    "print(handle, user_id, tweets)\n"
   ]
  },
  {
   "cell_type": "code",
   "execution_count": 9,
   "metadata": {},
   "outputs": [],
   "source": [
    "# this cleans them and puts them in the format I need for uploading to the SQLite table\n",
    "tweets2 = process_tweets(handle, 'Theresa May', user_id, tweets)"
   ]
  },
  {
   "cell_type": "code",
   "execution_count": 10,
   "metadata": {},
   "outputs": [
    {
     "name": "stdout",
     "output_type": "stream",
     "text": [
      "(953739668876652544, 747807250819981312, 'Theresa May', 'theresa_may', 'Labour has turned its back on investment, growth, jobs. A Labour Party that will always put politics before people. https://t.co/Hnua5uIAo5', datetime.datetime(2018, 1, 17, 21, 23, 51, tzinfo=datetime.timezone.utc))\n",
      "(959056044155686913, 747807250819981312, 'Theresa May', 'theresa_may', \"Too many people with mental ill health still face appalling injustices and stigma every day. Tackling those injustices is a priority for me. Let's work together to break the silence around mental health. #TimetoTalk https://t.co/zM8svV1bkf\", datetime.datetime(2018, 2, 1, 13, 29, 13, tzinfo=datetime.timezone.utc))\n",
      "(948893617355198464, 747807250819981312, 'Theresa May', 'theresa_may', \"Thank you to the NHS staff who work hard and do a fantastic job for us day in and day out all year round. Their dedication ensures people get the treatment they need - we've put in an additional £437 million to help, so the NHS has been better prepared than ever this winter. https://t.co/0wAclwHSqN\", datetime.datetime(2018, 1, 4, 12, 27, 22, tzinfo=datetime.timezone.utc))\n",
      "(968926339276341248, 747807250819981312, 'Theresa May', 'theresa_may', \"On the final day of LGBT+ history month it's important to remember that LGBT+ history is all our history. LGBT+ success is everyone's success. And LGBT+ rights are human rights. #LGBTHM18🏳️\\u200d🌈 https://t.co/CN54SQIwOL\", datetime.datetime(2018, 2, 28, 19, 10, 15, tzinfo=datetime.timezone.utc))\n",
      "(960910001031311360, 747807250819981312, 'Theresa May', 'theresa_may', \"I want to see more women entering Parliament. I would say to any woman that does, be yourself, don't feel you've got to judge yourself by male stereotype, be yourself and believe what you're doing - because you can make a real difference to other people's lives. #Vote100 https://t.co/pW68WtCwPm\", datetime.datetime(2018, 2, 6, 16, 16, 11, tzinfo=datetime.timezone.utc))\n",
      "(951378583175524352, 747807250819981312, 'Theresa May', 'theresa_may', 'We’re building a Britain #FitForTheFuture. Here’s how: https://t.co/sEsdg4i8pn', datetime.datetime(2018, 1, 11, 9, 1, 44, tzinfo=datetime.timezone.utc))\n",
      "(950688770659176448, 747807250819981312, 'Theresa May', 'theresa_may', 'Our ban on microbeads is coming into force today. It will stop billions of pieces of plastic entering our ecosystem, helping to protect our precious seas and oceans. https://t.co/gG39Dc0aLS', datetime.datetime(2018, 1, 9, 11, 20, 40, tzinfo=datetime.timezone.utc))\n",
      "(952108358668038146, 747807250819981312, 'Theresa May', 'theresa_may', \"From today we're banning hidden charges for paying with your credit or debit card - a move that will help millions of people avoid rip-off fees when spending their hard-earned money. https://t.co/EEk5jxdk7R\", datetime.datetime(2018, 1, 13, 9, 21, 36, tzinfo=datetime.timezone.utc))\n",
      "(967489616386412545, 747807250819981312, 'Theresa May', 'theresa_may', \"Matt sent this to me and it's in my office @10DowningStreet. It exemplifies how great he is at taking major political events and seeing the humour in them. It’s always good for politicians to laugh at ourselves and he helps us to do that. Congratulations for 30 years @Telegraph. https://t.co/bt012RibEi\", datetime.datetime(2018, 2, 24, 20, 1, 14, tzinfo=datetime.timezone.utc))\n",
      "(954256428809834499, 747807250819981312, 'Theresa May', 'theresa_may', 'At the @V_and_A last night @EmmanuelMacron and I were proud to celebrate the extraordinary values and the talented people who link our countries. More than a century on from the “entente cordiale” let us celebrate our own “entente chaleureuse”. #UKFRsummit https://t.co/X6jUQ8IC3r', datetime.datetime(2018, 1, 19, 7, 37, 16, tzinfo=datetime.timezone.utc))\n",
      "(948606757437427713, 747807250819981312, 'Theresa May', 'theresa_may', \"I'm working hard to help young people get onto the housing ladder. That's why I was delighted to meet Laura in her new home today. The stamp duty exemption we announced in November has made a huge difference to her, and thousands like her, across the country. https://t.co/XkRCqv47Rn\", datetime.datetime(2018, 1, 3, 17, 27, 29, tzinfo=datetime.timezone.utc))\n",
      "(957163969634062338, 747807250819981312, 'Theresa May', 'theresa_may', 'There is more to do but today’s news that the number of first-time buyers is at the highest level since 2007 shows our mission to deliver the homes we need, backed by practical policies like our stamp duty cut for first-time buyers, is making good progress. https://t.co/wcJKxPR3xF', datetime.datetime(2018, 1, 27, 8, 10, 48, tzinfo=datetime.timezone.utc))\n",
      "(951519218482196480, 747807250819981312, 'Theresa May', 'theresa_may', 'The goals of our #25YearEnvironmentPlan are simple: clean air, clean and plentiful water, plants and animals which are thriving, and a cleaner, greener country for us all. \\n\\nA better world for each of us to live in and a better future for the next generation. https://t.co/Ek7DkqCFHL', datetime.datetime(2018, 1, 11, 18, 20, 34, tzinfo=datetime.timezone.utc))\n",
      "(966417214424436736, 747807250819981312, 'Theresa May', 'theresa_may', 'Tonight the Labour Party voted against cutting stamp duty for first-time buyers. Sign up to back our plan to put people before politics: https://t.co/dOem9yiH2d https://t.co/pKc4MiWkeu', datetime.datetime(2018, 2, 21, 20, 59, 53, tzinfo=datetime.timezone.utc))\n",
      "(960924738444038144, 747807250819981312, 'Theresa May', 'theresa_may', 'Being an MP is the best job in the world, and just like my colleagues here, I want more women to get elected to Parliament. #Vote100 https://t.co/Gsp46rwX86', datetime.datetime(2018, 2, 6, 17, 14, 45, tzinfo=datetime.timezone.utc))\n",
      "(953577288905449472, 747807250819981312, 'Theresa May', 'theresa_may', 'Jo Cox recognised the scale of loneliness across the country and dedicated herself to doing all she could to help those affected. The Government will build on her legacy with @tracey_crouch as a new Minister for Loneliness: https://t.co/AWk1tbyjKQ', datetime.datetime(2018, 1, 17, 10, 38, 36, tzinfo=datetime.timezone.utc))\n",
      "(952210453375127552, 747807250819981312, 'Theresa May', 'theresa_may', 'With 110 days to go until the London local elections, it was great to be out with the excellent @ScullyP and the @SuttonTories Council candidates – talking to people about the issues that really matter to them. https://t.co/esDP4x0u7T', datetime.datetime(2018, 1, 13, 16, 7, 17, tzinfo=datetime.timezone.utc))\n",
      "(960845788187447296, 747807250819981312, 'Theresa May', 'theresa_may', \"What better way to start today's #Vote100 celebrations than by gathering with all the talented female MPs in Parliament. More must be done, but I'm proud that there are over 200 female MPs - our democracy is stronger as a result. https://t.co/Gy7Y6AJVup\", datetime.datetime(2018, 2, 6, 12, 1, 2, tzinfo=datetime.timezone.utc))\n",
      "(962625372415242240, 747807250819981312, 'Theresa May', 'theresa_may', 'Really great to join Mike Freer MP and the @Finchleytories team and talk to so many locals about the issues that matter to them. https://t.co/B1mxOWBFYP', datetime.datetime(2018, 2, 11, 9, 52, 28, tzinfo=datetime.timezone.utc))\n",
      "(966667665552171010, 747807250819981312, 'Theresa May', 'theresa_may', 'It was lovely to spend time with @TessaJowell and her family, talking with @Jeremy_Hunt about working with @CR_UK to provide a £45 million boost to brain tumour research to tackle a disease where survival remains woefully low. She truly is an inspiration to us all. https://t.co/ys2nkKmn0M', datetime.datetime(2018, 2, 22, 13, 35, 5, tzinfo=datetime.timezone.utc))\n",
      "(961561086926491648, 747807250819981312, 'Theresa May', 'theresa_may', \"We're cracking down on unscrupulous puppy breeders to further raise the bar on animal welfare standards - and we need your help to find evidence so we can ban third-party puppy sales: https://t.co/Sg64arVXow https://t.co/3ck0kEdnFn\", datetime.datetime(2018, 2, 8, 11, 23, 22, tzinfo=datetime.timezone.utc))\n",
      "(960502229223530497, 747807250819981312, 'Theresa May', 'theresa_may', \"Debate is a key British tradition but threats and abuse have no place in society. We all have a role to play to make sure the intimidation we have witnessed over the weekend is not commonplace. Tomorrow I'll outline my vision for a more tolerant and respectful United Kingdom. https://t.co/xGe1ny1MTN\", datetime.datetime(2018, 2, 5, 13, 15, 51, tzinfo=datetime.timezone.utc))\n",
      "(956211947321679875, 747807250819981312, 'Theresa May', 'theresa_may', \"Unemployment has fallen again - it's down by over a million since the @Conservatives came to government, meaning more people are getting into work, able to provide for their families and build a better future for themselves and their children. https://t.co/BDlHz17rZi\", datetime.datetime(2018, 1, 24, 17, 7, 48, tzinfo=datetime.timezone.utc))\n",
      "(951404450253598720, 747807250819981312, 'Theresa May', 'theresa_may', 'Today I set out the important action the Government is taking to end avoidable plastic waste and protect our environment. #25yearplan https://t.co/LgUc6PNoAH', datetime.datetime(2018, 1, 11, 10, 44, 31, tzinfo=datetime.timezone.utc))\n",
      "(949939659546791936, 747807250819981312, 'Theresa May', 'theresa_may', 'The NHS is delivering for people, it is treating more people and more people are being seen within the four hours every day. But of course, nothing is perfect. And there is more for us to do. #Marr https://t.co/NaG8fohbXy', datetime.datetime(2018, 1, 7, 9, 43, 58, tzinfo=datetime.timezone.utc))\n",
      "(967096115186274305, 747807250819981312, 'Theresa May', 'theresa_may', \"I'm so pleased that @Geoffrey4CovNW's Organ Donation Bill has passed its second reading - #MaxsLaw is a vital change that could save lives. #OrganDonation https://t.co/CAhOH4uzmT\", datetime.datetime(2018, 2, 23, 17, 57, 36, tzinfo=datetime.timezone.utc))\n",
      "(951503194940694528, 747807250819981312, 'Theresa May', 'theresa_may', \"There's more to do, but we should be proud that manufacturing output is at the highest level in 10 years. https://t.co/5bSKGAJqeR\", datetime.datetime(2018, 1, 11, 17, 16, 54, tzinfo=datetime.timezone.utc))\n",
      "(949952384775675904, 747807250819981312, 'Theresa May', 'theresa_may', \"In 2015 we introduced the 5p charge on plastic carrier bags, we now see 9bn fewer bags being used. It's making a real difference. We want to do the same with single use plastics. Nobody who watched #BluePlanet2 will doubt the need for us to do something - and we will. #Marr\", datetime.datetime(2018, 1, 7, 10, 34, 32, tzinfo=datetime.timezone.utc))\n",
      "(951800059221430272, 747807250819981312, 'Theresa May', 'theresa_may', 'We are helping people earn more and keep more of what they earn. Inequality is lower than it was in 2010 and the poorest fifth of households have more disposable income than in 2008. https://t.co/G1gtBb1mKR', datetime.datetime(2018, 1, 12, 12, 56, 32, tzinfo=datetime.timezone.utc))\n",
      "(953574859136733184, 747807250819981312, 'Theresa May', 'theresa_may', 'For far too many, loneliness is a sad reality of modern life. I want us all to confront this and take action to address loneliness endured by the elderly, by carers, those who have lost loved ones – those with no one to talk to or share their thoughts and experiences with. https://t.co/42DbUKuDYb', datetime.datetime(2018, 1, 17, 10, 28, 57, tzinfo=datetime.timezone.utc))\n",
      "(963480679890718720, 747807250819981312, 'Theresa May', 'theresa_may', \"I've made it my personal mission to fix our broken housing market - figures today show the number of first-time buyers has reached an 11-year high. We must do more, but initiatives like Help to Buy and cutting stamp duty for many are truly helping more people own their own home. https://t.co/6fL4lEJk7T\", datetime.datetime(2018, 2, 13, 18, 31, 9, tzinfo=datetime.timezone.utc))\n",
      "(963348184566325250, 747807250819981312, 'Theresa May', 'theresa_may', \"This Government is leading the world in making sure that vile terrorist content is stamped out. Technology like this can heavily disrupt the terrorists' actions, prevent their poisonous propaganda and help keep people in the UK safe. https://t.co/hIn1zMsQfN\", datetime.datetime(2018, 2, 13, 9, 44, 40, tzinfo=datetime.timezone.utc))\n",
      "(959000338492743680, 747807250819981312, 'Theresa May', 'theresa_may', \"I made it my personal mission to help build the homes people need, so everyone can afford a safe, decent place to live - that's why today we've announced the first wave of funding from the £5 billion Housing Infrastructure Fund. https://t.co/Oy2KOip4cm\", datetime.datetime(2018, 2, 1, 9, 47, 52, tzinfo=datetime.timezone.utc))\n",
      "(968180906618998785, 747807250819981312, 'Theresa May', 'theresa_may', \"It's often older people or those on low incomes who are stuck on rip-off energy tariffs. Today we've set out a plan to force energy companies to change their ways. Our price cap will cut bills for millions of families - another step we are taking to help people make ends meet. https://t.co/muiJdx9ifz\", datetime.datetime(2018, 2, 26, 17, 48, 10, tzinfo=datetime.timezone.utc))\n",
      "(960946124931633152, 747807250819981312, 'Theresa May', 'theresa_may', 'Wonderful to meet so many talented and passionate young people in Manchester – all of them working to help improve their communities. #Vote100 https://t.co/X1PywWt2ux', datetime.datetime(2018, 2, 6, 18, 39, 44, tzinfo=datetime.timezone.utc))\n",
      "(968157897275437056, 747807250819981312, 'Theresa May', 'theresa_may', 'Welcome home @TeamGB with their record-breaking haul of medals from the #PyeongChang2018 Winter Olympics. 🥇🥉🥉🥉🥉 Now let’s all get behind @ParalympicsGB! #WeAreTheGreat #BeFearless https://t.co/WsEY8F8twI', datetime.datetime(2018, 2, 26, 16, 16, 44, tzinfo=datetime.timezone.utc))\n",
      "(965687831371943936, 747807250819981312, 'Theresa May', 'theresa_may', 'Always nice to meet activists from Calder Valley Conservatives - no matter their age - although maybe some of them aren’t quite old enough to go door-knocking just yet. https://t.co/AaGXqt2Tnq', datetime.datetime(2018, 2, 19, 20, 41, 35, tzinfo=datetime.timezone.utc))\n",
      "(968119407833681921, 747807250819981312, 'Theresa May', 'theresa_may', \"It's absolutely right that we support our brave troops. That's why we've just launched the 24/7 @DefenceHQ Military Mental Health Helpline on 0800 323 4444 so those in our armed forces and their families will always have somewhere to turn to when they need support. https://t.co/rcUOyHUV7t\", datetime.datetime(2018, 2, 26, 13, 43, 48, tzinfo=datetime.timezone.utc))\n",
      "(957970508485746688, 747807250819981312, 'Theresa May', 'theresa_may', \"We said we'd ensure 95 per cent of UK premises had access to super fast broadband - and we've delivered. More people are now able to be better connected, with 50,000 new jobs created as a result. https://t.co/dFg9wW3nFr\", datetime.datetime(2018, 1, 29, 13, 35, 42, tzinfo=datetime.timezone.utc))\n"
     ]
    }
   ],
   "source": [
    "for tweet in tweets2:\n",
    "    print(tweet)"
   ]
  },
  {
   "cell_type": "code",
   "execution_count": 11,
   "metadata": {},
   "outputs": [
    {
     "data": {
      "text/plain": [
       "<sqlite3.Cursor at 0x222cb2088c0>"
      ]
     },
     "execution_count": 11,
     "metadata": {},
     "output_type": "execute_result"
    }
   ],
   "source": [
    "import sqlite3\n",
    "conn = sqlite3.connect('tweets.db')\n",
    "c = conn.cursor()\n",
    "\n",
    "c.execute(\"\"\"CREATE TABLE tweets (\n",
    "          tweet_id INTEGER primary key,\n",
    "          user_id INTEGER,\n",
    "          user_name TEXT,\n",
    "          user_handle TEXT,\n",
    "          tweet_text TEXT,\n",
    "          created_date DATETIME\n",
    "          )\"\"\")"
   ]
  },
  {
   "cell_type": "code",
   "execution_count": null,
   "metadata": {},
   "outputs": [
    {
     "data": {
      "text/plain": [
       "<sqlite3.Cursor at 0x22e8637a040>"
      ]
     },
     "execution_count": 106,
     "metadata": {},
     "output_type": "execute_result"
    }
   ],
   "source": [
    "conn.execute('DROP TABLE tweets')"
   ]
  },
  {
   "cell_type": "code",
   "execution_count": 12,
   "metadata": {},
   "outputs": [],
   "source": [
    "# upload data in SQLite table\n",
    "# storing this data is important since this is an unofficial API\n",
    "# every time I access it, I am risking not being able to access it again\n",
    "\n",
    "c.executemany(\"INSERT INTO tweets VALUES (?,?,?,?,?,?)\", tweets2)\n",
    "conn.commit()\n"
   ]
  }
 ],
 "metadata": {
  "kernelspec": {
   "display_name": "Python 3",
   "language": "python",
   "name": "python3"
  },
  "language_info": {
   "codemirror_mode": {
    "name": "ipython",
    "version": 3
   },
   "file_extension": ".py",
   "mimetype": "text/x-python",
   "name": "python",
   "nbconvert_exporter": "python",
   "pygments_lexer": "ipython3",
   "version": "3.11.9"
  }
 },
 "nbformat": 4,
 "nbformat_minor": 2
}

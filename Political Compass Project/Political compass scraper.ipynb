{
 "cells": [
  {
   "cell_type": "code",
   "execution_count": 1,
   "metadata": {},
   "outputs": [
    {
     "data": {
      "text/plain": [
       "{'flow_token': 'g;171355428707212065:-1713554287139:hlPyIEf6yJdEWxRvu2yf8KpX:14',\n",
       " 'status': 'success',\n",
       " 'subtasks': [{'subtask_id': 'LoginSuccessSubtask',\n",
       "   'open_account': {'user': {'id': 1547081484695216130,\n",
       "     'id_str': '1547081484695216130',\n",
       "     'name': 'Eloragh Espie',\n",
       "     'screen_name': 'EloraghEspie'},\n",
       "    'next_link': {'link_type': 'subtask',\n",
       "     'link_id': 'next_link',\n",
       "     'subtask_id': 'SuccessExit'},\n",
       "    'attribution_event': 'login'}},\n",
       "  {'subtask_id': 'SuccessExit',\n",
       "   'open_link': {'link': {'link_type': 'subtask',\n",
       "     'link_id': 'next_link',\n",
       "     'subtask_id': 'LoginOpenHomeTimeline'}}},\n",
       "  {'subtask_id': 'LoginOpenHomeTimeline',\n",
       "   'open_home_timeline': {'next_link': {'link_type': 'abort',\n",
       "     'link_id': 'next_link'}}}]}"
      ]
     },
     "execution_count": 1,
     "metadata": {},
     "output_type": "execute_result"
    }
   ],
   "source": [
    "from twikit import Client\n",
    "import time\n",
    "import json\n",
    "from twikit import TwitterException \n",
    "\n",
    "USERNAME = 'EloraghEspie'\n",
    "EMAIL = 'eaespie@gmail.com'\n",
    "PASSWORD = 'qtr4pnj3tvc_KDU5cax'\n",
    "\n",
    "# Initialize client\n",
    "client = Client(language = 'en-US', http2=True)\n",
    "\n",
    "# Login to the service with provided user credentials\n",
    "client.login(\n",
    "    auth_info_1=USERNAME ,\n",
    "    auth_info_2=EMAIL,\n",
    "    password=PASSWORD\n",
    ")"
   ]
  },
  {
   "cell_type": "code",
   "execution_count": 2,
   "metadata": {},
   "outputs": [],
   "source": [
    "client.get_cookies()\n",
    "client.save_cookies('cookies.json')\n",
    "with open('cookies.json', 'r', encoding='UTF8') as f:\n",
    "    client.set_cookies(json.load(f))"
   ]
  },
  {
   "cell_type": "code",
   "execution_count": 42,
   "metadata": {},
   "outputs": [],
   "source": [
    "def get_all_tweets(handle, since, until):\n",
    "    client.load_cookies('cookies.json')\n",
    "    # we need to scrape the tweets of each user from the period of their election data\n",
    "\n",
    "    mass_tweets = []\n",
    "    user_id = client.get_user_by_screen_name(handle)\n",
    "    all_tweets = []\n",
    "\n",
    "    tweets = client.search_tweet(\n",
    "        f'from:{handle} since:{since} until:{until}', 'Latest', count=40\n",
    "    )\n",
    "\n",
    "    if len(tweets) == 0:\n",
    "        print('No tweets available')\n",
    "        return(handle, user_id, [])\n",
    "    else:\n",
    "        while len(all_tweets) >= 0 and len(mass_tweets) < 100:\n",
    "            tweets1 = [tweet.id for tweet in tweets]\n",
    "            mass_tweets += tweets1\n",
    "            time.sleep(1)  # cooldown\n",
    "            tweets = tweets.next()\n",
    "            print(len(mass_tweets))\n",
    "\n",
    "    all_tweets+=mass_tweets\n",
    "\n",
    "    return(handle, user_id, all_tweets)"
   ]
  },
  {
   "cell_type": "code",
   "execution_count": null,
   "metadata": {},
   "outputs": [],
   "source": [
    "def get_all_tweets2(user_id, since, until):\n",
    "    # we need to scrape the tweets of each user from the period of their election data\n",
    "    client.load_cookies('cookies.json')\n",
    "    all_tweets = []\n",
    "    for handle in user_id:\n",
    "        id = client.get_user_by_screen_name(handle)\n",
    "        tweets = client.search_tweet(\n",
    "            f'from:{id}', product='Latest', count=20\n",
    "        )\n",
    "        print(tweets)\n",
    "\n",
    "    # this scraper only provides 20 tweets at at time\n",
    "    # this while loop allows the program to wait ten seconds then seek more tweets\n",
    "    # this loop will continue until all tweets within the datetime range are exhausted\n",
    "    '''\n",
    "    i = 0\n",
    "    while len(tweets) > 0:\n",
    "        print(i)\n",
    "        all_tweets += tweets\n",
    "        time.sleep(1)  # cooldown\n",
    "        tweets = tweets.next()\n",
    "        i+=1\n",
    "        print(len(all_tweets))\n",
    "    '''\n",
    "    print('done')\n",
    "    return(all_tweets)"
   ]
  },
  {
   "cell_type": "code",
   "execution_count": 4,
   "metadata": {},
   "outputs": [],
   "source": [
    "def process_tweets(handle, user_id, tweet_ids):\n",
    "    tweets = []\n",
    "    for id in tweet_ids:\n",
    "        try:\n",
    "            tweet = client.get_tweet_by_id(id)\n",
    "            print(tweet)\n",
    "            tweets.append((int(user_id.id), 'Joe Biden', handle, int(tweet.id), str(tweet.text), tweet.created_at_datetime))\n",
    "        except IndexError:\n",
    "            print(f'Index Error: {tweet}')\n",
    "    \n",
    "    return tweets"
   ]
  },
  {
   "cell_type": "code",
   "execution_count": 31,
   "metadata": {},
   "outputs": [],
   "source": [
    "import time\n",
    "from math import ceil\n",
    "\n",
    "import requests\n",
    "from twikit import TooManyRequests\n",
    "from twikit.utils import Endpoint\n",
    "\n",
    "\n",
    "def get_limit_reset_time(endpoint: str):\n",
    "    res = requests.get(\n",
    "        endpoint,\n",
    "        headers=client._base_headers,\n",
    "        cookies=client.get_cookies()\n",
    "    )\n",
    "    return ceil(int(res.headers['x-rate-limit-reset']) - time.time())"
   ]
  },
  {
   "cell_type": "code",
   "execution_count": null,
   "metadata": {},
   "outputs": [
    {
     "name": "stdout",
     "output_type": "stream",
     "text": [
      "<User id=\"939091\">\n"
     ]
    }
   ],
   "source": [
    "print(client.get_user_by_screen_name('JoeBiden'))"
   ]
  },
  {
   "cell_type": "code",
   "execution_count": 39,
   "metadata": {},
   "outputs": [],
   "source": [
    "def check_user_status(user_id):\n",
    "    \"\"\"\n",
    "    True if the user is active, otherwise false (not exists or suspended).\n",
    "    \"\"\"\n",
    "    try:\n",
    "        client.get_user_by_id(user_id)\n",
    "    except TwitterException as e:\n",
    "        if str(e).startswith('Invalid user id'):\n",
    "            return False\n",
    "        raise e\n",
    "    else:\n",
    "        return True"
   ]
  },
  {
   "cell_type": "code",
   "execution_count": 9,
   "metadata": {},
   "outputs": [
    {
     "data": {
      "text/plain": [
       "True"
      ]
     },
     "execution_count": 9,
     "metadata": {},
     "output_type": "execute_result"
    }
   ],
   "source": [
    "check_user_status(1547081484695216130)"
   ]
  },
  {
   "cell_type": "code",
   "execution_count": 70,
   "metadata": {},
   "outputs": [
    {
     "ename": "IndexError",
     "evalue": "list index out of range",
     "output_type": "error",
     "traceback": [
      "\u001b[1;31m---------------------------------------------------------------------------\u001b[0m",
      "\u001b[1;31mIndexError\u001b[0m                                Traceback (most recent call last)",
      "Cell \u001b[1;32mIn[70], line 3\u001b[0m\n\u001b[0;32m      1\u001b[0m \u001b[38;5;28;01mfrom\u001b[39;00m \u001b[38;5;21;01mtwikit\u001b[39;00m \u001b[38;5;28;01mimport\u001b[39;00m TooManyRequests\n\u001b[0;32m      2\u001b[0m \u001b[38;5;28;01mtry\u001b[39;00m:\n\u001b[1;32m----> 3\u001b[0m     \u001b[38;5;28mprint\u001b[39m(tweet \u001b[38;5;241m=\u001b[39m \u001b[43mclient\u001b[49m\u001b[38;5;241;43m.\u001b[39;49m\u001b[43mget_tweet_by_id\u001b[49m\u001b[43m(\u001b[49m\u001b[38;5;241;43m939091\u001b[39;49m\u001b[43m)\u001b[49m)\n\u001b[0;32m      4\u001b[0m \u001b[38;5;28;01mexcept\u001b[39;00m TooManyRequests:\n\u001b[0;32m      5\u001b[0m     reset_time \u001b[38;5;241m=\u001b[39m get_limit_reset_time(Endpoint\u001b[38;5;241m.\u001b[39mUSER_TWEETS)\n",
      "File \u001b[1;32m~\\AppData\\Local\\Packages\\PythonSoftwareFoundation.Python.3.11_qbz5n2kfra8p0\\LocalCache\\local-packages\\Python311\\site-packages\\twikit\\client.py:1316\u001b[0m, in \u001b[0;36mClient.get_tweet_by_id\u001b[1;34m(self, tweet_id, cursor)\u001b[0m\n\u001b[0;32m   1294\u001b[0m \u001b[38;5;250m\u001b[39m\u001b[38;5;124;03m\"\"\"\u001b[39;00m\n\u001b[0;32m   1295\u001b[0m \u001b[38;5;124;03mFetches a tweet by tweet ID.\u001b[39;00m\n\u001b[0;32m   1296\u001b[0m \n\u001b[1;32m   (...)\u001b[0m\n\u001b[0;32m   1312\u001b[0m \u001b[38;5;124;03m<Tweet id=\"...\">\u001b[39;00m\n\u001b[0;32m   1313\u001b[0m \u001b[38;5;124;03m\"\"\"\u001b[39;00m\n\u001b[0;32m   1314\u001b[0m response \u001b[38;5;241m=\u001b[39m \u001b[38;5;28mself\u001b[39m\u001b[38;5;241m.\u001b[39m_get_tweet_detail(tweet_id, cursor)\n\u001b[1;32m-> 1316\u001b[0m entries \u001b[38;5;241m=\u001b[39m \u001b[43mfind_dict\u001b[49m\u001b[43m(\u001b[49m\u001b[43mresponse\u001b[49m\u001b[43m,\u001b[49m\u001b[43m \u001b[49m\u001b[38;5;124;43m'\u001b[39;49m\u001b[38;5;124;43mentries\u001b[39;49m\u001b[38;5;124;43m'\u001b[39;49m\u001b[43m)\u001b[49m\u001b[43m[\u001b[49m\u001b[38;5;241;43m0\u001b[39;49m\u001b[43m]\u001b[49m\n\u001b[0;32m   1317\u001b[0m reply_to \u001b[38;5;241m=\u001b[39m []\n\u001b[0;32m   1318\u001b[0m replies_list \u001b[38;5;241m=\u001b[39m []\n",
      "\u001b[1;31mIndexError\u001b[0m: list index out of range"
     ]
    }
   ],
   "source": [
    "from twikit import TooManyRequests\n",
    "try:\n",
    "    print(tweet = client.get_tweet_by_id(939091))\n",
    "except TooManyRequests:\n",
    "    reset_time = get_limit_reset_time(Endpoint.USER_TWEETS)\n",
    "    print(f'rate limit is reset after {reset_time} seconds.')"
   ]
  },
  {
   "cell_type": "code",
   "execution_count": 58,
   "metadata": {},
   "outputs": [
    {
     "name": "stdout",
     "output_type": "stream",
     "text": [
      "[<Tweet id=\"1351951465674276869\">, <Tweet id=\"1351918910199631872\">, <Tweet id=\"1351906918667677696\">, <Tweet id=\"1351897267666608129\">, <Tweet id=\"1351731172989050882\">, <Tweet id=\"1351711040933830659\">, <Tweet id=\"1351653131248041984\">, <Tweet id=\"1351630258114502656\">, <Tweet id=\"1351599720012021761\">, <Tweet id=\"1351367275094310912\">, <Tweet id=\"1351333542547001344\">, <Tweet id=\"1351265605840633858\">, <Tweet id=\"1351228360123318272\">, <Tweet id=\"1350981483062706177\">, <Tweet id=\"1350926118409289730\">, <Tweet id=\"1350878051710750725\">, <Tweet id=\"1350634446475694080\">, <Tweet id=\"1350593782832500737\">, <Tweet id=\"1350562220367884289\">, <Tweet id=\"1350515133034819584\">]\n"
     ]
    }
   ],
   "source": [
    "try:\n",
    "    print(client.search_tweet(\n",
    "        f'from:JoeBiden since:2020-01-01 until:2021-03-01', 'Latest', count=40\n",
    "    ))\n",
    "except TooManyRequests:\n",
    "    reset_time = get_limit_reset_time(Endpoint.USER_TWEETS)\n",
    "    print(f'rate limit is reset after {reset_time} seconds.')"
   ]
  },
  {
   "cell_type": "code",
   "execution_count": 43,
   "metadata": {},
   "outputs": [
    {
     "name": "stdout",
     "output_type": "stream",
     "text": [
      "20\n",
      "40\n",
      "60\n",
      "80\n",
      "100\n",
      "JoeBiden <User id=\"939091\"> ['1351951465674276869', '1351918910199631872', '1351906918667677696', '1351897267666608129', '1351731172989050882', '1351711040933830659', '1351653131248041984', '1351630258114502656', '1351599720012021761', '1351367275094310912', '1351333542547001344', '1351265605840633858', '1351228360123318272', '1350981483062706177', '1350926118409289730', '1350878051710750725', '1350634446475694080', '1350593782832500737', '1350562220367884289', '1350515133034819584', '1350480432341520384', '1350256455748882434', '1350210150481555457', '1350156296012656647', '1350077778310270978', '1349894571094810626', '1349872996920430595', '1349849776012087296', '1349563892087869442', '1349556594237792256', '1349375651883724804', '1349090628790067200', '1349068634413436929', '1348994390690246657', '1348800612742402048', '1348763039160532992', '1348636095458717696', '1348430675238678528', '1348351402624524288', '1348299813163474944', '1348064513170567168', '1347947491300401152', '1347704641136463872', '1347665885666938886', '1347649779921203201', '1347618371135705090', '1347571667598503937', '1347377487374741508', '1347366160807981056', '1347352319726215168', '1347298213422747649', '1347287643776667648', '1347276822078218241', '1347253347057733632', '1347200066646376448', '1346985653658116098', '1346963759156195332', '1346938341791387651', '1346932050746630149', '1346929533774159876', '1346928275470299142', '1346891030055022592', '1346603636168642561', '1346600616408330241', '1346565887571107840', '1346535688733265921', '1346509264299282433', '1346475895955939328', '1346286546975014912', '1346271447346507788', '1346258109518413825', '1346199428625965056', '1346188400215224321', '1346150340836601857', '1345896476623265792', '1345845695702396928', '1345792290372116480', '1345542896662032384', '1345490049727668226', '1345449279964368896', '1345063487957917696', '1344862916194021377', '1344836995441426432', '1344775842455498752', '1344763259602173952', '1344720522056245255', '1344458249731407872', '1344424275818786816', '1344366394641563649', '1344322857665490944', '1344093345207832576', '1344068179463700480', '1344021093321826305', '1344007781427326977', '1343982615670501376', '1343939833765519361', '1343734732282974208', '1343709566622720001', '1343650410817458177', '1343591287467827201']\n"
     ]
    }
   ],
   "source": [
    "handle, user_id, tweets = get_all_tweets('JoeBiden', since='2020-01-01', until='2021-03-01')\n",
    "print(handle, user_id, tweets)\n"
   ]
  },
  {
   "cell_type": "code",
   "execution_count": 44,
   "metadata": {},
   "outputs": [
    {
     "name": "stdout",
     "output_type": "stream",
     "text": [
      "<Tweet id=\"1351951465674276869\">\n",
      "<Tweet id=\"1351918910199631872\">\n",
      "<Tweet id=\"1351906918667677696\">\n",
      "<Tweet id=\"1351897267666608129\">\n",
      "<Tweet id=\"1351731172989050882\">\n",
      "<Tweet id=\"1351711040933830659\">\n",
      "<Tweet id=\"1351653131248041984\">\n",
      "<Tweet id=\"1351630258114502656\">\n",
      "<Tweet id=\"1351599720012021761\">\n",
      "<Tweet id=\"1351367275094310912\">\n",
      "<Tweet id=\"1351333542547001344\">\n",
      "<Tweet id=\"1351265605840633858\">\n",
      "<Tweet id=\"1351228360123318272\">\n",
      "<Tweet id=\"1350981483062706177\">\n",
      "<Tweet id=\"1350926118409289730\">\n",
      "<Tweet id=\"1350878051710750725\">\n",
      "<Tweet id=\"1350634446475694080\">\n",
      "<Tweet id=\"1350593782832500737\">\n",
      "<Tweet id=\"1350562220367884289\">\n",
      "<Tweet id=\"1350515133034819584\">\n",
      "<Tweet id=\"1350480432341520384\">\n",
      "<Tweet id=\"1350256455748882434\">\n",
      "<Tweet id=\"1350210150481555457\">\n",
      "<Tweet id=\"1350156296012656647\">\n",
      "<Tweet id=\"1350077778310270978\">\n",
      "<Tweet id=\"1349894571094810626\">\n",
      "<Tweet id=\"1349872996920430595\">\n",
      "<Tweet id=\"1349849776012087296\">\n",
      "<Tweet id=\"1349563892087869442\">\n",
      "<Tweet id=\"1349556594237792256\">\n",
      "<Tweet id=\"1349375651883724804\">\n",
      "<Tweet id=\"1349090628790067200\">\n",
      "<Tweet id=\"1349068634413436929\">\n",
      "<Tweet id=\"1348994390690246657\">\n",
      "<Tweet id=\"1348800612742402048\">\n",
      "<Tweet id=\"1348763039160532992\">\n",
      "<Tweet id=\"1348636095458717696\">\n",
      "<Tweet id=\"1348430675238678528\">\n",
      "<Tweet id=\"1348351402624524288\">\n",
      "<Tweet id=\"1348299813163474944\">\n",
      "<Tweet id=\"1348064513170567168\">\n",
      "<Tweet id=\"1347947491300401152\">\n",
      "<Tweet id=\"1347704641136463872\">\n",
      "<Tweet id=\"1347665885666938886\">\n",
      "<Tweet id=\"1347649779921203201\">\n",
      "<Tweet id=\"1347618371135705090\">\n",
      "<Tweet id=\"1347571667598503937\">\n",
      "<Tweet id=\"1347377487374741508\">\n",
      "<Tweet id=\"1347366160807981056\">\n",
      "<Tweet id=\"1347352319726215168\">\n",
      "<Tweet id=\"1347298213422747649\">\n",
      "<Tweet id=\"1347287643776667648\">\n",
      "<Tweet id=\"1347276822078218241\">\n",
      "<Tweet id=\"1347253347057733632\">\n",
      "<Tweet id=\"1347200066646376448\">\n",
      "<Tweet id=\"1346985653658116098\">\n",
      "<Tweet id=\"1346963759156195332\">\n",
      "<Tweet id=\"1346938341791387651\">\n",
      "<Tweet id=\"1346932050746630149\">\n",
      "<Tweet id=\"1346929533774159876\">\n",
      "<Tweet id=\"1346928275470299142\">\n",
      "<Tweet id=\"1346891030055022592\">\n",
      "<Tweet id=\"1346603636168642561\">\n",
      "<Tweet id=\"1346600616408330241\">\n",
      "<Tweet id=\"1346565887571107840\">\n",
      "<Tweet id=\"1346535688733265921\">\n",
      "<Tweet id=\"1346509264299282433\">\n",
      "<Tweet id=\"1346475895955939328\">\n",
      "<Tweet id=\"1346286546975014912\">\n",
      "<Tweet id=\"1346271447346507788\">\n",
      "<Tweet id=\"1346258109518413825\">\n",
      "<Tweet id=\"1346199428625965056\">\n",
      "<Tweet id=\"1346188400215224321\">\n",
      "<Tweet id=\"1346150340836601857\">\n",
      "<Tweet id=\"1345896476623265792\">\n",
      "<Tweet id=\"1345845695702396928\">\n",
      "<Tweet id=\"1345792290372116480\">\n",
      "<Tweet id=\"1345542896662032384\">\n",
      "<Tweet id=\"1345490049727668226\">\n",
      "<Tweet id=\"1345449279964368896\">\n",
      "<Tweet id=\"1345063487957917696\">\n",
      "<Tweet id=\"1344862916194021377\">\n",
      "<Tweet id=\"1344836995441426432\">\n",
      "<Tweet id=\"1344775842455498752\">\n",
      "<Tweet id=\"1344763259602173952\">\n",
      "<Tweet id=\"1344720522056245255\">\n",
      "<Tweet id=\"1344458249731407872\">\n",
      "<Tweet id=\"1344424275818786816\">\n",
      "<Tweet id=\"1344366394641563649\">\n",
      "<Tweet id=\"1344322857665490944\">\n",
      "<Tweet id=\"1344093345207832576\">\n",
      "<Tweet id=\"1344068179463700480\">\n",
      "<Tweet id=\"1344021093321826305\">\n",
      "<Tweet id=\"1344007781427326977\">\n",
      "<Tweet id=\"1343982615670501376\">\n",
      "<Tweet id=\"1343939833765519361\">\n",
      "<Tweet id=\"1343734732282974208\">\n",
      "<Tweet id=\"1343709566622720001\">\n",
      "<Tweet id=\"1343650410817458177\">\n",
      "<Tweet id=\"1343591287467827201\">\n",
      "[(939091, 'Joe Biden', 'JoeBiden', 1351951465674276869, 'Now the real work begins, folks. Follow along at @POTUS as we build back better. https://t.co/fHViqSqwp2', datetime.datetime(2021, 1, 20, 17, 55, 22, tzinfo=datetime.timezone.utc)), (939091, 'Joe Biden', 'JoeBiden', 1351918910199631872, 'I love you, Jilly, and I couldn’t be more grateful to have you with me on the journey ahead. https://t.co/V4GUXAKSKg', datetime.datetime(2021, 1, 20, 15, 46, tzinfo=datetime.timezone.utc)), (939091, 'Joe Biden', 'JoeBiden', 1351906918667677696, 'Today, we begin anew. Tune in for #Inauguration2021. https://t.co/HxfU8q5riA', datetime.datetime(2021, 1, 20, 14, 58, 21, tzinfo=datetime.timezone.utc)), (939091, 'Joe Biden', 'JoeBiden', 1351897267666608129, 'It’s a new day in America.', datetime.datetime(2021, 1, 20, 14, 20, tzinfo=datetime.timezone.utc)), (939091, 'Joe Biden', 'JoeBiden', 1351731172989050882, 'Tonight, in Washington, D.C. and across the nation, we came together to honor the over 400,000 Americans we’ve lost to COVID-19. The last year has tested us in unimaginable ways, but now it’s time we begin to heal and overcome — together. https://t.co/DuWhN1xjNO', datetime.datetime(2021, 1, 20, 3, 20, tzinfo=datetime.timezone.utc)), (939091, 'Joe Biden', 'JoeBiden', 1351711040933830659, 'We don’t have a second to waste when it comes to tackling the crises we face as a nation. That’s why after being sworn in tomorrow, I’ll get right to work. https://t.co/QBrS17mle8', datetime.datetime(2021, 1, 20, 2, 0, tzinfo=datetime.timezone.utc)), (939091, 'Joe Biden', 'JoeBiden', 1351653131248041984, 'Join us for a national moment of unity and remembrance in honor of the 400,000 Americans we’ve lost due to COVID-19. https://t.co/0BW7AQLxUx', datetime.datetime(2021, 1, 19, 22, 9, 53, tzinfo=datetime.timezone.utc)), (939091, 'Joe Biden', 'JoeBiden', 1351630258114502656, 'Next stop: Washington, D.C. https://t.co/oW0C4LQVBf', datetime.datetime(2021, 1, 19, 20, 39, tzinfo=datetime.timezone.utc)), (939091, 'Joe Biden', 'JoeBiden', 1351599720012021761, 'I’m in Delaware for one final event before I head to Washington for tomorrow’s inauguration. Tune in. https://t.co/YnEMiqhhDE', datetime.datetime(2021, 1, 19, 18, 37, 39, tzinfo=datetime.timezone.utc)), (939091, 'Joe Biden', 'JoeBiden', 1351367275094310912, 'There’s no more fitting way to honor the legacy of Dr. Martin Luther King, Jr. than service. Thank you to @Philabundance for letting us stop by and for the work you do every day to end hunger. https://t.co/dy78IQ0vgf', datetime.datetime(2021, 1, 19, 3, 14, tzinfo=datetime.timezone.utc)), (939091, 'Joe Biden', 'JoeBiden', 1351333542547001344, 'As the National Day of Service comes to a close, we’re celebrating the legacy of Dr. Martin Luther King, Jr. with an evening full of entertainers and inspiring speakers. Tune in for “United We Serve.” https://t.co/hqWmdbXDWb', datetime.datetime(2021, 1, 19, 0, 59, 57, tzinfo=datetime.timezone.utc)), (939091, 'Joe Biden', 'JoeBiden', 1351265605840633858, 'Dr. Martin Luther King, Jr.’s words remind us that darkness cannot drive out darkness and hate cannot drive out hate — only light and love can. As we seek to overcome this season of darkness in America, let us choose love and light and begin to heal — together. #MLKDay', datetime.datetime(2021, 1, 18, 20, 30, tzinfo=datetime.timezone.utc)), (939091, 'Joe Biden', 'JoeBiden', 1351228360123318272, 'Our Administration will lead with science and scientists — with a CDC and NIH that are free from political influence, a Surgeon General who is independent and speaks directly to the people, and an FDA whose decisions are based on science and science alone.', datetime.datetime(2021, 1, 18, 18, 2, tzinfo=datetime.timezone.utc)), (939091, 'Joe Biden', 'JoeBiden', 1350981483062706177, 'I know @harrisonjaime and the new DNC team are ready to strengthen our party’s infrastructure and elect Democrats across the country — but they need your help to do it.\\n\\nIf you’re able, chip in to support them by donating to the DNC today: https://t.co/GMCVuvPrYT', datetime.datetime(2021, 1, 18, 1, 41, tzinfo=datetime.timezone.utc)), (939091, 'Joe Biden', 'JoeBiden', 1350926118409289730, 'Service is a fitting way to start to heal, unite, and rebuild this country we love.\\n\\nI hope you’ll join us in honoring the legacy of Dr. Martin Luther King, Jr. by participating in the National Day of Service: https://t.co/H4pDdtXc3V https://t.co/ecHlPK7PAO', datetime.datetime(2021, 1, 17, 22, 1, tzinfo=datetime.timezone.utc)), (939091, 'Joe Biden', 'JoeBiden', 1350878051710750725, 'I know masks have become a partisan issue — but it’s a patriotic act. Experts say wearing a mask from now until April will save more than 50,000 lives.', datetime.datetime(2021, 1, 17, 18, 50, tzinfo=datetime.timezone.utc)), (939091, 'Joe Biden', 'JoeBiden', 1350634446475694080, 'Across the country, approximately 14 million Americans have fallen behind on rent and many may soon be at risk of eviction.\\n\\nWe need to act now. That’s why next week, I’ll extend nationwide restrictions on evictions and foreclosures. https://t.co/kUxpcgOzRe', datetime.datetime(2021, 1, 17, 2, 42, tzinfo=datetime.timezone.utc)), (939091, 'Joe Biden', 'JoeBiden', 1350593782832500737, 'The first @BidenInaugural event is here. Tune in as we celebrate America, reflect and honor our history, and highlight the incredible diversity of the nation. https://t.co/6iIPivVt5N', datetime.datetime(2021, 1, 17, 0, 0, 25, tzinfo=datetime.timezone.utc)), (939091, 'Joe Biden', 'JoeBiden', 1350562220367884289, 'To get as many people vaccinated as quickly as possible, we need more clinics across the nation. That’s why my administration will harness the full resources of the federal government to establish thousands of community vaccination centers. https://t.co/c551gKJZwa', datetime.datetime(2021, 1, 16, 21, 55, tzinfo=datetime.timezone.utc)), (939091, 'Joe Biden', 'JoeBiden', 1350515133034819584, 'Science will be at the forefront of my administration — and this group will ensure everything we do is grounded in science, facts, and the truth. Tune in as I introduce members of my science team. https://t.co/ZEhKL5k59t', datetime.datetime(2021, 1, 16, 18, 47, 53, tzinfo=datetime.timezone.utc)), (939091, 'Joe Biden', 'JoeBiden', 1350480432341520384, 'Getting America vaccinated will be one of the most challenging operational efforts ever undertaken. But you have my word that we will manage the hell out of this operation. https://t.co/EtFTz9c3Lf', datetime.datetime(2021, 1, 16, 16, 30, tzinfo=datetime.timezone.utc)), (939091, 'Joe Biden', 'JoeBiden', 1350256455748882434, 'We not only have an economic imperative to act now, we have a moral obligation. \\n \\nIn this pandemic, in America, we cannot let people go hungry. We cannot let people get evicted. We cannot watch nurses and educators lose their jobs.\\n\\nWe must act.', datetime.datetime(2021, 1, 16, 1, 40, tzinfo=datetime.timezone.utc)), (939091, 'Joe Biden', 'JoeBiden', 1350210150481555457, 'Science will always be at the forefront of my administration — and these world-renowned scientists will ensure everything we do is grounded in science, facts, and the truth. https://t.co/fEbgDMkTDZ', datetime.datetime(2021, 1, 15, 22, 36, tzinfo=datetime.timezone.utc)), (939091, 'Joe Biden', 'JoeBiden', 1350156296012656647, 'My administration will move Heaven and Earth to:\\n\\n- Allow more people to get vaccinated\\n- Create more places for them to get vaccinated\\n- Mobilize more medical teams to get shots in arms\\n- Increase vaccine supply and get it out the door as soon as possible', datetime.datetime(2021, 1, 15, 19, 2, tzinfo=datetime.timezone.utc)), (939091, 'Joe Biden', 'JoeBiden', 1350077778310270978, 'To Pilar, and the countless other small business owners across the country, know that help is on the way. https://t.co/4mKPjN6rgx', datetime.datetime(2021, 1, 15, 13, 50, tzinfo=datetime.timezone.utc)), (939091, 'Joe Biden', 'JoeBiden', 1349894571094810626, 'Direct cash payments.\\nExtended unemployment.\\nRent relief. \\nFood assistance. \\nAid to small businesses.\\nKeeping essential frontline workers on the job.\\n\\nThose are the key elements of my American Rescue Plan.', datetime.datetime(2021, 1, 15, 1, 42, tzinfo=datetime.timezone.utc)), (939091, 'Joe Biden', 'JoeBiden', 1349872996920430595, 'We have no time to waste when it comes to getting this virus under control and building our economy back better. Tune in as I announce my American Rescue Plan. https://t.co/4YAg0nhJMn', datetime.datetime(2021, 1, 15, 0, 16, 16, tzinfo=datetime.timezone.utc)), (939091, 'Joe Biden', 'JoeBiden', 1349849776012087296, 'We need to tackle the public health and economic crises we’re facing head-on. That’s why today, I’m announcing my American Rescue Plan. Together we’ll change the course of the pandemic, build a bridge toward economic recovery, and invest in racial justice. https://t.co/UzGFZY7Jhp', datetime.datetime(2021, 1, 14, 22, 44, tzinfo=datetime.timezone.utc)), (939091, 'Joe Biden', 'JoeBiden', 1349563892087869442, 'We’re in the teeth of this crisis, and we need to take immediate action to get the virus under control. That’s why tomorrow, I’ll be laying out my vaccination and economic rescue package to beat COVID-19 and build back better.', datetime.datetime(2021, 1, 14, 3, 48, tzinfo=datetime.timezone.utc)), (939091, 'Joe Biden', 'JoeBiden', 1349556594237792256, 'Today, in a bipartisan vote, the House voted to impeach and hold President Trump accountable. Now, the process continues to the Senate—and I hope they’ll deal with their Constitutional responsibilities on impeachment while also working on the other urgent business of this nation.', datetime.datetime(2021, 1, 14, 3, 19, tzinfo=datetime.timezone.utc)), (939091, 'Joe Biden', 'JoeBiden', 1349375651883724804, \"Ambassador Samantha Power is a world-renowned voice of conscience and moral clarity—challenging and rallying the international community to stand up for the dignity and humanity of all people. As USAID Administrator, she'll be a powerful force for principled American engagement. https://t.co/jwseGEsb8c\", datetime.datetime(2021, 1, 13, 15, 20, tzinfo=datetime.timezone.utc)), (939091, 'Joe Biden', 'JoeBiden', 1349090628790067200, 'My number one priority is getting people vaccinated as quickly as we can to get our country back on track. https://t.co/JLY1DntIlR', datetime.datetime(2021, 1, 12, 20, 27, 25, tzinfo=datetime.timezone.utc)), (939091, 'Joe Biden', 'JoeBiden', 1349068634413436929, 'It’s long past time to raise the minimum wage, so hardworking people earn at least $15 an hour. \\n \\nI hope that Democratic control of the House and Senate will ensure prompt action to get it done.', datetime.datetime(2021, 1, 12, 19, 0, 1, tzinfo=datetime.timezone.utc)), (939091, 'Joe Biden', 'JoeBiden', 1348994390690246657, 'I urge every American to:\\n\\n- Wear a mask\\n- Stay socially distanced\\n- Avoid large indoor gatherings\\n\\nWe can save countless lives if we step up together.', datetime.datetime(2021, 1, 12, 14, 5, tzinfo=datetime.timezone.utc)), (939091, 'Joe Biden', 'JoeBiden', 1348800612742402048, 'Getting America vaccinated will be one of the greatest operational challenges we’ve ever faced, but my administration will spare no effort to get it done.\\n\\nWe’re going to ensure the vaccine is distributed quickly, equitably, and free of charge to every American.', datetime.datetime(2021, 1, 12, 1, 15, tzinfo=datetime.timezone.utc)), (939091, 'Joe Biden', 'JoeBiden', 1348763039160532992, 'Folks, I just received the second dose of my COVID-19 vaccine — and just like the first dose, it was safe, quick, and painless. \\n\\nI urge everyone to get vaccinated once it’s your turn. Because only together can we save lives and beat this virus. https://t.co/w1m8gEh2iL', datetime.datetime(2021, 1, 11, 22, 45, 41, tzinfo=datetime.timezone.utc)), (939091, 'Joe Biden', 'JoeBiden', 1348636095458717696, 'I’m asking Ambassador Bill Burns to lead the Central Intelligence Agency because he’s dealt with many of the thorniest global challenges we face. As a legendary career diplomat, he approached complex issues with honesty, integrity and skill. That’s exactly how he’ll lead the CIA. https://t.co/ypnuH016BV', datetime.datetime(2021, 1, 11, 14, 21, 16, tzinfo=datetime.timezone.utc)), (939091, 'Joe Biden', 'JoeBiden', 1348430675238678528, '$600 is simply not enough when you have to choose between paying rent or putting food on the table.\\n \\nWe need $2,000 stimulus checks.', datetime.datetime(2021, 1, 11, 0, 45, tzinfo=datetime.timezone.utc)), (939091, 'Joe Biden', 'JoeBiden', 1348351402624524288, 'I am proud that we have finished naming the members of our Cabinet.\\n \\nIt’s a Cabinet that looks like America and taps into the full range of talents we have in our nation. https://t.co/DTX53k7sUx', datetime.datetime(2021, 1, 10, 19, 30, tzinfo=datetime.timezone.utc)), (939091, 'Joe Biden', 'JoeBiden', 1348299813163474944, 'In 10 days, we move forward and rebuild — together.', datetime.datetime(2021, 1, 10, 16, 5, tzinfo=datetime.timezone.utc)), (939091, 'Joe Biden', 'JoeBiden', 1348064513170567168, 'The bottom line is we need to provide immediate relief for working families and businesses. Now. https://t.co/syaHTaX3O4', datetime.datetime(2021, 1, 10, 0, 30, tzinfo=datetime.timezone.utc)), (939091, 'Joe Biden', 'JoeBiden', 1347947491300401152, 'From the most inequitable economic and jobs crisis in modern history, my jobs team will help us build back better with an economy that works for all Americans. Let’s get to work. https://t.co/hx7cyOHF87', datetime.datetime(2021, 1, 9, 16, 45, tzinfo=datetime.timezone.utc)), (939091, 'Joe Biden', 'JoeBiden', 1347704641136463872, 'My administration will get right to work distributing emergency aid swiftly and equitably. Our focus will be on the small businesses on Main Street — not those that are wealthy and well-connected. https://t.co/FlD8voUpcP', datetime.datetime(2021, 1, 9, 0, 40, tzinfo=datetime.timezone.utc)), (939091, 'Joe Biden', 'JoeBiden', 1347665885666938886, '.@GabbyGiffords — Your perseverance and immeasurable courage continue to inspire me and millions of others. I pledge to continue to work with you — and with survivors, families, and advocates across the country — to defeat the NRA and end our epidemic of gun violence.', datetime.datetime(2021, 1, 8, 22, 6, tzinfo=datetime.timezone.utc)), (939091, 'Joe Biden', 'JoeBiden', 1347649779921203201, 'Ten years ago today, in Tucson, Arizona, six innocent lives were taken away by a senseless and brutal act of violence. Jill and I remember those we lost and everyone whose lives were irreversibly changed that day — including my friend Congresswoman @GabbyGiffords.', datetime.datetime(2021, 1, 8, 21, 2, tzinfo=datetime.timezone.utc)), (939091, 'Joe Biden', 'JoeBiden', 1347618371135705090, 'We need to build a new American economy where everyone enjoys a fair return for their work and an equal chance to get ahead. Tune in as I introduce members of the team that will get it done. https://t.co/PAOu57i9j5', datetime.datetime(2021, 1, 8, 18, 57, 11, tzinfo=datetime.timezone.utc)), (939091, 'Joe Biden', 'JoeBiden', 1347571667598503937, 'We need to restore the honor, the integrity, and the independence of the Department of Justice in this nation — and this is the group that will get it done. https://t.co/Yfuys8i73V', datetime.datetime(2021, 1, 8, 15, 51, 36, tzinfo=datetime.timezone.utc)), (939091, 'Joe Biden', 'JoeBiden', 1347377487374741508, 'I’m proud to nominate Judge Merrick Garland for Attorney General of the United States. https://t.co/xBR5PAN2wH', datetime.datetime(2021, 1, 8, 3, 0, tzinfo=datetime.timezone.utc)), (939091, 'Joe Biden', 'JoeBiden', 1347366160807981056, 'For the past four years, President Trump has unleashed an all-out assault on the institutions of our democracy.\\n\\nYesterday was but the culmination of that unrelenting attack. https://t.co/Mcli7mzENu', datetime.datetime(2021, 1, 8, 2, 15, tzinfo=datetime.timezone.utc)), (939091, 'Joe Biden', 'JoeBiden', 1347352319726215168, 'This team shares my belief that the middle class built this country and that unions built the middle class.\\n\\nThey will help us emerge from the most inequitable economic crisis in modern history by building an economy where every American is in on the deal. https://t.co/iorqb5Dxpj', datetime.datetime(2021, 1, 8, 1, 20, tzinfo=datetime.timezone.utc)), (939091, 'Joe Biden', 'JoeBiden', 1347298213422747649, 'No one can tell me that if it had been a group of Black Lives Matter protestors yesterday that they wouldn’t have been treated very differently than the mob that stormed the Capitol. \\n\\nWe all know that’s true — and it’s unacceptable.', datetime.datetime(2021, 1, 7, 21, 45, tzinfo=datetime.timezone.utc)), (939091, 'Joe Biden', 'JoeBiden', 1347287643776667648, 'Merrick Garland will serve as the Attorney General of the United States — not as my personal lawyer.', datetime.datetime(2021, 1, 7, 21, 3, tzinfo=datetime.timezone.utc)), (939091, 'Joe Biden', 'JoeBiden', 1347276822078218241, 'What we witnessed yesterday was not dissent — it was disorder. \\n\\nThey weren’t protestors — they were rioters, insurrectionists, and domestic terrorists.\\n\\nI wish we could say we couldn’t see it coming, but that isn’t true. We could.', datetime.datetime(2021, 1, 7, 20, 20, tzinfo=datetime.timezone.utc)), (939091, 'Joe Biden', 'JoeBiden', 1347253347057733632, 'It’s time for a Department of Justice that serves the interests of the people — not a presidency. Tune in as I introduce key nominees to lead the Department. https://t.co/8eIm9NvQS8', datetime.datetime(2021, 1, 7, 18, 46, 43, tzinfo=datetime.timezone.utc)), (939091, 'Joe Biden', 'JoeBiden', 1347200066646376448, 'Our nominees for the Justice Department will restore the independence of the Department, so it serves the interests of the people—not a presidency. They’ll rebuild public trust in the rule of law and work to ensure a more fair and equitable justice system. https://t.co/MSCRAwsmaH', datetime.datetime(2021, 1, 7, 15, 15, tzinfo=datetime.timezone.utc)), (939091, 'Joe Biden', 'JoeBiden', 1346985653658116098, 'Today is a reminder, a painful one, that democracy is fragile. To preserve it requires people of good will, leaders with the courage to stand up, who are devoted not to pursuit of power and personal interest at any cost, but to the common good.', datetime.datetime(2021, 1, 7, 1, 3, tzinfo=datetime.timezone.utc)), (939091, 'Joe Biden', 'JoeBiden', 1346963759156195332, 'Through war and strife, America has endured much. And we will endure here and prevail now. https://t.co/OvNOV0ogWG', datetime.datetime(2021, 1, 6, 23, 36, tzinfo=datetime.timezone.utc)), (939091, 'Joe Biden', 'JoeBiden', 1346938341791387651, 'Our way is plain: It is the way of democracy — of lawfulness, and of respect — respect for each other, and for our nation.', datetime.datetime(2021, 1, 6, 21, 55, tzinfo=datetime.timezone.utc)), (939091, 'Joe Biden', 'JoeBiden', 1346932050746630149, 'America is so much better than what we’re seeing today.', datetime.datetime(2021, 1, 6, 21, 30, tzinfo=datetime.timezone.utc)), (939091, 'Joe Biden', 'JoeBiden', 1346929533774159876, 'I call on President Trump to go on national television now to fulfill his oath and defend the Constitution by demanding an end to this siege.', datetime.datetime(2021, 1, 6, 21, 20, tzinfo=datetime.timezone.utc)), (939091, 'Joe Biden', 'JoeBiden', 1346928275470299142, \"Let me be very clear: the scenes of chaos at the Capitol do not represent who we are. What we are seeing is a small number of extremists dedicated to lawlessness. This is not dissent, it's disorder. It borders on sedition, and it must end. Now.\", datetime.datetime(2021, 1, 6, 21, 15, tzinfo=datetime.timezone.utc)), (939091, 'Joe Biden', 'JoeBiden', 1346891030055022592, \"I called Reverend Warnock and Jon Ossoff this morning to congratulate them on their hard-fought campaigns. Georgia voters delivered a resounding message yesterday: they want action on the crises we face and they want it right now. Together, we'll get it done. https://t.co/TPBEbgOwzH\", datetime.datetime(2021, 1, 6, 18, 47, tzinfo=datetime.timezone.utc)), (939091, 'Joe Biden', 'JoeBiden', 1346603636168642561, 'Stay in line, Georgia. If you’re in line at your polling place by 7 PM, you can vote.', datetime.datetime(2021, 1, 5, 23, 45, tzinfo=datetime.timezone.utc)), (939091, 'Joe Biden', 'JoeBiden', 1346600616408330241, 'Georgia voters: If you’re voting in the county where you’re registered, you’re entitled to ask for a provisional ballot if you’re told you aren’t on the voter rolls. Don’t leave without voting.\\n\\nIf you have questions, call the Voter Protection Hotline: 888-730-5816', datetime.datetime(2021, 1, 5, 23, 33, tzinfo=datetime.timezone.utc)), (939091, 'Joe Biden', 'JoeBiden', 1346565887571107840, 'Georgia — If you elect @ReverendWarnock and @Ossoff, we can break the gridlock that has gripped Washington.\\n\\nWe’ll be able to make the progress we need to make on jobs, health care, justice, and more.\\n\\nIt all comes down to today. Vote: https://t.co/RIJ1L4B5o9\\n\\n📷: @kevloweryphoto https://t.co/FMfNZvI6gR', datetime.datetime(2021, 1, 5, 21, 15, tzinfo=datetime.timezone.utc)), (939091, 'Joe Biden', 'JoeBiden', 1346535688733265921, 'Georgia — If you have any questions today while voting, reach out to the Voter Protection Hotline: 1-888-730-5816', datetime.datetime(2021, 1, 5, 19, 15, tzinfo=datetime.timezone.utc)), (939091, 'Joe Biden', 'JoeBiden', 1346509264299282433, 'Georgia — The nation is looking to you to lead us forward. \\n\\nThe power is in your hands: https://t.co/RIJ1L4B5o9 https://t.co/BhZ3Mcfozm', datetime.datetime(2021, 1, 5, 17, 30, tzinfo=datetime.timezone.utc)), (939091, 'Joe Biden', 'JoeBiden', 1346475895955939328, 'Go vote, Georgia!\\n\\nhttps://t.co/RIJ1L4B5o9', datetime.datetime(2021, 1, 5, 15, 17, 24, tzinfo=datetime.timezone.utc)), (939091, 'Joe Biden', 'JoeBiden', 1346286546975014912, 'I’m asking you to give everything you’ve got for one more day — because that one day can change America.\\n\\nhttps://t.co/RIJ1L4B5o9 https://t.co/6RvV9Ffx04', datetime.datetime(2021, 1, 5, 2, 45, tzinfo=datetime.timezone.utc)), (939091, 'Joe Biden', 'JoeBiden', 1346271447346507788, 'In America, politicians can’t assert, take, or seize power.\\n\\nIt has to be given by the American people.\\n\\nWe can’t ever give that up. The will of the people must always prevail.', datetime.datetime(2021, 1, 5, 1, 45, tzinfo=datetime.timezone.utc)), (939091, 'Joe Biden', 'JoeBiden', 1346258109518413825, 'The debate over $2,000 isn’t some abstract debate in Washington. It’s about real lives.\\n\\nHardworking Americans need help, and they need it now.\\n\\nGeorgia — you have the power to make it happen. Vote. https://t.co/yFBBk1YAEm', datetime.datetime(2021, 1, 5, 0, 52, tzinfo=datetime.timezone.utc)), (939091, 'Joe Biden', 'JoeBiden', 1346199428625965056, 'With just one day to go until the Georgia Senate runoffs, I’m in Atlanta to get out the vote. Tune in. https://t.co/I4MBUj0g3o', datetime.datetime(2021, 1, 4, 20, 58, 49, tzinfo=datetime.timezone.utc)), (939091, 'Joe Biden', 'JoeBiden', 1346188400215224321, 'One day left, folks. I’m on my way to Georgia to help send @ReverendWarnock and @Ossoff to the Senate. See you soon, Atlanta!', datetime.datetime(2021, 1, 4, 20, 15, tzinfo=datetime.timezone.utc)), (939091, 'Joe Biden', 'JoeBiden', 1346150340836601857, 'Georgia — If you haven’t returned your absentee ballot yet, drop it off at a drop box in your county today.\\n\\nIf you’re voting in-person tomorrow, make your plan today.\\n\\nLet’s flip the Senate: https://t.co/RIJ1L4juwB', datetime.datetime(2021, 1, 4, 17, 43, 46, tzinfo=datetime.timezone.utc)), (939091, 'Joe Biden', 'JoeBiden', 1345896476623265792, 'The Senate swearing-in ceremony was always one of my favorite parts of the job as Vice President. Congratulations to the newly minted members of the 117th Congress. I look forward to working alongside you to get this virus under control and build back better.', datetime.datetime(2021, 1, 4, 0, 55, tzinfo=datetime.timezone.utc)), (939091, 'Joe Biden', 'JoeBiden', 1345845695702396928, 'With just two days to go until the Georgia Senate runoffs, @KamalaHarris is in Savannah firing up folks to get out and vote. Tune in. https://t.co/3F4wMyotcO', datetime.datetime(2021, 1, 3, 21, 33, 13, tzinfo=datetime.timezone.utc)), (939091, 'Joe Biden', 'JoeBiden', 1345792290372116480, 'Here’s my promise to you: I’ll be a president for all Americans. Whether you voted for me or not, I’ll wake up every single morning and work to make your life better.', datetime.datetime(2021, 1, 3, 18, 1, tzinfo=datetime.timezone.utc)), (939091, 'Joe Biden', 'JoeBiden', 1345542896662032384, 'Floyd Little and I were students at Syracuse University together. And over the years, I got to know the man behind the number. He was full of character, decency, and integrity. I will miss my friend. The entire Biden family sends our love to DeBorah and the Little family.', datetime.datetime(2021, 1, 3, 1, 30, tzinfo=datetime.timezone.utc)), (939091, 'Joe Biden', 'JoeBiden', 1345490049727668226, 'Mask up, folks.', datetime.datetime(2021, 1, 2, 22, 0, tzinfo=datetime.timezone.utc)), (939091, 'Joe Biden', 'JoeBiden', 1345449279964368896, 'It’s the final weekend before the Georgia Senate runoffs, which means we have just a few days left to do everything we can to flip the Senate. If you have a few minutes, sign up to make calls and let’s get to work: https://t.co/uR93pEtK1X', datetime.datetime(2021, 1, 2, 19, 18, tzinfo=datetime.timezone.utc)), (939091, 'Joe Biden', 'JoeBiden', 1345063487957917696, 'Let me be clear: The Biden-Harris Administration will spare no effort to make sure people are getting vaccinated. https://t.co/FfppocXufa', datetime.datetime(2021, 1, 1, 17, 45, tzinfo=datetime.timezone.utc)), (939091, 'Joe Biden', 'JoeBiden', 1344862916194021377, 'Here’s to 2021. https://t.co/9HAQOSWgvO', datetime.datetime(2021, 1, 1, 4, 28, tzinfo=datetime.timezone.utc)), (939091, 'Joe Biden', 'JoeBiden', 1344836995441426432, 'In 2021, we’re going to build a brighter future. https://t.co/YjzT7aw5zQ', datetime.datetime(2021, 1, 1, 2, 45, tzinfo=datetime.timezone.utc)), (939091, 'Joe Biden', 'JoeBiden', 1344775842455498752, 'The challenges we face as a nation will not disappear overnight, but as we look forward to the start of a new year, I’m filled with fresh hope about the possibilities of better days to come. \\n\\nAfter a year of pain and loss, let us unite, heal, and rebuild in 2021.', datetime.datetime(2020, 12, 31, 22, 42, tzinfo=datetime.timezone.utc)), (939091, 'Joe Biden', 'JoeBiden', 1344763259602173952, 'We have less than one week to do everything in our power to help Jon Ossoff and Raphael Warnock win their Senate runoff elections in Georgia. These races will not only determine the fate of the Senate but the future of our country. Chip in today: https://t.co/EByC4gktYT', datetime.datetime(2020, 12, 31, 21, 52, tzinfo=datetime.timezone.utc)), (939091, 'Joe Biden', 'JoeBiden', 1344720522056245255, 'Georgia — Today is your last chance to vote early ahead of next week’s Senate runoffs. \\n\\nConfirm your polling location and go vote: https://t.co/RIJ1L4juwB', datetime.datetime(2020, 12, 31, 19, 2, 10, tzinfo=datetime.timezone.utc)), (939091, 'Joe Biden', 'JoeBiden', 1344458249731407872, 'The next few weeks and months are going to be a very tough period for our nation — maybe the toughest of the whole pandemic. \\n\\nBut we are going to get through it. Brighter days are coming, but it’s going to take all the grit and determination we have as Americans to do it.', datetime.datetime(2020, 12, 31, 1, 40, tzinfo=datetime.timezone.utc)), (939091, 'Joe Biden', 'JoeBiden', 1344424275818786816, 'With just over 20 days until Inauguration Day, there’s never been a better time to stock up on @BidenInaugural gear. Head to https://t.co/j1ZK7kyMj6 to find everything you need.', datetime.datetime(2020, 12, 30, 23, 25, tzinfo=datetime.timezone.utc)), (939091, 'Joe Biden', 'JoeBiden', 1344366394641563649, 'We can save 60,000-100,000 lives in the weeks and months ahead if we step up together.\\n\\nWear a mask. Stay socially distanced. Avoid large indoor gatherings.\\n\\nEach of us has a duty to do what we can to protect ourselves, our families, and our fellow Americans.', datetime.datetime(2020, 12, 30, 19, 35, tzinfo=datetime.timezone.utc)), (939091, 'Joe Biden', 'JoeBiden', 1344322857665490944, 'We’re going to make sure vaccines are free of charge.\\n\\nAnd we’re going to ensure they are distributed equitably, so every person who wants a vaccine can get one — no matter the color of their skin or where they live. https://t.co/uLQfxS1PM0', datetime.datetime(2020, 12, 30, 16, 42, tzinfo=datetime.timezone.utc)), (939091, 'Joe Biden', 'JoeBiden', 1344093345207832576, 'After ten months of the pandemic, we still don’t have enough testing. It’s a travesty.\\n\\nWe need to scale up testing so anyone who needs one can get one.', datetime.datetime(2020, 12, 30, 1, 30, tzinfo=datetime.timezone.utc)), (939091, 'Joe Biden', 'JoeBiden', 1344068179463700480, 'Once in office, I will be asking the American people to wear a mask for the first 100 days of my administration. Not as a political statement, but as a patriotic duty. https://t.co/0Uayw4sAs7', datetime.datetime(2020, 12, 29, 23, 50, tzinfo=datetime.timezone.utc)), (939091, 'Joe Biden', 'JoeBiden', 1344021093321826305, 'Tune in as I deliver remarks on the ongoing COVID-19 crisis and what my administration will do to get this virus under control. https://t.co/cW9z2nkEkP', datetime.datetime(2020, 12, 29, 20, 42, 54, tzinfo=datetime.timezone.utc)), (939091, 'Joe Biden', 'JoeBiden', 1344007781427326977, 'Leading by example.', datetime.datetime(2020, 12, 29, 19, 50, tzinfo=datetime.timezone.utc)), (939091, 'Joe Biden', 'JoeBiden', 1343982615670501376, 'One week, Georgia.\\n\\nVote early, and let’s flip the Senate: https://t.co/RIJ1L4juwB https://t.co/pF3Z740HYn', datetime.datetime(2020, 12, 29, 18, 10, tzinfo=datetime.timezone.utc)), (939091, 'Joe Biden', 'JoeBiden', 1343939833765519361, 'Meeting the most daunting threats of our time requires American engagement and leadership — but none of them can be solved alone. https://t.co/cfCqvFGEbZ', datetime.datetime(2020, 12, 29, 15, 20, tzinfo=datetime.timezone.utc)), (939091, 'Joe Biden', 'JoeBiden', 1343734732282974208, 'This year, we’ve painfully learned the cost of being unprepared for a pandemic.\\n \\nIf we aren’t investing with our partners around the world, we’re undermining our ability to defeat COVID-19 and leaving ourselves vulnerable to the next deadly epidemic.', datetime.datetime(2020, 12, 29, 1, 45, tzinfo=datetime.timezone.utc)), (939091, 'Joe Biden', 'JoeBiden', 1343709566622720001, 'Right now, my team isn’t getting all the information that we need from the outgoing administration in key national security areas. \\n\\nIt’s nothing short of irresponsible. https://t.co/T67NbgSFLl', datetime.datetime(2020, 12, 29, 0, 5, tzinfo=datetime.timezone.utc)), (939091, 'Joe Biden', 'JoeBiden', 1343650410817458177, 'This afternoon, I was briefed by members of my national security and foreign policy agency review teams. Tune in as I deliver remarks on the challenges our administration will inherit. https://t.co/EbPUT6jjXX', datetime.datetime(2020, 12, 28, 20, 9, 56, tzinfo=datetime.timezone.utc)), (939091, 'Joe Biden', 'JoeBiden', 1343591287467827201, 'Folks, there’s just over one week until the Georgia Senate runoffs. With the races neck and neck, we need your help more than ever. Chip in and let’s flip the Senate: https://t.co/33NyxPALUs', datetime.datetime(2020, 12, 28, 16, 15, tzinfo=datetime.timezone.utc))]\n"
     ]
    }
   ],
   "source": [
    "tweets2 = process_tweets(handle, user_id, tweets)\n",
    "print(tweets2)"
   ]
  },
  {
   "cell_type": "code",
   "execution_count": 45,
   "metadata": {},
   "outputs": [
    {
     "data": {
      "text/plain": [
       "<sqlite3.Cursor at 0x22e839d46c0>"
      ]
     },
     "execution_count": 45,
     "metadata": {},
     "output_type": "execute_result"
    }
   ],
   "source": [
    "import sqlite3\n",
    "conn = sqlite3.connect('tweets.db')\n",
    "c = conn.cursor()\n",
    "\n",
    "c.execute(\"\"\"CREATE TABLE tweets (\n",
    "          user_id INTEGER,\n",
    "          user_name TEXT,\n",
    "          user_handle TEXT,\n",
    "          tweet_id INTEGER,\n",
    "          tweet_text TEXT,\n",
    "          created_date DATETIME\n",
    "          )\"\"\")"
   ]
  },
  {
   "cell_type": "code",
   "execution_count": 41,
   "metadata": {},
   "outputs": [
    {
     "data": {
      "text/plain": [
       "<sqlite3.Cursor at 0x22e84a18940>"
      ]
     },
     "execution_count": 41,
     "metadata": {},
     "output_type": "execute_result"
    }
   ],
   "source": [
    "conn.execute('DROP TABLE tweets')"
   ]
  },
  {
   "cell_type": "code",
   "execution_count": 35,
   "metadata": {},
   "outputs": [
    {
     "name": "stdout",
     "output_type": "stream",
     "text": [
      "(939091, 'Joe Biden', 'JoeBiden', 1351951465674276869, 'Now the real work begins, folks. Follow along at @POTUS as we build back better. https://t.co/fHViqSqwp2', datetime.datetime(2021, 1, 20, 17, 55, 22, tzinfo=datetime.timezone.utc))\n",
      "(939091, 'Joe Biden', 'JoeBiden', 1351918910199631872, 'I love you, Jilly, and I couldn’t be more grateful to have you with me on the journey ahead. https://t.co/V4GUXAKSKg', datetime.datetime(2021, 1, 20, 15, 46, tzinfo=datetime.timezone.utc))\n",
      "(939091, 'Joe Biden', 'JoeBiden', 1351906918667677696, 'Today, we begin anew. Tune in for #Inauguration2021. https://t.co/HxfU8q5riA', datetime.datetime(2021, 1, 20, 14, 58, 21, tzinfo=datetime.timezone.utc))\n",
      "(939091, 'Joe Biden', 'JoeBiden', 1351897267666608129, 'It’s a new day in America.', datetime.datetime(2021, 1, 20, 14, 20, tzinfo=datetime.timezone.utc))\n",
      "(939091, 'Joe Biden', 'JoeBiden', 1351731172989050882, 'Tonight, in Washington, D.C. and across the nation, we came together to honor the over 400,000 Americans we’ve lost to COVID-19. The last year has tested us in unimaginable ways, but now it’s time we begin to heal and overcome — together. https://t.co/DuWhN1xjNO', datetime.datetime(2021, 1, 20, 3, 20, tzinfo=datetime.timezone.utc))\n",
      "(939091, 'Joe Biden', 'JoeBiden', 1351711040933830659, 'We don’t have a second to waste when it comes to tackling the crises we face as a nation. That’s why after being sworn in tomorrow, I’ll get right to work. https://t.co/QBrS17mle8', datetime.datetime(2021, 1, 20, 2, 0, tzinfo=datetime.timezone.utc))\n",
      "(939091, 'Joe Biden', 'JoeBiden', 1351653131248041984, 'Join us for a national moment of unity and remembrance in honor of the 400,000 Americans we’ve lost due to COVID-19. https://t.co/0BW7AQLxUx', datetime.datetime(2021, 1, 19, 22, 9, 53, tzinfo=datetime.timezone.utc))\n",
      "(939091, 'Joe Biden', 'JoeBiden', 1351630258114502656, 'Next stop: Washington, D.C. https://t.co/oW0C4LQVBf', datetime.datetime(2021, 1, 19, 20, 39, tzinfo=datetime.timezone.utc))\n",
      "(939091, 'Joe Biden', 'JoeBiden', 1351599720012021761, 'I’m in Delaware for one final event before I head to Washington for tomorrow’s inauguration. Tune in. https://t.co/YnEMiqhhDE', datetime.datetime(2021, 1, 19, 18, 37, 39, tzinfo=datetime.timezone.utc))\n",
      "(939091, 'Joe Biden', 'JoeBiden', 1351367275094310912, 'There’s no more fitting way to honor the legacy of Dr. Martin Luther King, Jr. than service. Thank you to @Philabundance for letting us stop by and for the work you do every day to end hunger. https://t.co/dy78IQ0vgf', datetime.datetime(2021, 1, 19, 3, 14, tzinfo=datetime.timezone.utc))\n",
      "(939091, 'Joe Biden', 'JoeBiden', 1351333542547001344, 'As the National Day of Service comes to a close, we’re celebrating the legacy of Dr. Martin Luther King, Jr. with an evening full of entertainers and inspiring speakers. Tune in for “United We Serve.” https://t.co/hqWmdbXDWb', datetime.datetime(2021, 1, 19, 0, 59, 57, tzinfo=datetime.timezone.utc))\n",
      "(939091, 'Joe Biden', 'JoeBiden', 1351265605840633858, 'Dr. Martin Luther King, Jr.’s words remind us that darkness cannot drive out darkness and hate cannot drive out hate — only light and love can. As we seek to overcome this season of darkness in America, let us choose love and light and begin to heal — together. #MLKDay', datetime.datetime(2021, 1, 18, 20, 30, tzinfo=datetime.timezone.utc))\n",
      "(939091, 'Joe Biden', 'JoeBiden', 1351228360123318272, 'Our Administration will lead with science and scientists — with a CDC and NIH that are free from political influence, a Surgeon General who is independent and speaks directly to the people, and an FDA whose decisions are based on science and science alone.', datetime.datetime(2021, 1, 18, 18, 2, tzinfo=datetime.timezone.utc))\n",
      "(939091, 'Joe Biden', 'JoeBiden', 1350981483062706177, 'I know @harrisonjaime and the new DNC team are ready to strengthen our party’s infrastructure and elect Democrats across the country — but they need your help to do it.\\n\\nIf you’re able, chip in to support them by donating to the DNC today: https://t.co/GMCVuvPrYT', datetime.datetime(2021, 1, 18, 1, 41, tzinfo=datetime.timezone.utc))\n",
      "(939091, 'Joe Biden', 'JoeBiden', 1350926118409289730, 'Service is a fitting way to start to heal, unite, and rebuild this country we love.\\n\\nI hope you’ll join us in honoring the legacy of Dr. Martin Luther King, Jr. by participating in the National Day of Service: https://t.co/H4pDdtXc3V https://t.co/ecHlPK7PAO', datetime.datetime(2021, 1, 17, 22, 1, tzinfo=datetime.timezone.utc))\n",
      "(939091, 'Joe Biden', 'JoeBiden', 1350878051710750725, 'I know masks have become a partisan issue — but it’s a patriotic act. Experts say wearing a mask from now until April will save more than 50,000 lives.', datetime.datetime(2021, 1, 17, 18, 50, tzinfo=datetime.timezone.utc))\n",
      "(939091, 'Joe Biden', 'JoeBiden', 1350634446475694080, 'Across the country, approximately 14 million Americans have fallen behind on rent and many may soon be at risk of eviction.\\n\\nWe need to act now. That’s why next week, I’ll extend nationwide restrictions on evictions and foreclosures. https://t.co/kUxpcgOzRe', datetime.datetime(2021, 1, 17, 2, 42, tzinfo=datetime.timezone.utc))\n",
      "(939091, 'Joe Biden', 'JoeBiden', 1350593782832500737, 'The first @BidenInaugural event is here. Tune in as we celebrate America, reflect and honor our history, and highlight the incredible diversity of the nation. https://t.co/6iIPivVt5N', datetime.datetime(2021, 1, 17, 0, 0, 25, tzinfo=datetime.timezone.utc))\n",
      "(939091, 'Joe Biden', 'JoeBiden', 1350562220367884289, 'To get as many people vaccinated as quickly as possible, we need more clinics across the nation. That’s why my administration will harness the full resources of the federal government to establish thousands of community vaccination centers. https://t.co/c551gKJZwa', datetime.datetime(2021, 1, 16, 21, 55, tzinfo=datetime.timezone.utc))\n",
      "(939091, 'Joe Biden', 'JoeBiden', 1350515133034819584, 'Science will be at the forefront of my administration — and this group will ensure everything we do is grounded in science, facts, and the truth. Tune in as I introduce members of my science team. https://t.co/ZEhKL5k59t', datetime.datetime(2021, 1, 16, 18, 47, 53, tzinfo=datetime.timezone.utc))\n"
     ]
    }
   ],
   "source": [
    "for tweet in tweets2:\n",
    "    print(tweet)"
   ]
  },
  {
   "cell_type": "code",
   "execution_count": 46,
   "metadata": {},
   "outputs": [],
   "source": [
    "from sqlite3 import IntegrityError\n",
    "c.executemany(\"INSERT INTO tweets VALUES (?,?,?,?,?,?)\", tweets2)\n",
    "conn.commit()\n"
   ]
  },
  {
   "cell_type": "code",
   "execution_count": 34,
   "metadata": {},
   "outputs": [
    {
     "name": "stdout",
     "output_type": "stream",
     "text": [
      "[(939091, 'Joe Biden', 'JoeBiden', 1351951465674276869, 'Now the real work begins, folks. Follow along at @POTUS as we build back better. https://t.co/fHViqSqwp2', '2021-01-20 17:55:22+00:00')]\n"
     ]
    }
   ],
   "source": [
    "c.execute(\"SELECT * FROM tweets\")\n",
    "print(c.fetchall())"
   ]
  },
  {
   "cell_type": "code",
   "execution_count": null,
   "metadata": {},
   "outputs": [],
   "source": []
  }
 ],
 "metadata": {
  "kernelspec": {
   "display_name": "Python 3",
   "language": "python",
   "name": "python3"
  },
  "language_info": {
   "codemirror_mode": {
    "name": "ipython",
    "version": 3
   },
   "file_extension": ".py",
   "mimetype": "text/x-python",
   "name": "python",
   "nbconvert_exporter": "python",
   "pygments_lexer": "ipython3",
   "version": "3.11.9"
  }
 },
 "nbformat": 4,
 "nbformat_minor": 2
}

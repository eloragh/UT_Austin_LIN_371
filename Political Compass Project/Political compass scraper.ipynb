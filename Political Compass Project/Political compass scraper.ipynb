{
 "cells": [
  {
   "cell_type": "code",
   "execution_count": 73,
   "metadata": {},
   "outputs": [
    {
     "data": {
      "text/plain": [
       "{'flow_token': 'g;171347484585370533:-1713474845909:ptaiZOYtx3B3SITL8zxDgq2c:14',\n",
       " 'status': 'success',\n",
       " 'subtasks': [{'subtask_id': 'LoginSuccessSubtask',\n",
       "   'open_account': {'user': {'id': 1547081484695216130,\n",
       "     'id_str': '1547081484695216130',\n",
       "     'name': 'Eloragh Espie',\n",
       "     'screen_name': 'EloraghEspie'},\n",
       "    'next_link': {'link_type': 'subtask',\n",
       "     'link_id': 'next_link',\n",
       "     'subtask_id': 'SuccessExit'},\n",
       "    'attribution_event': 'login'}},\n",
       "  {'subtask_id': 'SuccessExit',\n",
       "   'open_link': {'link': {'link_type': 'subtask',\n",
       "     'link_id': 'next_link',\n",
       "     'subtask_id': 'LoginOpenHomeTimeline'}}},\n",
       "  {'subtask_id': 'LoginOpenHomeTimeline',\n",
       "   'open_home_timeline': {'next_link': {'link_type': 'abort',\n",
       "     'link_id': 'next_link'}}}]}"
      ]
     },
     "execution_count": 73,
     "metadata": {},
     "output_type": "execute_result"
    }
   ],
   "source": [
    "from twikit import Client\n",
    "import time\n",
    "\n",
    "USERNAME = 'EloraghEspie'\n",
    "EMAIL = 'eaespie@gmail.com'\n",
    "PASSWORD = 'qtr4pnj3tvc_KDU5cax'\n",
    "\n",
    "# Initialize client\n",
    "client = Client('en-US')\n",
    "\n",
    "# Login to the service with provided user credentials\n",
    "client.login(\n",
    "    auth_info_1=USERNAME ,\n",
    "    auth_info_2=EMAIL,\n",
    "    password=PASSWORD\n",
    ")"
   ]
  },
  {
   "cell_type": "code",
   "execution_count": 76,
   "metadata": {},
   "outputs": [],
   "source": [
    "def get_all_tweets(user_id, since, until):\n",
    "    all_tweets = []\n",
    "    tweets = client.search_tweet(\n",
    "        f'from:{user_id} since:{since} until:{until}', 'Latest'\n",
    "    )\n",
    "\n",
    "    while len(tweets) > 0:\n",
    "        all_tweets += tweets\n",
    "        time.sleep(10)  # cooldown\n",
    "        tweets = tweets.next()\n",
    "\n",
    "    return(all_tweets)"
   ]
  },
  {
   "cell_type": "code",
   "execution_count": 77,
   "metadata": {},
   "outputs": [],
   "source": [
    "def process_tweets(user_tweet_list):\n",
    "    for id in user_tweet_list:\n",
    "        tweet = client.get_tweet_by_id(id)\n",
    "        print(\n",
    "        f'text: {tweet.text}',\n",
    "        f'date: {tweet.created_at}',\n",
    "        sep='\\n'\n",
    "        )"
   ]
  },
  {
   "cell_type": "code",
   "execution_count": 78,
   "metadata": {},
   "outputs": [],
   "source": [
    "all_tweets = get_all_tweets('RealDonaldTrump', since='2020-01-01', until='2021-06-31')\n",
    "process_tweets(all_tweets)"
   ]
  }
 ],
 "metadata": {
  "kernelspec": {
   "display_name": "Python 3",
   "language": "python",
   "name": "python3"
  },
  "language_info": {
   "codemirror_mode": {
    "name": "ipython",
    "version": 3
   },
   "file_extension": ".py",
   "mimetype": "text/x-python",
   "name": "python",
   "nbconvert_exporter": "python",
   "pygments_lexer": "ipython3",
   "version": "3.11.9"
  }
 },
 "nbformat": 4,
 "nbformat_minor": 2
}

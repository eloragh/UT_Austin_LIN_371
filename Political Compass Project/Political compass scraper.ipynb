{
 "cells": [
  {
   "cell_type": "code",
   "execution_count": 88,
   "metadata": {},
   "outputs": [],
   "source": [
    "from twikit import Client\n",
    "from twikit import TwitterException \n",
    "from twikit import TooManyRequests\n",
    "from twikit.utils import Endpoint\n",
    "from translate import Translator\n",
    "from math import ceil\n",
    "import time\n",
    "import json\n",
    "import requests\n",
    "import random"
   ]
  },
  {
   "cell_type": "code",
   "execution_count": 89,
   "metadata": {},
   "outputs": [
    {
     "data": {
      "text/plain": [
       "{'flow_token': 'g;171384234559652703:-1713842345662:fm9jq52E2T7q1PU39cIwcu5J:14',\n",
       " 'status': 'success',\n",
       " 'subtasks': [{'subtask_id': 'LoginSuccessSubtask',\n",
       "   'open_account': {'user': {'id': 1547081484695216130,\n",
       "     'id_str': '1547081484695216130',\n",
       "     'name': 'Eloragh Espie',\n",
       "     'screen_name': 'EloraghEspie'},\n",
       "    'next_link': {'link_type': 'subtask',\n",
       "     'link_id': 'next_link',\n",
       "     'subtask_id': 'SuccessExit'},\n",
       "    'attribution_event': 'login'}},\n",
       "  {'subtask_id': 'SuccessExit',\n",
       "   'open_link': {'link': {'link_type': 'subtask',\n",
       "     'link_id': 'next_link',\n",
       "     'subtask_id': 'LoginOpenHomeTimeline'}}},\n",
       "  {'subtask_id': 'LoginOpenHomeTimeline',\n",
       "   'open_home_timeline': {'next_link': {'link_type': 'abort',\n",
       "     'link_id': 'next_link'}}}]}"
      ]
     },
     "execution_count": 89,
     "metadata": {},
     "output_type": "execute_result"
    }
   ],
   "source": [
    "# this API requires authentication\n",
    "f = open('authentication.txt', 'r')\n",
    "auth = f.read()\n",
    "f.close()\n",
    "auth_token = auth.split(\"\\n\")\n",
    "\n",
    "# don't hardcode your email and password into something!!!\n",
    "# the auth is in gitignore so I won't get hacked\n",
    "USERNAME = str(auth_token[0])\n",
    "EMAIL = str(auth_token[1])\n",
    "PASSWORD = str(auth_token[2])\n",
    "\n",
    "# Initialize client\n",
    "client = Client(language='en-US', http2=True)\n",
    "\n",
    "# Login to the service with provided user credentials\n",
    "client.login(\n",
    "    auth_info_1=USERNAME ,\n",
    "    auth_info_2=EMAIL,\n",
    "    password=PASSWORD\n",
    ")"
   ]
  },
  {
   "cell_type": "code",
   "execution_count": 91,
   "metadata": {},
   "outputs": [],
   "source": [
    "# Twitter LOVES to ban people when they log in repeatedly\n",
    "# saving the cookies makes sure I don't get banned (often)\n",
    "\n",
    "client.get_cookies()\n",
    "client.save_cookies('IGNOREcookies.json')\n",
    "with open('IGNOREcookies.json', 'r', encoding='UTF8') as f:\n",
    "    client.set_cookies(json.load(f))"
   ]
  },
  {
   "cell_type": "code",
   "execution_count": 92,
   "metadata": {},
   "outputs": [],
   "source": [
    "# housekeeping function\n",
    "# each different method uses a different API endpoint\n",
    "# each different API endpoint has a rate limit\n",
    "# you can hit it a certain number of times per a time period (usually 15 minutes)\n",
    "# this tells me how much time I have left if I've hit the rate limit\n",
    "\n",
    "def get_limit_reset_time(endpoint: str):\n",
    "    res = requests.get(\n",
    "        endpoint,\n",
    "        headers=client._base_headers,\n",
    "        cookies=client.get_cookies()\n",
    "    )\n",
    "    return ceil(int(res.headers['x-rate-limit-reset']) - time.time())"
   ]
  },
  {
   "cell_type": "code",
   "execution_count": 93,
   "metadata": {},
   "outputs": [
    {
     "name": "stdout",
     "output_type": "stream",
     "text": [
      "[<Tweet id=\"1351951465674276869\">, <Tweet id=\"1351918910199631872\">, <Tweet id=\"1351906918667677696\">, <Tweet id=\"1351897267666608129\">, <Tweet id=\"1351731172989050882\">, <Tweet id=\"1351711040933830659\">, <Tweet id=\"1351653131248041984\">, <Tweet id=\"1351630258114502656\">, <Tweet id=\"1351599720012021761\">, <Tweet id=\"1351367275094310912\">, <Tweet id=\"1351333542547001344\">, <Tweet id=\"1351265605840633858\">, <Tweet id=\"1351228360123318272\">, <Tweet id=\"1350981483062706177\">, <Tweet id=\"1350926118409289730\">, <Tweet id=\"1350878051710750725\">, <Tweet id=\"1350634446475694080\">, <Tweet id=\"1350593782832500737\">, <Tweet id=\"1350562220367884289\">, <Tweet id=\"1350515133034819584\">]\n"
     ]
    }
   ],
   "source": [
    "# timeout check for scraping tweet IDs\n",
    "try:\n",
    "    print(client.search_tweet(\n",
    "        f'from:JoeBiden since:2020-01-01 until:2021-03-01', 'Latest', count=40\n",
    "    ))\n",
    "except TooManyRequests:\n",
    "    reset_time = get_limit_reset_time(Endpoint.USER_TWEETS)\n",
    "    print(f'rate limit is reset after {reset_time} seconds.')"
   ]
  },
  {
   "cell_type": "code",
   "execution_count": 62,
   "metadata": {},
   "outputs": [
    {
     "name": "stdout",
     "output_type": "stream",
     "text": [
      "<Tweet id=\"1351951465674276869\">\n"
     ]
    }
   ],
   "source": [
    "# timeout check for processing tweets\n",
    "try:\n",
    "    print(client.get_tweet_by_id(1351951465674276869))\n",
    "except TooManyRequests:\n",
    "    reset_time = get_limit_reset_time(Endpoint.USER_TWEETS)\n",
    "    print(f'rate limit is reset after {reset_time} seconds.')"
   ]
  },
  {
   "cell_type": "code",
   "execution_count": 7,
   "metadata": {},
   "outputs": [
    {
     "data": {
      "text/plain": [
       "True"
      ]
     },
     "execution_count": 7,
     "metadata": {},
     "output_type": "execute_result"
    }
   ],
   "source": [
    "# another housekeeping function\n",
    "# if I'm suddenly getting 403 errors, I can use this to check if I've been banned\n",
    "# sometimes I just have to go on the browser and reauthenticate\n",
    "\n",
    "def check_user_status(user_id):\n",
    "    \"\"\"\n",
    "    True if the user is active, otherwise false (not exists or suspended).\n",
    "    \"\"\"\n",
    "    try:\n",
    "        client.get_user_by_id(user_id)\n",
    "    except TwitterException as e:\n",
    "        if str(e).startswith('Invalid user id'):\n",
    "            return False\n",
    "        raise e\n",
    "    else:\n",
    "        return True\n",
    "\n",
    "check_user_status(1547081484695216130)"
   ]
  },
  {
   "cell_type": "code",
   "execution_count": 77,
   "metadata": {},
   "outputs": [],
   "source": [
    "# INPUT: the user handle, a beginning and end of a date range\n",
    "# OUTPUT: the user handle, the user_ID, and the scraped tweets\n",
    "def get_all_tweets(handle, since, until):\n",
    "\n",
    "    # load the cookies so you don't login a million times and get banned\n",
    "    client.load_cookies('IGNOREcookies.json')\n",
    "\n",
    "    # initialize the list we will store our data in\n",
    "    mass_tweets = []\n",
    "\n",
    "    since = f'{since}-01-01'\n",
    "    until = f'{until}-12-31'\n",
    "\n",
    "    # this will pull the first forty tweets\n",
    "    tweets = client.search_tweet(\n",
    "        f'from:{handle} since:{since} until:{until}', 'Top'\n",
    "    )\n",
    "    tweets1 = [tweet.id for tweet in tweets]\n",
    "    mass_tweets += tweets1\n",
    "\n",
    "    # if it returns an empty list, the user had no available tweets during the date time range\n",
    "    if len(tweets) == 0:\n",
    "        return([])\n",
    "    \n",
    "    # this will keep looking for tweets until a certain number of them has been reached\n",
    "    while len(tweets) > 0 and len(mass_tweets) < 30:\n",
    "\n",
    "        # this API provides a 'tweet' object, but we only want the id when we return\n",
    "        tweets = tweets.next()\n",
    "        tweets1 = [tweet.id for tweet in tweets]\n",
    "        mass_tweets += tweets1\n",
    "\n",
    "        # keep pulling tweets until number is hit or there are none left\n",
    "\n",
    "        # we need to make a check in case we've hit the max number of tweets we can scrape\n",
    "        # this prevents us from pinging the API for no reason\n",
    "        if len(tweets) == 0:\n",
    "            print(\"No more tweets\")\n",
    "            break\n",
    "        else:\n",
    "            print(f'Total tweets = {len(mass_tweets)}')\n",
    "            continue\n",
    "\n",
    "    return(mass_tweets)"
   ]
  },
  {
   "cell_type": "code",
   "execution_count": 9,
   "metadata": {},
   "outputs": [],
   "source": [
    "def process_tweets(handle, user_id, name, tweet_ids, since):\n",
    "    # load the cookies so you don't login a million times and get banned\n",
    "    client.load_cookies('IGNOREcookies.json')\n",
    "\n",
    "    # initialize a list to store all tuples\n",
    "    tweets = []\n",
    "\n",
    "    i = 0\n",
    "    for tweet_id in tweet_ids:\n",
    "        try:\n",
    "            # using the IDs we pulled from above\n",
    "            tweet = client.get_tweet_by_id(tweet_id)\n",
    "\n",
    "            # we have international data\n",
    "            # this will translate it and identify it's translation\n",
    "            if tweet.lang != 'en':\n",
    "                translator = Translator(to_lang='en')\n",
    "                tweet_text = translator.translate(tweet.text)\n",
    "                tweets.append([int(tweet.id), int(user_id), name, handle, str(tweet_text), str(tweet.lang), 'True', 'en', str(tweet.created_at_datetime), since])\n",
    "\n",
    "            # otherwise we just move on\n",
    "            else:\n",
    "                tweets.append((int(tweet.id), int(user_id), name, handle, str(tweet.text), str(tweet.lang), 'False', 'null', str(tweet.created_at_datetime), since))\n",
    "        \n",
    "            print(f'Tweet {i} processed')\n",
    "            i += 1\n",
    "\n",
    "        # it throws an Index Error if the tweet has been deleted/ is not available\n",
    "        except IndexError:\n",
    "            print(f'Index Error: {tweet}')\n",
    "        \n",
    "        time.sleep(.5)\n",
    "\n",
    "    return tweets"
   ]
  },
  {
   "cell_type": "code",
   "execution_count": 63,
   "metadata": {},
   "outputs": [
    {
     "name": "stdout",
     "output_type": "stream",
     "text": [
      "(813286, 'Barack Obama', 'BarackObama', 2008)\n"
     ]
    }
   ],
   "source": [
    "import sqlite3\n",
    "conn = sqlite3.connect('tweets.db')\n",
    "c = conn.cursor()\n",
    "\n",
    "c.execute(\"\"\" SELECT twitter_user_id, politician_name, twitter_handle, election_year\n",
    "            FROM coordinates\n",
    "            WHERE twitter_active_during_election = 'True'\n",
    "            \"\"\")\n",
    "active_user_list = c.fetchall()\n",
    "print(active_user_list[0])"
   ]
  },
  {
   "cell_type": "code",
   "execution_count": 64,
   "metadata": {},
   "outputs": [],
   "source": [
    "user_list = active_user_list.copy()"
   ]
  },
  {
   "cell_type": "code",
   "execution_count": 65,
   "metadata": {},
   "outputs": [],
   "source": [
    "i = 1\n",
    "\n",
    "while i < 8:\n",
    "    user_list.pop(0)\n",
    "    i+= 1"
   ]
  },
  {
   "cell_type": "code",
   "execution_count": 103,
   "metadata": {},
   "outputs": [
    {
     "name": "stdout",
     "output_type": "stream",
     "text": [
      "0 (734783792502575105, 'Bill Weld', 'GovBillWeld', 2020)\n",
      "1 (226222147, 'Pete Buttigieg', 'PeteButtigieg', 2020)\n",
      "2 (970207298, 'Elizabeth Warren', 'SenWarren', 2020)\n",
      "3 (46764631, 'Joe Sestak', 'JoeSestak', 2020)\n",
      "4 (1077214808, 'Jay Inslee', 'GovInslee', 2020)\n",
      "5 (2228878592, 'Andrew Yang', 'AndrewYang', 2020)\n",
      "6 (1176367702543413248, 'Jo Jorgensen', 'JoForLiberty', 2020)\n",
      "7 (21522338, 'Marianne Williamson', 'marwilliamson', 2020)\n",
      "8 (949934436, 'Tom Steyer', 'TomSteyer', 2020)\n",
      "9 (752638969095999489, 'Mike Gravel', 'MikeGravel_US', 2020)\n",
      "10 (26637348, 'Tulsi Gabbard', 'TulsiGabbard', 2020)\n",
      "11 (29442313, 'Bernie Sanders', 'SenSanders', 2020)\n",
      "12 (142234626, 'Howie Hawkins', 'HowieHawkins', 2020)\n",
      "13 (7401202, 'Stephen Harper', 'StephenHarper', 2008)\n",
      "14 (16220555, 'Elizabeth May', 'ElizabethMay', 2008)\n",
      "15 (15526563, 'Jack Layton', 'jacklayton', 2008)\n",
      "16 (7401202, 'Stephen Harper', 'StephenHarper', 2011)\n",
      "17 (17289530, 'Michael Ignatieff', 'M_Ignatieff', 2011)\n",
      "18 (16220555, 'Elizabeth May', 'ElizabethMay', 2011)\n",
      "19 (15526563, 'Jack Layton', 'jacklayton', 2011)\n",
      "20 (7401202, 'Stephen Harper', 'StephenHarper', 2015)\n",
      "21 (14260960, 'Justin Trudeau', 'JustinTrudeau', 2015)\n",
      "22 (16220555, 'Elizabeth May', 'ElizabethMay', 2015)\n",
      "23 (363997684, 'Tom Mulcair', 'ThomasMulcair', 2015)\n",
      "24 (256360738, 'Andrew Scheer', 'AndrewScheer', 2019)\n",
      "25 (14260960, 'Justin Trudeau', 'JustinTrudeau', 2019)\n",
      "26 (16220555, 'Elizabeth May', 'ElizabethMay', 2019)\n",
      "27 (253340075, 'Jagemeet Singh', 'theJagmeetSingh', 2019)\n",
      "28 (38262290, 'Yves-Francois Blanchet', 'yfblanchet', 2019)\n",
      "29 (2791988124, 'Maxime Bernier', 'MaximeBernier', 2019)\n",
      "30 (296553576, \"Erin O'Toole\", 'erinotoole', 2021)\n",
      "31 (14260960, 'Justin Trudeau', 'JustinTrudeau', 2021)\n",
      "32 (1156560530594832390, 'Annamie Paul', 'AnnamiePaul', 2021)\n",
      "33 (253340075, 'Jagemeet Singh', 'theJagmeetSingh', 2021)\n",
      "34 (38262290, 'Yves-Francois Blanchet', 'yfblanchet', 2021)\n",
      "35 (2791988124, 'Maxime Bernier', 'MaximeBernier', 2021)\n",
      "36 (103065157, 'David Cameron', 'David_Cameron', 2010)\n",
      "37 (15010349, 'Nick Clegg', 'nickclegg', 2010)\n",
      "38 (103065157, 'David Cameron', 'David_Cameron', 2015)\n",
      "39 (61781260, 'Ed Miliband', 'Ed_Miliband', 2015)\n",
      "40 (160952087, 'Nicola Sturgeon', 'NicolaSturgeon', 2015)\n",
      "41 (15010349, 'Nick Clegg', 'nickclegg', 2015)\n",
      "42 (747807250819981312, 'Theresa May', 'theresa_may', 2017)\n",
      "43 (117777690, 'Jeremy Corbyn', 'jeremycorbyn', 2017)\n",
      "44 (160952087, 'Nicola Sturgeon', 'NicolaSturgeon', 2017)\n",
      "45 (80021045, 'Tim Farron', 'timfarron', 2017)\n",
      "46 (275799277, 'Arlene Foster', 'ArleneFosterUK', 2017)\n",
      "47 (3131144855, 'Boris Johnson', 'BorisJohnson', 2019)\n",
      "48 (117777690, 'Jeremy Corbyn', 'jeremycorbyn', 2019)\n",
      "49 (160952087, 'Nicola Sturgeon', 'NicolaSturgeon', 2019)\n",
      "50 (14933304, 'Jo Swinson', 'joswinson', 2019)\n",
      "51 (160952087, 'Nicola Sturgeon', 'NicolaSturgeon', 2021)\n",
      "52 (2890801661, 'Douglass Ross', 'Douglas4Moray', 2021)\n",
      "53 (201226827, 'Anas Sarwar', 'AnasSarwar', 2021)\n",
      "54 (3198001863, 'Lorna Slater', 'lornaslater', 2021)\n",
      "55 (21125405, 'Patrick Harvie', 'patrickharvie', 2021)\n",
      "56 (52002602, 'Willie Rennie', 'willie_rennie', 2021)\n",
      "57 (114007914, 'Michael Martin', 'MichealMartinTD', 2020)\n",
      "58 (148872468, 'Mary Lou McDonald', 'MaryLouMcDonald', 2020)\n",
      "59 (229466877, 'Leo Varadkar', 'LeoVaradkar', 2020)\n",
      "60 (22005625, 'Eamon Ryan', 'EamonRyan', 2020)\n",
      "61 (4205955087, 'Brendan Howlin', 'BrendanHowlin', 2020)\n",
      "62 (190987689, 'Catherine Murphy', 'CathMurphyTD', 2020)\n",
      "63 (78026748, 'Roisin Shortall', 'RoisinShortall', 2020)\n",
      "64 (856641566, 'Peer Steinbruck', 'peersteinbrueck', 2013)\n",
      "65 (888289790, 'Gregor Gysi', 'GregorGysi', 2013)\n",
      "66 (485751594, 'Jurgen Trittin', 'JTrittin', 2013)\n",
      "67 (626287930, 'Katrin Goring-Eckardt', 'GoeringEckardt', 2013)\n",
      "68 (17675072, 'Martin Schulz', 'MartinSchulz', 2017)\n",
      "69 (914612826928504832, 'Alexander Gauland', 'AG_AfD', 2017)\n",
      "70 (833398209053605888, 'Alice Weidel', 'Alice_Weidel', 2017)\n",
      "71 (122104353, 'Christian Lindner', 'c_lindner', 2017)\n",
      "72 (2320519958, 'Dietmar Bartsch', 'DietmarBartsch', 2017)\n",
      "73 (47375691, 'Sahra Wagenknecht', 'SWagenknecht', 2017)\n",
      "74 (626287930, 'Katrin Goring-Eckardt', 'GoeringEckardt', 2017)\n",
      "75 (19108766, 'Cem Ozdemir ', 'cem_oezdemir', 2017)\n",
      "76 (38150247, 'Olaf Scholz', 'OlafScholz', 2021)\n",
      "77 (835541664, 'Armin Laschet', 'ArminLaschet', 2021)\n",
      "78 (1469264387512979461, 'Annalena Baerbock', 'ABaerbock', 2021)\n",
      "79 (122104353, 'Christian Linder', 'c_lindner', 2021)\n",
      "80 (833398209053605888, 'Alice Weidel', 'Alice_Weidel', 2021)\n",
      "81 (797137333820784640, 'Tino Chrupalla', 'Tino_Chrupalla', 2021)\n",
      "82 (143484553, 'Janine Wissler', 'Janine_Wissler', 2021)\n",
      "83 (2320519958, 'Dietmar Bartsch', 'DietmarBartsch', 2021)\n",
      "84 (1976143068, 'Emmanuel Macron', 'EmmanuelMacron', 2017)\n",
      "85 (217749896, 'Marie Le Pen', 'MLP_officiel', 2017)\n",
      "86 (80820758, 'Jean-Luc Melenchon', 'JLMelenchon', 2017)\n",
      "87 (14389177, 'Benoit Hamon', 'benoithamon', 2017)\n",
      "88 (551669623, 'Francois Fillon', 'FrancoisFillon', 2017)\n",
      "89 (1976143068, 'Emmanuel Macron', 'EmmanuelMacron', 2022)\n",
      "90 (217749896, 'Marie Le Pen', 'MLP_officiel', 2022)\n",
      "91 (26073581, 'Anne Hildago', 'Anne_Hidalgo', 2022)\n",
      "92 (1183418538285027329, 'Eric Zemmour', 'ZemmourEric', 2022)\n",
      "93 (49969223, 'Valerie Pecresse', 'vpecresse', 2022)\n",
      "94 (117761523, 'Yannick Jadot', 'yjadot', 2022)\n",
      "95 (80820758, 'Jean-Luc Melenchon', 'JLMelenchon', 2022)\n",
      "96 (1324449588, 'Fabien Roussel', 'Fabien_Roussel', 2022)\n",
      "97 (85436197, 'Julia Gillard', 'JuliaGillard', 2010)\n",
      "98 (93766096, 'Tony Abbot', 'HonTonyAbbott', 2010)\n",
      "99 (93766096, 'Tony Abbot', 'HonTonyAbbott', 2013)\n",
      "100 (16832632, 'Kevin Rudd', 'MrKRudd', 2013)\n",
      "101 (43792125, 'Chrstine Milne', 'ChristineMilne', 2013)\n",
      "102 (310726037, 'Bob Katter', 'RealBobKatter', 2013)\n",
      "103 (16734909, 'Malcolm Turnbull', 'TurnbullMalcolm', 2016)\n",
      "104 (137198586, 'Bill Shorten', 'billshortenmp', 2016)\n",
      "105 (37611292, 'Richard Di Natale', 'RichardDiNatale', 2016)\n",
      "106 (310726037, 'Bob Katter', 'RealBobKatter', 2016)\n",
      "107 (34116377, 'Scott Morrison', 'ScoMo30', 2019)\n",
      "108 (137198586, 'Bill Shorten', 'billshortenmp', 2019)\n",
      "109 (37611292, 'Richard Di Natale', 'RichardDiNatale', 2019)\n",
      "110 (310726037, 'Bob Katter', 'RealBobKatter', 2019)\n",
      "111 (4253031505, 'Rebekha Sharkie', 'MakeMayoMatter', 2019)\n",
      "112 (254515782, 'Anthony Albanese', 'AlboMP', 2022)\n",
      "113 (34116377, 'Scott Morrison', 'ScoMo30', 2022)\n",
      "114 (25960714, 'Adam Bandt', 'AdamBandt', 2022)\n",
      "115 (310726037, 'Bob Katter', 'RealBobKatter', 2022)\n",
      "116 (128372940, 'Jair Bolsanaro', 'jairbolsonaro', 2022)\n",
      "117 (2670726740, 'Lula da Silva', 'LulaOficial', 2022)\n",
      "118 (17380167, 'John Key', 'RtHon_JohnKey', 2011)\n",
      "119 (18149977, 'Phil Goff', 'phil_goff', 2011)\n",
      "120 (28008289, 'Russel Norman', 'RusselNorman', 2011)\n",
      "121 (355605318, 'Metiria Turei', 'MetiriaTureiMP', 2011)\n",
      "122 (243916139, 'Peter Dunne', 'honpeterdunne', 2011)\n",
      "123 (17380167, 'John Key', 'RtHon_JohnKey', 2014)\n",
      "124 (16220863, 'David Cunliffe', 'davidcunliffe', 2014)\n",
      "125 (28008289, 'Russel Norman', 'RusselNorman', 2014)\n",
      "126 (355605318, 'Metiria Turei', 'MetiriaTureiMP', 2014)\n",
      "127 (346944092, 'Winston Peters', 'winstonpeters', 2014)\n",
      "128 (262909861, 'Te Ururoa Flavell', 'TeUruroaFlavell', 2014)\n",
      "129 (243916139, 'Peter Dunne', 'honpeterdunne', 2014)\n",
      "130 (606709337, 'Hone Harawire', 'MPHoneHarawira', 2014)\n",
      "131 (1277147870, 'Laila Harre', 'lailaharre', 2014)\n",
      "132 (31634233, 'Bill English', 'RtHonBEnglish', 2017)\n",
      "133 (22959763, 'Jacinda Ardern', 'jacindaardern', 2017)\n",
      "134 (346944092, 'Winston Peters', 'winstonpeters', 2017)\n",
      "135 (31583101, 'James Shaw', 'jamespeshaw', 2017)\n",
      "136 (23352383, 'David Seymour', 'dbseymour', 2017)\n",
      "137 (262909861, 'Te Ururoa Flavell', 'TeUruroaFlavell', 2017)\n",
      "138 (22959763, 'Jacinda Ardern', 'jacindaardern', 2020)\n",
      "139 (756227808, 'Judith Collins', 'JudithCollinsMP', 2020)\n",
      "140 (31583101, 'James Shaw', 'jamespeshaw', 2020)\n",
      "141 (147406561, 'Marama Davidson', 'MaramaDavidson', 2020)\n",
      "142 (23352383, 'David Seymour', 'dbseymour', 2020)\n",
      "143 (69209529, 'John Tamihere', 'john_tamihere', 2020)\n",
      "144 (1613567335, 'Debbie Ngarewa-Packer', 'whaeadeb', 2020)\n",
      "145 (346944092, 'Winston Peters', 'winstonpeters', 2020)\n",
      "146 (1180976032658014209, 'Christopher Luxon', 'chrisluxonmp', 2023)\n",
      "147 (25754056, 'Chris Hipkins', 'chrishipkins', 2023)\n",
      "148 (31583101, 'James Shaw', 'jamespeshaw', 2023)\n",
      "149 (147406561, 'Marama Davidson', 'MaramaDavidson', 2023)\n",
      "150 (23352383, 'David Seymour', 'dbseymour', 2023)\n",
      "151 (346944092, 'Winston Peters', 'winstonpeters', 2023)\n",
      "152 (1613567335, 'Debbie Ngarewa-Packer', 'whaeadeb', 2023)\n"
     ]
    }
   ],
   "source": [
    "for idx, user in enumerate(user_list):\n",
    "    print(idx, user)\n",
    "    if user[1] == 'Mike Bloomberg':\n",
    "        print(idx)"
   ]
  },
  {
   "cell_type": "code",
   "execution_count": 106,
   "metadata": {},
   "outputs": [
    {
     "name": "stdout",
     "output_type": "stream",
     "text": [
      "[(734783792502575105, 'Bill Weld', 'GovBillWeld', 2020), (226222147, 'Pete Buttigieg', 'PeteButtigieg', 2020), (970207298, 'Elizabeth Warren', 'SenWarren', 2020), (46764631, 'Joe Sestak', 'JoeSestak', 2020), (1077214808, 'Jay Inslee', 'GovInslee', 2020), (2228878592, 'Andrew Yang', 'AndrewYang', 2020), (1176367702543413248, 'Jo Jorgensen', 'JoForLiberty', 2020), (21522338, 'Marianne Williamson', 'marwilliamson', 2020), (949934436, 'Tom Steyer', 'TomSteyer', 2020), (752638969095999489, 'Mike Gravel', 'MikeGravel_US', 2020), (26637348, 'Tulsi Gabbard', 'TulsiGabbard', 2020), (29442313, 'Bernie Sanders', 'SenSanders', 2020), (142234626, 'Howie Hawkins', 'HowieHawkins', 2020), (7401202, 'Stephen Harper', 'StephenHarper', 2008), (16220555, 'Elizabeth May', 'ElizabethMay', 2008), (15526563, 'Jack Layton', 'jacklayton', 2008), (7401202, 'Stephen Harper', 'StephenHarper', 2011), (17289530, 'Michael Ignatieff', 'M_Ignatieff', 2011), (16220555, 'Elizabeth May', 'ElizabethMay', 2011), (15526563, 'Jack Layton', 'jacklayton', 2011), (7401202, 'Stephen Harper', 'StephenHarper', 2015), (14260960, 'Justin Trudeau', 'JustinTrudeau', 2015), (16220555, 'Elizabeth May', 'ElizabethMay', 2015), (363997684, 'Tom Mulcair', 'ThomasMulcair', 2015), (256360738, 'Andrew Scheer', 'AndrewScheer', 2019), (14260960, 'Justin Trudeau', 'JustinTrudeau', 2019), (16220555, 'Elizabeth May', 'ElizabethMay', 2019), (253340075, 'Jagemeet Singh', 'theJagmeetSingh', 2019), (38262290, 'Yves-Francois Blanchet', 'yfblanchet', 2019), (2791988124, 'Maxime Bernier', 'MaximeBernier', 2019), (296553576, \"Erin O'Toole\", 'erinotoole', 2021), (14260960, 'Justin Trudeau', 'JustinTrudeau', 2021), (1156560530594832390, 'Annamie Paul', 'AnnamiePaul', 2021), (253340075, 'Jagemeet Singh', 'theJagmeetSingh', 2021), (38262290, 'Yves-Francois Blanchet', 'yfblanchet', 2021), (2791988124, 'Maxime Bernier', 'MaximeBernier', 2021), (103065157, 'David Cameron', 'David_Cameron', 2010), (15010349, 'Nick Clegg', 'nickclegg', 2010), (103065157, 'David Cameron', 'David_Cameron', 2015), (61781260, 'Ed Miliband', 'Ed_Miliband', 2015), (160952087, 'Nicola Sturgeon', 'NicolaSturgeon', 2015), (15010349, 'Nick Clegg', 'nickclegg', 2015), (747807250819981312, 'Theresa May', 'theresa_may', 2017), (117777690, 'Jeremy Corbyn', 'jeremycorbyn', 2017), (160952087, 'Nicola Sturgeon', 'NicolaSturgeon', 2017), (80021045, 'Tim Farron', 'timfarron', 2017), (275799277, 'Arlene Foster', 'ArleneFosterUK', 2017), (3131144855, 'Boris Johnson', 'BorisJohnson', 2019), (117777690, 'Jeremy Corbyn', 'jeremycorbyn', 2019), (160952087, 'Nicola Sturgeon', 'NicolaSturgeon', 2019), (14933304, 'Jo Swinson', 'joswinson', 2019), (160952087, 'Nicola Sturgeon', 'NicolaSturgeon', 2021), (2890801661, 'Douglass Ross', 'Douglas4Moray', 2021), (201226827, 'Anas Sarwar', 'AnasSarwar', 2021), (3198001863, 'Lorna Slater', 'lornaslater', 2021), (21125405, 'Patrick Harvie', 'patrickharvie', 2021), (52002602, 'Willie Rennie', 'willie_rennie', 2021), (114007914, 'Michael Martin', 'MichealMartinTD', 2020), (148872468, 'Mary Lou McDonald', 'MaryLouMcDonald', 2020), (229466877, 'Leo Varadkar', 'LeoVaradkar', 2020), (22005625, 'Eamon Ryan', 'EamonRyan', 2020), (4205955087, 'Brendan Howlin', 'BrendanHowlin', 2020), (190987689, 'Catherine Murphy', 'CathMurphyTD', 2020), (78026748, 'Roisin Shortall', 'RoisinShortall', 2020), (856641566, 'Peer Steinbruck', 'peersteinbrueck', 2013), (888289790, 'Gregor Gysi', 'GregorGysi', 2013), (485751594, 'Jurgen Trittin', 'JTrittin', 2013), (626287930, 'Katrin Goring-Eckardt', 'GoeringEckardt', 2013), (17675072, 'Martin Schulz', 'MartinSchulz', 2017), (914612826928504832, 'Alexander Gauland', 'AG_AfD', 2017), (833398209053605888, 'Alice Weidel', 'Alice_Weidel', 2017), (122104353, 'Christian Lindner', 'c_lindner', 2017), (2320519958, 'Dietmar Bartsch', 'DietmarBartsch', 2017), (47375691, 'Sahra Wagenknecht', 'SWagenknecht', 2017), (626287930, 'Katrin Goring-Eckardt', 'GoeringEckardt', 2017), (19108766, 'Cem Ozdemir ', 'cem_oezdemir', 2017), (38150247, 'Olaf Scholz', 'OlafScholz', 2021), (835541664, 'Armin Laschet', 'ArminLaschet', 2021), (1469264387512979461, 'Annalena Baerbock', 'ABaerbock', 2021), (122104353, 'Christian Linder', 'c_lindner', 2021), (833398209053605888, 'Alice Weidel', 'Alice_Weidel', 2021), (797137333820784640, 'Tino Chrupalla', 'Tino_Chrupalla', 2021), (143484553, 'Janine Wissler', 'Janine_Wissler', 2021), (2320519958, 'Dietmar Bartsch', 'DietmarBartsch', 2021), (1976143068, 'Emmanuel Macron', 'EmmanuelMacron', 2017), (217749896, 'Marie Le Pen', 'MLP_officiel', 2017), (80820758, 'Jean-Luc Melenchon', 'JLMelenchon', 2017), (14389177, 'Benoit Hamon', 'benoithamon', 2017), (551669623, 'Francois Fillon', 'FrancoisFillon', 2017), (1976143068, 'Emmanuel Macron', 'EmmanuelMacron', 2022), (217749896, 'Marie Le Pen', 'MLP_officiel', 2022), (26073581, 'Anne Hildago', 'Anne_Hidalgo', 2022), (1183418538285027329, 'Eric Zemmour', 'ZemmourEric', 2022), (49969223, 'Valerie Pecresse', 'vpecresse', 2022), (117761523, 'Yannick Jadot', 'yjadot', 2022), (80820758, 'Jean-Luc Melenchon', 'JLMelenchon', 2022), (1324449588, 'Fabien Roussel', 'Fabien_Roussel', 2022), (85436197, 'Julia Gillard', 'JuliaGillard', 2010), (93766096, 'Tony Abbot', 'HonTonyAbbott', 2010), (93766096, 'Tony Abbot', 'HonTonyAbbott', 2013), (16832632, 'Kevin Rudd', 'MrKRudd', 2013), (43792125, 'Chrstine Milne', 'ChristineMilne', 2013), (310726037, 'Bob Katter', 'RealBobKatter', 2013), (16734909, 'Malcolm Turnbull', 'TurnbullMalcolm', 2016), (137198586, 'Bill Shorten', 'billshortenmp', 2016), (37611292, 'Richard Di Natale', 'RichardDiNatale', 2016), (310726037, 'Bob Katter', 'RealBobKatter', 2016), (34116377, 'Scott Morrison', 'ScoMo30', 2019), (137198586, 'Bill Shorten', 'billshortenmp', 2019), (37611292, 'Richard Di Natale', 'RichardDiNatale', 2019), (310726037, 'Bob Katter', 'RealBobKatter', 2019), (4253031505, 'Rebekha Sharkie', 'MakeMayoMatter', 2019), (254515782, 'Anthony Albanese', 'AlboMP', 2022), (34116377, 'Scott Morrison', 'ScoMo30', 2022), (25960714, 'Adam Bandt', 'AdamBandt', 2022), (310726037, 'Bob Katter', 'RealBobKatter', 2022), (128372940, 'Jair Bolsanaro', 'jairbolsonaro', 2022), (2670726740, 'Lula da Silva', 'LulaOficial', 2022), (17380167, 'John Key', 'RtHon_JohnKey', 2011), (18149977, 'Phil Goff', 'phil_goff', 2011), (28008289, 'Russel Norman', 'RusselNorman', 2011), (355605318, 'Metiria Turei', 'MetiriaTureiMP', 2011), (243916139, 'Peter Dunne', 'honpeterdunne', 2011), (17380167, 'John Key', 'RtHon_JohnKey', 2014), (16220863, 'David Cunliffe', 'davidcunliffe', 2014), (28008289, 'Russel Norman', 'RusselNorman', 2014), (355605318, 'Metiria Turei', 'MetiriaTureiMP', 2014), (346944092, 'Winston Peters', 'winstonpeters', 2014), (262909861, 'Te Ururoa Flavell', 'TeUruroaFlavell', 2014), (243916139, 'Peter Dunne', 'honpeterdunne', 2014), (606709337, 'Hone Harawire', 'MPHoneHarawira', 2014), (1277147870, 'Laila Harre', 'lailaharre', 2014), (31634233, 'Bill English', 'RtHonBEnglish', 2017), (22959763, 'Jacinda Ardern', 'jacindaardern', 2017), (346944092, 'Winston Peters', 'winstonpeters', 2017), (31583101, 'James Shaw', 'jamespeshaw', 2017), (23352383, 'David Seymour', 'dbseymour', 2017), (262909861, 'Te Ururoa Flavell', 'TeUruroaFlavell', 2017), (22959763, 'Jacinda Ardern', 'jacindaardern', 2020), (756227808, 'Judith Collins', 'JudithCollinsMP', 2020), (31583101, 'James Shaw', 'jamespeshaw', 2020), (147406561, 'Marama Davidson', 'MaramaDavidson', 2020), (23352383, 'David Seymour', 'dbseymour', 2020), (69209529, 'John Tamihere', 'john_tamihere', 2020), (1613567335, 'Debbie Ngarewa-Packer', 'whaeadeb', 2020), (346944092, 'Winston Peters', 'winstonpeters', 2020), (1180976032658014209, 'Christopher Luxon', 'chrisluxonmp', 2023), (25754056, 'Chris Hipkins', 'chrishipkins', 2023), (31583101, 'James Shaw', 'jamespeshaw', 2023), (147406561, 'Marama Davidson', 'MaramaDavidson', 2023), (23352383, 'David Seymour', 'dbseymour', 2023), (346944092, 'Winston Peters', 'winstonpeters', 2023), (1613567335, 'Debbie Ngarewa-Packer', 'whaeadeb', 2023)]\n"
     ]
    }
   ],
   "source": [
    "print(user_list)"
   ]
  },
  {
   "cell_type": "code",
   "execution_count": 107,
   "metadata": {},
   "outputs": [
    {
     "name": "stdout",
     "output_type": "stream",
     "text": [
      "Total tweets = 39\n",
      "39 tweets collected for Bill Weld for 2020 election\n",
      "Total tweets = 39\n",
      "39 tweets collected for Pete Buttigieg for 2020 election\n",
      "Total tweets = 39\n",
      "39 tweets collected for Elizabeth Warren for 2020 election\n",
      "No more tweets\n",
      "7 tweets collected for Joe Sestak for 2020 election\n"
     ]
    }
   ],
   "source": [
    "final_tweet_list = []\n",
    "no_tweets_list = []\n",
    "\n",
    "while len(user_list) > 0:\n",
    "\n",
    "    tweet_id_list = []\n",
    "    i = 0\n",
    "\n",
    "    # this first loop pulls tweet IDs for politicians\n",
    "    while (i < 5 and len(user_list) > 0):\n",
    "        \n",
    "        # we're only ever concerned with the first value\n",
    "        # we pop this later to keep the list moving\n",
    "        lst = user_list[0]\n",
    "\n",
    "        # all of our parameters for the functions\n",
    "        user_id = lst[0]\n",
    "        name = lst[1]\n",
    "        handle = lst[2]\n",
    "        since = lst[3]\n",
    "        until = lst[3]+1\n",
    "\n",
    "        # pull tweet IDs that we will user in second while loop\n",
    "        tweet_ids = get_all_tweets(handle, since=since, until=until)\n",
    "        print(f'{len(tweet_ids)} tweets collected for {name} for {since} election')\n",
    "\n",
    "        # pop user so we're not in an infinite loop\n",
    "        user_list.pop(0)\n",
    "\n",
    "        # we only add to the counter if that person actually had tweets to process\n",
    "        if len(tweet_ids) > 0:\n",
    "            i+=1\n",
    "            tweet_id_list.append([handle, user_id, name, tweet_ids, since])\n",
    "        \n",
    "        # I want to keep track of which politicians didn't tweet during their election year\n",
    "        else:\n",
    "            no_tweets_list.append([user_id, name, handle, since])\n",
    "        \n",
    "    tweet_id_list_copy = tweet_id_list.copy()\n",
    "    tweet_list = []\n",
    "\n",
    "    # this second loop processes and cleans the tweets\n",
    "    # it formats each tweet into a list that can be executed into the SQL database\n",
    "    while len(tweet_id_list_copy) > 0:\n",
    "        \n",
    "        # same thing here, we're only ever concerned with index 0\n",
    "        # these are lists of lists\n",
    "        index = tweet_id_list_copy[0]\n",
    "\n",
    "        # all the parameters we need\n",
    "        handle = index[0]\n",
    "        user_id = index[1]\n",
    "        name = index[2]\n",
    "        year = index[4]\n",
    "        \n",
    "        # we only want to do up to 25 tweets per politician\n",
    "        # this means we can process 5 politicians per rate timeout\n",
    "        # 150 tweets per 15 minutes\n",
    "        # not great but it's free\n",
    "\n",
    "        if len(index[3]) > 25:\n",
    "\n",
    "            # random sample in an attempt to stay unbiased\n",
    "            tweet_ids = random.sample(index[3], 25)\n",
    "        else:\n",
    "            tweet_ids = index[3]\n",
    "        \n",
    "        # process the tweets and add them to our holding list from above\n",
    "        tweets = process_tweets(handle, user_id, name, tweet_ids, year)\n",
    "        tweet_list.append(tweets)\n",
    "        \n",
    "        # pop the first index to keep the loop going\n",
    "        tweet_id_list_copy.pop(0)\n",
    "    \n",
    "    # once we've run both loops, we add to the final list\n",
    "    # this way we don't lose the data once it restarts\n",
    "    final_tweet_list += tweet_list\n",
    "\n",
    "    # rate limit protection\n",
    "    # we can only process 150 tweets per 15 minutes\n",
    "    # getting errors from rate limits throws off the whole thing\n",
    "    # this prevents that from happening\n",
    "    break"
   ]
  },
  {
   "cell_type": "code",
   "execution_count": 104,
   "metadata": {},
   "outputs": [
    {
     "name": "stdout",
     "output_type": "stream",
     "text": [
      "1393604785572564998\n",
      "72198806\n",
      "Kirsten Gillibrand\n",
      "SenGillibrand\n",
      "Kids can't learn if they're hungry in class. That's why I'm fighting for the Universal School Meals Program Act, which will provide free breakfast, lunch, dinner, and a snack to all school kids — and eliminate ALL school meal debt. 🍎\n",
      "en\n",
      "False\n",
      "null\n",
      "2021-05-15 16:30:47+00:00\n",
      "2020\n"
     ]
    }
   ],
   "source": [
    "for item in final_tweet_list[0][0]:\n",
    "    print(item)"
   ]
  },
  {
   "cell_type": "code",
   "execution_count": 103,
   "metadata": {},
   "outputs": [
    {
     "data": {
      "text/plain": [
       "<sqlite3.Cursor at 0x211ef7b6fc0>"
      ]
     },
     "execution_count": 103,
     "metadata": {},
     "output_type": "execute_result"
    }
   ],
   "source": [
    "import sqlite3\n",
    "conn = sqlite3.connect('tweets.db')\n",
    "c = conn.cursor()\n",
    "\n",
    "c.execute(\"\"\"CREATE TABLE tweets (\n",
    "          tweet_id INTEGER,\n",
    "          user_id INTEGER,\n",
    "          user_name STRING,\n",
    "          user_handle STRING,\n",
    "          tweet_text STRING,\n",
    "          tweet_original_lang STRING,\n",
    "          tweet_translated STRING,\n",
    "          tweet_translated_lang STRING,\n",
    "          created_date STRING,\n",
    "          election_year INT\n",
    "          )\"\"\")"
   ]
  },
  {
   "cell_type": "code",
   "execution_count": 105,
   "metadata": {},
   "outputs": [],
   "source": [
    "# upload data in SQLite table\n",
    "# storing this data is important since this is an unofficial API\n",
    "# every time I access it, I am risking not being able to access it again\n",
    "\n",
    "for lst in final_tweet_list:\n",
    "    for tweet in lst:\n",
    "        c.execute(\"INSERT INTO tweets VALUES (?,?,?,?,?,?,?,?,?,?)\", tweet)\n",
    "        conn.commit()\n"
   ]
  }
 ],
 "metadata": {
  "kernelspec": {
   "display_name": "Python 3",
   "language": "python",
   "name": "python3"
  },
  "language_info": {
   "codemirror_mode": {
    "name": "ipython",
    "version": 3
   },
   "file_extension": ".py",
   "mimetype": "text/x-python",
   "name": "python",
   "nbconvert_exporter": "python",
   "pygments_lexer": "ipython3",
   "version": "3.11.9"
  }
 },
 "nbformat": 4,
 "nbformat_minor": 2
}

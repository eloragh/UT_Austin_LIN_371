{
 "cells": [
  {
   "cell_type": "code",
   "execution_count": 2,
   "metadata": {},
   "outputs": [
    {
     "data": {
      "text/plain": [
       "{'flow_token': 'g;171372613857461407:-1713726138643:XgfV7OIcS7m3tz85UCV02Aoq:14',\n",
       " 'status': 'success',\n",
       " 'subtasks': [{'subtask_id': 'LoginSuccessSubtask',\n",
       "   'open_account': {'user': {'id': 1547081484695216130,\n",
       "     'id_str': '1547081484695216130',\n",
       "     'name': 'Eloragh Espie',\n",
       "     'screen_name': 'EloraghEspie'},\n",
       "    'next_link': {'link_type': 'subtask',\n",
       "     'link_id': 'next_link',\n",
       "     'subtask_id': 'SuccessExit'},\n",
       "    'attribution_event': 'login'}},\n",
       "  {'subtask_id': 'SuccessExit',\n",
       "   'open_link': {'link': {'link_type': 'subtask',\n",
       "     'link_id': 'next_link',\n",
       "     'subtask_id': 'LoginOpenHomeTimeline'}}},\n",
       "  {'subtask_id': 'LoginOpenHomeTimeline',\n",
       "   'open_home_timeline': {'next_link': {'link_type': 'abort',\n",
       "     'link_id': 'next_link'}}}]}"
      ]
     },
     "execution_count": 2,
     "metadata": {},
     "output_type": "execute_result"
    }
   ],
   "source": [
    "from twikit import Client\n",
    "import time\n",
    "import json\n",
    "from twikit import TwitterException \n",
    "\n",
    "# this API requires authentication\n",
    "f = open('authentication.txt', 'r')\n",
    "auth = f.read()\n",
    "f.close()\n",
    "auth_token = auth.split(\"\\n\")\n",
    "\n",
    "# don't hardcode your email and password into something!!!\n",
    "# the auth is in gitignore so I won't get hacked\n",
    "USERNAME = str(auth_token[0])\n",
    "EMAIL = str(auth_token[1])\n",
    "PASSWORD = str(auth_token[2])\n",
    "\n",
    "# Initialize client\n",
    "client = Client(language='en-US', http2=True)\n",
    "\n",
    "# Login to the service with provided user credentials\n",
    "client.login(\n",
    "    auth_info_1=USERNAME ,\n",
    "    auth_info_2=EMAIL,\n",
    "    password=PASSWORD\n",
    ")"
   ]
  },
  {
   "cell_type": "code",
   "execution_count": 3,
   "metadata": {},
   "outputs": [],
   "source": [
    "# Twitter LOVES to ban people when they log in repeatedly\n",
    "# saving the cookies makes sure I don't get banned (often)\n",
    "\n",
    "client.get_cookies()\n",
    "client.save_cookies('cookies.json')\n",
    "with open('cookies.json', 'r', encoding='UTF8') as f:\n",
    "    client.set_cookies(json.load(f))"
   ]
  },
  {
   "cell_type": "code",
   "execution_count": 4,
   "metadata": {},
   "outputs": [],
   "source": [
    "# INPUT: the user handle, a beginning and end of a date range\n",
    "# OUTPUT: the user handle, the user_ID, and the scraped tweets\n",
    "def get_all_tweets(handle, since, until):\n",
    "\n",
    "    # load the cookies so you don't login a million times and get banned\n",
    "    client.load_cookies('cookies.json')\n",
    "    user_id = client.get_user_by_screen_name(handle)\n",
    "\n",
    "    # initialize the list we will store our data in\n",
    "    mass_tweets = []\n",
    "\n",
    "    # this will pull the first forty tweets\n",
    "    tweets = client.search_tweet(\n",
    "        f'from:{handle} since:{since} until:{until}', 'Top', count=20\n",
    "    )\n",
    "\n",
    "    # if it returns an empty list, the user had no available tweets during the date time range\n",
    "    if len(tweets) == 0:\n",
    "        print('No tweets available')\n",
    "        return(handle, user_id, [])\n",
    "    \n",
    "    # this will keep looking for tweets until a certain number of them has been reached\n",
    "    else:\n",
    "        while len(mass_tweets) >= 0 and len(mass_tweets) < 2000:\n",
    "\n",
    "            # this API provides a 'tweet' object, but we only want the id when we return\n",
    "            tweets1 = [tweet.id for tweet in tweets]\n",
    "            mass_tweets += tweets1\n",
    "            time.sleep(1)  # cooldown so we don't get banned\n",
    "\n",
    "            # keep pulling tweets until number is hit or there are none left\n",
    "            tweets = tweets.next()\n",
    "\n",
    "            # we need to make a check in case we've hit the max number of tweets we can scrape\n",
    "            # this prevents us from pinging the API for no reason\n",
    "            if len(tweets) == 0:\n",
    "                print(\"No more tweets\")\n",
    "                break\n",
    "            else:\n",
    "                print(len(mass_tweets))\n",
    "                continue\n",
    "\n",
    "    return(handle, user_id, mass_tweets)"
   ]
  },
  {
   "cell_type": "code",
   "execution_count": 5,
   "metadata": {},
   "outputs": [],
   "source": [
    "def process_tweets(handle, name, user_id, tweet_ids):\n",
    "    # load the cookies so you don't login a million times and get banned\n",
    "    client.load_cookies('cookies.json')\n",
    "\n",
    "    # initialize a list to store all tuples\n",
    "    tweets = []\n",
    "    for id in tweet_ids:\n",
    "        # it throws an Index Error if the tweet has been deleted/ is not available\n",
    "        try:\n",
    "            # using the IDs we pulled from above\n",
    "            tweet = client.get_tweet_by_id(id)\n",
    "            # get the user id, name, handle, tweet id, tweet text, and date\n",
    "            tweets.append((int(tweet.id), int(user_id.id), name, handle, str(tweet.text), str(tweet.lang), tweet.is_translatable, tweet.created_at_datetime))\n",
    "        except IndexError:\n",
    "            print(f'Index Error: {tweet}')\n",
    "    \n",
    "    return tweets"
   ]
  },
  {
   "cell_type": "code",
   "execution_count": 5,
   "metadata": {},
   "outputs": [],
   "source": [
    "import time\n",
    "from math import ceil\n",
    "import requests\n",
    "from twikit import TooManyRequests\n",
    "from twikit.utils import Endpoint\n",
    "\n",
    "# this is a housekeeping function\n",
    "# twitter API can throw rate limits\n",
    "# they're kind of like timeouts\n",
    "# this function just shows me how much longer I will be in timeout for\n",
    "\n",
    "def get_limit_reset_time(endpoint: str):\n",
    "    res = requests.get(\n",
    "        endpoint,\n",
    "        headers=client._base_headers,\n",
    "        cookies = client.load_cookies('cookies.json')\n",
    "    )\n",
    "    return ceil(int(res.headers['x-rate-limit-reset']) - time.time())"
   ]
  },
  {
   "cell_type": "code",
   "execution_count": 6,
   "metadata": {},
   "outputs": [
    {
     "name": "stdout",
     "output_type": "stream",
     "text": [
      "[<Tweet id=\"1351951465674276869\">, <Tweet id=\"1351918910199631872\">, <Tweet id=\"1351906918667677696\">, <Tweet id=\"1351897267666608129\">, <Tweet id=\"1351731172989050882\">, <Tweet id=\"1351711040933830659\">, <Tweet id=\"1351653131248041984\">, <Tweet id=\"1351630258114502656\">, <Tweet id=\"1351599720012021761\">, <Tweet id=\"1351367275094310912\">, <Tweet id=\"1351333542547001344\">, <Tweet id=\"1351265605840633858\">, <Tweet id=\"1351228360123318272\">, <Tweet id=\"1350981483062706177\">, <Tweet id=\"1350926118409289730\">, <Tweet id=\"1350878051710750725\">, <Tweet id=\"1350634446475694080\">, <Tweet id=\"1350593782832500737\">, <Tweet id=\"1350562220367884289\">, <Tweet id=\"1350515133034819584\">]\n"
     ]
    }
   ],
   "source": [
    "# timeout check for scraping tweet IDs\n",
    "try:\n",
    "    print(client.search_tweet(\n",
    "        f'from:JoeBiden since:2020-01-01 until:2021-03-01', 'Latest', count=40\n",
    "    ))\n",
    "except TooManyRequests:\n",
    "    reset_time = get_limit_reset_time(Endpoint.USER_TWEETS)\n",
    "    print(f'rate limit is reset after {reset_time} seconds.')"
   ]
  },
  {
   "cell_type": "code",
   "execution_count": 7,
   "metadata": {},
   "outputs": [
    {
     "ename": "IndexError",
     "evalue": "list index out of range",
     "output_type": "error",
     "traceback": [
      "\u001b[1;31m---------------------------------------------------------------------------\u001b[0m",
      "\u001b[1;31mIndexError\u001b[0m                                Traceback (most recent call last)",
      "Cell \u001b[1;32mIn[7], line 3\u001b[0m\n\u001b[0;32m      1\u001b[0m \u001b[38;5;66;03m# timeout check for processing tweets\u001b[39;00m\n\u001b[0;32m      2\u001b[0m \u001b[38;5;28;01mtry\u001b[39;00m:\n\u001b[1;32m----> 3\u001b[0m     \u001b[38;5;28mprint\u001b[39m(\u001b[43mclient\u001b[49m\u001b[38;5;241;43m.\u001b[39;49m\u001b[43mget_tweet_by_id\u001b[49m\u001b[43m(\u001b[49m\u001b[38;5;241;43m1351951465674276869\u001b[39;49m\u001b[43m)\u001b[49m)\n\u001b[0;32m      4\u001b[0m \u001b[38;5;28;01mexcept\u001b[39;00m TooManyRequests:\n\u001b[0;32m      5\u001b[0m     reset_time \u001b[38;5;241m=\u001b[39m get_limit_reset_time(Endpoint\u001b[38;5;241m.\u001b[39mUSER_TWEETS)\n",
      "File \u001b[1;32m~\\AppData\\Local\\Packages\\PythonSoftwareFoundation.Python.3.11_qbz5n2kfra8p0\\LocalCache\\local-packages\\Python311\\site-packages\\twikit\\client.py:1316\u001b[0m, in \u001b[0;36mClient.get_tweet_by_id\u001b[1;34m(self, tweet_id, cursor)\u001b[0m\n\u001b[0;32m   1294\u001b[0m \u001b[38;5;250m\u001b[39m\u001b[38;5;124;03m\"\"\"\u001b[39;00m\n\u001b[0;32m   1295\u001b[0m \u001b[38;5;124;03mFetches a tweet by tweet ID.\u001b[39;00m\n\u001b[0;32m   1296\u001b[0m \n\u001b[1;32m   (...)\u001b[0m\n\u001b[0;32m   1312\u001b[0m \u001b[38;5;124;03m<Tweet id=\"...\">\u001b[39;00m\n\u001b[0;32m   1313\u001b[0m \u001b[38;5;124;03m\"\"\"\u001b[39;00m\n\u001b[0;32m   1314\u001b[0m response \u001b[38;5;241m=\u001b[39m \u001b[38;5;28mself\u001b[39m\u001b[38;5;241m.\u001b[39m_get_tweet_detail(tweet_id, cursor)\n\u001b[1;32m-> 1316\u001b[0m entries \u001b[38;5;241m=\u001b[39m \u001b[43mfind_dict\u001b[49m\u001b[43m(\u001b[49m\u001b[43mresponse\u001b[49m\u001b[43m,\u001b[49m\u001b[43m \u001b[49m\u001b[38;5;124;43m'\u001b[39;49m\u001b[38;5;124;43mentries\u001b[39;49m\u001b[38;5;124;43m'\u001b[39;49m\u001b[43m)\u001b[49m\u001b[43m[\u001b[49m\u001b[38;5;241;43m0\u001b[39;49m\u001b[43m]\u001b[49m\n\u001b[0;32m   1317\u001b[0m reply_to \u001b[38;5;241m=\u001b[39m []\n\u001b[0;32m   1318\u001b[0m replies_list \u001b[38;5;241m=\u001b[39m []\n",
      "\u001b[1;31mIndexError\u001b[0m: list index out of range"
     ]
    }
   ],
   "source": [
    "# timeout check for processing tweets\n",
    "try:\n",
    "    print(client.get_tweet_by_id(1351951465674276869))\n",
    "except TooManyRequests:\n",
    "    reset_time = get_limit_reset_time(Endpoint.USER_TWEETS)\n",
    "    print(f'rate limit is reset after {reset_time} seconds.')"
   ]
  },
  {
   "cell_type": "code",
   "execution_count": 8,
   "metadata": {},
   "outputs": [],
   "source": [
    "# another housekeeping function\n",
    "# if I'm suddenly getting 403 errors, I can use this to check if I've been banned\n",
    "# sometimes I just have to go on the browser and reauthenticate\n",
    "\n",
    "def check_user_status(user_id):\n",
    "    \"\"\"\n",
    "    True if the user is active, otherwise false (not exists or suspended).\n",
    "    \"\"\"\n",
    "    try:\n",
    "        client.get_user_by_id(user_id)\n",
    "    except TwitterException as e:\n",
    "        if str(e).startswith('Invalid user id'):\n",
    "            return False\n",
    "        raise e\n",
    "    else:\n",
    "        return True"
   ]
  },
  {
   "cell_type": "code",
   "execution_count": null,
   "metadata": {},
   "outputs": [
    {
     "data": {
      "text/plain": [
       "True"
      ]
     },
     "execution_count": 10,
     "metadata": {},
     "output_type": "execute_result"
    }
   ],
   "source": [
    "check_user_status(1547081484695216130)"
   ]
  },
  {
   "cell_type": "code",
   "execution_count": 7,
   "metadata": {},
   "outputs": [
    {
     "name": "stdout",
     "output_type": "stream",
     "text": [
      "19\n",
      "39\n",
      "59\n",
      "79\n",
      "99\n",
      "119\n",
      "139\n",
      "159\n",
      "179\n",
      "199\n",
      "219\n",
      "239\n",
      "259\n",
      "279\n",
      "299\n",
      "319\n",
      "339\n",
      "359\n",
      "379\n",
      "399\n",
      "419\n",
      "439\n",
      "459\n",
      "479\n"
     ]
    },
    {
     "ename": "KeyboardInterrupt",
     "evalue": "",
     "output_type": "error",
     "traceback": [
      "\u001b[1;31m---------------------------------------------------------------------------\u001b[0m",
      "\u001b[1;31mKeyboardInterrupt\u001b[0m                         Traceback (most recent call last)",
      "Cell \u001b[1;32mIn[7], line 2\u001b[0m\n\u001b[0;32m      1\u001b[0m \u001b[38;5;66;03m# this scrapes the tweet IDs\u001b[39;00m\n\u001b[1;32m----> 2\u001b[0m handle, user_id, tweets \u001b[38;5;241m=\u001b[39m \u001b[43mget_all_tweets\u001b[49m\u001b[43m(\u001b[49m\u001b[38;5;124;43m'\u001b[39;49m\u001b[38;5;124;43mrealDonaldTrump\u001b[39;49m\u001b[38;5;124;43m'\u001b[39;49m\u001b[43m,\u001b[49m\u001b[43m \u001b[49m\u001b[43msince\u001b[49m\u001b[38;5;241;43m=\u001b[39;49m\u001b[38;5;124;43m'\u001b[39;49m\u001b[38;5;124;43m2014-01-01\u001b[39;49m\u001b[38;5;124;43m'\u001b[39;49m\u001b[43m,\u001b[49m\u001b[43m \u001b[49m\u001b[43muntil\u001b[49m\u001b[38;5;241;43m=\u001b[39;49m\u001b[38;5;124;43m'\u001b[39;49m\u001b[38;5;124;43m2024-03-01\u001b[39;49m\u001b[38;5;124;43m'\u001b[39;49m\u001b[43m)\u001b[49m\n\u001b[0;32m      3\u001b[0m \u001b[38;5;28mprint\u001b[39m(handle, user_id, tweets)\n",
      "Cell \u001b[1;32mIn[4], line 29\u001b[0m, in \u001b[0;36mget_all_tweets\u001b[1;34m(handle, since, until)\u001b[0m\n\u001b[0;32m     27\u001b[0m tweets1 \u001b[38;5;241m=\u001b[39m [tweet\u001b[38;5;241m.\u001b[39mid \u001b[38;5;28;01mfor\u001b[39;00m tweet \u001b[38;5;129;01min\u001b[39;00m tweets]\n\u001b[0;32m     28\u001b[0m mass_tweets \u001b[38;5;241m+\u001b[39m\u001b[38;5;241m=\u001b[39m tweets1\n\u001b[1;32m---> 29\u001b[0m time\u001b[38;5;241m.\u001b[39msleep(\u001b[38;5;241m1\u001b[39m)  \u001b[38;5;66;03m# cooldown so we don't get banned\u001b[39;00m\n\u001b[0;32m     31\u001b[0m \u001b[38;5;66;03m# keep pulling tweets until number is hit or there are none left\u001b[39;00m\n\u001b[0;32m     32\u001b[0m tweets \u001b[38;5;241m=\u001b[39m tweets\u001b[38;5;241m.\u001b[39mnext()\n",
      "\u001b[1;31mKeyboardInterrupt\u001b[0m: "
     ]
    }
   ],
   "source": [
    "# this scrapes the tweet IDs\n",
    "handle, user_id, tweets = get_all_tweets('realDonaldTrump', since='2014-01-01', until='2024-03-01')\n",
    "print(handle, user_id, tweets)"
   ]
  },
  {
   "cell_type": "code",
   "execution_count": 7,
   "metadata": {},
   "outputs": [],
   "source": [
    "# this cleans them and puts them in the format I need for uploading to the SQLite table\n",
    "tweets2 = process_tweets(handle, 'Elon Musk', user_id, tweets)"
   ]
  },
  {
   "cell_type": "code",
   "execution_count": 8,
   "metadata": {},
   "outputs": [
    {
     "name": "stdout",
     "output_type": "stream",
     "text": [
      "(1086184195272200197, 856641566, 'Peer Steinbrueck', 'peersteinbrueck', 'Hat in Berlin derzeit Seltenheitswert: blauer Himmel! https://t.co/az2AKmZP4t', 'de', True, datetime.datetime(2019, 1, 18, 8, 51, 7, tzinfo=datetime.timezone.utc))\n",
      "(1124248450378420225, 856641566, 'Peer Steinbrueck', 'peersteinbrueck', 'Setzen wir ein Signal für ein freies und starkes und demokratisches #Europa! Am Dienstag (7.5.) stellt die Deutsche Nationalstiftung ihren Aufruf zur #Europawahl vor der #Bundespressekonferenz vor. #EP2019 https://t.co/q1TuFxJK9l', 'de', True, datetime.datetime(2019, 5, 3, 9, 44, 52, tzinfo=datetime.timezone.utc))\n",
      "(1099274696380612608, 856641566, 'Peer Steinbrueck', 'peersteinbrueck', '@FedericaMog bei #HelmutSchmidt100: „Helmut Schimdt had a very clear vision about Europe. The European states should have a strong and mutual interest on European integration.“ https://t.co/gsbnFmoTuK', 'en', False, datetime.datetime(2019, 2, 23, 11, 48, 5, tzinfo=datetime.timezone.utc))\n",
      "(1132607954404954113, 856641566, 'Peer Steinbrueck', 'peersteinbrueck', '#Europa ist nicht das Problem, Europa ist die Antwort auf die Zukunftsfragen zu #Sicherheit, #Klimawandel, #Digitalisierung. Deshalb nutzen Sie heute die Möglichkeit und gehen Sie bitte wählen! Wer auf der Couch sitzen bleibt, darf sich später nicht beschweren. #Europawahl2019', 'de', True, datetime.datetime(2019, 5, 26, 11, 22, 33, tzinfo=datetime.timezone.utc))\n",
      "(1122840749526142977, 856641566, 'Peer Steinbrueck', 'peersteinbrueck', 'Morgen stehen Peer Steinbrück und @Schroeder_Live ganz früh auf, bekommen vom @ardmoma ein paar Brötchen und Kaffee kredenzt und erzählen dafür um 7:50 Uhr etwas über ihre neue Satireshow.\\nVielleicht. Diese Diven. https://t.co/H4QfUzFED1', 'de', True, datetime.datetime(2019, 4, 29, 12, 31, 10, tzinfo=datetime.timezone.utc))\n",
      "(1099244887843717120, 856641566, 'Peer Steinbrueck', 'peersteinbrueck', 'Kurz vor Beginn werden die Schlangen vor dem Einlass kürzer.  #HelmutSchmidt100 https://t.co/04pY0791pl', 'de', True, datetime.datetime(2019, 2, 23, 9, 49, 38, tzinfo=datetime.timezone.utc))\n",
      "(1097836108879138816, 856641566, 'Peer Steinbrueck', 'peersteinbrueck', 'Im Sommer geht es in die zweite Runde mit @Schroeder_Live. Informationen unter: https://t.co/F0ffxah2dp. https://t.co/KNSIMHna4c', 'de', True, datetime.datetime(2019, 2, 19, 12, 31, 39, tzinfo=datetime.timezone.utc))\n",
      "(1099265817567522817, 856641566, 'Peer Steinbrueck', 'peersteinbrueck', 'Bundespräsident #Steinmeier bei seiner Festrede auf #HelmutSchmidt100: „Wenn wir heute auf dieses lange Leben zurückschauen, dann nicht nur mit Wehmut, sondern auch mit der Frage, was sagt uns Helmut Schmidt heute und für die Zukunft.“ https://t.co/Bgwvk9gOlG', 'de', True, datetime.datetime(2019, 2, 23, 11, 12, 48, tzinfo=datetime.timezone.utc))\n",
      "(1103308757344415745, 856641566, 'Peer Steinbrueck', 'peersteinbrueck', 'Heute konnte die @BKHS_Stiftung den 6000. Besucher in der Fotoausstellung \"100 Jahre in 100 Bildern\" begrüßen. Wir wünschen uns noch viel mehr Besucherinnen und Besucher und viele tolle Einträge ins Besucherbuch und haben deshalb die Ausstellung bis zum 31.10.2019 verlängert. https://t.co/IUrBzXgQ7g', 'de', True, datetime.datetime(2019, 3, 6, 14, 58, tzinfo=datetime.timezone.utc))\n",
      "(1099966933997367297, 856641566, 'Peer Steinbrueck', 'peersteinbrueck', 'Eine dreieinhalbminütige Zusammenfassung des Festaktes für #HelmutSchmidt100 am Samstag in der Elbphilharmonie finden Sie beim @ndr:\\nhttps://t.co/ycodt0fh6J https://t.co/oiImzigZ8H', 'de', True, datetime.datetime(2019, 2, 25, 9, 38, 48, tzinfo=datetime.timezone.utc))\n",
      "(1125703279126642688, 856641566, 'Peer Steinbrueck', 'peersteinbrueck', '„Das europapolitische Engagement dieser Koalition empfinde ich als enttäuschend,“ sagte Peer Steinbrück bei der Pressekonferenz der Deutschen Nationalstiftung und ruft gemeinsam mit N. Lammert, @sigmargabriel und @_FriedrichMerz dazu auf, bei der #Europawahl2019 wählen zu gehen.', 'de', True, datetime.datetime(2019, 5, 7, 10, 5, 50, tzinfo=datetime.timezone.utc))\n",
      "(1123142498761703424, 856641566, 'Peer Steinbrueck', 'peersteinbrueck', '#FakeNews von @Schroeder_Live: Peer Steinbrücks Büro habe nicht alles dafür getan, dass die \"satirische Liebe\" der beiden erwachen kann. Wir widersprechen auf das entschiedenste. (*hüstel)\\n@ardmoma \\n\\nhttps://t.co/7Ptk4vaztr', 'de', True, datetime.datetime(2019, 4, 30, 8, 30, 13, tzinfo=datetime.timezone.utc))\n",
      "(1090196276766040064, 856641566, 'Peer Steinbrueck', 'peersteinbrueck', '\"Europa ist nicht das Problem, sondern die Lösung\", sagte Peer Steinbrück im Interview mit @kopfumkrone. https://t.co/FJhskh0FjV', 'de', True, datetime.datetime(2019, 1, 29, 10, 33, 41, tzinfo=datetime.timezone.utc))\n",
      "(1085192993475182592, 856641566, 'Peer Steinbrueck', 'peersteinbrueck', 'Für den Festakt in der Elbphilharmonie braucht man eine Einladung, für das Symposium \"Rethinking Europe\" reicht eine Anmeldung unter https://t.co/kOh8LEVUF7 https://t.co/dk4KIhvSKS', 'de', True, datetime.datetime(2019, 1, 15, 15, 12, 26, tzinfo=datetime.timezone.utc))\n",
      "(1127122512679186435, 856641566, 'Peer Steinbrueck', 'peersteinbrueck', 'Wer es verpasst hat, dem empfehlen wir die @ARDde Mediathek.', 'de', True, datetime.datetime(2019, 5, 11, 8, 5, 22, tzinfo=datetime.timezone.utc))\n",
      "(1124215663814479872, 856641566, 'Peer Steinbrueck', 'peersteinbrueck', '@mawy82 schreibt in der heutigen @faznet über Helmut Schmidt und dessen Haus im Hamburger Stadtteil Langenhorn, in dem die @BKHS_Stiftung seit diesem Jahr öffentliche Führungen anbietet.\\nMehr Informationen hierzu finden Sie unter https://t.co/V8wxP7dS8g https://t.co/H9ZgQdWiHf', 'de', True, datetime.datetime(2019, 5, 3, 7, 34, 35, tzinfo=datetime.timezone.utc))\n",
      "(1149333238952996865, 856641566, 'Peer Steinbrueck', 'peersteinbrueck', 'Vorschlag zur Güte: Sie lassen jetzt den Stift fallen und gehen zum Langen Donnerstag im Kattrepel 10. #SchmidtErleben', 'de', True, datetime.datetime(2019, 7, 11, 15, 2, 52, tzinfo=datetime.timezone.utc))\n",
      "(1099269735403925504, 856641566, 'Peer Steinbrueck', 'peersteinbrueck', '„In der Aufrechterhaltung des Gesprächs innerhalb der Gesellschaft beruht die Demokratie. Gerade in einer Demokratie ist es wichtig, dass die Bürger nicht nebeneinander herleben.“, so zitiert  Bundespräsident #Steinmeier Helmut Schmidt sinngemäß. #HelmutSchmidt100', 'de', True, datetime.datetime(2019, 2, 23, 11, 28, 23, tzinfo=datetime.timezone.utc))\n",
      "(1123144733461815296, 856641566, 'Peer Steinbrueck', 'peersteinbrueck', '@Schroeder_Live @ardmoma Alle Informationen zu den Shows in Düsseldorf, Hannover, Berlin und Offenbach hat Florian Schroeder brav auf https://t.co/k3PgIFpG65 zusammengestellt. Guter Mann.', 'de', True, datetime.datetime(2019, 4, 30, 8, 39, 6, tzinfo=datetime.timezone.utc))\n",
      "(1115176767231275010, 856641566, 'Peer Steinbrueck', 'peersteinbrueck', 'Anlässlich der ersten Führungen durch das Wohnhaus von Helmut und Loki Schmidt hat Dr. Magnus Koch, Mitarbeiter im Ausstellungsteam der @BKHS_Stiftung, dem Deutschlandradio Kultur ein Interview gegeben: https://t.co/Xy1sfQs5VL', 'de', True, datetime.datetime(2019, 4, 8, 8, 57, 14, tzinfo=datetime.timezone.utc))\n",
      "(1138725803624161280, 856641566, 'Peer Steinbrueck', 'peersteinbrueck', 'Kaum eine Besucherin könnte besser zu Helmut Schmidt passen als Ines Höpfner aus der Ernst-Barlach-Stadt #Güstrow. Wir freuen uns über 10.000 Besucher und Besucherinnen in unserer Fotoausstellung \"100 Jahre in 100 Bildern\".\\n#SchmidtErleben', 'de', True, datetime.datetime(2019, 6, 12, 8, 32, 42, tzinfo=datetime.timezone.utc))\n",
      "(1081114520548974594, 856641566, 'Peer Steinbrueck', 'peersteinbrueck', 'Ob die Kollegen der @BWBStiftung diese Geschichte kennen?\\n\\n@BKHS_Stiftung', 'de', True, datetime.datetime(2019, 1, 4, 9, 6, 2, tzinfo=datetime.timezone.utc))\n",
      "(1164087543517863938, 856641566, 'Peer Steinbrueck', 'peersteinbrueck', 'Am Freitag, den 23. August 2019, können wieder Führungen durch das Privathaus der Schmidts in Hamburg gebucht werden. Die halbstündigen Führungen in Gruppen von max. sechs Personen finden am\\n11. Oktober 2019, 8. November 2019 und 13. Dezember 2019 statt.\\nhttps://t.co/WdxRkf9xCd', 'de', True, datetime.datetime(2019, 8, 21, 8, 11, 12, tzinfo=datetime.timezone.utc))\n",
      "(1093104750189559810, 856641566, 'Peer Steinbrueck', 'peersteinbrueck', 'Lieber Uli Ott, herzlich willkommen auf Twitter!', 'de', True, datetime.datetime(2019, 2, 6, 11, 10, 56, tzinfo=datetime.timezone.utc))\n",
      "(1095262057505669120, 856641566, 'Peer Steinbrueck', 'peersteinbrueck', 'Sie haben den virtuellen Rundgang (via https://t.co/Q6ORiRljVV) durch Helmut Schmidts Wohnhaus bereits unternommen, aber das reicht Ihnen nicht? Sie wollen dem Geist der Weltpolitik in \"Ottis Bar\" nachspüren? Sie wollen wissen, ob noch ein wenig \"Reyno\"-Duft in der Luft liegt?', 'de', True, datetime.datetime(2019, 2, 12, 10, 3, 18, tzinfo=datetime.timezone.utc))\n",
      "(1099279646171037696, 856641566, 'Peer Steinbrueck', 'peersteinbrueck', 'Zum Abschluss von #HelmutSchmidt100 in der Elbphilharmonie noch drei Stücke aus Bachs Goldberg Variationen - als Kammerorchester-Version. https://t.co/qDYLN1eYHk', 'de', True, datetime.datetime(2019, 2, 23, 12, 7, 45, tzinfo=datetime.timezone.utc))\n",
      "(1146331222529970176, 856641566, 'Peer Steinbrueck', 'peersteinbrueck', 'Eine Idee für die Mittagspause in Hamburg:', 'de', True, datetime.datetime(2019, 7, 3, 8, 13, 55, tzinfo=datetime.timezone.utc))\n",
      "(1098520844308017152, 856641566, 'Peer Steinbrueck', 'peersteinbrueck', '2/3 @ndr überträgt #HelmutSchmidt100 mit Reden von #Bundespräsident #Steinmeier und @FedericaMog live im Internet und am Sonntag im Fernsehen (https://t.co/AdVdB1EbX3).', 'de', True, datetime.datetime(2019, 2, 21, 9, 52, 33, tzinfo=datetime.timezone.utc))\n",
      "(1125290764072890368, 856641566, 'Peer Steinbrueck', 'peersteinbrueck', '@Schroeder_Live und Peer Steinbrück sind gleich zu Gast bei @radioeins. Einschalten lohnt sich! https://t.co/axxfo6JBTO', 'de', True, datetime.datetime(2019, 5, 6, 6, 46, 39, tzinfo=datetime.timezone.utc))\n",
      "(1098520643589627904, 856641566, 'Peer Steinbrueck', 'peersteinbrueck', '1/3 Ganz schön was los in den nächsten Tagen in Hamburg: Nach dem morgigen Symposium der @BKHS_Stiftung #RethinkingEurope (https://t.co/kOh8LEEjNz) findet am Samstag in der Elbphilharmonie der Festakt zum 100. Geburtstag von Helmut Schmidt statt.', 'de', True, datetime.datetime(2019, 2, 21, 9, 51, 45, tzinfo=datetime.timezone.utc))\n",
      "(1151415631276851200, 856641566, 'Peer Steinbrueck', 'peersteinbrueck', 'Der kurzentschlossene Mittagspäusler kommt heute (17.7.) ab 12 Uhr in den Kattrepel 10 zu Helmut Schmidt und Labskaus.', 'de', True, datetime.datetime(2019, 7, 17, 8, 57, 33, tzinfo=datetime.timezone.utc))\n",
      "(1098521041905876992, 856641566, 'Peer Steinbrueck', 'peersteinbrueck', '3/3 Am Montag, den 25. Februar, diskutiert Peer Steinbrück mit @KatjaSuding und @andrearoemmele und @jana_puglierin über die „Krise der Volksparteien“ in der @ZEITstiftung. Für diese Veranstaltung können Sie sich hier anmelden: https://t.co/waVIRYNNhP', 'de', True, datetime.datetime(2019, 2, 21, 9, 53, 20, tzinfo=datetime.timezone.utc))\n",
      "(1095262883578105856, 856641566, 'Peer Steinbrueck', 'peersteinbrueck', 'Ab dem 23. Februar können Sie über die Seite des Museumsdienst Hamburg Führungen im Wohnhaus von Helmut Schmidt buchen. \\n\\nNähere Informationen finden Sie hier: https://t.co/KoAs2CH7BH \\n@BKHS_Stiftung', 'de', True, datetime.datetime(2019, 2, 12, 10, 6, 35, tzinfo=datetime.timezone.utc))\n",
      "(1100037953911369730, 856641566, 'Peer Steinbrueck', 'peersteinbrueck', 'Dr. Meik Woyke heißt der neue Geschäftsführer der @BKHS_Stiftung. Sie wollen Dr. Woyke bereits vor seinem Amtsantritt am 01.07.2019 näher kennenlernen (und noch das ein oder andere Detail zum Leben von Helmut Schmidt erfahren)?\\n\\nDann schauen Sie mal hier: https://t.co/cc7pB11Tny', 'de', True, datetime.datetime(2019, 2, 25, 14, 21, tzinfo=datetime.timezone.utc))\n",
      "(1123859671893331969, 856641566, 'Peer Steinbrueck', 'peersteinbrueck', 'Am Sonnabend, den 18. Mai 2019, findet um 15:30 Uhr in der Ausstellung \"100 Jahre in 100 Bildern\" der @BKHS_Stiftung erstmals eine Führung in deutscher Gebärdensprache statt. Weitere Informationen hierzu auf dem YouTube-Kanal der Stiftung: https://t.co/OOFtx3lBMd', 'de', True, datetime.datetime(2019, 5, 2, 8, 0, tzinfo=datetime.timezone.utc))\n"
     ]
    }
   ],
   "source": [
    "for tweet in tweets2:\n",
    "    print(tweet)"
   ]
  },
  {
   "cell_type": "code",
   "execution_count": 12,
   "metadata": {},
   "outputs": [
    {
     "ename": "OperationalError",
     "evalue": "table tweets already exists",
     "output_type": "error",
     "traceback": [
      "\u001b[1;31m---------------------------------------------------------------------------\u001b[0m",
      "\u001b[1;31mOperationalError\u001b[0m                          Traceback (most recent call last)",
      "Cell \u001b[1;32mIn[12], line 5\u001b[0m\n\u001b[0;32m      2\u001b[0m conn \u001b[38;5;241m=\u001b[39m sqlite3\u001b[38;5;241m.\u001b[39mconnect(\u001b[38;5;124m'\u001b[39m\u001b[38;5;124mtweets.db\u001b[39m\u001b[38;5;124m'\u001b[39m)\n\u001b[0;32m      3\u001b[0m c \u001b[38;5;241m=\u001b[39m conn\u001b[38;5;241m.\u001b[39mcursor()\n\u001b[1;32m----> 5\u001b[0m \u001b[43mc\u001b[49m\u001b[38;5;241;43m.\u001b[39;49m\u001b[43mexecute\u001b[49m\u001b[43m(\u001b[49m\u001b[38;5;124;43m\"\"\"\u001b[39;49m\u001b[38;5;124;43mCREATE TABLE tweets (\u001b[39;49m\n\u001b[0;32m      6\u001b[0m \u001b[38;5;124;43m          tweet_id INTEGER primary key,\u001b[39;49m\n\u001b[0;32m      7\u001b[0m \u001b[38;5;124;43m          user_id INTEGER,\u001b[39;49m\n\u001b[0;32m      8\u001b[0m \u001b[38;5;124;43m          user_name TEXT,\u001b[39;49m\n\u001b[0;32m      9\u001b[0m \u001b[38;5;124;43m          user_handle TEXT,\u001b[39;49m\n\u001b[0;32m     10\u001b[0m \u001b[38;5;124;43m          tweet_text TEXT,\u001b[39;49m\n\u001b[0;32m     11\u001b[0m \u001b[38;5;124;43m          tweet_lang TEXT,\u001b[39;49m\n\u001b[0;32m     12\u001b[0m \u001b[38;5;124;43m          created_date DATETIME\u001b[39;49m\n\u001b[0;32m     13\u001b[0m \u001b[38;5;124;43m          )\u001b[39;49m\u001b[38;5;124;43m\"\"\"\u001b[39;49m\u001b[43m)\u001b[49m\n",
      "\u001b[1;31mOperationalError\u001b[0m: table tweets already exists"
     ]
    }
   ],
   "source": [
    "import sqlite3\n",
    "conn = sqlite3.connect('tweets.db')\n",
    "c = conn.cursor()\n",
    "\n",
    "c.execute(\"\"\"CREATE TABLE tweets (\n",
    "          tweet_id INTEGER primary key,\n",
    "          user_id INTEGER,\n",
    "          user_name TEXT,\n",
    "          user_handle TEXT,\n",
    "          tweet_text TEXT,\n",
    "          tweet_lang TEXT,\n",
    "          created_date DATETIME\n",
    "          )\"\"\")"
   ]
  },
  {
   "cell_type": "code",
   "execution_count": null,
   "metadata": {},
   "outputs": [
    {
     "data": {
      "text/plain": [
       "<sqlite3.Cursor at 0x135ff822e40>"
      ]
     },
     "execution_count": 32,
     "metadata": {},
     "output_type": "execute_result"
    }
   ],
   "source": [
    "conn.execute('DROP TABLE tweets')"
   ]
  },
  {
   "cell_type": "code",
   "execution_count": 14,
   "metadata": {},
   "outputs": [],
   "source": [
    "# upload data in SQLite table\n",
    "# storing this data is important since this is an unofficial API\n",
    "# every time I access it, I am risking not being able to access it again\n",
    "\n",
    "c.executemany(\"INSERT INTO tweets VALUES (?,?,?,?,?,?,?)\", tweets2)\n",
    "conn.commit()\n"
   ]
  }
 ],
 "metadata": {
  "kernelspec": {
   "display_name": "Python 3",
   "language": "python",
   "name": "python3"
  },
  "language_info": {
   "codemirror_mode": {
    "name": "ipython",
    "version": 3
   },
   "file_extension": ".py",
   "mimetype": "text/x-python",
   "name": "python",
   "nbconvert_exporter": "python",
   "pygments_lexer": "ipython3",
   "version": "3.11.9"
  }
 },
 "nbformat": 4,
 "nbformat_minor": 2
}
